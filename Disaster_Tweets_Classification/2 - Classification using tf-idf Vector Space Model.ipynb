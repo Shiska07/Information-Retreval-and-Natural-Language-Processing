{
 "cells": [
  {
   "cell_type": "code",
   "execution_count": 1,
   "metadata": {},
   "outputs": [],
   "source": [
    "import nltk\n",
    "import numpy as np     \n",
    "import pandas as pd    \n",
    "import matplotlib.pyplot as plt\n",
    "import seaborn as sns\n",
    "\n",
    "%matplotlib inline"
   ]
  },
  {
   "cell_type": "code",
   "execution_count": 2,
   "metadata": {},
   "outputs": [
    {
     "data": {
      "text/html": [
       "<div>\n",
       "<style scoped>\n",
       "    .dataframe tbody tr th:only-of-type {\n",
       "        vertical-align: middle;\n",
       "    }\n",
       "\n",
       "    .dataframe tbody tr th {\n",
       "        vertical-align: top;\n",
       "    }\n",
       "\n",
       "    .dataframe thead th {\n",
       "        text-align: right;\n",
       "    }\n",
       "</style>\n",
       "<table border=\"1\" class=\"dataframe\">\n",
       "  <thead>\n",
       "    <tr style=\"text-align: right;\">\n",
       "      <th></th>\n",
       "      <th>text</th>\n",
       "      <th>target</th>\n",
       "      <th>text_norm</th>\n",
       "      <th>stemmed_keyword</th>\n",
       "      <th>disaster_asc_coeff</th>\n",
       "      <th>length_norm</th>\n",
       "      <th>neg</th>\n",
       "      <th>neu</th>\n",
       "      <th>pos</th>\n",
       "    </tr>\n",
       "  </thead>\n",
       "  <tbody>\n",
       "    <tr>\n",
       "      <th>0</th>\n",
       "      <td>Our Deeds are the Reason of this #earthquake M...</td>\n",
       "      <td>1</td>\n",
       "      <td>deed reason earthquak may allah forgiv us</td>\n",
       "      <td>earthquak</td>\n",
       "      <td>0.785714</td>\n",
       "      <td>41</td>\n",
       "      <td>0.000</td>\n",
       "      <td>1.000</td>\n",
       "      <td>0.0</td>\n",
       "    </tr>\n",
       "    <tr>\n",
       "      <th>1</th>\n",
       "      <td>Forest fire near La Ronge Sask. Canada</td>\n",
       "      <td>1</td>\n",
       "      <td>forest fire near la rong sask canada</td>\n",
       "      <td>fire</td>\n",
       "      <td>0.386364</td>\n",
       "      <td>36</td>\n",
       "      <td>0.286</td>\n",
       "      <td>0.714</td>\n",
       "      <td>0.0</td>\n",
       "    </tr>\n",
       "    <tr>\n",
       "      <th>2</th>\n",
       "      <td>All residents asked to 'shelter in place' are ...</td>\n",
       "      <td>1</td>\n",
       "      <td>resid ask shelter place notifi offic evacu she...</td>\n",
       "      <td>evacu</td>\n",
       "      <td>0.767241</td>\n",
       "      <td>69</td>\n",
       "      <td>0.000</td>\n",
       "      <td>1.000</td>\n",
       "      <td>0.0</td>\n",
       "    </tr>\n",
       "    <tr>\n",
       "      <th>3</th>\n",
       "      <td>13,000 people receive #wildfires evacuation or...</td>\n",
       "      <td>1</td>\n",
       "      <td>13000 peopl receiv wildfir evacu order california</td>\n",
       "      <td>evacu</td>\n",
       "      <td>0.767241</td>\n",
       "      <td>49</td>\n",
       "      <td>0.000</td>\n",
       "      <td>1.000</td>\n",
       "      <td>0.0</td>\n",
       "    </tr>\n",
       "    <tr>\n",
       "      <th>4</th>\n",
       "      <td>Just got sent this photo from Ruby #Alaska as ...</td>\n",
       "      <td>1</td>\n",
       "      <td>got sent photo rubi alaska smoke wildfir pour ...</td>\n",
       "      <td>fire</td>\n",
       "      <td>0.386364</td>\n",
       "      <td>52</td>\n",
       "      <td>0.000</td>\n",
       "      <td>1.000</td>\n",
       "      <td>0.0</td>\n",
       "    </tr>\n",
       "  </tbody>\n",
       "</table>\n",
       "</div>"
      ],
      "text/plain": [
       "                                                text  target  \\\n",
       "0  Our Deeds are the Reason of this #earthquake M...       1   \n",
       "1             Forest fire near La Ronge Sask. Canada       1   \n",
       "2  All residents asked to 'shelter in place' are ...       1   \n",
       "3  13,000 people receive #wildfires evacuation or...       1   \n",
       "4  Just got sent this photo from Ruby #Alaska as ...       1   \n",
       "\n",
       "                                           text_norm stemmed_keyword  \\\n",
       "0          deed reason earthquak may allah forgiv us       earthquak   \n",
       "1               forest fire near la rong sask canada            fire   \n",
       "2  resid ask shelter place notifi offic evacu she...           evacu   \n",
       "3  13000 peopl receiv wildfir evacu order california           evacu   \n",
       "4  got sent photo rubi alaska smoke wildfir pour ...            fire   \n",
       "\n",
       "   disaster_asc_coeff  length_norm    neg    neu  pos  \n",
       "0            0.785714           41  0.000  1.000  0.0  \n",
       "1            0.386364           36  0.286  0.714  0.0  \n",
       "2            0.767241           69  0.000  1.000  0.0  \n",
       "3            0.767241           49  0.000  1.000  0.0  \n",
       "4            0.386364           52  0.000  1.000  0.0  "
      ]
     },
     "execution_count": 2,
     "metadata": {},
     "output_type": "execute_result"
    }
   ],
   "source": [
    "# load the dataset containing normalized text as well as the additional features obtained from notebook 1\n",
    "\n",
    "df_train = pd.read_csv('Data\\\\disaster_tweets_kaggle\\\\train_clean_add_feat.csv', index_col = False)\n",
    "\n",
    "df_train.head()"
   ]
  },
  {
   "cell_type": "code",
   "execution_count": 3,
   "metadata": {},
   "outputs": [
    {
     "name": "stdout",
     "output_type": "stream",
     "text": [
      "<class 'pandas.core.frame.DataFrame'>\n",
      "RangeIndex: 7593 entries, 0 to 7592\n",
      "Data columns (total 9 columns):\n",
      " #   Column              Non-Null Count  Dtype  \n",
      "---  ------              --------------  -----  \n",
      " 0   text                7593 non-null   object \n",
      " 1   target              7593 non-null   int64  \n",
      " 2   text_norm           7593 non-null   object \n",
      " 3   stemmed_keyword     7593 non-null   object \n",
      " 4   disaster_asc_coeff  7593 non-null   float64\n",
      " 5   length_norm         7593 non-null   int64  \n",
      " 6   neg                 7593 non-null   float64\n",
      " 7   neu                 7593 non-null   float64\n",
      " 8   pos                 7593 non-null   float64\n",
      "dtypes: float64(4), int64(2), object(3)\n",
      "memory usage: 534.0+ KB\n"
     ]
    }
   ],
   "source": [
    "df_train.info()"
   ]
  },
  {
   "cell_type": "markdown",
   "metadata": {},
   "source": [
    "For this part we will only used the normalized text, disaster association coefficient and the length of the normalized text and drop all other columns."
   ]
  },
  {
   "cell_type": "code",
   "execution_count": 4,
   "metadata": {},
   "outputs": [],
   "source": [
    "df_train.drop(['text', 'stemmed_keyword', 'neg', 'neu', 'pos'], axis = 1, inplace = True)"
   ]
  },
  {
   "cell_type": "code",
   "execution_count": 5,
   "metadata": {},
   "outputs": [
    {
     "data": {
      "image/png": "[encoded data removed]",
      "text/plain": [
       "<Figure size 600x400 with 1 Axes>"
      ]
     },
     "metadata": {},
     "output_type": "display_data"
    }
   ],
   "source": [
    "# let's look at distribution of the target variable\n",
    "plt.figure(figsize = (6,4))\n",
    "sns.countplot(data = df_train, x = 'target', palette = \"mako\")\n",
    "plt.grid()"
   ]
  },
  {
   "cell_type": "code",
   "execution_count": 6,
   "metadata": {},
   "outputs": [
    {
     "data": {
      "image/png": "[encoded data removed]",
      "text/plain": [
       "<Figure size 800x600 with 1 Axes>"
      ]
     },
     "metadata": {},
     "output_type": "display_data"
    }
   ],
   "source": [
    "# check target variable distribution with respect to length\n",
    "plt.figure(figsize = (8,6))\n",
    "sns.histplot(df_train, x = 'length_norm', hue = 'target', bins = 50, kde = True)\n",
    "plt.grid()"
   ]
  },
  {
   "cell_type": "markdown",
   "metadata": {},
   "source": [
    "### Count Vectorization of Text String"
   ]
  },
  {
   "cell_type": "markdown",
   "metadata": {},
   "source": [
    "#### Bag of words model\n",
    "\n"
   ]
  },
  {
   "cell_type": "markdown",
   "metadata": {},
   "source": [
    "The bag of words model first uses the entire text dataset to create a vocabulary of tokens. Then for each text data point, a count vector is created that contains the number of times each token is present in the dataset. This will be a very sparse matrix for most text dataset."
   ]
  },
  {
   "cell_type": "code",
   "execution_count": 7,
   "metadata": {},
   "outputs": [],
   "source": [
    "from sklearn.feature_extraction.text import CountVectorizer"
   ]
  },
  {
   "cell_type": "code",
   "execution_count": 8,
   "metadata": {},
   "outputs": [
    {
     "data": {
      "text/html": [
       "<div>\n",
       "<style scoped>\n",
       "    .dataframe tbody tr th:only-of-type {\n",
       "        vertical-align: middle;\n",
       "    }\n",
       "\n",
       "    .dataframe tbody tr th {\n",
       "        vertical-align: top;\n",
       "    }\n",
       "\n",
       "    .dataframe thead th {\n",
       "        text-align: right;\n",
       "    }\n",
       "</style>\n",
       "<table border=\"1\" class=\"dataframe\">\n",
       "  <thead>\n",
       "    <tr style=\"text-align: right;\">\n",
       "      <th></th>\n",
       "      <th>target</th>\n",
       "      <th>text_norm</th>\n",
       "      <th>disaster_asc_coeff</th>\n",
       "      <th>length_norm</th>\n",
       "    </tr>\n",
       "  </thead>\n",
       "  <tbody>\n",
       "    <tr>\n",
       "      <th>0</th>\n",
       "      <td>1</td>\n",
       "      <td>deed reason earthquak may allah forgiv us</td>\n",
       "      <td>0.785714</td>\n",
       "      <td>41</td>\n",
       "    </tr>\n",
       "    <tr>\n",
       "      <th>1</th>\n",
       "      <td>1</td>\n",
       "      <td>forest fire near la rong sask canada</td>\n",
       "      <td>0.386364</td>\n",
       "      <td>36</td>\n",
       "    </tr>\n",
       "    <tr>\n",
       "      <th>2</th>\n",
       "      <td>1</td>\n",
       "      <td>resid ask shelter place notifi offic evacu she...</td>\n",
       "      <td>0.767241</td>\n",
       "      <td>69</td>\n",
       "    </tr>\n",
       "    <tr>\n",
       "      <th>3</th>\n",
       "      <td>1</td>\n",
       "      <td>13000 peopl receiv wildfir evacu order california</td>\n",
       "      <td>0.767241</td>\n",
       "      <td>49</td>\n",
       "    </tr>\n",
       "    <tr>\n",
       "      <th>4</th>\n",
       "      <td>1</td>\n",
       "      <td>got sent photo rubi alaska smoke wildfir pour ...</td>\n",
       "      <td>0.386364</td>\n",
       "      <td>52</td>\n",
       "    </tr>\n",
       "  </tbody>\n",
       "</table>\n",
       "</div>"
      ],
      "text/plain": [
       "   target                                          text_norm  \\\n",
       "0       1          deed reason earthquak may allah forgiv us   \n",
       "1       1               forest fire near la rong sask canada   \n",
       "2       1  resid ask shelter place notifi offic evacu she...   \n",
       "3       1  13000 peopl receiv wildfir evacu order california   \n",
       "4       1  got sent photo rubi alaska smoke wildfir pour ...   \n",
       "\n",
       "   disaster_asc_coeff  length_norm  \n",
       "0            0.785714           41  \n",
       "1            0.386364           36  \n",
       "2            0.767241           69  \n",
       "3            0.767241           49  \n",
       "4            0.386364           52  "
      ]
     },
     "execution_count": 8,
     "metadata": {},
     "output_type": "execute_result"
    }
   ],
   "source": [
    "df_train.head()"
   ]
  },
  {
   "cell_type": "code",
   "execution_count": 9,
   "metadata": {},
   "outputs": [],
   "source": [
    "complete_vocab = df_train['text_norm']"
   ]
  },
  {
   "cell_type": "code",
   "execution_count": 10,
   "metadata": {},
   "outputs": [
    {
     "data": {
      "text/plain": [
       "0               deed reason earthquak may allah forgiv us\n",
       "1                    forest fire near la rong sask canada\n",
       "2       resid ask shelter place notifi offic evacu she...\n",
       "3       13000 peopl receiv wildfir evacu order california\n",
       "4       got sent photo rubi alaska smoke wildfir pour ...\n",
       "                              ...                        \n",
       "7588    two giant crane hold bridg collaps nearbi home...\n",
       "7589    ariaahrari thetawniest control wild fire calif...\n",
       "7590    m194 0104 utc5km volcano hawaii httptcozdtoyd8ebj\n",
       "7591    polic investig ebik collid car littl portug eb...\n",
       "7592    latest home raze northern california wildfir a...\n",
       "Name: text_norm, Length: 7593, dtype: object"
      ]
     },
     "execution_count": 10,
     "metadata": {},
     "output_type": "execute_result"
    }
   ],
   "source": [
    "complete_vocab"
   ]
  },
  {
   "cell_type": "code",
   "execution_count": 11,
   "metadata": {},
   "outputs": [],
   "source": [
    "from nltk.tokenize import word_tokenize"
   ]
  },
  {
   "cell_type": "code",
   "execution_count": 12,
   "metadata": {},
   "outputs": [],
   "source": [
    "# create a bag of words transformer using word_tokenize as the analyzer as the text has already been normalized\n",
    "bow_transformer = CountVectorizer(analyzer = word_tokenize).fit(complete_vocab)"
   ]
  },
  {
   "cell_type": "code",
   "execution_count": 13,
   "metadata": {},
   "outputs": [
    {
     "name": "stdout",
     "output_type": "stream",
     "text": [
      "19542\n"
     ]
    }
   ],
   "source": [
    "# check how large the vocabulary is\n",
    "print(len(bow_transformer.vocabulary_))"
   ]
  },
  {
   "cell_type": "code",
   "execution_count": 14,
   "metadata": {},
   "outputs": [
    {
     "name": "stdout",
     "output_type": "stream",
     "text": [
      "resid ask shelter place notifi offic evacu shelter place order expect\n"
     ]
    }
   ],
   "source": [
    "tweet2 = df_train['text_norm'][2]\n",
    "print(tweet2)"
   ]
  },
  {
   "cell_type": "code",
   "execution_count": 15,
   "metadata": {},
   "outputs": [
    {
     "name": "stdout",
     "output_type": "stream",
     "text": [
      "  (0, 1453)\t1\n",
      "  (0, 4785)\t1\n",
      "  (0, 4850)\t1\n",
      "  (0, 13957)\t1\n",
      "  (0, 14096)\t1\n",
      "  (0, 14266)\t1\n",
      "  (0, 14744)\t2\n",
      "  (0, 15574)\t1\n",
      "  (0, 16382)\t2\n"
     ]
    }
   ],
   "source": [
    "# each term is converted into it's vocabulary id and the count\n",
    "print(bow_transformer.transform([tweet2]))"
   ]
  },
  {
   "cell_type": "code",
   "execution_count": 16,
   "metadata": {},
   "outputs": [],
   "source": [
    "# create the sparse matrix using normaized text and stemmed keyword\n",
    "tweets_bow = bow_transformer.transform(df_train['text_norm'])"
   ]
  },
  {
   "cell_type": "code",
   "execution_count": 17,
   "metadata": {},
   "outputs": [
    {
     "data": {
      "text/plain": [
       "(7593, 19542)"
      ]
     },
     "execution_count": 17,
     "metadata": {},
     "output_type": "execute_result"
    }
   ],
   "source": [
    "tweets_bow.shape"
   ]
  },
  {
   "cell_type": "code",
   "execution_count": 18,
   "metadata": {},
   "outputs": [
    {
     "data": {
      "text/plain": [
       "74352"
      ]
     },
     "execution_count": 18,
     "metadata": {},
     "output_type": "execute_result"
    }
   ],
   "source": [
    "#to get non zero occurence\n",
    "tweets_bow.nnz"
   ]
  },
  {
   "cell_type": "code",
   "execution_count": 19,
   "metadata": {},
   "outputs": [],
   "source": [
    "def get_sparsity(matrx):\n",
    "    total_elements = (matrx.shape[0] * matrx.shape[1])\n",
    "    total_nonzero = matrx.nnz\n",
    "    total_zero = total_elements - total_nonzero\n",
    "    sparsity = total_zero/total_elements\n",
    "    return 100*sparsity"
   ]
  },
  {
   "cell_type": "code",
   "execution_count": 20,
   "metadata": {},
   "outputs": [
    {
     "name": "stdout",
     "output_type": "stream",
     "text": [
      "sparsity: 99.950%\n"
     ]
    }
   ],
   "source": [
    "# check sparsity\n",
    "print(f'sparsity: {get_sparsity(tweets_bow):.3f}%')"
   ]
  },
  {
   "cell_type": "markdown",
   "metadata": {},
   "source": [
    "### Tf-idf weighing\n",
    "\n",
    "**Tf** also known as **term frequency** is the number of times a term occurs in a specific text data point.\n",
    "**df** also known as **document frequency** is the number of documents the term occurs in. The lower the **df**, the rarer the term\n",
    "**idf** also known as the **inverse document frequency** quantifies a term's rarity using its **df** value. Lower **df** corresponds to higher **idf**.\n",
    "\n",
    "### Tf-idf weight = Tf x idf is an attibute of a single datapoint with regards to a single term\n",
    "1. We will now convert the count matrix into a tf-idf weight matrix. \n",
    "2. This whole process has converted out text data into numerical data existing in  avector space where each token in the bag of words vocabulary is a dimension. \n",
    "3. After that, any new data text data can be converted to a tf-idf vector and has it's own position in the vector space.\n",
    "4. Depending on where the new data lies, we can classify it as \"disaster\" or \"non-disaster\" tweet."
   ]
  },
  {
   "cell_type": "code",
   "execution_count": 21,
   "metadata": {},
   "outputs": [],
   "source": [
    "from sklearn.feature_extraction.text import TfidfTransformer"
   ]
  },
  {
   "cell_type": "code",
   "execution_count": 22,
   "metadata": {},
   "outputs": [],
   "source": [
    "#creating tfidf transformer\n",
    "tfidf_transformer = TfidfTransformer().fit(tweets_bow)"
   ]
  },
  {
   "cell_type": "code",
   "execution_count": 23,
   "metadata": {},
   "outputs": [],
   "source": [
    "#let's see the tf-idf for third_BOW\n",
    "\n",
    "tfidf_third = tfidf_transformer.transform(tweets_bow[3])"
   ]
  },
  {
   "cell_type": "code",
   "execution_count": 24,
   "metadata": {},
   "outputs": [
    {
     "name": "stdout",
     "output_type": "stream",
     "text": [
      "  (0, 18973)\t0.32814001393259234\n",
      "  (0, 15402)\t0.49525962845718413\n",
      "  (0, 14582)\t0.27763551127566677\n",
      "  (0, 14266)\t0.3730684000057852\n",
      "  (0, 4785)\t0.30237137333620445\n",
      "  (0, 2549)\t0.3067082921601925\n",
      "  (0, 140)\t0.49525962845718413\n"
     ]
    }
   ],
   "source": [
    "print(tfidf_third)"
   ]
  },
  {
   "cell_type": "code",
   "execution_count": 25,
   "metadata": {},
   "outputs": [],
   "source": [
    "#converting sparse matrix data to tfidf values\n",
    "\n",
    "tweets_tfidf = tfidf_transformer.transform(tweets_bow)"
   ]
  },
  {
   "cell_type": "code",
   "execution_count": 26,
   "metadata": {},
   "outputs": [
    {
     "name": "stdout",
     "output_type": "stream",
     "text": [
      "(7593, 19542)\n"
     ]
    }
   ],
   "source": [
    "print(tweets_tfidf.shape)"
   ]
  },
  {
   "cell_type": "code",
   "execution_count": 27,
   "metadata": {},
   "outputs": [
    {
     "data": {
      "text/plain": [
       "scipy.sparse._csr.csr_matrix"
      ]
     },
     "execution_count": 27,
     "metadata": {},
     "output_type": "execute_result"
    }
   ],
   "source": [
    "type(tweets_tfidf)"
   ]
  },
  {
   "cell_type": "markdown",
   "metadata": {},
   "source": [
    "Create final training feature set from the tf-idf array and other remaining features"
   ]
  },
  {
   "cell_type": "code",
   "execution_count": 28,
   "metadata": {},
   "outputs": [
    {
     "data": {
      "text/html": [
       "<div>\n",
       "<style scoped>\n",
       "    .dataframe tbody tr th:only-of-type {\n",
       "        vertical-align: middle;\n",
       "    }\n",
       "\n",
       "    .dataframe tbody tr th {\n",
       "        vertical-align: top;\n",
       "    }\n",
       "\n",
       "    .dataframe thead th {\n",
       "        text-align: right;\n",
       "    }\n",
       "</style>\n",
       "<table border=\"1\" class=\"dataframe\">\n",
       "  <thead>\n",
       "    <tr style=\"text-align: right;\">\n",
       "      <th></th>\n",
       "      <th>0</th>\n",
       "      <th>1</th>\n",
       "      <th>2</th>\n",
       "      <th>3</th>\n",
       "      <th>4</th>\n",
       "      <th>5</th>\n",
       "      <th>6</th>\n",
       "      <th>7</th>\n",
       "      <th>8</th>\n",
       "      <th>9</th>\n",
       "      <th>...</th>\n",
       "      <th>19532</th>\n",
       "      <th>19533</th>\n",
       "      <th>19534</th>\n",
       "      <th>19535</th>\n",
       "      <th>19536</th>\n",
       "      <th>19537</th>\n",
       "      <th>19538</th>\n",
       "      <th>19539</th>\n",
       "      <th>19540</th>\n",
       "      <th>19541</th>\n",
       "    </tr>\n",
       "  </thead>\n",
       "  <tbody>\n",
       "    <tr>\n",
       "      <th>0</th>\n",
       "      <td>0.0</td>\n",
       "      <td>0.0</td>\n",
       "      <td>0.0</td>\n",
       "      <td>0.0</td>\n",
       "      <td>0.0</td>\n",
       "      <td>0.0</td>\n",
       "      <td>0.0</td>\n",
       "      <td>0.000000</td>\n",
       "      <td>0.0</td>\n",
       "      <td>0.0</td>\n",
       "      <td>...</td>\n",
       "      <td>0.0</td>\n",
       "      <td>0.0</td>\n",
       "      <td>0.0</td>\n",
       "      <td>0.0</td>\n",
       "      <td>0.0</td>\n",
       "      <td>0.0</td>\n",
       "      <td>0.0</td>\n",
       "      <td>0.0</td>\n",
       "      <td>0.0</td>\n",
       "      <td>0.0</td>\n",
       "    </tr>\n",
       "    <tr>\n",
       "      <th>1</th>\n",
       "      <td>0.0</td>\n",
       "      <td>0.0</td>\n",
       "      <td>0.0</td>\n",
       "      <td>0.0</td>\n",
       "      <td>0.0</td>\n",
       "      <td>0.0</td>\n",
       "      <td>0.0</td>\n",
       "      <td>0.000000</td>\n",
       "      <td>0.0</td>\n",
       "      <td>0.0</td>\n",
       "      <td>...</td>\n",
       "      <td>0.0</td>\n",
       "      <td>0.0</td>\n",
       "      <td>0.0</td>\n",
       "      <td>0.0</td>\n",
       "      <td>0.0</td>\n",
       "      <td>0.0</td>\n",
       "      <td>0.0</td>\n",
       "      <td>0.0</td>\n",
       "      <td>0.0</td>\n",
       "      <td>0.0</td>\n",
       "    </tr>\n",
       "    <tr>\n",
       "      <th>2</th>\n",
       "      <td>0.0</td>\n",
       "      <td>0.0</td>\n",
       "      <td>0.0</td>\n",
       "      <td>0.0</td>\n",
       "      <td>0.0</td>\n",
       "      <td>0.0</td>\n",
       "      <td>0.0</td>\n",
       "      <td>0.000000</td>\n",
       "      <td>0.0</td>\n",
       "      <td>0.0</td>\n",
       "      <td>...</td>\n",
       "      <td>0.0</td>\n",
       "      <td>0.0</td>\n",
       "      <td>0.0</td>\n",
       "      <td>0.0</td>\n",
       "      <td>0.0</td>\n",
       "      <td>0.0</td>\n",
       "      <td>0.0</td>\n",
       "      <td>0.0</td>\n",
       "      <td>0.0</td>\n",
       "      <td>0.0</td>\n",
       "    </tr>\n",
       "    <tr>\n",
       "      <th>3</th>\n",
       "      <td>0.0</td>\n",
       "      <td>0.0</td>\n",
       "      <td>0.0</td>\n",
       "      <td>0.0</td>\n",
       "      <td>0.0</td>\n",
       "      <td>0.0</td>\n",
       "      <td>0.0</td>\n",
       "      <td>0.000000</td>\n",
       "      <td>0.0</td>\n",
       "      <td>0.0</td>\n",
       "      <td>...</td>\n",
       "      <td>0.0</td>\n",
       "      <td>0.0</td>\n",
       "      <td>0.0</td>\n",
       "      <td>0.0</td>\n",
       "      <td>0.0</td>\n",
       "      <td>0.0</td>\n",
       "      <td>0.0</td>\n",
       "      <td>0.0</td>\n",
       "      <td>0.0</td>\n",
       "      <td>0.0</td>\n",
       "    </tr>\n",
       "    <tr>\n",
       "      <th>4</th>\n",
       "      <td>0.0</td>\n",
       "      <td>0.0</td>\n",
       "      <td>0.0</td>\n",
       "      <td>0.0</td>\n",
       "      <td>0.0</td>\n",
       "      <td>0.0</td>\n",
       "      <td>0.0</td>\n",
       "      <td>0.000000</td>\n",
       "      <td>0.0</td>\n",
       "      <td>0.0</td>\n",
       "      <td>...</td>\n",
       "      <td>0.0</td>\n",
       "      <td>0.0</td>\n",
       "      <td>0.0</td>\n",
       "      <td>0.0</td>\n",
       "      <td>0.0</td>\n",
       "      <td>0.0</td>\n",
       "      <td>0.0</td>\n",
       "      <td>0.0</td>\n",
       "      <td>0.0</td>\n",
       "      <td>0.0</td>\n",
       "    </tr>\n",
       "    <tr>\n",
       "      <th>...</th>\n",
       "      <td>...</td>\n",
       "      <td>...</td>\n",
       "      <td>...</td>\n",
       "      <td>...</td>\n",
       "      <td>...</td>\n",
       "      <td>...</td>\n",
       "      <td>...</td>\n",
       "      <td>...</td>\n",
       "      <td>...</td>\n",
       "      <td>...</td>\n",
       "      <td>...</td>\n",
       "      <td>...</td>\n",
       "      <td>...</td>\n",
       "      <td>...</td>\n",
       "      <td>...</td>\n",
       "      <td>...</td>\n",
       "      <td>...</td>\n",
       "      <td>...</td>\n",
       "      <td>...</td>\n",
       "      <td>...</td>\n",
       "      <td>...</td>\n",
       "    </tr>\n",
       "    <tr>\n",
       "      <th>7588</th>\n",
       "      <td>0.0</td>\n",
       "      <td>0.0</td>\n",
       "      <td>0.0</td>\n",
       "      <td>0.0</td>\n",
       "      <td>0.0</td>\n",
       "      <td>0.0</td>\n",
       "      <td>0.0</td>\n",
       "      <td>0.000000</td>\n",
       "      <td>0.0</td>\n",
       "      <td>0.0</td>\n",
       "      <td>...</td>\n",
       "      <td>0.0</td>\n",
       "      <td>0.0</td>\n",
       "      <td>0.0</td>\n",
       "      <td>0.0</td>\n",
       "      <td>0.0</td>\n",
       "      <td>0.0</td>\n",
       "      <td>0.0</td>\n",
       "      <td>0.0</td>\n",
       "      <td>0.0</td>\n",
       "      <td>0.0</td>\n",
       "    </tr>\n",
       "    <tr>\n",
       "      <th>7589</th>\n",
       "      <td>0.0</td>\n",
       "      <td>0.0</td>\n",
       "      <td>0.0</td>\n",
       "      <td>0.0</td>\n",
       "      <td>0.0</td>\n",
       "      <td>0.0</td>\n",
       "      <td>0.0</td>\n",
       "      <td>0.000000</td>\n",
       "      <td>0.0</td>\n",
       "      <td>0.0</td>\n",
       "      <td>...</td>\n",
       "      <td>0.0</td>\n",
       "      <td>0.0</td>\n",
       "      <td>0.0</td>\n",
       "      <td>0.0</td>\n",
       "      <td>0.0</td>\n",
       "      <td>0.0</td>\n",
       "      <td>0.0</td>\n",
       "      <td>0.0</td>\n",
       "      <td>0.0</td>\n",
       "      <td>0.0</td>\n",
       "    </tr>\n",
       "    <tr>\n",
       "      <th>7590</th>\n",
       "      <td>0.0</td>\n",
       "      <td>0.0</td>\n",
       "      <td>0.0</td>\n",
       "      <td>0.0</td>\n",
       "      <td>0.0</td>\n",
       "      <td>0.0</td>\n",
       "      <td>0.0</td>\n",
       "      <td>0.428477</td>\n",
       "      <td>0.0</td>\n",
       "      <td>0.0</td>\n",
       "      <td>...</td>\n",
       "      <td>0.0</td>\n",
       "      <td>0.0</td>\n",
       "      <td>0.0</td>\n",
       "      <td>0.0</td>\n",
       "      <td>0.0</td>\n",
       "      <td>0.0</td>\n",
       "      <td>0.0</td>\n",
       "      <td>0.0</td>\n",
       "      <td>0.0</td>\n",
       "      <td>0.0</td>\n",
       "    </tr>\n",
       "    <tr>\n",
       "      <th>7591</th>\n",
       "      <td>0.0</td>\n",
       "      <td>0.0</td>\n",
       "      <td>0.0</td>\n",
       "      <td>0.0</td>\n",
       "      <td>0.0</td>\n",
       "      <td>0.0</td>\n",
       "      <td>0.0</td>\n",
       "      <td>0.000000</td>\n",
       "      <td>0.0</td>\n",
       "      <td>0.0</td>\n",
       "      <td>...</td>\n",
       "      <td>0.0</td>\n",
       "      <td>0.0</td>\n",
       "      <td>0.0</td>\n",
       "      <td>0.0</td>\n",
       "      <td>0.0</td>\n",
       "      <td>0.0</td>\n",
       "      <td>0.0</td>\n",
       "      <td>0.0</td>\n",
       "      <td>0.0</td>\n",
       "      <td>0.0</td>\n",
       "    </tr>\n",
       "    <tr>\n",
       "      <th>7592</th>\n",
       "      <td>0.0</td>\n",
       "      <td>0.0</td>\n",
       "      <td>0.0</td>\n",
       "      <td>0.0</td>\n",
       "      <td>0.0</td>\n",
       "      <td>0.0</td>\n",
       "      <td>0.0</td>\n",
       "      <td>0.000000</td>\n",
       "      <td>0.0</td>\n",
       "      <td>0.0</td>\n",
       "      <td>...</td>\n",
       "      <td>0.0</td>\n",
       "      <td>0.0</td>\n",
       "      <td>0.0</td>\n",
       "      <td>0.0</td>\n",
       "      <td>0.0</td>\n",
       "      <td>0.0</td>\n",
       "      <td>0.0</td>\n",
       "      <td>0.0</td>\n",
       "      <td>0.0</td>\n",
       "      <td>0.0</td>\n",
       "    </tr>\n",
       "  </tbody>\n",
       "</table>\n",
       "<p>7593 rows × 19542 columns</p>\n",
       "</div>"
      ],
      "text/plain": [
       "      0      1      2      3      4      5      6         7      8      9      \\\n",
       "0       0.0    0.0    0.0    0.0    0.0    0.0    0.0  0.000000    0.0    0.0   \n",
       "1       0.0    0.0    0.0    0.0    0.0    0.0    0.0  0.000000    0.0    0.0   \n",
       "2       0.0    0.0    0.0    0.0    0.0    0.0    0.0  0.000000    0.0    0.0   \n",
       "3       0.0    0.0    0.0    0.0    0.0    0.0    0.0  0.000000    0.0    0.0   \n",
       "4       0.0    0.0    0.0    0.0    0.0    0.0    0.0  0.000000    0.0    0.0   \n",
       "...     ...    ...    ...    ...    ...    ...    ...       ...    ...    ...   \n",
       "7588    0.0    0.0    0.0    0.0    0.0    0.0    0.0  0.000000    0.0    0.0   \n",
       "7589    0.0    0.0    0.0    0.0    0.0    0.0    0.0  0.000000    0.0    0.0   \n",
       "7590    0.0    0.0    0.0    0.0    0.0    0.0    0.0  0.428477    0.0    0.0   \n",
       "7591    0.0    0.0    0.0    0.0    0.0    0.0    0.0  0.000000    0.0    0.0   \n",
       "7592    0.0    0.0    0.0    0.0    0.0    0.0    0.0  0.000000    0.0    0.0   \n",
       "\n",
       "      ...  19532  19533  19534  19535  19536  19537  19538  19539  19540  \\\n",
       "0     ...    0.0    0.0    0.0    0.0    0.0    0.0    0.0    0.0    0.0   \n",
       "1     ...    0.0    0.0    0.0    0.0    0.0    0.0    0.0    0.0    0.0   \n",
       "2     ...    0.0    0.0    0.0    0.0    0.0    0.0    0.0    0.0    0.0   \n",
       "3     ...    0.0    0.0    0.0    0.0    0.0    0.0    0.0    0.0    0.0   \n",
       "4     ...    0.0    0.0    0.0    0.0    0.0    0.0    0.0    0.0    0.0   \n",
       "...   ...    ...    ...    ...    ...    ...    ...    ...    ...    ...   \n",
       "7588  ...    0.0    0.0    0.0    0.0    0.0    0.0    0.0    0.0    0.0   \n",
       "7589  ...    0.0    0.0    0.0    0.0    0.0    0.0    0.0    0.0    0.0   \n",
       "7590  ...    0.0    0.0    0.0    0.0    0.0    0.0    0.0    0.0    0.0   \n",
       "7591  ...    0.0    0.0    0.0    0.0    0.0    0.0    0.0    0.0    0.0   \n",
       "7592  ...    0.0    0.0    0.0    0.0    0.0    0.0    0.0    0.0    0.0   \n",
       "\n",
       "      19541  \n",
       "0       0.0  \n",
       "1       0.0  \n",
       "2       0.0  \n",
       "3       0.0  \n",
       "4       0.0  \n",
       "...     ...  \n",
       "7588    0.0  \n",
       "7589    0.0  \n",
       "7590    0.0  \n",
       "7591    0.0  \n",
       "7592    0.0  \n",
       "\n",
       "[7593 rows x 19542 columns]"
      ]
     },
     "execution_count": 28,
     "metadata": {},
     "output_type": "execute_result"
    }
   ],
   "source": [
    "# convert sparse array to dense numpy arrar and then to datafraame\n",
    "df_final = pd.DataFrame(tweets_tfidf.toarray())\n",
    "df_final"
   ]
  },
  {
   "cell_type": "code",
   "execution_count": 29,
   "metadata": {},
   "outputs": [],
   "source": [
    "# normalize 'length_norm' column\n",
    "from sklearn.preprocessing import MinMaxScaler"
   ]
  },
  {
   "cell_type": "code",
   "execution_count": 30,
   "metadata": {},
   "outputs": [],
   "source": [
    "mc = MinMaxScaler()"
   ]
  },
  {
   "cell_type": "code",
   "execution_count": 31,
   "metadata": {},
   "outputs": [],
   "source": [
    "df_train['length_norm_std'] = mc.fit_transform((np.array(df_train['length_norm'])).reshape(-1,1))"
   ]
  },
  {
   "cell_type": "markdown",
   "metadata": {},
   "source": [
    "At this point we will create two sets of training data, one containing only tfidf values and another one with the attributes 'disaster_asc_coeff' and 'length_norm_std' in addition to the tfidf values."
   ]
  },
  {
   "cell_type": "code",
   "execution_count": 32,
   "metadata": {},
   "outputs": [],
   "source": [
    "df_tfidf_only = df_final.copy()\n",
    "df_all_atrib = pd.concat([df_final, df_train[['disaster_asc_coeff', 'length_norm_std']]], axis = 1)"
   ]
  },
  {
   "cell_type": "markdown",
   "metadata": {},
   "source": [
    "### Training on tfidf values + additional attributes"
   ]
  },
  {
   "cell_type": "code",
   "execution_count": 33,
   "metadata": {},
   "outputs": [
    {
     "name": "stdout",
     "output_type": "stream",
     "text": [
      "<class 'pandas.core.frame.DataFrame'>\n",
      "RangeIndex: 7593 entries, 0 to 7592\n",
      "Columns: 19544 entries, 0 to length_norm_std\n",
      "dtypes: float64(19544)\n",
      "memory usage: 1.1 GB\n"
     ]
    }
   ],
   "source": [
    "df_all_atrib.info()"
   ]
  },
  {
   "cell_type": "code",
   "execution_count": 34,
   "metadata": {},
   "outputs": [
    {
     "data": {
      "text/html": [
       "<div>\n",
       "<style scoped>\n",
       "    .dataframe tbody tr th:only-of-type {\n",
       "        vertical-align: middle;\n",
       "    }\n",
       "\n",
       "    .dataframe tbody tr th {\n",
       "        vertical-align: top;\n",
       "    }\n",
       "\n",
       "    .dataframe thead th {\n",
       "        text-align: right;\n",
       "    }\n",
       "</style>\n",
       "<table border=\"1\" class=\"dataframe\">\n",
       "  <thead>\n",
       "    <tr style=\"text-align: right;\">\n",
       "      <th></th>\n",
       "      <th>0</th>\n",
       "      <th>1</th>\n",
       "      <th>2</th>\n",
       "      <th>3</th>\n",
       "      <th>4</th>\n",
       "      <th>5</th>\n",
       "      <th>6</th>\n",
       "      <th>7</th>\n",
       "      <th>8</th>\n",
       "      <th>9</th>\n",
       "      <th>...</th>\n",
       "      <th>19534</th>\n",
       "      <th>19535</th>\n",
       "      <th>19536</th>\n",
       "      <th>19537</th>\n",
       "      <th>19538</th>\n",
       "      <th>19539</th>\n",
       "      <th>19540</th>\n",
       "      <th>19541</th>\n",
       "      <th>disaster_asc_coeff</th>\n",
       "      <th>length_norm_std</th>\n",
       "    </tr>\n",
       "  </thead>\n",
       "  <tbody>\n",
       "    <tr>\n",
       "      <th>0</th>\n",
       "      <td>0.0</td>\n",
       "      <td>0.0</td>\n",
       "      <td>0.0</td>\n",
       "      <td>0.0</td>\n",
       "      <td>0.0</td>\n",
       "      <td>0.0</td>\n",
       "      <td>0.0</td>\n",
       "      <td>0.0</td>\n",
       "      <td>0.0</td>\n",
       "      <td>0.0</td>\n",
       "      <td>...</td>\n",
       "      <td>0.0</td>\n",
       "      <td>0.0</td>\n",
       "      <td>0.0</td>\n",
       "      <td>0.0</td>\n",
       "      <td>0.0</td>\n",
       "      <td>0.0</td>\n",
       "      <td>0.0</td>\n",
       "      <td>0.0</td>\n",
       "      <td>0.785714</td>\n",
       "      <td>0.300813</td>\n",
       "    </tr>\n",
       "    <tr>\n",
       "      <th>1</th>\n",
       "      <td>0.0</td>\n",
       "      <td>0.0</td>\n",
       "      <td>0.0</td>\n",
       "      <td>0.0</td>\n",
       "      <td>0.0</td>\n",
       "      <td>0.0</td>\n",
       "      <td>0.0</td>\n",
       "      <td>0.0</td>\n",
       "      <td>0.0</td>\n",
       "      <td>0.0</td>\n",
       "      <td>...</td>\n",
       "      <td>0.0</td>\n",
       "      <td>0.0</td>\n",
       "      <td>0.0</td>\n",
       "      <td>0.0</td>\n",
       "      <td>0.0</td>\n",
       "      <td>0.0</td>\n",
       "      <td>0.0</td>\n",
       "      <td>0.0</td>\n",
       "      <td>0.386364</td>\n",
       "      <td>0.260163</td>\n",
       "    </tr>\n",
       "    <tr>\n",
       "      <th>2</th>\n",
       "      <td>0.0</td>\n",
       "      <td>0.0</td>\n",
       "      <td>0.0</td>\n",
       "      <td>0.0</td>\n",
       "      <td>0.0</td>\n",
       "      <td>0.0</td>\n",
       "      <td>0.0</td>\n",
       "      <td>0.0</td>\n",
       "      <td>0.0</td>\n",
       "      <td>0.0</td>\n",
       "      <td>...</td>\n",
       "      <td>0.0</td>\n",
       "      <td>0.0</td>\n",
       "      <td>0.0</td>\n",
       "      <td>0.0</td>\n",
       "      <td>0.0</td>\n",
       "      <td>0.0</td>\n",
       "      <td>0.0</td>\n",
       "      <td>0.0</td>\n",
       "      <td>0.767241</td>\n",
       "      <td>0.528455</td>\n",
       "    </tr>\n",
       "    <tr>\n",
       "      <th>3</th>\n",
       "      <td>0.0</td>\n",
       "      <td>0.0</td>\n",
       "      <td>0.0</td>\n",
       "      <td>0.0</td>\n",
       "      <td>0.0</td>\n",
       "      <td>0.0</td>\n",
       "      <td>0.0</td>\n",
       "      <td>0.0</td>\n",
       "      <td>0.0</td>\n",
       "      <td>0.0</td>\n",
       "      <td>...</td>\n",
       "      <td>0.0</td>\n",
       "      <td>0.0</td>\n",
       "      <td>0.0</td>\n",
       "      <td>0.0</td>\n",
       "      <td>0.0</td>\n",
       "      <td>0.0</td>\n",
       "      <td>0.0</td>\n",
       "      <td>0.0</td>\n",
       "      <td>0.767241</td>\n",
       "      <td>0.365854</td>\n",
       "    </tr>\n",
       "    <tr>\n",
       "      <th>4</th>\n",
       "      <td>0.0</td>\n",
       "      <td>0.0</td>\n",
       "      <td>0.0</td>\n",
       "      <td>0.0</td>\n",
       "      <td>0.0</td>\n",
       "      <td>0.0</td>\n",
       "      <td>0.0</td>\n",
       "      <td>0.0</td>\n",
       "      <td>0.0</td>\n",
       "      <td>0.0</td>\n",
       "      <td>...</td>\n",
       "      <td>0.0</td>\n",
       "      <td>0.0</td>\n",
       "      <td>0.0</td>\n",
       "      <td>0.0</td>\n",
       "      <td>0.0</td>\n",
       "      <td>0.0</td>\n",
       "      <td>0.0</td>\n",
       "      <td>0.0</td>\n",
       "      <td>0.386364</td>\n",
       "      <td>0.390244</td>\n",
       "    </tr>\n",
       "  </tbody>\n",
       "</table>\n",
       "<p>5 rows × 19544 columns</p>\n",
       "</div>"
      ],
      "text/plain": [
       "     0    1    2    3    4    5    6    7    8    9  ...  19534  19535  19536  \\\n",
       "0  0.0  0.0  0.0  0.0  0.0  0.0  0.0  0.0  0.0  0.0  ...    0.0    0.0    0.0   \n",
       "1  0.0  0.0  0.0  0.0  0.0  0.0  0.0  0.0  0.0  0.0  ...    0.0    0.0    0.0   \n",
       "2  0.0  0.0  0.0  0.0  0.0  0.0  0.0  0.0  0.0  0.0  ...    0.0    0.0    0.0   \n",
       "3  0.0  0.0  0.0  0.0  0.0  0.0  0.0  0.0  0.0  0.0  ...    0.0    0.0    0.0   \n",
       "4  0.0  0.0  0.0  0.0  0.0  0.0  0.0  0.0  0.0  0.0  ...    0.0    0.0    0.0   \n",
       "\n",
       "   19537  19538  19539  19540  19541  disaster_asc_coeff  length_norm_std  \n",
       "0    0.0    0.0    0.0    0.0    0.0            0.785714         0.300813  \n",
       "1    0.0    0.0    0.0    0.0    0.0            0.386364         0.260163  \n",
       "2    0.0    0.0    0.0    0.0    0.0            0.767241         0.528455  \n",
       "3    0.0    0.0    0.0    0.0    0.0            0.767241         0.365854  \n",
       "4    0.0    0.0    0.0    0.0    0.0            0.386364         0.390244  \n",
       "\n",
       "[5 rows x 19544 columns]"
      ]
     },
     "execution_count": 34,
     "metadata": {},
     "output_type": "execute_result"
    }
   ],
   "source": [
    "df_all_atrib.head()"
   ]
  },
  {
   "cell_type": "code",
   "execution_count": 35,
   "metadata": {},
   "outputs": [
    {
     "data": {
      "text/plain": [
       "Index(['0', '1', '2', '3', '4', '5', '6', '7', '8', '9',\n",
       "       ...\n",
       "       '19534', '19535', '19536', '19537', '19538', '19539', '19540', '19541',\n",
       "       'disaster_asc_coeff', 'length_norm_std'],\n",
       "      dtype='object', length=19544)"
      ]
     },
     "execution_count": 35,
     "metadata": {},
     "output_type": "execute_result"
    }
   ],
   "source": [
    "df_all_atrib.columns = df_all_atrib.columns.astype(str)\n",
    "df_all_atrib.columns"
   ]
  },
  {
   "cell_type": "markdown",
   "metadata": {},
   "source": [
    "### Train Test Split"
   ]
  },
  {
   "cell_type": "code",
   "execution_count": 36,
   "metadata": {},
   "outputs": [],
   "source": [
    "from sklearn.model_selection import train_test_split"
   ]
  },
  {
   "cell_type": "code",
   "execution_count": 37,
   "metadata": {},
   "outputs": [],
   "source": [
    "# drop all columns except 'association coefficient' and those related to sentiment analysis\n",
    "X = df_all_atrib\n",
    "y = df_train['target']"
   ]
  },
  {
   "cell_type": "code",
   "execution_count": 38,
   "metadata": {},
   "outputs": [],
   "source": [
    "X_train, X_test, y_train, y_test = train_test_split(X, y, test_size=0.33)"
   ]
  },
  {
   "cell_type": "code",
   "execution_count": 39,
   "metadata": {},
   "outputs": [
    {
     "data": {
      "text/html": [
       "<div>\n",
       "<style scoped>\n",
       "    .dataframe tbody tr th:only-of-type {\n",
       "        vertical-align: middle;\n",
       "    }\n",
       "\n",
       "    .dataframe tbody tr th {\n",
       "        vertical-align: top;\n",
       "    }\n",
       "\n",
       "    .dataframe thead th {\n",
       "        text-align: right;\n",
       "    }\n",
       "</style>\n",
       "<table border=\"1\" class=\"dataframe\">\n",
       "  <thead>\n",
       "    <tr style=\"text-align: right;\">\n",
       "      <th></th>\n",
       "      <th>0</th>\n",
       "      <th>1</th>\n",
       "      <th>2</th>\n",
       "      <th>3</th>\n",
       "      <th>4</th>\n",
       "      <th>5</th>\n",
       "      <th>6</th>\n",
       "      <th>7</th>\n",
       "      <th>8</th>\n",
       "      <th>9</th>\n",
       "      <th>...</th>\n",
       "      <th>19534</th>\n",
       "      <th>19535</th>\n",
       "      <th>19536</th>\n",
       "      <th>19537</th>\n",
       "      <th>19538</th>\n",
       "      <th>19539</th>\n",
       "      <th>19540</th>\n",
       "      <th>19541</th>\n",
       "      <th>disaster_asc_coeff</th>\n",
       "      <th>length_norm_std</th>\n",
       "    </tr>\n",
       "  </thead>\n",
       "  <tbody>\n",
       "    <tr>\n",
       "      <th>6894</th>\n",
       "      <td>0.0</td>\n",
       "      <td>0.0</td>\n",
       "      <td>0.0</td>\n",
       "      <td>0.0</td>\n",
       "      <td>0.0</td>\n",
       "      <td>0.0</td>\n",
       "      <td>0.0</td>\n",
       "      <td>0.0</td>\n",
       "      <td>0.0</td>\n",
       "      <td>0.0</td>\n",
       "      <td>...</td>\n",
       "      <td>0.0</td>\n",
       "      <td>0.0</td>\n",
       "      <td>0.0</td>\n",
       "      <td>0.0</td>\n",
       "      <td>0.0</td>\n",
       "      <td>0.0</td>\n",
       "      <td>0.0</td>\n",
       "      <td>0.0</td>\n",
       "      <td>0.151515</td>\n",
       "      <td>0.455285</td>\n",
       "    </tr>\n",
       "    <tr>\n",
       "      <th>2337</th>\n",
       "      <td>0.0</td>\n",
       "      <td>0.0</td>\n",
       "      <td>0.0</td>\n",
       "      <td>0.0</td>\n",
       "      <td>0.0</td>\n",
       "      <td>0.0</td>\n",
       "      <td>0.0</td>\n",
       "      <td>0.0</td>\n",
       "      <td>0.0</td>\n",
       "      <td>0.0</td>\n",
       "      <td>...</td>\n",
       "      <td>0.0</td>\n",
       "      <td>0.0</td>\n",
       "      <td>0.0</td>\n",
       "      <td>0.0</td>\n",
       "      <td>0.0</td>\n",
       "      <td>0.0</td>\n",
       "      <td>0.0</td>\n",
       "      <td>0.0</td>\n",
       "      <td>0.257143</td>\n",
       "      <td>0.658537</td>\n",
       "    </tr>\n",
       "    <tr>\n",
       "      <th>1798</th>\n",
       "      <td>0.0</td>\n",
       "      <td>0.0</td>\n",
       "      <td>0.0</td>\n",
       "      <td>0.0</td>\n",
       "      <td>0.0</td>\n",
       "      <td>0.0</td>\n",
       "      <td>0.0</td>\n",
       "      <td>0.0</td>\n",
       "      <td>0.0</td>\n",
       "      <td>0.0</td>\n",
       "      <td>...</td>\n",
       "      <td>0.0</td>\n",
       "      <td>0.0</td>\n",
       "      <td>0.0</td>\n",
       "      <td>0.0</td>\n",
       "      <td>0.0</td>\n",
       "      <td>0.0</td>\n",
       "      <td>0.0</td>\n",
       "      <td>0.0</td>\n",
       "      <td>0.500000</td>\n",
       "      <td>0.739837</td>\n",
       "    </tr>\n",
       "    <tr>\n",
       "      <th>7096</th>\n",
       "      <td>0.0</td>\n",
       "      <td>0.0</td>\n",
       "      <td>0.0</td>\n",
       "      <td>0.0</td>\n",
       "      <td>0.0</td>\n",
       "      <td>0.0</td>\n",
       "      <td>0.0</td>\n",
       "      <td>0.0</td>\n",
       "      <td>0.0</td>\n",
       "      <td>0.0</td>\n",
       "      <td>...</td>\n",
       "      <td>0.0</td>\n",
       "      <td>0.0</td>\n",
       "      <td>0.0</td>\n",
       "      <td>0.0</td>\n",
       "      <td>0.0</td>\n",
       "      <td>0.0</td>\n",
       "      <td>0.0</td>\n",
       "      <td>0.0</td>\n",
       "      <td>0.787879</td>\n",
       "      <td>0.455285</td>\n",
       "    </tr>\n",
       "    <tr>\n",
       "      <th>5038</th>\n",
       "      <td>0.0</td>\n",
       "      <td>0.0</td>\n",
       "      <td>0.0</td>\n",
       "      <td>0.0</td>\n",
       "      <td>0.0</td>\n",
       "      <td>0.0</td>\n",
       "      <td>0.0</td>\n",
       "      <td>0.0</td>\n",
       "      <td>0.0</td>\n",
       "      <td>0.0</td>\n",
       "      <td>...</td>\n",
       "      <td>0.0</td>\n",
       "      <td>0.0</td>\n",
       "      <td>0.0</td>\n",
       "      <td>0.0</td>\n",
       "      <td>0.0</td>\n",
       "      <td>0.0</td>\n",
       "      <td>0.0</td>\n",
       "      <td>0.0</td>\n",
       "      <td>0.529412</td>\n",
       "      <td>0.292683</td>\n",
       "    </tr>\n",
       "  </tbody>\n",
       "</table>\n",
       "<p>5 rows × 19544 columns</p>\n",
       "</div>"
      ],
      "text/plain": [
       "        0    1    2    3    4    5    6    7    8    9  ...  19534  19535  \\\n",
       "6894  0.0  0.0  0.0  0.0  0.0  0.0  0.0  0.0  0.0  0.0  ...    0.0    0.0   \n",
       "2337  0.0  0.0  0.0  0.0  0.0  0.0  0.0  0.0  0.0  0.0  ...    0.0    0.0   \n",
       "1798  0.0  0.0  0.0  0.0  0.0  0.0  0.0  0.0  0.0  0.0  ...    0.0    0.0   \n",
       "7096  0.0  0.0  0.0  0.0  0.0  0.0  0.0  0.0  0.0  0.0  ...    0.0    0.0   \n",
       "5038  0.0  0.0  0.0  0.0  0.0  0.0  0.0  0.0  0.0  0.0  ...    0.0    0.0   \n",
       "\n",
       "      19536  19537  19538  19539  19540  19541  disaster_asc_coeff  \\\n",
       "6894    0.0    0.0    0.0    0.0    0.0    0.0            0.151515   \n",
       "2337    0.0    0.0    0.0    0.0    0.0    0.0            0.257143   \n",
       "1798    0.0    0.0    0.0    0.0    0.0    0.0            0.500000   \n",
       "7096    0.0    0.0    0.0    0.0    0.0    0.0            0.787879   \n",
       "5038    0.0    0.0    0.0    0.0    0.0    0.0            0.529412   \n",
       "\n",
       "      length_norm_std  \n",
       "6894         0.455285  \n",
       "2337         0.658537  \n",
       "1798         0.739837  \n",
       "7096         0.455285  \n",
       "5038         0.292683  \n",
       "\n",
       "[5 rows x 19544 columns]"
      ]
     },
     "execution_count": 39,
     "metadata": {},
     "output_type": "execute_result"
    }
   ],
   "source": [
    "X_train.head()"
   ]
  },
  {
   "cell_type": "code",
   "execution_count": 40,
   "metadata": {},
   "outputs": [
    {
     "name": "stdout",
     "output_type": "stream",
     "text": [
      "<class 'pandas.core.frame.DataFrame'>\n",
      "Int64Index: 5087 entries, 6894 to 179\n",
      "Columns: 19544 entries, 0 to length_norm_std\n",
      "dtypes: float64(19544)\n",
      "memory usage: 758.6 MB\n"
     ]
    }
   ],
   "source": [
    "X_train.info()"
   ]
  },
  {
   "cell_type": "markdown",
   "metadata": {},
   "source": [
    "### Model Selection\n",
    "As the data has a lot of dimensions now, using certain type of parametric models ca be quite expensive. In addition, since the data is so sparse in most dimensions, euclidean distance may not be the best metric to calculate similarity between two datapoints. Therefore, we will use cosine similarity as the metric."
   ]
  },
  {
   "cell_type": "code",
   "execution_count": 41,
   "metadata": {},
   "outputs": [],
   "source": [
    "from sklearn.model_selection import GridSearchCV\n",
    "from sklearn.metrics import classification_report, confusion_matrix"
   ]
  },
  {
   "cell_type": "markdown",
   "metadata": {},
   "source": [
    "### 1) KNN"
   ]
  },
  {
   "cell_type": "code",
   "execution_count": 42,
   "metadata": {},
   "outputs": [],
   "source": [
    "from sklearn.neighbors import KNeighborsClassifier"
   ]
  },
  {
   "cell_type": "code",
   "execution_count": 43,
   "metadata": {},
   "outputs": [],
   "source": [
    "knn_model = KNeighborsClassifier(metric = 'cosine', weights = 'uniform')"
   ]
  },
  {
   "cell_type": "code",
   "execution_count": 44,
   "metadata": {},
   "outputs": [],
   "source": [
    "# using grid search CV for cross validation\n",
    "from sklearn.model_selection import GridSearchCV\n",
    "\n",
    "# since out matrix is sparse we need to use larger k\n",
    "random_grid = {\n",
    "    'n_neighbors': [50, 70, 100, 120, 150, 200, 250, 300, 350, 400, 450, 500]\n",
    "}"
   ]
  },
  {
   "cell_type": "code",
   "execution_count": 45,
   "metadata": {},
   "outputs": [
    {
     "name": "stdout",
     "output_type": "stream",
     "text": [
      "Fitting 10 folds for each of 12 candidates, totalling 120 fits\n",
      "[CV] END .....................................n_neighbors=50; total time=  23.2s\n",
      "[CV] END .....................................n_neighbors=50; total time=  14.1s\n",
      "[CV] END .....................................n_neighbors=50; total time=   7.4s\n",
      "[CV] END .....................................n_neighbors=50; total time=   9.6s\n",
      "[CV] END .....................................n_neighbors=50; total time=   9.8s\n",
      "[CV] END .....................................n_neighbors=50; total time=   9.5s\n",
      "[CV] END .....................................n_neighbors=50; total time=   9.3s\n",
      "[CV] END .....................................n_neighbors=50; total time=   9.8s\n",
      "[CV] END .....................................n_neighbors=50; total time=  10.2s\n",
      "[CV] END .....................................n_neighbors=50; total time=   9.9s\n",
      "[CV] END .....................................n_neighbors=70; total time=   9.4s\n",
      "[CV] END .....................................n_neighbors=70; total time=   9.9s\n",
      "[CV] END .....................................n_neighbors=70; total time=   9.5s\n",
      "[CV] END .....................................n_neighbors=70; total time=   9.9s\n",
      "[CV] END .....................................n_neighbors=70; total time=  10.0s\n",
      "[CV] END .....................................n_neighbors=70; total time=  10.0s\n",
      "[CV] END .....................................n_neighbors=70; total time=   9.9s\n",
      "[CV] END .....................................n_neighbors=70; total time=   9.5s\n",
      "[CV] END .....................................n_neighbors=70; total time=  10.0s\n",
      "[CV] END .....................................n_neighbors=70; total time=   9.3s\n",
      "[CV] END ....................................n_neighbors=100; total time=  10.3s\n",
      "[CV] END ....................................n_neighbors=100; total time=  10.4s\n",
      "[CV] END ....................................n_neighbors=100; total time=   9.4s\n",
      "[CV] END ....................................n_neighbors=100; total time=   8.6s\n",
      "[CV] END ....................................n_neighbors=100; total time=   8.8s\n",
      "[CV] END ....................................n_neighbors=100; total time=   9.4s\n",
      "[CV] END ....................................n_neighbors=100; total time=  10.0s\n",
      "[CV] END ....................................n_neighbors=100; total time=  10.0s\n",
      "[CV] END ....................................n_neighbors=100; total time=  10.0s\n",
      "[CV] END ....................................n_neighbors=100; total time=  10.4s\n",
      "[CV] END ....................................n_neighbors=120; total time=  10.1s\n",
      "[CV] END ....................................n_neighbors=120; total time=   9.8s\n",
      "[CV] END ....................................n_neighbors=120; total time=  10.0s\n",
      "[CV] END ....................................n_neighbors=120; total time=   9.9s\n",
      "[CV] END ....................................n_neighbors=120; total time=   9.8s\n",
      "[CV] END ....................................n_neighbors=120; total time=   9.8s\n",
      "[CV] END ....................................n_neighbors=120; total time=   9.5s\n",
      "[CV] END ....................................n_neighbors=120; total time=   9.8s\n",
      "[CV] END ....................................n_neighbors=120; total time=   9.8s\n",
      "[CV] END ....................................n_neighbors=120; total time=   9.8s\n",
      "[CV] END ....................................n_neighbors=150; total time=   9.8s\n",
      "[CV] END ....................................n_neighbors=150; total time=   9.9s\n",
      "[CV] END ....................................n_neighbors=150; total time=  10.5s\n",
      "[CV] END ....................................n_neighbors=150; total time=   9.9s\n",
      "[CV] END ....................................n_neighbors=150; total time=   9.7s\n",
      "[CV] END ....................................n_neighbors=150; total time=   9.6s\n",
      "[CV] END ....................................n_neighbors=150; total time=   9.7s\n",
      "[CV] END ....................................n_neighbors=150; total time=   9.8s\n",
      "[CV] END ....................................n_neighbors=150; total time=   9.8s\n",
      "[CV] END ....................................n_neighbors=150; total time=   9.8s\n",
      "[CV] END ....................................n_neighbors=200; total time=   9.8s\n",
      "[CV] END ....................................n_neighbors=200; total time=   9.9s\n",
      "[CV] END ....................................n_neighbors=200; total time=   9.7s\n",
      "[CV] END ....................................n_neighbors=200; total time=   9.7s\n",
      "[CV] END ....................................n_neighbors=200; total time=   9.8s\n",
      "[CV] END ....................................n_neighbors=200; total time=   8.9s\n",
      "[CV] END ....................................n_neighbors=200; total time=   9.7s\n",
      "[CV] END ....................................n_neighbors=200; total time=  10.0s\n",
      "[CV] END ....................................n_neighbors=200; total time=   9.9s\n",
      "[CV] END ....................................n_neighbors=200; total time=   9.7s\n",
      "[CV] END ....................................n_neighbors=250; total time=   9.8s\n",
      "[CV] END ....................................n_neighbors=250; total time=   9.8s\n",
      "[CV] END ....................................n_neighbors=250; total time=   9.8s\n",
      "[CV] END ....................................n_neighbors=250; total time=   9.9s\n",
      "[CV] END ....................................n_neighbors=250; total time=   9.7s\n",
      "[CV] END ....................................n_neighbors=250; total time=   9.8s\n",
      "[CV] END ....................................n_neighbors=250; total time=   9.9s\n",
      "[CV] END ....................................n_neighbors=250; total time=   9.4s\n",
      "[CV] END ....................................n_neighbors=250; total time=   9.8s\n",
      "[CV] END ....................................n_neighbors=250; total time=   9.8s\n",
      "[CV] END ....................................n_neighbors=300; total time=   9.9s\n",
      "[CV] END ....................................n_neighbors=300; total time=  10.0s\n",
      "[CV] END ....................................n_neighbors=300; total time=   9.9s\n",
      "[CV] END ....................................n_neighbors=300; total time=   9.9s\n",
      "[CV] END ....................................n_neighbors=300; total time=   8.9s\n",
      "[CV] END ....................................n_neighbors=300; total time=   5.7s\n",
      "[CV] END ....................................n_neighbors=300; total time=   6.1s\n",
      "[CV] END ....................................n_neighbors=300; total time=   6.3s\n",
      "[CV] END ....................................n_neighbors=300; total time=   4.8s\n",
      "[CV] END ....................................n_neighbors=300; total time=   4.4s\n",
      "[CV] END ....................................n_neighbors=350; total time=   4.3s\n",
      "[CV] END ....................................n_neighbors=350; total time=   4.5s\n",
      "[CV] END ....................................n_neighbors=350; total time=   5.7s\n",
      "[CV] END ....................................n_neighbors=350; total time=   5.7s\n",
      "[CV] END ....................................n_neighbors=350; total time=   5.6s\n",
      "[CV] END ....................................n_neighbors=350; total time=   5.5s\n",
      "[CV] END ....................................n_neighbors=350; total time=   5.5s\n",
      "[CV] END ....................................n_neighbors=350; total time=   5.7s\n",
      "[CV] END ....................................n_neighbors=350; total time=   5.7s\n",
      "[CV] END ....................................n_neighbors=350; total time=   5.7s\n",
      "[CV] END ....................................n_neighbors=400; total time=   5.6s\n",
      "[CV] END ....................................n_neighbors=400; total time=   5.7s\n",
      "[CV] END ....................................n_neighbors=400; total time=   6.0s\n",
      "[CV] END ....................................n_neighbors=400; total time=   5.9s\n",
      "[CV] END ....................................n_neighbors=400; total time=   4.6s\n",
      "[CV] END ....................................n_neighbors=400; total time=   4.5s\n",
      "[CV] END ....................................n_neighbors=400; total time=   4.5s\n",
      "[CV] END ....................................n_neighbors=400; total time=   4.5s\n",
      "[CV] END ....................................n_neighbors=400; total time=   4.5s\n",
      "[CV] END ....................................n_neighbors=400; total time=   4.6s\n",
      "[CV] END ....................................n_neighbors=450; total time=   4.4s\n"
     ]
    },
    {
     "name": "stdout",
     "output_type": "stream",
     "text": [
      "[CV] END ....................................n_neighbors=450; total time=   4.5s\n",
      "[CV] END ....................................n_neighbors=450; total time=   4.5s\n",
      "[CV] END ....................................n_neighbors=450; total time=   4.5s\n",
      "[CV] END ....................................n_neighbors=450; total time=   4.4s\n",
      "[CV] END ....................................n_neighbors=450; total time=   4.5s\n",
      "[CV] END ....................................n_neighbors=450; total time=   4.5s\n",
      "[CV] END ....................................n_neighbors=450; total time=   4.4s\n",
      "[CV] END ....................................n_neighbors=450; total time=   4.8s\n",
      "[CV] END ....................................n_neighbors=450; total time=   4.4s\n",
      "[CV] END ....................................n_neighbors=500; total time=   4.5s\n",
      "[CV] END ....................................n_neighbors=500; total time=   4.3s\n",
      "[CV] END ....................................n_neighbors=500; total time=   4.3s\n",
      "[CV] END ....................................n_neighbors=500; total time=   4.2s\n",
      "[CV] END ....................................n_neighbors=500; total time=   4.2s\n",
      "[CV] END ....................................n_neighbors=500; total time=   4.2s\n",
      "[CV] END ....................................n_neighbors=500; total time=   4.2s\n",
      "[CV] END ....................................n_neighbors=500; total time=   4.6s\n",
      "[CV] END ....................................n_neighbors=500; total time=   4.5s\n",
      "[CV] END ....................................n_neighbors=500; total time=   4.5s\n"
     ]
    },
    {
     "data": {
      "text/html": [
       "<style>#sk-container-id-1 {color: black;background-color: white;}#sk-container-id-1 pre{padding: 0;}#sk-container-id-1 div.sk-toggleable {background-color: white;}#sk-container-id-1 label.sk-toggleable__label {cursor: pointer;display: block;width: 100%;margin-bottom: 0;padding: 0.3em;box-sizing: border-box;text-align: center;}#sk-container-id-1 label.sk-toggleable__label-arrow:before {content: \"▸\";float: left;margin-right: 0.25em;color: #696969;}#sk-container-id-1 label.sk-toggleable__label-arrow:hover:before {color: black;}#sk-container-id-1 div.sk-estimator:hover label.sk-toggleable__label-arrow:before {color: black;}#sk-container-id-1 div.sk-toggleable__content {max-height: 0;max-width: 0;overflow: hidden;text-align: left;background-color: #f0f8ff;}#sk-container-id-1 div.sk-toggleable__content pre {margin: 0.2em;color: black;border-radius: 0.25em;background-color: #f0f8ff;}#sk-container-id-1 input.sk-toggleable__control:checked~div.sk-toggleable__content {max-height: 200px;max-width: 100%;overflow: auto;}#sk-container-id-1 input.sk-toggleable__control:checked~label.sk-toggleable__label-arrow:before {content: \"▾\";}#sk-container-id-1 div.sk-estimator input.sk-toggleable__control:checked~label.sk-toggleable__label {background-color: #d4ebff;}#sk-container-id-1 div.sk-label input.sk-toggleable__control:checked~label.sk-toggleable__label {background-color: #d4ebff;}#sk-container-id-1 input.sk-hidden--visually {border: 0;clip: rect(1px 1px 1px 1px);clip: rect(1px, 1px, 1px, 1px);height: 1px;margin: -1px;overflow: hidden;padding: 0;position: absolute;width: 1px;}#sk-container-id-1 div.sk-estimator {font-family: monospace;background-color: #f0f8ff;border: 1px dotted black;border-radius: 0.25em;box-sizing: border-box;margin-bottom: 0.5em;}#sk-container-id-1 div.sk-estimator:hover {background-color: #d4ebff;}#sk-container-id-1 div.sk-parallel-item::after {content: \"\";width: 100%;border-bottom: 1px solid gray;flex-grow: 1;}#sk-container-id-1 div.sk-label:hover label.sk-toggleable__label {background-color: #d4ebff;}#sk-container-id-1 div.sk-serial::before {content: \"\";position: absolute;border-left: 1px solid gray;box-sizing: border-box;top: 0;bottom: 0;left: 50%;z-index: 0;}#sk-container-id-1 div.sk-serial {display: flex;flex-direction: column;align-items: center;background-color: white;padding-right: 0.2em;padding-left: 0.2em;position: relative;}#sk-container-id-1 div.sk-item {position: relative;z-index: 1;}#sk-container-id-1 div.sk-parallel {display: flex;align-items: stretch;justify-content: center;background-color: white;position: relative;}#sk-container-id-1 div.sk-item::before, #sk-container-id-1 div.sk-parallel-item::before {content: \"\";position: absolute;border-left: 1px solid gray;box-sizing: border-box;top: 0;bottom: 0;left: 50%;z-index: -1;}#sk-container-id-1 div.sk-parallel-item {display: flex;flex-direction: column;z-index: 1;position: relative;background-color: white;}#sk-container-id-1 div.sk-parallel-item:first-child::after {align-self: flex-end;width: 50%;}#sk-container-id-1 div.sk-parallel-item:last-child::after {align-self: flex-start;width: 50%;}#sk-container-id-1 div.sk-parallel-item:only-child::after {width: 0;}#sk-container-id-1 div.sk-dashed-wrapped {border: 1px dashed gray;margin: 0 0.4em 0.5em 0.4em;box-sizing: border-box;padding-bottom: 0.4em;background-color: white;}#sk-container-id-1 div.sk-label label {font-family: monospace;font-weight: bold;display: inline-block;line-height: 1.2em;}#sk-container-id-1 div.sk-label-container {text-align: center;}#sk-container-id-1 div.sk-container {/* jupyter's `normalize.less` sets `[hidden] { display: none; }` but bootstrap.min.css set `[hidden] { display: none !important; }` so we also need the `!important` here to be able to override the default hidden behavior on the sphinx rendered scikit-learn.org. See: https://github.com/scikit-learn/scikit-learn/issues/21755 */display: inline-block !important;position: relative;}#sk-container-id-1 div.sk-text-repr-fallback {display: none;}</style><div id=\"sk-container-id-1\" class=\"sk-top-container\"><div class=\"sk-text-repr-fallback\"><pre>GridSearchCV(cv=10, estimator=KNeighborsClassifier(metric=&#x27;cosine&#x27;),\n",
       "             param_grid={&#x27;n_neighbors&#x27;: [50, 70, 100, 120, 150, 200, 250, 300,\n",
       "                                         350, 400, 450, 500]},\n",
       "             verbose=2)</pre><b>In a Jupyter environment, please rerun this cell to show the HTML representation or trust the notebook. <br />On GitHub, the HTML representation is unable to render, please try loading this page with nbviewer.org.</b></div><div class=\"sk-container\" hidden><div class=\"sk-item sk-dashed-wrapped\"><div class=\"sk-label-container\"><div class=\"sk-label sk-toggleable\"><input class=\"sk-toggleable__control sk-hidden--visually\" id=\"sk-estimator-id-1\" type=\"checkbox\" ><label for=\"sk-estimator-id-1\" class=\"sk-toggleable__label sk-toggleable__label-arrow\">GridSearchCV</label><div class=\"sk-toggleable__content\"><pre>GridSearchCV(cv=10, estimator=KNeighborsClassifier(metric=&#x27;cosine&#x27;),\n",
       "             param_grid={&#x27;n_neighbors&#x27;: [50, 70, 100, 120, 150, 200, 250, 300,\n",
       "                                         350, 400, 450, 500]},\n",
       "             verbose=2)</pre></div></div></div><div class=\"sk-parallel\"><div class=\"sk-parallel-item\"><div class=\"sk-item\"><div class=\"sk-label-container\"><div class=\"sk-label sk-toggleable\"><input class=\"sk-toggleable__control sk-hidden--visually\" id=\"sk-estimator-id-2\" type=\"checkbox\" ><label for=\"sk-estimator-id-2\" class=\"sk-toggleable__label sk-toggleable__label-arrow\">estimator: KNeighborsClassifier</label><div class=\"sk-toggleable__content\"><pre>KNeighborsClassifier(metric=&#x27;cosine&#x27;)</pre></div></div></div><div class=\"sk-serial\"><div class=\"sk-item\"><div class=\"sk-estimator sk-toggleable\"><input class=\"sk-toggleable__control sk-hidden--visually\" id=\"sk-estimator-id-3\" type=\"checkbox\" ><label for=\"sk-estimator-id-3\" class=\"sk-toggleable__label sk-toggleable__label-arrow\">KNeighborsClassifier</label><div class=\"sk-toggleable__content\"><pre>KNeighborsClassifier(metric=&#x27;cosine&#x27;)</pre></div></div></div></div></div></div></div></div></div></div>"
      ],
      "text/plain": [
       "GridSearchCV(cv=10, estimator=KNeighborsClassifier(metric='cosine'),\n",
       "             param_grid={'n_neighbors': [50, 70, 100, 120, 150, 200, 250, 300,\n",
       "                                         350, 400, 450, 500]},\n",
       "             verbose=2)"
      ]
     },
     "execution_count": 45,
     "metadata": {},
     "output_type": "execute_result"
    }
   ],
   "source": [
    "knn_cv = GridSearchCV(estimator = knn_model, param_grid = random_grid,\n",
    "                               cv = 10, verbose = 2)\n",
    "knn_cv.fit(X_train, y_train)"
   ]
  },
  {
   "cell_type": "code",
   "execution_count": 46,
   "metadata": {},
   "outputs": [
    {
     "data": {
      "text/plain": [
       "{'n_neighbors': 50}"
      ]
     },
     "execution_count": 46,
     "metadata": {},
     "output_type": "execute_result"
    }
   ],
   "source": [
    "# save best parameters\n",
    "params = knn_cv.best_params_\n",
    "params"
   ]
  },
  {
   "cell_type": "code",
   "execution_count": 47,
   "metadata": {},
   "outputs": [],
   "source": [
    "params['metric'] = 'cosine'\n",
    "params['weights'] = 'uniform'"
   ]
  },
  {
   "cell_type": "code",
   "execution_count": 48,
   "metadata": {},
   "outputs": [
    {
     "data": {
      "text/html": [
       "<style>#sk-container-id-2 {color: black;background-color: white;}#sk-container-id-2 pre{padding: 0;}#sk-container-id-2 div.sk-toggleable {background-color: white;}#sk-container-id-2 label.sk-toggleable__label {cursor: pointer;display: block;width: 100%;margin-bottom: 0;padding: 0.3em;box-sizing: border-box;text-align: center;}#sk-container-id-2 label.sk-toggleable__label-arrow:before {content: \"▸\";float: left;margin-right: 0.25em;color: #696969;}#sk-container-id-2 label.sk-toggleable__label-arrow:hover:before {color: black;}#sk-container-id-2 div.sk-estimator:hover label.sk-toggleable__label-arrow:before {color: black;}#sk-container-id-2 div.sk-toggleable__content {max-height: 0;max-width: 0;overflow: hidden;text-align: left;background-color: #f0f8ff;}#sk-container-id-2 div.sk-toggleable__content pre {margin: 0.2em;color: black;border-radius: 0.25em;background-color: #f0f8ff;}#sk-container-id-2 input.sk-toggleable__control:checked~div.sk-toggleable__content {max-height: 200px;max-width: 100%;overflow: auto;}#sk-container-id-2 input.sk-toggleable__control:checked~label.sk-toggleable__label-arrow:before {content: \"▾\";}#sk-container-id-2 div.sk-estimator input.sk-toggleable__control:checked~label.sk-toggleable__label {background-color: #d4ebff;}#sk-container-id-2 div.sk-label input.sk-toggleable__control:checked~label.sk-toggleable__label {background-color: #d4ebff;}#sk-container-id-2 input.sk-hidden--visually {border: 0;clip: rect(1px 1px 1px 1px);clip: rect(1px, 1px, 1px, 1px);height: 1px;margin: -1px;overflow: hidden;padding: 0;position: absolute;width: 1px;}#sk-container-id-2 div.sk-estimator {font-family: monospace;background-color: #f0f8ff;border: 1px dotted black;border-radius: 0.25em;box-sizing: border-box;margin-bottom: 0.5em;}#sk-container-id-2 div.sk-estimator:hover {background-color: #d4ebff;}#sk-container-id-2 div.sk-parallel-item::after {content: \"\";width: 100%;border-bottom: 1px solid gray;flex-grow: 1;}#sk-container-id-2 div.sk-label:hover label.sk-toggleable__label {background-color: #d4ebff;}#sk-container-id-2 div.sk-serial::before {content: \"\";position: absolute;border-left: 1px solid gray;box-sizing: border-box;top: 0;bottom: 0;left: 50%;z-index: 0;}#sk-container-id-2 div.sk-serial {display: flex;flex-direction: column;align-items: center;background-color: white;padding-right: 0.2em;padding-left: 0.2em;position: relative;}#sk-container-id-2 div.sk-item {position: relative;z-index: 1;}#sk-container-id-2 div.sk-parallel {display: flex;align-items: stretch;justify-content: center;background-color: white;position: relative;}#sk-container-id-2 div.sk-item::before, #sk-container-id-2 div.sk-parallel-item::before {content: \"\";position: absolute;border-left: 1px solid gray;box-sizing: border-box;top: 0;bottom: 0;left: 50%;z-index: -1;}#sk-container-id-2 div.sk-parallel-item {display: flex;flex-direction: column;z-index: 1;position: relative;background-color: white;}#sk-container-id-2 div.sk-parallel-item:first-child::after {align-self: flex-end;width: 50%;}#sk-container-id-2 div.sk-parallel-item:last-child::after {align-self: flex-start;width: 50%;}#sk-container-id-2 div.sk-parallel-item:only-child::after {width: 0;}#sk-container-id-2 div.sk-dashed-wrapped {border: 1px dashed gray;margin: 0 0.4em 0.5em 0.4em;box-sizing: border-box;padding-bottom: 0.4em;background-color: white;}#sk-container-id-2 div.sk-label label {font-family: monospace;font-weight: bold;display: inline-block;line-height: 1.2em;}#sk-container-id-2 div.sk-label-container {text-align: center;}#sk-container-id-2 div.sk-container {/* jupyter's `normalize.less` sets `[hidden] { display: none; }` but bootstrap.min.css set `[hidden] { display: none !important; }` so we also need the `!important` here to be able to override the default hidden behavior on the sphinx rendered scikit-learn.org. See: https://github.com/scikit-learn/scikit-learn/issues/21755 */display: inline-block !important;position: relative;}#sk-container-id-2 div.sk-text-repr-fallback {display: none;}</style><div id=\"sk-container-id-2\" class=\"sk-top-container\"><div class=\"sk-text-repr-fallback\"><pre>KNeighborsClassifier(metric=&#x27;cosine&#x27;, n_neighbors=50)</pre><b>In a Jupyter environment, please rerun this cell to show the HTML representation or trust the notebook. <br />On GitHub, the HTML representation is unable to render, please try loading this page with nbviewer.org.</b></div><div class=\"sk-container\" hidden><div class=\"sk-item\"><div class=\"sk-estimator sk-toggleable\"><input class=\"sk-toggleable__control sk-hidden--visually\" id=\"sk-estimator-id-4\" type=\"checkbox\" checked><label for=\"sk-estimator-id-4\" class=\"sk-toggleable__label sk-toggleable__label-arrow\">KNeighborsClassifier</label><div class=\"sk-toggleable__content\"><pre>KNeighborsClassifier(metric=&#x27;cosine&#x27;, n_neighbors=50)</pre></div></div></div></div></div>"
      ],
      "text/plain": [
       "KNeighborsClassifier(metric='cosine', n_neighbors=50)"
      ]
     },
     "execution_count": 48,
     "metadata": {},
     "output_type": "execute_result"
    }
   ],
   "source": [
    "knn_final = KNeighborsClassifier(**params)\n",
    "knn_final.fit(X_train, y_train)"
   ]
  },
  {
   "cell_type": "code",
   "execution_count": 49,
   "metadata": {},
   "outputs": [],
   "source": [
    "# get predictions\n",
    "y_pred = knn_final.predict(X_test)"
   ]
  },
  {
   "cell_type": "code",
   "execution_count": 50,
   "metadata": {},
   "outputs": [
    {
     "name": "stdout",
     "output_type": "stream",
     "text": [
      "[[666 767]\n",
      " [112 961]]\n",
      "              precision    recall  f1-score   support\n",
      "\n",
      "           0       0.86      0.46      0.60      1433\n",
      "           1       0.56      0.90      0.69      1073\n",
      "\n",
      "    accuracy                           0.65      2506\n",
      "   macro avg       0.71      0.68      0.64      2506\n",
      "weighted avg       0.73      0.65      0.64      2506\n",
      "\n"
     ]
    }
   ],
   "source": [
    "print(confusion_matrix(y_test, y_pred))\n",
    "print(classification_report(y_test, y_pred))"
   ]
  },
  {
   "cell_type": "markdown",
   "metadata": {},
   "source": [
    "### 2) SVM"
   ]
  },
  {
   "cell_type": "code",
   "execution_count": 51,
   "metadata": {},
   "outputs": [],
   "source": [
    "from sklearn.svm import SVC\n",
    "from sklearn.metrics.pairwise import cosine_similarity"
   ]
  },
  {
   "cell_type": "code",
   "execution_count": 52,
   "metadata": {},
   "outputs": [],
   "source": [
    "svc_model = SVC(kernel = cosine_similarity)"
   ]
  },
  {
   "cell_type": "code",
   "execution_count": 53,
   "metadata": {},
   "outputs": [],
   "source": [
    "C_list = (np.linspace(0.01, 10, 25)).tolist()\n",
    "\n",
    "random_grid = {\n",
    "    'C': C_list,\n",
    "    'gamma': ['scale', 'auto']\n",
    "}"
   ]
  },
  {
   "cell_type": "code",
   "execution_count": 54,
   "metadata": {},
   "outputs": [
    {
     "name": "stdout",
     "output_type": "stream",
     "text": [
      "Fitting 5 folds for each of 50 candidates, totalling 250 fits\n",
      "[CV] END ................................C=0.01, gamma=scale; total time=  17.8s\n",
      "[CV] END ................................C=0.01, gamma=scale; total time=  14.7s\n",
      "[CV] END ................................C=0.01, gamma=scale; total time=  15.6s\n",
      "[CV] END ................................C=0.01, gamma=scale; total time=  15.3s\n",
      "[CV] END ................................C=0.01, gamma=scale; total time=  15.2s\n",
      "[CV] END .................................C=0.01, gamma=auto; total time=  15.0s\n",
      "[CV] END .................................C=0.01, gamma=auto; total time=  14.8s\n",
      "[CV] END .................................C=0.01, gamma=auto; total time=  17.1s\n",
      "[CV] END .................................C=0.01, gamma=auto; total time=  15.0s\n",
      "[CV] END .................................C=0.01, gamma=auto; total time=  17.9s\n",
      "[CV] END .............................C=0.42625, gamma=scale; total time=  15.0s\n",
      "[CV] END .............................C=0.42625, gamma=scale; total time=  16.2s\n",
      "[CV] END .............................C=0.42625, gamma=scale; total time=  14.8s\n",
      "[CV] END .............................C=0.42625, gamma=scale; total time=  16.9s\n",
      "[CV] END .............................C=0.42625, gamma=scale; total time=  23.2s\n",
      "[CV] END ..............................C=0.42625, gamma=auto; total time=  19.0s\n",
      "[CV] END ..............................C=0.42625, gamma=auto; total time=  21.7s\n",
      "[CV] END ..............................C=0.42625, gamma=auto; total time=  21.5s\n",
      "[CV] END ..............................C=0.42625, gamma=auto; total time=  19.6s\n",
      "[CV] END ..............................C=0.42625, gamma=auto; total time=  17.4s\n",
      "[CV] END ..............................C=0.8425, gamma=scale; total time=  18.4s\n",
      "[CV] END ..............................C=0.8425, gamma=scale; total time=  19.1s\n",
      "[CV] END ..............................C=0.8425, gamma=scale; total time=  17.5s\n",
      "[CV] END ..............................C=0.8425, gamma=scale; total time=  16.8s\n",
      "[CV] END ..............................C=0.8425, gamma=scale; total time=  15.2s\n",
      "[CV] END ...............................C=0.8425, gamma=auto; total time=  15.9s\n",
      "[CV] END ...............................C=0.8425, gamma=auto; total time=  15.6s\n",
      "[CV] END ...............................C=0.8425, gamma=auto; total time=12.6min\n",
      "[CV] END ...............................C=0.8425, gamma=auto; total time=  20.8s\n",
      "[CV] END ...............................C=0.8425, gamma=auto; total time=  14.3s\n",
      "[CV] END .............................C=1.25875, gamma=scale; total time=  14.2s\n",
      "[CV] END .............................C=1.25875, gamma=scale; total time=  16.0s\n",
      "[CV] END .............................C=1.25875, gamma=scale; total time=  17.3s\n",
      "[CV] END .............................C=1.25875, gamma=scale; total time=  32.9s\n",
      "[CV] END .............................C=1.25875, gamma=scale; total time=  35.1s\n",
      "[CV] END ..............................C=1.25875, gamma=auto; total time=  35.2s\n",
      "[CV] END ..............................C=1.25875, gamma=auto; total time=  35.0s\n",
      "[CV] END ..............................C=1.25875, gamma=auto; total time=  34.8s\n",
      "[CV] END ..............................C=1.25875, gamma=auto; total time=  34.7s\n",
      "[CV] END ..............................C=1.25875, gamma=auto; total time=  34.7s\n",
      "[CV] END ...............................C=1.675, gamma=scale; total time=  33.4s\n",
      "[CV] END ...............................C=1.675, gamma=scale; total time=  34.5s\n",
      "[CV] END ...............................C=1.675, gamma=scale; total time=  34.8s\n",
      "[CV] END ...............................C=1.675, gamma=scale; total time=  34.3s\n",
      "[CV] END ...............................C=1.675, gamma=scale; total time=  34.7s\n",
      "[CV] END ................................C=1.675, gamma=auto; total time=  32.6s\n",
      "[CV] END ................................C=1.675, gamma=auto; total time=  34.3s\n",
      "[CV] END ................................C=1.675, gamma=auto; total time=  34.1s\n",
      "[CV] END ................................C=1.675, gamma=auto; total time=  32.9s\n",
      "[CV] END ................................C=1.675, gamma=auto; total time=  34.5s\n",
      "[CV] END ..................C=2.0912499999999996, gamma=scale; total time=  34.6s\n",
      "[CV] END ..................C=2.0912499999999996, gamma=scale; total time=  34.4s\n",
      "[CV] END ..................C=2.0912499999999996, gamma=scale; total time=  34.0s\n",
      "[CV] END ..................C=2.0912499999999996, gamma=scale; total time=  34.2s\n",
      "[CV] END ..................C=2.0912499999999996, gamma=scale; total time=  34.4s\n",
      "[CV] END ...................C=2.0912499999999996, gamma=auto; total time=  34.5s\n",
      "[CV] END ...................C=2.0912499999999996, gamma=auto; total time=  34.9s\n",
      "[CV] END ...................C=2.0912499999999996, gamma=auto; total time=  33.5s\n",
      "[CV] END ...................C=2.0912499999999996, gamma=auto; total time=  33.5s\n",
      "[CV] END ...................C=2.0912499999999996, gamma=auto; total time=  33.7s\n",
      "[CV] END ..............................C=2.5075, gamma=scale; total time=  34.7s\n",
      "[CV] END ..............................C=2.5075, gamma=scale; total time=  34.9s\n",
      "[CV] END ..............................C=2.5075, gamma=scale; total time=  34.6s\n",
      "[CV] END ..............................C=2.5075, gamma=scale; total time=  33.9s\n",
      "[CV] END ..............................C=2.5075, gamma=scale; total time=  32.3s\n",
      "[CV] END ...............................C=2.5075, gamma=auto; total time=  32.0s\n",
      "[CV] END ...............................C=2.5075, gamma=auto; total time=  34.3s\n",
      "[CV] END ...............................C=2.5075, gamma=auto; total time=  34.1s\n",
      "[CV] END ...............................C=2.5075, gamma=auto; total time=  34.1s\n",
      "[CV] END ...............................C=2.5075, gamma=auto; total time=  34.2s\n",
      "[CV] END .............................C=2.92375, gamma=scale; total time=  34.8s\n",
      "[CV] END .............................C=2.92375, gamma=scale; total time=  33.1s\n",
      "[CV] END .............................C=2.92375, gamma=scale; total time=  35.3s\n",
      "[CV] END .............................C=2.92375, gamma=scale; total time=  34.3s\n",
      "[CV] END .............................C=2.92375, gamma=scale; total time=  32.3s\n",
      "[CV] END ..............................C=2.92375, gamma=auto; total time=  32.2s\n",
      "[CV] END ..............................C=2.92375, gamma=auto; total time=  34.3s\n",
      "[CV] END ..............................C=2.92375, gamma=auto; total time=  34.6s\n",
      "[CV] END ..............................C=2.92375, gamma=auto; total time=  34.6s\n",
      "[CV] END ..............................C=2.92375, gamma=auto; total time=  34.5s\n",
      "[CV] END ................................C=3.34, gamma=scale; total time=  34.6s\n",
      "[CV] END ................................C=3.34, gamma=scale; total time=  34.7s\n",
      "[CV] END ................................C=3.34, gamma=scale; total time=  34.9s\n",
      "[CV] END ................................C=3.34, gamma=scale; total time=  34.6s\n",
      "[CV] END ................................C=3.34, gamma=scale; total time=  34.9s\n",
      "[CV] END .................................C=3.34, gamma=auto; total time=  34.3s\n",
      "[CV] END .................................C=3.34, gamma=auto; total time=  35.7s\n",
      "[CV] END .................................C=3.34, gamma=auto; total time=  34.6s\n",
      "[CV] END .................................C=3.34, gamma=auto; total time=  34.7s\n",
      "[CV] END .................................C=3.34, gamma=auto; total time=  34.7s\n",
      "[CV] END ..................C=3.7562499999999996, gamma=scale; total time=  34.5s\n",
      "[CV] END ..................C=3.7562499999999996, gamma=scale; total time=  34.7s\n",
      "[CV] END ..................C=3.7562499999999996, gamma=scale; total time=  34.5s\n",
      "[CV] END ..................C=3.7562499999999996, gamma=scale; total time=  33.8s\n",
      "[CV] END ..................C=3.7562499999999996, gamma=scale; total time=  34.5s\n",
      "[CV] END ...................C=3.7562499999999996, gamma=auto; total time=  33.4s\n",
      "[CV] END ...................C=3.7562499999999996, gamma=auto; total time=  34.6s\n",
      "[CV] END ...................C=3.7562499999999996, gamma=auto; total time=  35.0s\n",
      "[CV] END ...................C=3.7562499999999996, gamma=auto; total time=  32.1s\n",
      "[CV] END ...................C=3.7562499999999996, gamma=auto; total time=  33.8s\n",
      "[CV] END ...................C=4.172499999999999, gamma=scale; total time=  34.1s\n"
     ]
    },
    {
     "name": "stdout",
     "output_type": "stream",
     "text": [
      "[CV] END ...................C=4.172499999999999, gamma=scale; total time=  33.8s\n",
      "[CV] END ...................C=4.172499999999999, gamma=scale; total time=  33.5s\n",
      "[CV] END ...................C=4.172499999999999, gamma=scale; total time=  33.6s\n",
      "[CV] END ...................C=4.172499999999999, gamma=scale; total time=  33.8s\n",
      "[CV] END ....................C=4.172499999999999, gamma=auto; total time=  34.4s\n",
      "[CV] END ....................C=4.172499999999999, gamma=auto; total time=  34.4s\n",
      "[CV] END ....................C=4.172499999999999, gamma=auto; total time=  35.0s\n",
      "[CV] END ....................C=4.172499999999999, gamma=auto; total time=  36.0s\n",
      "[CV] END ....................C=4.172499999999999, gamma=auto; total time=  35.5s\n",
      "[CV] END .............................C=4.58875, gamma=scale; total time=  35.7s\n",
      "[CV] END .............................C=4.58875, gamma=scale; total time=  35.4s\n",
      "[CV] END .............................C=4.58875, gamma=scale; total time=  35.7s\n",
      "[CV] END .............................C=4.58875, gamma=scale; total time=  35.3s\n",
      "[CV] END .............................C=4.58875, gamma=scale; total time=  36.0s\n",
      "[CV] END ..............................C=4.58875, gamma=auto; total time=  35.3s\n",
      "[CV] END ..............................C=4.58875, gamma=auto; total time=  35.3s\n",
      "[CV] END ..............................C=4.58875, gamma=auto; total time=  35.8s\n",
      "[CV] END ..............................C=4.58875, gamma=auto; total time=  35.2s\n",
      "[CV] END ..............................C=4.58875, gamma=auto; total time=  35.3s\n",
      "[CV] END ...............................C=5.005, gamma=scale; total time=  35.0s\n",
      "[CV] END ...............................C=5.005, gamma=scale; total time=  34.8s\n",
      "[CV] END ...............................C=5.005, gamma=scale; total time=  34.1s\n",
      "[CV] END ...............................C=5.005, gamma=scale; total time=  33.5s\n",
      "[CV] END ...............................C=5.005, gamma=scale; total time=  35.2s\n",
      "[CV] END ................................C=5.005, gamma=auto; total time=  34.6s\n",
      "[CV] END ................................C=5.005, gamma=auto; total time=  35.6s\n",
      "[CV] END ................................C=5.005, gamma=auto; total time=  35.1s\n",
      "[CV] END ................................C=5.005, gamma=auto; total time=  35.0s\n",
      "[CV] END ................................C=5.005, gamma=auto; total time=  35.8s\n",
      "[CV] END .............................C=5.42125, gamma=scale; total time=  36.6s\n",
      "[CV] END .............................C=5.42125, gamma=scale; total time=  34.9s\n",
      "[CV] END .............................C=5.42125, gamma=scale; total time=  35.3s\n",
      "[CV] END .............................C=5.42125, gamma=scale; total time=  34.6s\n",
      "[CV] END .............................C=5.42125, gamma=scale; total time=  35.9s\n",
      "[CV] END ..............................C=5.42125, gamma=auto; total time=  35.5s\n",
      "[CV] END ..............................C=5.42125, gamma=auto; total time=  35.3s\n",
      "[CV] END ..............................C=5.42125, gamma=auto; total time=  33.2s\n",
      "[CV] END ..............................C=5.42125, gamma=auto; total time=  34.5s\n",
      "[CV] END ..............................C=5.42125, gamma=auto; total time=  24.6s\n",
      "[CV] END ..............................C=5.8375, gamma=scale; total time=  13.6s\n",
      "[CV] END ..............................C=5.8375, gamma=scale; total time=  15.5s\n",
      "[CV] END ..............................C=5.8375, gamma=scale; total time=  16.4s\n",
      "[CV] END ..............................C=5.8375, gamma=scale; total time=  15.7s\n",
      "[CV] END ..............................C=5.8375, gamma=scale; total time=  15.7s\n",
      "[CV] END ...............................C=5.8375, gamma=auto; total time=  16.3s\n",
      "[CV] END ...............................C=5.8375, gamma=auto; total time=  15.6s\n",
      "[CV] END ...............................C=5.8375, gamma=auto; total time=  15.5s\n",
      "[CV] END ...............................C=5.8375, gamma=auto; total time=  15.2s\n",
      "[CV] END ...............................C=5.8375, gamma=auto; total time=  15.1s\n",
      "[CV] END .............................C=6.25375, gamma=scale; total time=  15.2s\n",
      "[CV] END .............................C=6.25375, gamma=scale; total time=  15.8s\n",
      "[CV] END .............................C=6.25375, gamma=scale; total time=  15.0s\n",
      "[CV] END .............................C=6.25375, gamma=scale; total time=  16.1s\n",
      "[CV] END .............................C=6.25375, gamma=scale; total time=  15.0s\n",
      "[CV] END ..............................C=6.25375, gamma=auto; total time=  15.7s\n",
      "[CV] END ..............................C=6.25375, gamma=auto; total time=  16.1s\n",
      "[CV] END ..............................C=6.25375, gamma=auto; total time=  15.6s\n",
      "[CV] END ..............................C=6.25375, gamma=auto; total time=  15.4s\n",
      "[CV] END ..............................C=6.25375, gamma=auto; total time=  15.1s\n",
      "[CV] END ................................C=6.67, gamma=scale; total time=  15.1s\n",
      "[CV] END ................................C=6.67, gamma=scale; total time=  16.0s\n",
      "[CV] END ................................C=6.67, gamma=scale; total time=  15.2s\n",
      "[CV] END ................................C=6.67, gamma=scale; total time=  14.9s\n",
      "[CV] END ................................C=6.67, gamma=scale; total time=  15.8s\n",
      "[CV] END .................................C=6.67, gamma=auto; total time=  14.6s\n",
      "[CV] END .................................C=6.67, gamma=auto; total time=  16.3s\n",
      "[CV] END .................................C=6.67, gamma=auto; total time=  14.7s\n",
      "[CV] END .................................C=6.67, gamma=auto; total time=  15.3s\n",
      "[CV] END .................................C=6.67, gamma=auto; total time=  14.6s\n",
      "[CV] END .............................C=7.08625, gamma=scale; total time=  15.5s\n",
      "[CV] END .............................C=7.08625, gamma=scale; total time=  15.1s\n",
      "[CV] END .............................C=7.08625, gamma=scale; total time=  14.6s\n",
      "[CV] END .............................C=7.08625, gamma=scale; total time=  15.4s\n",
      "[CV] END .............................C=7.08625, gamma=scale; total time=  14.4s\n",
      "[CV] END ..............................C=7.08625, gamma=auto; total time=  16.0s\n",
      "[CV] END ..............................C=7.08625, gamma=auto; total time=  14.6s\n",
      "[CV] END ..............................C=7.08625, gamma=auto; total time=  15.5s\n",
      "[CV] END ..............................C=7.08625, gamma=auto; total time=  17.6s\n",
      "[CV] END ..............................C=7.08625, gamma=auto; total time=  19.9s\n",
      "[CV] END ..................C=7.5024999999999995, gamma=scale; total time=  23.8s\n",
      "[CV] END ..................C=7.5024999999999995, gamma=scale; total time=  32.1s\n",
      "[CV] END ..................C=7.5024999999999995, gamma=scale; total time=  24.4s\n",
      "[CV] END ..................C=7.5024999999999995, gamma=scale; total time=  25.2s\n",
      "[CV] END ..................C=7.5024999999999995, gamma=scale; total time=  24.1s\n",
      "[CV] END ...................C=7.5024999999999995, gamma=auto; total time=  22.9s\n",
      "[CV] END ...................C=7.5024999999999995, gamma=auto; total time=  21.3s\n",
      "[CV] END ...................C=7.5024999999999995, gamma=auto; total time=  19.8s\n",
      "[CV] END ...................C=7.5024999999999995, gamma=auto; total time=  19.6s\n",
      "[CV] END ...................C=7.5024999999999995, gamma=auto; total time=  22.4s\n",
      "[CV] END .............................C=7.91875, gamma=scale; total time=  21.7s\n",
      "[CV] END .............................C=7.91875, gamma=scale; total time=  21.8s\n",
      "[CV] END .............................C=7.91875, gamma=scale; total time=  19.2s\n",
      "[CV] END .............................C=7.91875, gamma=scale; total time=  19.3s\n",
      "[CV] END .............................C=7.91875, gamma=scale; total time=  19.7s\n",
      "[CV] END ..............................C=7.91875, gamma=auto; total time=  19.5s\n",
      "[CV] END ..............................C=7.91875, gamma=auto; total time=  21.1s\n",
      "[CV] END ..............................C=7.91875, gamma=auto; total time=  20.8s\n",
      "[CV] END ..............................C=7.91875, gamma=auto; total time=  20.8s\n",
      "[CV] END ..............................C=7.91875, gamma=auto; total time=  20.4s\n",
      "[CV] END ...................C=8.334999999999999, gamma=scale; total time=  21.0s\n",
      "[CV] END ...................C=8.334999999999999, gamma=scale; total time=  21.7s\n",
      "[CV] END ...................C=8.334999999999999, gamma=scale; total time=  20.7s\n"
     ]
    },
    {
     "name": "stdout",
     "output_type": "stream",
     "text": [
      "[CV] END ...................C=8.334999999999999, gamma=scale; total time=  20.6s\n",
      "[CV] END ...................C=8.334999999999999, gamma=scale; total time=  21.4s\n",
      "[CV] END ....................C=8.334999999999999, gamma=auto; total time=  21.8s\n",
      "[CV] END ....................C=8.334999999999999, gamma=auto; total time=  15.8s\n",
      "[CV] END ....................C=8.334999999999999, gamma=auto; total time=  17.7s\n",
      "[CV] END ....................C=8.334999999999999, gamma=auto; total time=  19.7s\n",
      "[CV] END ....................C=8.334999999999999, gamma=auto; total time=  21.3s\n",
      "[CV] END .............................C=8.75125, gamma=scale; total time=  20.0s\n",
      "[CV] END .............................C=8.75125, gamma=scale; total time=  20.9s\n",
      "[CV] END .............................C=8.75125, gamma=scale; total time=  19.2s\n",
      "[CV] END .............................C=8.75125, gamma=scale; total time=  17.7s\n",
      "[CV] END .............................C=8.75125, gamma=scale; total time=  17.3s\n",
      "[CV] END ..............................C=8.75125, gamma=auto; total time=  14.9s\n",
      "[CV] END ..............................C=8.75125, gamma=auto; total time=  15.9s\n",
      "[CV] END ..............................C=8.75125, gamma=auto; total time=  15.0s\n",
      "[CV] END ..............................C=8.75125, gamma=auto; total time=  15.4s\n",
      "[CV] END ..............................C=8.75125, gamma=auto; total time=  16.5s\n",
      "[CV] END ..............................C=9.1675, gamma=scale; total time=  15.1s\n",
      "[CV] END ..............................C=9.1675, gamma=scale; total time=  15.7s\n",
      "[CV] END ..............................C=9.1675, gamma=scale; total time=  14.5s\n",
      "[CV] END ..............................C=9.1675, gamma=scale; total time=  15.6s\n",
      "[CV] END ..............................C=9.1675, gamma=scale; total time=  14.8s\n",
      "[CV] END ...............................C=9.1675, gamma=auto; total time=  15.6s\n",
      "[CV] END ...............................C=9.1675, gamma=auto; total time=  14.8s\n",
      "[CV] END ...............................C=9.1675, gamma=auto; total time=  15.1s\n",
      "[CV] END ...............................C=9.1675, gamma=auto; total time=  14.9s\n",
      "[CV] END ...............................C=9.1675, gamma=auto; total time=  14.9s\n",
      "[CV] END .............................C=9.58375, gamma=scale; total time=  16.2s\n",
      "[CV] END .............................C=9.58375, gamma=scale; total time=  15.1s\n",
      "[CV] END .............................C=9.58375, gamma=scale; total time=  15.4s\n",
      "[CV] END .............................C=9.58375, gamma=scale; total time=  14.5s\n",
      "[CV] END .............................C=9.58375, gamma=scale; total time=  15.3s\n",
      "[CV] END ..............................C=9.58375, gamma=auto; total time=  14.4s\n",
      "[CV] END ..............................C=9.58375, gamma=auto; total time=  15.6s\n",
      "[CV] END ..............................C=9.58375, gamma=auto; total time=  14.8s\n",
      "[CV] END ..............................C=9.58375, gamma=auto; total time=  15.6s\n",
      "[CV] END ..............................C=9.58375, gamma=auto; total time=  14.7s\n",
      "[CV] END ................................C=10.0, gamma=scale; total time=  15.2s\n",
      "[CV] END ................................C=10.0, gamma=scale; total time=  15.2s\n",
      "[CV] END ................................C=10.0, gamma=scale; total time=  18.9s\n",
      "[CV] END ................................C=10.0, gamma=scale; total time=  16.2s\n",
      "[CV] END ................................C=10.0, gamma=scale; total time=  14.8s\n",
      "[CV] END .................................C=10.0, gamma=auto; total time=  15.7s\n",
      "[CV] END .................................C=10.0, gamma=auto; total time=  14.6s\n",
      "[CV] END .................................C=10.0, gamma=auto; total time=  15.5s\n",
      "[CV] END .................................C=10.0, gamma=auto; total time=  14.7s\n",
      "[CV] END .................................C=10.0, gamma=auto; total time=  15.5s\n"
     ]
    },
    {
     "data": {
      "text/html": [
       "<style>#sk-container-id-3 {color: black;background-color: white;}#sk-container-id-3 pre{padding: 0;}#sk-container-id-3 div.sk-toggleable {background-color: white;}#sk-container-id-3 label.sk-toggleable__label {cursor: pointer;display: block;width: 100%;margin-bottom: 0;padding: 0.3em;box-sizing: border-box;text-align: center;}#sk-container-id-3 label.sk-toggleable__label-arrow:before {content: \"▸\";float: left;margin-right: 0.25em;color: #696969;}#sk-container-id-3 label.sk-toggleable__label-arrow:hover:before {color: black;}#sk-container-id-3 div.sk-estimator:hover label.sk-toggleable__label-arrow:before {color: black;}#sk-container-id-3 div.sk-toggleable__content {max-height: 0;max-width: 0;overflow: hidden;text-align: left;background-color: #f0f8ff;}#sk-container-id-3 div.sk-toggleable__content pre {margin: 0.2em;color: black;border-radius: 0.25em;background-color: #f0f8ff;}#sk-container-id-3 input.sk-toggleable__control:checked~div.sk-toggleable__content {max-height: 200px;max-width: 100%;overflow: auto;}#sk-container-id-3 input.sk-toggleable__control:checked~label.sk-toggleable__label-arrow:before {content: \"▾\";}#sk-container-id-3 div.sk-estimator input.sk-toggleable__control:checked~label.sk-toggleable__label {background-color: #d4ebff;}#sk-container-id-3 div.sk-label input.sk-toggleable__control:checked~label.sk-toggleable__label {background-color: #d4ebff;}#sk-container-id-3 input.sk-hidden--visually {border: 0;clip: rect(1px 1px 1px 1px);clip: rect(1px, 1px, 1px, 1px);height: 1px;margin: -1px;overflow: hidden;padding: 0;position: absolute;width: 1px;}#sk-container-id-3 div.sk-estimator {font-family: monospace;background-color: #f0f8ff;border: 1px dotted black;border-radius: 0.25em;box-sizing: border-box;margin-bottom: 0.5em;}#sk-container-id-3 div.sk-estimator:hover {background-color: #d4ebff;}#sk-container-id-3 div.sk-parallel-item::after {content: \"\";width: 100%;border-bottom: 1px solid gray;flex-grow: 1;}#sk-container-id-3 div.sk-label:hover label.sk-toggleable__label {background-color: #d4ebff;}#sk-container-id-3 div.sk-serial::before {content: \"\";position: absolute;border-left: 1px solid gray;box-sizing: border-box;top: 0;bottom: 0;left: 50%;z-index: 0;}#sk-container-id-3 div.sk-serial {display: flex;flex-direction: column;align-items: center;background-color: white;padding-right: 0.2em;padding-left: 0.2em;position: relative;}#sk-container-id-3 div.sk-item {position: relative;z-index: 1;}#sk-container-id-3 div.sk-parallel {display: flex;align-items: stretch;justify-content: center;background-color: white;position: relative;}#sk-container-id-3 div.sk-item::before, #sk-container-id-3 div.sk-parallel-item::before {content: \"\";position: absolute;border-left: 1px solid gray;box-sizing: border-box;top: 0;bottom: 0;left: 50%;z-index: -1;}#sk-container-id-3 div.sk-parallel-item {display: flex;flex-direction: column;z-index: 1;position: relative;background-color: white;}#sk-container-id-3 div.sk-parallel-item:first-child::after {align-self: flex-end;width: 50%;}#sk-container-id-3 div.sk-parallel-item:last-child::after {align-self: flex-start;width: 50%;}#sk-container-id-3 div.sk-parallel-item:only-child::after {width: 0;}#sk-container-id-3 div.sk-dashed-wrapped {border: 1px dashed gray;margin: 0 0.4em 0.5em 0.4em;box-sizing: border-box;padding-bottom: 0.4em;background-color: white;}#sk-container-id-3 div.sk-label label {font-family: monospace;font-weight: bold;display: inline-block;line-height: 1.2em;}#sk-container-id-3 div.sk-label-container {text-align: center;}#sk-container-id-3 div.sk-container {/* jupyter's `normalize.less` sets `[hidden] { display: none; }` but bootstrap.min.css set `[hidden] { display: none !important; }` so we also need the `!important` here to be able to override the default hidden behavior on the sphinx rendered scikit-learn.org. See: https://github.com/scikit-learn/scikit-learn/issues/21755 */display: inline-block !important;position: relative;}#sk-container-id-3 div.sk-text-repr-fallback {display: none;}</style><div id=\"sk-container-id-3\" class=\"sk-top-container\"><div class=\"sk-text-repr-fallback\"><pre>GridSearchCV(cv=5,\n",
       "             estimator=SVC(kernel=&lt;function cosine_similarity at 0x00000148415A7880&gt;),\n",
       "             param_grid={&#x27;C&#x27;: [0.01, 0.42625, 0.8425, 1.25875, 1.675,\n",
       "                               2.0912499999999996, 2.5075, 2.92375, 3.34,\n",
       "                               3.7562499999999996, 4.172499999999999, 4.58875,\n",
       "                               5.005, 5.42125, 5.8375, 6.25375, 6.67, 7.08625,\n",
       "                               7.5024999999999995, 7.91875, 8.334999999999999,\n",
       "                               8.75125, 9.1675, 9.58375, 10.0],\n",
       "                         &#x27;gamma&#x27;: [&#x27;scale&#x27;, &#x27;auto&#x27;]},\n",
       "             verbose=2)</pre><b>In a Jupyter environment, please rerun this cell to show the HTML representation or trust the notebook. <br />On GitHub, the HTML representation is unable to render, please try loading this page with nbviewer.org.</b></div><div class=\"sk-container\" hidden><div class=\"sk-item sk-dashed-wrapped\"><div class=\"sk-label-container\"><div class=\"sk-label sk-toggleable\"><input class=\"sk-toggleable__control sk-hidden--visually\" id=\"sk-estimator-id-5\" type=\"checkbox\" ><label for=\"sk-estimator-id-5\" class=\"sk-toggleable__label sk-toggleable__label-arrow\">GridSearchCV</label><div class=\"sk-toggleable__content\"><pre>GridSearchCV(cv=5,\n",
       "             estimator=SVC(kernel=&lt;function cosine_similarity at 0x00000148415A7880&gt;),\n",
       "             param_grid={&#x27;C&#x27;: [0.01, 0.42625, 0.8425, 1.25875, 1.675,\n",
       "                               2.0912499999999996, 2.5075, 2.92375, 3.34,\n",
       "                               3.7562499999999996, 4.172499999999999, 4.58875,\n",
       "                               5.005, 5.42125, 5.8375, 6.25375, 6.67, 7.08625,\n",
       "                               7.5024999999999995, 7.91875, 8.334999999999999,\n",
       "                               8.75125, 9.1675, 9.58375, 10.0],\n",
       "                         &#x27;gamma&#x27;: [&#x27;scale&#x27;, &#x27;auto&#x27;]},\n",
       "             verbose=2)</pre></div></div></div><div class=\"sk-parallel\"><div class=\"sk-parallel-item\"><div class=\"sk-item\"><div class=\"sk-label-container\"><div class=\"sk-label sk-toggleable\"><input class=\"sk-toggleable__control sk-hidden--visually\" id=\"sk-estimator-id-6\" type=\"checkbox\" ><label for=\"sk-estimator-id-6\" class=\"sk-toggleable__label sk-toggleable__label-arrow\">estimator: SVC</label><div class=\"sk-toggleable__content\"><pre>SVC(kernel=&lt;function cosine_similarity at 0x00000148415A7880&gt;)</pre></div></div></div><div class=\"sk-serial\"><div class=\"sk-item\"><div class=\"sk-estimator sk-toggleable\"><input class=\"sk-toggleable__control sk-hidden--visually\" id=\"sk-estimator-id-7\" type=\"checkbox\" ><label for=\"sk-estimator-id-7\" class=\"sk-toggleable__label sk-toggleable__label-arrow\">SVC</label><div class=\"sk-toggleable__content\"><pre>SVC(kernel=&lt;function cosine_similarity at 0x00000148415A7880&gt;)</pre></div></div></div></div></div></div></div></div></div></div>"
      ],
      "text/plain": [
       "GridSearchCV(cv=5,\n",
       "             estimator=SVC(kernel=<function cosine_similarity at 0x00000148415A7880>),\n",
       "             param_grid={'C': [0.01, 0.42625, 0.8425, 1.25875, 1.675,\n",
       "                               2.0912499999999996, 2.5075, 2.92375, 3.34,\n",
       "                               3.7562499999999996, 4.172499999999999, 4.58875,\n",
       "                               5.005, 5.42125, 5.8375, 6.25375, 6.67, 7.08625,\n",
       "                               7.5024999999999995, 7.91875, 8.334999999999999,\n",
       "                               8.75125, 9.1675, 9.58375, 10.0],\n",
       "                         'gamma': ['scale', 'auto']},\n",
       "             verbose=2)"
      ]
     },
     "execution_count": 54,
     "metadata": {},
     "output_type": "execute_result"
    }
   ],
   "source": [
    "svc_cv = GridSearchCV(estimator = svc_model, param_grid = random_grid,\n",
    "                               cv = 5, verbose = 2)\n",
    "svc_cv.fit(X_train, y_train)"
   ]
  },
  {
   "cell_type": "code",
   "execution_count": 55,
   "metadata": {},
   "outputs": [
    {
     "data": {
      "text/plain": [
       "{'C': 1.675, 'gamma': 'scale'}"
      ]
     },
     "execution_count": 55,
     "metadata": {},
     "output_type": "execute_result"
    }
   ],
   "source": [
    "# save best parameters\n",
    "params = svc_cv.best_params_\n",
    "params"
   ]
  },
  {
   "cell_type": "code",
   "execution_count": 56,
   "metadata": {},
   "outputs": [],
   "source": [
    "params['kernel'] = cosine_similarity"
   ]
  },
  {
   "cell_type": "code",
   "execution_count": 57,
   "metadata": {},
   "outputs": [
    {
     "data": {
      "text/html": [
       "<style>#sk-container-id-4 {color: black;background-color: white;}#sk-container-id-4 pre{padding: 0;}#sk-container-id-4 div.sk-toggleable {background-color: white;}#sk-container-id-4 label.sk-toggleable__label {cursor: pointer;display: block;width: 100%;margin-bottom: 0;padding: 0.3em;box-sizing: border-box;text-align: center;}#sk-container-id-4 label.sk-toggleable__label-arrow:before {content: \"▸\";float: left;margin-right: 0.25em;color: #696969;}#sk-container-id-4 label.sk-toggleable__label-arrow:hover:before {color: black;}#sk-container-id-4 div.sk-estimator:hover label.sk-toggleable__label-arrow:before {color: black;}#sk-container-id-4 div.sk-toggleable__content {max-height: 0;max-width: 0;overflow: hidden;text-align: left;background-color: #f0f8ff;}#sk-container-id-4 div.sk-toggleable__content pre {margin: 0.2em;color: black;border-radius: 0.25em;background-color: #f0f8ff;}#sk-container-id-4 input.sk-toggleable__control:checked~div.sk-toggleable__content {max-height: 200px;max-width: 100%;overflow: auto;}#sk-container-id-4 input.sk-toggleable__control:checked~label.sk-toggleable__label-arrow:before {content: \"▾\";}#sk-container-id-4 div.sk-estimator input.sk-toggleable__control:checked~label.sk-toggleable__label {background-color: #d4ebff;}#sk-container-id-4 div.sk-label input.sk-toggleable__control:checked~label.sk-toggleable__label {background-color: #d4ebff;}#sk-container-id-4 input.sk-hidden--visually {border: 0;clip: rect(1px 1px 1px 1px);clip: rect(1px, 1px, 1px, 1px);height: 1px;margin: -1px;overflow: hidden;padding: 0;position: absolute;width: 1px;}#sk-container-id-4 div.sk-estimator {font-family: monospace;background-color: #f0f8ff;border: 1px dotted black;border-radius: 0.25em;box-sizing: border-box;margin-bottom: 0.5em;}#sk-container-id-4 div.sk-estimator:hover {background-color: #d4ebff;}#sk-container-id-4 div.sk-parallel-item::after {content: \"\";width: 100%;border-bottom: 1px solid gray;flex-grow: 1;}#sk-container-id-4 div.sk-label:hover label.sk-toggleable__label {background-color: #d4ebff;}#sk-container-id-4 div.sk-serial::before {content: \"\";position: absolute;border-left: 1px solid gray;box-sizing: border-box;top: 0;bottom: 0;left: 50%;z-index: 0;}#sk-container-id-4 div.sk-serial {display: flex;flex-direction: column;align-items: center;background-color: white;padding-right: 0.2em;padding-left: 0.2em;position: relative;}#sk-container-id-4 div.sk-item {position: relative;z-index: 1;}#sk-container-id-4 div.sk-parallel {display: flex;align-items: stretch;justify-content: center;background-color: white;position: relative;}#sk-container-id-4 div.sk-item::before, #sk-container-id-4 div.sk-parallel-item::before {content: \"\";position: absolute;border-left: 1px solid gray;box-sizing: border-box;top: 0;bottom: 0;left: 50%;z-index: -1;}#sk-container-id-4 div.sk-parallel-item {display: flex;flex-direction: column;z-index: 1;position: relative;background-color: white;}#sk-container-id-4 div.sk-parallel-item:first-child::after {align-self: flex-end;width: 50%;}#sk-container-id-4 div.sk-parallel-item:last-child::after {align-self: flex-start;width: 50%;}#sk-container-id-4 div.sk-parallel-item:only-child::after {width: 0;}#sk-container-id-4 div.sk-dashed-wrapped {border: 1px dashed gray;margin: 0 0.4em 0.5em 0.4em;box-sizing: border-box;padding-bottom: 0.4em;background-color: white;}#sk-container-id-4 div.sk-label label {font-family: monospace;font-weight: bold;display: inline-block;line-height: 1.2em;}#sk-container-id-4 div.sk-label-container {text-align: center;}#sk-container-id-4 div.sk-container {/* jupyter's `normalize.less` sets `[hidden] { display: none; }` but bootstrap.min.css set `[hidden] { display: none !important; }` so we also need the `!important` here to be able to override the default hidden behavior on the sphinx rendered scikit-learn.org. See: https://github.com/scikit-learn/scikit-learn/issues/21755 */display: inline-block !important;position: relative;}#sk-container-id-4 div.sk-text-repr-fallback {display: none;}</style><div id=\"sk-container-id-4\" class=\"sk-top-container\"><div class=\"sk-text-repr-fallback\"><pre>SVC(C=1.675, kernel=&lt;function cosine_similarity at 0x00000148415A7880&gt;)</pre><b>In a Jupyter environment, please rerun this cell to show the HTML representation or trust the notebook. <br />On GitHub, the HTML representation is unable to render, please try loading this page with nbviewer.org.</b></div><div class=\"sk-container\" hidden><div class=\"sk-item\"><div class=\"sk-estimator sk-toggleable\"><input class=\"sk-toggleable__control sk-hidden--visually\" id=\"sk-estimator-id-8\" type=\"checkbox\" checked><label for=\"sk-estimator-id-8\" class=\"sk-toggleable__label sk-toggleable__label-arrow\">SVC</label><div class=\"sk-toggleable__content\"><pre>SVC(C=1.675, kernel=&lt;function cosine_similarity at 0x00000148415A7880&gt;)</pre></div></div></div></div></div>"
      ],
      "text/plain": [
       "SVC(C=1.675, kernel=<function cosine_similarity at 0x00000148415A7880>)"
      ]
     },
     "execution_count": 57,
     "metadata": {},
     "output_type": "execute_result"
    }
   ],
   "source": [
    "svc_final = SVC(**params)\n",
    "svc_final.fit(X_train, y_train)"
   ]
  },
  {
   "cell_type": "code",
   "execution_count": 58,
   "metadata": {},
   "outputs": [],
   "source": [
    "# get predictions\n",
    "y_pred = svc_final.predict(X_test)"
   ]
  },
  {
   "cell_type": "code",
   "execution_count": 59,
   "metadata": {},
   "outputs": [
    {
     "name": "stdout",
     "output_type": "stream",
     "text": [
      "[[1192  241]\n",
      " [ 290  783]]\n",
      "              precision    recall  f1-score   support\n",
      "\n",
      "           0       0.80      0.83      0.82      1433\n",
      "           1       0.76      0.73      0.75      1073\n",
      "\n",
      "    accuracy                           0.79      2506\n",
      "   macro avg       0.78      0.78      0.78      2506\n",
      "weighted avg       0.79      0.79      0.79      2506\n",
      "\n"
     ]
    }
   ],
   "source": [
    "print(confusion_matrix(y_test, y_pred))\n",
    "print(classification_report(y_test, y_pred))"
   ]
  },
  {
   "cell_type": "markdown",
   "metadata": {},
   "source": [
    "### Training on tfidf values only"
   ]
  },
  {
   "cell_type": "code",
   "execution_count": 60,
   "metadata": {},
   "outputs": [
    {
     "name": "stdout",
     "output_type": "stream",
     "text": [
      "<class 'pandas.core.frame.DataFrame'>\n",
      "RangeIndex: 7593 entries, 0 to 7592\n",
      "Columns: 19542 entries, 0 to 19541\n",
      "dtypes: float64(19542)\n",
      "memory usage: 1.1 GB\n"
     ]
    }
   ],
   "source": [
    "df_tfidf_only.info()"
   ]
  },
  {
   "cell_type": "code",
   "execution_count": 61,
   "metadata": {},
   "outputs": [
    {
     "data": {
      "text/html": [
       "<div>\n",
       "<style scoped>\n",
       "    .dataframe tbody tr th:only-of-type {\n",
       "        vertical-align: middle;\n",
       "    }\n",
       "\n",
       "    .dataframe tbody tr th {\n",
       "        vertical-align: top;\n",
       "    }\n",
       "\n",
       "    .dataframe thead th {\n",
       "        text-align: right;\n",
       "    }\n",
       "</style>\n",
       "<table border=\"1\" class=\"dataframe\">\n",
       "  <thead>\n",
       "    <tr style=\"text-align: right;\">\n",
       "      <th></th>\n",
       "      <th>0</th>\n",
       "      <th>1</th>\n",
       "      <th>2</th>\n",
       "      <th>3</th>\n",
       "      <th>4</th>\n",
       "      <th>5</th>\n",
       "      <th>6</th>\n",
       "      <th>7</th>\n",
       "      <th>8</th>\n",
       "      <th>9</th>\n",
       "      <th>...</th>\n",
       "      <th>19532</th>\n",
       "      <th>19533</th>\n",
       "      <th>19534</th>\n",
       "      <th>19535</th>\n",
       "      <th>19536</th>\n",
       "      <th>19537</th>\n",
       "      <th>19538</th>\n",
       "      <th>19539</th>\n",
       "      <th>19540</th>\n",
       "      <th>19541</th>\n",
       "    </tr>\n",
       "  </thead>\n",
       "  <tbody>\n",
       "    <tr>\n",
       "      <th>0</th>\n",
       "      <td>0.0</td>\n",
       "      <td>0.0</td>\n",
       "      <td>0.0</td>\n",
       "      <td>0.0</td>\n",
       "      <td>0.0</td>\n",
       "      <td>0.0</td>\n",
       "      <td>0.0</td>\n",
       "      <td>0.0</td>\n",
       "      <td>0.0</td>\n",
       "      <td>0.0</td>\n",
       "      <td>...</td>\n",
       "      <td>0.0</td>\n",
       "      <td>0.0</td>\n",
       "      <td>0.0</td>\n",
       "      <td>0.0</td>\n",
       "      <td>0.0</td>\n",
       "      <td>0.0</td>\n",
       "      <td>0.0</td>\n",
       "      <td>0.0</td>\n",
       "      <td>0.0</td>\n",
       "      <td>0.0</td>\n",
       "    </tr>\n",
       "    <tr>\n",
       "      <th>1</th>\n",
       "      <td>0.0</td>\n",
       "      <td>0.0</td>\n",
       "      <td>0.0</td>\n",
       "      <td>0.0</td>\n",
       "      <td>0.0</td>\n",
       "      <td>0.0</td>\n",
       "      <td>0.0</td>\n",
       "      <td>0.0</td>\n",
       "      <td>0.0</td>\n",
       "      <td>0.0</td>\n",
       "      <td>...</td>\n",
       "      <td>0.0</td>\n",
       "      <td>0.0</td>\n",
       "      <td>0.0</td>\n",
       "      <td>0.0</td>\n",
       "      <td>0.0</td>\n",
       "      <td>0.0</td>\n",
       "      <td>0.0</td>\n",
       "      <td>0.0</td>\n",
       "      <td>0.0</td>\n",
       "      <td>0.0</td>\n",
       "    </tr>\n",
       "    <tr>\n",
       "      <th>2</th>\n",
       "      <td>0.0</td>\n",
       "      <td>0.0</td>\n",
       "      <td>0.0</td>\n",
       "      <td>0.0</td>\n",
       "      <td>0.0</td>\n",
       "      <td>0.0</td>\n",
       "      <td>0.0</td>\n",
       "      <td>0.0</td>\n",
       "      <td>0.0</td>\n",
       "      <td>0.0</td>\n",
       "      <td>...</td>\n",
       "      <td>0.0</td>\n",
       "      <td>0.0</td>\n",
       "      <td>0.0</td>\n",
       "      <td>0.0</td>\n",
       "      <td>0.0</td>\n",
       "      <td>0.0</td>\n",
       "      <td>0.0</td>\n",
       "      <td>0.0</td>\n",
       "      <td>0.0</td>\n",
       "      <td>0.0</td>\n",
       "    </tr>\n",
       "    <tr>\n",
       "      <th>3</th>\n",
       "      <td>0.0</td>\n",
       "      <td>0.0</td>\n",
       "      <td>0.0</td>\n",
       "      <td>0.0</td>\n",
       "      <td>0.0</td>\n",
       "      <td>0.0</td>\n",
       "      <td>0.0</td>\n",
       "      <td>0.0</td>\n",
       "      <td>0.0</td>\n",
       "      <td>0.0</td>\n",
       "      <td>...</td>\n",
       "      <td>0.0</td>\n",
       "      <td>0.0</td>\n",
       "      <td>0.0</td>\n",
       "      <td>0.0</td>\n",
       "      <td>0.0</td>\n",
       "      <td>0.0</td>\n",
       "      <td>0.0</td>\n",
       "      <td>0.0</td>\n",
       "      <td>0.0</td>\n",
       "      <td>0.0</td>\n",
       "    </tr>\n",
       "    <tr>\n",
       "      <th>4</th>\n",
       "      <td>0.0</td>\n",
       "      <td>0.0</td>\n",
       "      <td>0.0</td>\n",
       "      <td>0.0</td>\n",
       "      <td>0.0</td>\n",
       "      <td>0.0</td>\n",
       "      <td>0.0</td>\n",
       "      <td>0.0</td>\n",
       "      <td>0.0</td>\n",
       "      <td>0.0</td>\n",
       "      <td>...</td>\n",
       "      <td>0.0</td>\n",
       "      <td>0.0</td>\n",
       "      <td>0.0</td>\n",
       "      <td>0.0</td>\n",
       "      <td>0.0</td>\n",
       "      <td>0.0</td>\n",
       "      <td>0.0</td>\n",
       "      <td>0.0</td>\n",
       "      <td>0.0</td>\n",
       "      <td>0.0</td>\n",
       "    </tr>\n",
       "  </tbody>\n",
       "</table>\n",
       "<p>5 rows × 19542 columns</p>\n",
       "</div>"
      ],
      "text/plain": [
       "   0      1      2      3      4      5      6      7      8      9      ...  \\\n",
       "0    0.0    0.0    0.0    0.0    0.0    0.0    0.0    0.0    0.0    0.0  ...   \n",
       "1    0.0    0.0    0.0    0.0    0.0    0.0    0.0    0.0    0.0    0.0  ...   \n",
       "2    0.0    0.0    0.0    0.0    0.0    0.0    0.0    0.0    0.0    0.0  ...   \n",
       "3    0.0    0.0    0.0    0.0    0.0    0.0    0.0    0.0    0.0    0.0  ...   \n",
       "4    0.0    0.0    0.0    0.0    0.0    0.0    0.0    0.0    0.0    0.0  ...   \n",
       "\n",
       "   19532  19533  19534  19535  19536  19537  19538  19539  19540  19541  \n",
       "0    0.0    0.0    0.0    0.0    0.0    0.0    0.0    0.0    0.0    0.0  \n",
       "1    0.0    0.0    0.0    0.0    0.0    0.0    0.0    0.0    0.0    0.0  \n",
       "2    0.0    0.0    0.0    0.0    0.0    0.0    0.0    0.0    0.0    0.0  \n",
       "3    0.0    0.0    0.0    0.0    0.0    0.0    0.0    0.0    0.0    0.0  \n",
       "4    0.0    0.0    0.0    0.0    0.0    0.0    0.0    0.0    0.0    0.0  \n",
       "\n",
       "[5 rows x 19542 columns]"
      ]
     },
     "execution_count": 61,
     "metadata": {},
     "output_type": "execute_result"
    }
   ],
   "source": [
    "df_tfidf_only.head()"
   ]
  },
  {
   "cell_type": "code",
   "execution_count": 63,
   "metadata": {},
   "outputs": [
    {
     "data": {
      "text/plain": [
       "Index(['0', '1', '2', '3', '4', '5', '6', '7', '8', '9',\n",
       "       ...\n",
       "       '19532', '19533', '19534', '19535', '19536', '19537', '19538', '19539',\n",
       "       '19540', '19541'],\n",
       "      dtype='object', length=19542)"
      ]
     },
     "execution_count": 63,
     "metadata": {},
     "output_type": "execute_result"
    }
   ],
   "source": [
    "df_tfidf_only.columns = df_tfidf_only.columns.astype(str)\n",
    "df_tfidf_only.columns"
   ]
  },
  {
   "cell_type": "markdown",
   "metadata": {},
   "source": [
    "### Train Test Split"
   ]
  },
  {
   "cell_type": "code",
   "execution_count": 64,
   "metadata": {},
   "outputs": [],
   "source": [
    "from sklearn.model_selection import train_test_split"
   ]
  },
  {
   "cell_type": "code",
   "execution_count": 65,
   "metadata": {},
   "outputs": [],
   "source": [
    "# drop all columns except 'association coefficient' and those related to sentiment analysis\n",
    "X = df_tfidf_only\n",
    "y = df_train['target']"
   ]
  },
  {
   "cell_type": "code",
   "execution_count": 66,
   "metadata": {},
   "outputs": [],
   "source": [
    "X_train, X_test, y_train, y_test = train_test_split(X, y, test_size=0.33)"
   ]
  },
  {
   "cell_type": "code",
   "execution_count": 67,
   "metadata": {},
   "outputs": [
    {
     "data": {
      "text/html": [
       "<div>\n",
       "<style scoped>\n",
       "    .dataframe tbody tr th:only-of-type {\n",
       "        vertical-align: middle;\n",
       "    }\n",
       "\n",
       "    .dataframe tbody tr th {\n",
       "        vertical-align: top;\n",
       "    }\n",
       "\n",
       "    .dataframe thead th {\n",
       "        text-align: right;\n",
       "    }\n",
       "</style>\n",
       "<table border=\"1\" class=\"dataframe\">\n",
       "  <thead>\n",
       "    <tr style=\"text-align: right;\">\n",
       "      <th></th>\n",
       "      <th>0</th>\n",
       "      <th>1</th>\n",
       "      <th>2</th>\n",
       "      <th>3</th>\n",
       "      <th>4</th>\n",
       "      <th>5</th>\n",
       "      <th>6</th>\n",
       "      <th>7</th>\n",
       "      <th>8</th>\n",
       "      <th>9</th>\n",
       "      <th>...</th>\n",
       "      <th>19532</th>\n",
       "      <th>19533</th>\n",
       "      <th>19534</th>\n",
       "      <th>19535</th>\n",
       "      <th>19536</th>\n",
       "      <th>19537</th>\n",
       "      <th>19538</th>\n",
       "      <th>19539</th>\n",
       "      <th>19540</th>\n",
       "      <th>19541</th>\n",
       "    </tr>\n",
       "  </thead>\n",
       "  <tbody>\n",
       "    <tr>\n",
       "      <th>2662</th>\n",
       "      <td>0.0</td>\n",
       "      <td>0.0</td>\n",
       "      <td>0.0</td>\n",
       "      <td>0.0</td>\n",
       "      <td>0.0</td>\n",
       "      <td>0.0</td>\n",
       "      <td>0.0</td>\n",
       "      <td>0.0</td>\n",
       "      <td>0.0</td>\n",
       "      <td>0.0</td>\n",
       "      <td>...</td>\n",
       "      <td>0.0</td>\n",
       "      <td>0.0</td>\n",
       "      <td>0.0</td>\n",
       "      <td>0.0</td>\n",
       "      <td>0.0</td>\n",
       "      <td>0.0</td>\n",
       "      <td>0.0</td>\n",
       "      <td>0.0</td>\n",
       "      <td>0.0</td>\n",
       "      <td>0.0</td>\n",
       "    </tr>\n",
       "    <tr>\n",
       "      <th>930</th>\n",
       "      <td>0.0</td>\n",
       "      <td>0.0</td>\n",
       "      <td>0.0</td>\n",
       "      <td>0.0</td>\n",
       "      <td>0.0</td>\n",
       "      <td>0.0</td>\n",
       "      <td>0.0</td>\n",
       "      <td>0.0</td>\n",
       "      <td>0.0</td>\n",
       "      <td>0.0</td>\n",
       "      <td>...</td>\n",
       "      <td>0.0</td>\n",
       "      <td>0.0</td>\n",
       "      <td>0.0</td>\n",
       "      <td>0.0</td>\n",
       "      <td>0.0</td>\n",
       "      <td>0.0</td>\n",
       "      <td>0.0</td>\n",
       "      <td>0.0</td>\n",
       "      <td>0.0</td>\n",
       "      <td>0.0</td>\n",
       "    </tr>\n",
       "    <tr>\n",
       "      <th>2690</th>\n",
       "      <td>0.0</td>\n",
       "      <td>0.0</td>\n",
       "      <td>0.0</td>\n",
       "      <td>0.0</td>\n",
       "      <td>0.0</td>\n",
       "      <td>0.0</td>\n",
       "      <td>0.0</td>\n",
       "      <td>0.0</td>\n",
       "      <td>0.0</td>\n",
       "      <td>0.0</td>\n",
       "      <td>...</td>\n",
       "      <td>0.0</td>\n",
       "      <td>0.0</td>\n",
       "      <td>0.0</td>\n",
       "      <td>0.0</td>\n",
       "      <td>0.0</td>\n",
       "      <td>0.0</td>\n",
       "      <td>0.0</td>\n",
       "      <td>0.0</td>\n",
       "      <td>0.0</td>\n",
       "      <td>0.0</td>\n",
       "    </tr>\n",
       "    <tr>\n",
       "      <th>3522</th>\n",
       "      <td>0.0</td>\n",
       "      <td>0.0</td>\n",
       "      <td>0.0</td>\n",
       "      <td>0.0</td>\n",
       "      <td>0.0</td>\n",
       "      <td>0.0</td>\n",
       "      <td>0.0</td>\n",
       "      <td>0.0</td>\n",
       "      <td>0.0</td>\n",
       "      <td>0.0</td>\n",
       "      <td>...</td>\n",
       "      <td>0.0</td>\n",
       "      <td>0.0</td>\n",
       "      <td>0.0</td>\n",
       "      <td>0.0</td>\n",
       "      <td>0.0</td>\n",
       "      <td>0.0</td>\n",
       "      <td>0.0</td>\n",
       "      <td>0.0</td>\n",
       "      <td>0.0</td>\n",
       "      <td>0.0</td>\n",
       "    </tr>\n",
       "    <tr>\n",
       "      <th>3647</th>\n",
       "      <td>0.0</td>\n",
       "      <td>0.0</td>\n",
       "      <td>0.0</td>\n",
       "      <td>0.0</td>\n",
       "      <td>0.0</td>\n",
       "      <td>0.0</td>\n",
       "      <td>0.0</td>\n",
       "      <td>0.0</td>\n",
       "      <td>0.0</td>\n",
       "      <td>0.0</td>\n",
       "      <td>...</td>\n",
       "      <td>0.0</td>\n",
       "      <td>0.0</td>\n",
       "      <td>0.0</td>\n",
       "      <td>0.0</td>\n",
       "      <td>0.0</td>\n",
       "      <td>0.0</td>\n",
       "      <td>0.0</td>\n",
       "      <td>0.0</td>\n",
       "      <td>0.0</td>\n",
       "      <td>0.0</td>\n",
       "    </tr>\n",
       "  </tbody>\n",
       "</table>\n",
       "<p>5 rows × 19542 columns</p>\n",
       "</div>"
      ],
      "text/plain": [
       "        0    1    2    3    4    5    6    7    8    9  ...  19532  19533  \\\n",
       "2662  0.0  0.0  0.0  0.0  0.0  0.0  0.0  0.0  0.0  0.0  ...    0.0    0.0   \n",
       "930   0.0  0.0  0.0  0.0  0.0  0.0  0.0  0.0  0.0  0.0  ...    0.0    0.0   \n",
       "2690  0.0  0.0  0.0  0.0  0.0  0.0  0.0  0.0  0.0  0.0  ...    0.0    0.0   \n",
       "3522  0.0  0.0  0.0  0.0  0.0  0.0  0.0  0.0  0.0  0.0  ...    0.0    0.0   \n",
       "3647  0.0  0.0  0.0  0.0  0.0  0.0  0.0  0.0  0.0  0.0  ...    0.0    0.0   \n",
       "\n",
       "      19534  19535  19536  19537  19538  19539  19540  19541  \n",
       "2662    0.0    0.0    0.0    0.0    0.0    0.0    0.0    0.0  \n",
       "930     0.0    0.0    0.0    0.0    0.0    0.0    0.0    0.0  \n",
       "2690    0.0    0.0    0.0    0.0    0.0    0.0    0.0    0.0  \n",
       "3522    0.0    0.0    0.0    0.0    0.0    0.0    0.0    0.0  \n",
       "3647    0.0    0.0    0.0    0.0    0.0    0.0    0.0    0.0  \n",
       "\n",
       "[5 rows x 19542 columns]"
      ]
     },
     "execution_count": 67,
     "metadata": {},
     "output_type": "execute_result"
    }
   ],
   "source": [
    "X_train.head()"
   ]
  },
  {
   "cell_type": "code",
   "execution_count": 68,
   "metadata": {},
   "outputs": [
    {
     "name": "stdout",
     "output_type": "stream",
     "text": [
      "<class 'pandas.core.frame.DataFrame'>\n",
      "Int64Index: 5087 entries, 2662 to 944\n",
      "Columns: 19542 entries, 0 to 19541\n",
      "dtypes: float64(19542)\n",
      "memory usage: 758.5 MB\n"
     ]
    }
   ],
   "source": [
    "X_train.info()"
   ]
  },
  {
   "cell_type": "markdown",
   "metadata": {},
   "source": [
    "### Model Selection\n",
    "As the data has a lot of dimensions now, using certain type of parametric models ca be quite expensive. In addition, since the data is so sparse in most dimensions, euclidean distance may not be the best metric to calculate similarity between two datapoints. Therefore, we will use cosine similarity as the metric."
   ]
  },
  {
   "cell_type": "code",
   "execution_count": 69,
   "metadata": {},
   "outputs": [],
   "source": [
    "from sklearn.model_selection import GridSearchCV\n",
    "from sklearn.metrics import classification_report, confusion_matrix"
   ]
  },
  {
   "cell_type": "markdown",
   "metadata": {},
   "source": [
    "### 1) KNN"
   ]
  },
  {
   "cell_type": "code",
   "execution_count": 70,
   "metadata": {},
   "outputs": [],
   "source": [
    "from sklearn.neighbors import KNeighborsClassifier"
   ]
  },
  {
   "cell_type": "code",
   "execution_count": 71,
   "metadata": {},
   "outputs": [],
   "source": [
    "knn_model = KNeighborsClassifier(metric = 'cosine')"
   ]
  },
  {
   "cell_type": "code",
   "execution_count": 72,
   "metadata": {},
   "outputs": [],
   "source": [
    "# using grid search CV for cross validation\n",
    "from sklearn.model_selection import GridSearchCV\n",
    "\n",
    "# since out matrix is sparse we need to use larger k\n",
    "random_grid = {\n",
    "    'n_neighbors': [50, 70, 100, 120, 150, 200, 250, 300, 350, 400, 450, 500]\n",
    "}"
   ]
  },
  {
   "cell_type": "code",
   "execution_count": 73,
   "metadata": {},
   "outputs": [
    {
     "name": "stdout",
     "output_type": "stream",
     "text": [
      "Fitting 10 folds for each of 12 candidates, totalling 120 fits\n",
      "[CV] END .....................................n_neighbors=50; total time=  16.6s\n",
      "[CV] END .....................................n_neighbors=50; total time=  10.4s\n",
      "[CV] END .....................................n_neighbors=50; total time=  11.4s\n",
      "[CV] END .....................................n_neighbors=50; total time=  10.2s\n",
      "[CV] END .....................................n_neighbors=50; total time=  10.0s\n",
      "[CV] END .....................................n_neighbors=50; total time=   8.8s\n",
      "[CV] END .....................................n_neighbors=50; total time=   9.2s\n",
      "[CV] END .....................................n_neighbors=50; total time=   9.6s\n",
      "[CV] END .....................................n_neighbors=50; total time=   9.7s\n",
      "[CV] END .....................................n_neighbors=50; total time=   9.2s\n",
      "[CV] END .....................................n_neighbors=70; total time=   8.7s\n",
      "[CV] END .....................................n_neighbors=70; total time=   8.3s\n",
      "[CV] END .....................................n_neighbors=70; total time=  10.2s\n",
      "[CV] END .....................................n_neighbors=70; total time=   9.7s\n",
      "[CV] END .....................................n_neighbors=70; total time=   9.0s\n",
      "[CV] END .....................................n_neighbors=70; total time=   9.4s\n",
      "[CV] END .....................................n_neighbors=70; total time=   9.3s\n",
      "[CV] END .....................................n_neighbors=70; total time=   8.9s\n",
      "[CV] END .....................................n_neighbors=70; total time=   9.6s\n",
      "[CV] END .....................................n_neighbors=70; total time=   9.0s\n",
      "[CV] END ....................................n_neighbors=100; total time=   8.7s\n",
      "[CV] END ....................................n_neighbors=100; total time=   9.7s\n",
      "[CV] END ....................................n_neighbors=100; total time=   9.7s\n",
      "[CV] END ....................................n_neighbors=100; total time=  10.6s\n",
      "[CV] END ....................................n_neighbors=100; total time=   9.7s\n",
      "[CV] END ....................................n_neighbors=100; total time=  10.2s\n",
      "[CV] END ....................................n_neighbors=100; total time=   9.9s\n",
      "[CV] END ....................................n_neighbors=100; total time=   9.9s\n",
      "[CV] END ....................................n_neighbors=100; total time=  10.1s\n",
      "[CV] END ....................................n_neighbors=100; total time=  10.0s\n",
      "[CV] END ....................................n_neighbors=120; total time=   9.8s\n",
      "[CV] END ....................................n_neighbors=120; total time=   9.3s\n",
      "[CV] END ....................................n_neighbors=120; total time=   9.4s\n",
      "[CV] END ....................................n_neighbors=120; total time=   9.9s\n",
      "[CV] END ....................................n_neighbors=120; total time=   9.8s\n",
      "[CV] END ....................................n_neighbors=120; total time=   9.9s\n",
      "[CV] END ....................................n_neighbors=120; total time=   9.9s\n",
      "[CV] END ....................................n_neighbors=120; total time=   9.9s\n",
      "[CV] END ....................................n_neighbors=120; total time=   9.6s\n",
      "[CV] END ....................................n_neighbors=120; total time=   9.9s\n",
      "[CV] END ....................................n_neighbors=150; total time=   7.6s\n",
      "[CV] END ....................................n_neighbors=150; total time=   8.4s\n",
      "[CV] END ....................................n_neighbors=150; total time=  10.0s\n",
      "[CV] END ....................................n_neighbors=150; total time=   9.7s\n",
      "[CV] END ....................................n_neighbors=150; total time=   9.7s\n",
      "[CV] END ....................................n_neighbors=150; total time=   9.4s\n",
      "[CV] END ....................................n_neighbors=150; total time=   9.7s\n",
      "[CV] END ....................................n_neighbors=150; total time=   9.7s\n",
      "[CV] END ....................................n_neighbors=150; total time=   9.7s\n",
      "[CV] END ....................................n_neighbors=150; total time=   9.8s\n",
      "[CV] END ....................................n_neighbors=200; total time=   9.9s\n",
      "[CV] END ....................................n_neighbors=200; total time=   9.7s\n",
      "[CV] END ....................................n_neighbors=200; total time=  10.1s\n",
      "[CV] END ....................................n_neighbors=200; total time=  10.0s\n",
      "[CV] END ....................................n_neighbors=200; total time=  10.2s\n",
      "[CV] END ....................................n_neighbors=200; total time=  10.5s\n",
      "[CV] END ....................................n_neighbors=200; total time=   9.7s\n",
      "[CV] END ....................................n_neighbors=200; total time=   9.4s\n",
      "[CV] END ....................................n_neighbors=200; total time=   9.2s\n",
      "[CV] END ....................................n_neighbors=200; total time=   9.7s\n",
      "[CV] END ....................................n_neighbors=250; total time=   9.8s\n",
      "[CV] END ....................................n_neighbors=250; total time=   9.7s\n",
      "[CV] END ....................................n_neighbors=250; total time=   9.8s\n",
      "[CV] END ....................................n_neighbors=250; total time=   9.9s\n",
      "[CV] END ....................................n_neighbors=250; total time=  10.1s\n",
      "[CV] END ....................................n_neighbors=250; total time=   9.6s\n",
      "[CV] END ....................................n_neighbors=250; total time=   9.2s\n",
      "[CV] END ....................................n_neighbors=250; total time=   8.7s\n",
      "[CV] END ....................................n_neighbors=250; total time=   9.1s\n",
      "[CV] END ....................................n_neighbors=250; total time=   9.8s\n",
      "[CV] END ....................................n_neighbors=300; total time=  10.4s\n",
      "[CV] END ....................................n_neighbors=300; total time=   9.9s\n",
      "[CV] END ....................................n_neighbors=300; total time=   9.8s\n",
      "[CV] END ....................................n_neighbors=300; total time=   9.8s\n",
      "[CV] END ....................................n_neighbors=300; total time=  10.9s\n",
      "[CV] END ....................................n_neighbors=300; total time=  10.1s\n",
      "[CV] END ....................................n_neighbors=300; total time=  11.0s\n",
      "[CV] END ....................................n_neighbors=300; total time=  11.3s\n",
      "[CV] END ....................................n_neighbors=300; total time=  11.4s\n",
      "[CV] END ....................................n_neighbors=300; total time=  10.8s\n",
      "[CV] END ....................................n_neighbors=350; total time=  10.9s\n",
      "[CV] END ....................................n_neighbors=350; total time=  11.3s\n",
      "[CV] END ....................................n_neighbors=350; total time=  11.7s\n",
      "[CV] END ....................................n_neighbors=350; total time=  11.4s\n",
      "[CV] END ....................................n_neighbors=350; total time=  11.4s\n",
      "[CV] END ....................................n_neighbors=350; total time=  11.1s\n",
      "[CV] END ....................................n_neighbors=350; total time=  11.5s\n",
      "[CV] END ....................................n_neighbors=350; total time=  11.4s\n",
      "[CV] END ....................................n_neighbors=350; total time=  10.6s\n",
      "[CV] END ....................................n_neighbors=350; total time=  11.5s\n",
      "[CV] END ....................................n_neighbors=400; total time=  11.5s\n",
      "[CV] END ....................................n_neighbors=400; total time=  11.4s\n",
      "[CV] END ....................................n_neighbors=400; total time=  11.4s\n",
      "[CV] END ....................................n_neighbors=400; total time=  11.4s\n",
      "[CV] END ....................................n_neighbors=400; total time=  10.9s\n",
      "[CV] END ....................................n_neighbors=400; total time=  10.2s\n",
      "[CV] END ....................................n_neighbors=400; total time=  11.1s\n",
      "[CV] END ....................................n_neighbors=400; total time=  11.5s\n",
      "[CV] END ....................................n_neighbors=400; total time=  11.6s\n",
      "[CV] END ....................................n_neighbors=400; total time=  12.7s\n",
      "[CV] END ....................................n_neighbors=450; total time=   9.8s\n"
     ]
    },
    {
     "name": "stdout",
     "output_type": "stream",
     "text": [
      "[CV] END ....................................n_neighbors=450; total time=   9.6s\n",
      "[CV] END ....................................n_neighbors=450; total time=   9.9s\n",
      "[CV] END ....................................n_neighbors=450; total time=   8.9s\n",
      "[CV] END ....................................n_neighbors=450; total time=   9.4s\n",
      "[CV] END ....................................n_neighbors=450; total time=   9.8s\n",
      "[CV] END ....................................n_neighbors=450; total time=   9.7s\n",
      "[CV] END ....................................n_neighbors=450; total time=   9.8s\n",
      "[CV] END ....................................n_neighbors=450; total time=   9.6s\n",
      "[CV] END ....................................n_neighbors=450; total time=   9.6s\n",
      "[CV] END ....................................n_neighbors=500; total time=   9.7s\n",
      "[CV] END ....................................n_neighbors=500; total time=   9.7s\n",
      "[CV] END ....................................n_neighbors=500; total time=   9.8s\n",
      "[CV] END ....................................n_neighbors=500; total time=   9.7s\n",
      "[CV] END ....................................n_neighbors=500; total time=   9.6s\n",
      "[CV] END ....................................n_neighbors=500; total time=   9.5s\n",
      "[CV] END ....................................n_neighbors=500; total time=   9.6s\n",
      "[CV] END ....................................n_neighbors=500; total time=   9.6s\n",
      "[CV] END ....................................n_neighbors=500; total time=   9.7s\n",
      "[CV] END ....................................n_neighbors=500; total time=   9.7s\n"
     ]
    },
    {
     "data": {
      "text/html": [
       "<style>#sk-container-id-5 {color: black;background-color: white;}#sk-container-id-5 pre{padding: 0;}#sk-container-id-5 div.sk-toggleable {background-color: white;}#sk-container-id-5 label.sk-toggleable__label {cursor: pointer;display: block;width: 100%;margin-bottom: 0;padding: 0.3em;box-sizing: border-box;text-align: center;}#sk-container-id-5 label.sk-toggleable__label-arrow:before {content: \"▸\";float: left;margin-right: 0.25em;color: #696969;}#sk-container-id-5 label.sk-toggleable__label-arrow:hover:before {color: black;}#sk-container-id-5 div.sk-estimator:hover label.sk-toggleable__label-arrow:before {color: black;}#sk-container-id-5 div.sk-toggleable__content {max-height: 0;max-width: 0;overflow: hidden;text-align: left;background-color: #f0f8ff;}#sk-container-id-5 div.sk-toggleable__content pre {margin: 0.2em;color: black;border-radius: 0.25em;background-color: #f0f8ff;}#sk-container-id-5 input.sk-toggleable__control:checked~div.sk-toggleable__content {max-height: 200px;max-width: 100%;overflow: auto;}#sk-container-id-5 input.sk-toggleable__control:checked~label.sk-toggleable__label-arrow:before {content: \"▾\";}#sk-container-id-5 div.sk-estimator input.sk-toggleable__control:checked~label.sk-toggleable__label {background-color: #d4ebff;}#sk-container-id-5 div.sk-label input.sk-toggleable__control:checked~label.sk-toggleable__label {background-color: #d4ebff;}#sk-container-id-5 input.sk-hidden--visually {border: 0;clip: rect(1px 1px 1px 1px);clip: rect(1px, 1px, 1px, 1px);height: 1px;margin: -1px;overflow: hidden;padding: 0;position: absolute;width: 1px;}#sk-container-id-5 div.sk-estimator {font-family: monospace;background-color: #f0f8ff;border: 1px dotted black;border-radius: 0.25em;box-sizing: border-box;margin-bottom: 0.5em;}#sk-container-id-5 div.sk-estimator:hover {background-color: #d4ebff;}#sk-container-id-5 div.sk-parallel-item::after {content: \"\";width: 100%;border-bottom: 1px solid gray;flex-grow: 1;}#sk-container-id-5 div.sk-label:hover label.sk-toggleable__label {background-color: #d4ebff;}#sk-container-id-5 div.sk-serial::before {content: \"\";position: absolute;border-left: 1px solid gray;box-sizing: border-box;top: 0;bottom: 0;left: 50%;z-index: 0;}#sk-container-id-5 div.sk-serial {display: flex;flex-direction: column;align-items: center;background-color: white;padding-right: 0.2em;padding-left: 0.2em;position: relative;}#sk-container-id-5 div.sk-item {position: relative;z-index: 1;}#sk-container-id-5 div.sk-parallel {display: flex;align-items: stretch;justify-content: center;background-color: white;position: relative;}#sk-container-id-5 div.sk-item::before, #sk-container-id-5 div.sk-parallel-item::before {content: \"\";position: absolute;border-left: 1px solid gray;box-sizing: border-box;top: 0;bottom: 0;left: 50%;z-index: -1;}#sk-container-id-5 div.sk-parallel-item {display: flex;flex-direction: column;z-index: 1;position: relative;background-color: white;}#sk-container-id-5 div.sk-parallel-item:first-child::after {align-self: flex-end;width: 50%;}#sk-container-id-5 div.sk-parallel-item:last-child::after {align-self: flex-start;width: 50%;}#sk-container-id-5 div.sk-parallel-item:only-child::after {width: 0;}#sk-container-id-5 div.sk-dashed-wrapped {border: 1px dashed gray;margin: 0 0.4em 0.5em 0.4em;box-sizing: border-box;padding-bottom: 0.4em;background-color: white;}#sk-container-id-5 div.sk-label label {font-family: monospace;font-weight: bold;display: inline-block;line-height: 1.2em;}#sk-container-id-5 div.sk-label-container {text-align: center;}#sk-container-id-5 div.sk-container {/* jupyter's `normalize.less` sets `[hidden] { display: none; }` but bootstrap.min.css set `[hidden] { display: none !important; }` so we also need the `!important` here to be able to override the default hidden behavior on the sphinx rendered scikit-learn.org. See: https://github.com/scikit-learn/scikit-learn/issues/21755 */display: inline-block !important;position: relative;}#sk-container-id-5 div.sk-text-repr-fallback {display: none;}</style><div id=\"sk-container-id-5\" class=\"sk-top-container\"><div class=\"sk-text-repr-fallback\"><pre>GridSearchCV(cv=10, estimator=KNeighborsClassifier(metric=&#x27;cosine&#x27;),\n",
       "             param_grid={&#x27;n_neighbors&#x27;: [50, 70, 100, 120, 150, 200, 250, 300,\n",
       "                                         350, 400, 450, 500]},\n",
       "             verbose=2)</pre><b>In a Jupyter environment, please rerun this cell to show the HTML representation or trust the notebook. <br />On GitHub, the HTML representation is unable to render, please try loading this page with nbviewer.org.</b></div><div class=\"sk-container\" hidden><div class=\"sk-item sk-dashed-wrapped\"><div class=\"sk-label-container\"><div class=\"sk-label sk-toggleable\"><input class=\"sk-toggleable__control sk-hidden--visually\" id=\"sk-estimator-id-9\" type=\"checkbox\" ><label for=\"sk-estimator-id-9\" class=\"sk-toggleable__label sk-toggleable__label-arrow\">GridSearchCV</label><div class=\"sk-toggleable__content\"><pre>GridSearchCV(cv=10, estimator=KNeighborsClassifier(metric=&#x27;cosine&#x27;),\n",
       "             param_grid={&#x27;n_neighbors&#x27;: [50, 70, 100, 120, 150, 200, 250, 300,\n",
       "                                         350, 400, 450, 500]},\n",
       "             verbose=2)</pre></div></div></div><div class=\"sk-parallel\"><div class=\"sk-parallel-item\"><div class=\"sk-item\"><div class=\"sk-label-container\"><div class=\"sk-label sk-toggleable\"><input class=\"sk-toggleable__control sk-hidden--visually\" id=\"sk-estimator-id-10\" type=\"checkbox\" ><label for=\"sk-estimator-id-10\" class=\"sk-toggleable__label sk-toggleable__label-arrow\">estimator: KNeighborsClassifier</label><div class=\"sk-toggleable__content\"><pre>KNeighborsClassifier(metric=&#x27;cosine&#x27;)</pre></div></div></div><div class=\"sk-serial\"><div class=\"sk-item\"><div class=\"sk-estimator sk-toggleable\"><input class=\"sk-toggleable__control sk-hidden--visually\" id=\"sk-estimator-id-11\" type=\"checkbox\" ><label for=\"sk-estimator-id-11\" class=\"sk-toggleable__label sk-toggleable__label-arrow\">KNeighborsClassifier</label><div class=\"sk-toggleable__content\"><pre>KNeighborsClassifier(metric=&#x27;cosine&#x27;)</pre></div></div></div></div></div></div></div></div></div></div>"
      ],
      "text/plain": [
       "GridSearchCV(cv=10, estimator=KNeighborsClassifier(metric='cosine'),\n",
       "             param_grid={'n_neighbors': [50, 70, 100, 120, 150, 200, 250, 300,\n",
       "                                         350, 400, 450, 500]},\n",
       "             verbose=2)"
      ]
     },
     "execution_count": 73,
     "metadata": {},
     "output_type": "execute_result"
    }
   ],
   "source": [
    "knn_cv = GridSearchCV(estimator = knn_model, param_grid = random_grid,\n",
    "                               cv = 10, verbose = 2)\n",
    "knn_cv.fit(X_train, y_train)"
   ]
  },
  {
   "cell_type": "code",
   "execution_count": 74,
   "metadata": {},
   "outputs": [
    {
     "data": {
      "text/plain": [
       "{'n_neighbors': 70}"
      ]
     },
     "execution_count": 74,
     "metadata": {},
     "output_type": "execute_result"
    }
   ],
   "source": [
    "# save best parameters\n",
    "params = knn_cv.best_params_\n",
    "params"
   ]
  },
  {
   "cell_type": "code",
   "execution_count": 75,
   "metadata": {},
   "outputs": [],
   "source": [
    "params['metric'] = 'cosine'"
   ]
  },
  {
   "cell_type": "code",
   "execution_count": 76,
   "metadata": {},
   "outputs": [
    {
     "data": {
      "text/html": [
       "<style>#sk-container-id-6 {color: black;background-color: white;}#sk-container-id-6 pre{padding: 0;}#sk-container-id-6 div.sk-toggleable {background-color: white;}#sk-container-id-6 label.sk-toggleable__label {cursor: pointer;display: block;width: 100%;margin-bottom: 0;padding: 0.3em;box-sizing: border-box;text-align: center;}#sk-container-id-6 label.sk-toggleable__label-arrow:before {content: \"▸\";float: left;margin-right: 0.25em;color: #696969;}#sk-container-id-6 label.sk-toggleable__label-arrow:hover:before {color: black;}#sk-container-id-6 div.sk-estimator:hover label.sk-toggleable__label-arrow:before {color: black;}#sk-container-id-6 div.sk-toggleable__content {max-height: 0;max-width: 0;overflow: hidden;text-align: left;background-color: #f0f8ff;}#sk-container-id-6 div.sk-toggleable__content pre {margin: 0.2em;color: black;border-radius: 0.25em;background-color: #f0f8ff;}#sk-container-id-6 input.sk-toggleable__control:checked~div.sk-toggleable__content {max-height: 200px;max-width: 100%;overflow: auto;}#sk-container-id-6 input.sk-toggleable__control:checked~label.sk-toggleable__label-arrow:before {content: \"▾\";}#sk-container-id-6 div.sk-estimator input.sk-toggleable__control:checked~label.sk-toggleable__label {background-color: #d4ebff;}#sk-container-id-6 div.sk-label input.sk-toggleable__control:checked~label.sk-toggleable__label {background-color: #d4ebff;}#sk-container-id-6 input.sk-hidden--visually {border: 0;clip: rect(1px 1px 1px 1px);clip: rect(1px, 1px, 1px, 1px);height: 1px;margin: -1px;overflow: hidden;padding: 0;position: absolute;width: 1px;}#sk-container-id-6 div.sk-estimator {font-family: monospace;background-color: #f0f8ff;border: 1px dotted black;border-radius: 0.25em;box-sizing: border-box;margin-bottom: 0.5em;}#sk-container-id-6 div.sk-estimator:hover {background-color: #d4ebff;}#sk-container-id-6 div.sk-parallel-item::after {content: \"\";width: 100%;border-bottom: 1px solid gray;flex-grow: 1;}#sk-container-id-6 div.sk-label:hover label.sk-toggleable__label {background-color: #d4ebff;}#sk-container-id-6 div.sk-serial::before {content: \"\";position: absolute;border-left: 1px solid gray;box-sizing: border-box;top: 0;bottom: 0;left: 50%;z-index: 0;}#sk-container-id-6 div.sk-serial {display: flex;flex-direction: column;align-items: center;background-color: white;padding-right: 0.2em;padding-left: 0.2em;position: relative;}#sk-container-id-6 div.sk-item {position: relative;z-index: 1;}#sk-container-id-6 div.sk-parallel {display: flex;align-items: stretch;justify-content: center;background-color: white;position: relative;}#sk-container-id-6 div.sk-item::before, #sk-container-id-6 div.sk-parallel-item::before {content: \"\";position: absolute;border-left: 1px solid gray;box-sizing: border-box;top: 0;bottom: 0;left: 50%;z-index: -1;}#sk-container-id-6 div.sk-parallel-item {display: flex;flex-direction: column;z-index: 1;position: relative;background-color: white;}#sk-container-id-6 div.sk-parallel-item:first-child::after {align-self: flex-end;width: 50%;}#sk-container-id-6 div.sk-parallel-item:last-child::after {align-self: flex-start;width: 50%;}#sk-container-id-6 div.sk-parallel-item:only-child::after {width: 0;}#sk-container-id-6 div.sk-dashed-wrapped {border: 1px dashed gray;margin: 0 0.4em 0.5em 0.4em;box-sizing: border-box;padding-bottom: 0.4em;background-color: white;}#sk-container-id-6 div.sk-label label {font-family: monospace;font-weight: bold;display: inline-block;line-height: 1.2em;}#sk-container-id-6 div.sk-label-container {text-align: center;}#sk-container-id-6 div.sk-container {/* jupyter's `normalize.less` sets `[hidden] { display: none; }` but bootstrap.min.css set `[hidden] { display: none !important; }` so we also need the `!important` here to be able to override the default hidden behavior on the sphinx rendered scikit-learn.org. See: https://github.com/scikit-learn/scikit-learn/issues/21755 */display: inline-block !important;position: relative;}#sk-container-id-6 div.sk-text-repr-fallback {display: none;}</style><div id=\"sk-container-id-6\" class=\"sk-top-container\"><div class=\"sk-text-repr-fallback\"><pre>KNeighborsClassifier(metric=&#x27;cosine&#x27;, n_neighbors=70)</pre><b>In a Jupyter environment, please rerun this cell to show the HTML representation or trust the notebook. <br />On GitHub, the HTML representation is unable to render, please try loading this page with nbviewer.org.</b></div><div class=\"sk-container\" hidden><div class=\"sk-item\"><div class=\"sk-estimator sk-toggleable\"><input class=\"sk-toggleable__control sk-hidden--visually\" id=\"sk-estimator-id-12\" type=\"checkbox\" checked><label for=\"sk-estimator-id-12\" class=\"sk-toggleable__label sk-toggleable__label-arrow\">KNeighborsClassifier</label><div class=\"sk-toggleable__content\"><pre>KNeighborsClassifier(metric=&#x27;cosine&#x27;, n_neighbors=70)</pre></div></div></div></div></div>"
      ],
      "text/plain": [
       "KNeighborsClassifier(metric='cosine', n_neighbors=70)"
      ]
     },
     "execution_count": 76,
     "metadata": {},
     "output_type": "execute_result"
    }
   ],
   "source": [
    "knn_final = KNeighborsClassifier(**params)\n",
    "knn_final.fit(X_train, y_train)"
   ]
  },
  {
   "cell_type": "code",
   "execution_count": 77,
   "metadata": {},
   "outputs": [],
   "source": [
    "# get predictions\n",
    "y_pred = knn_final.predict(X_test)"
   ]
  },
  {
   "cell_type": "code",
   "execution_count": 78,
   "metadata": {},
   "outputs": [
    {
     "name": "stdout",
     "output_type": "stream",
     "text": [
      "[[1262  162]\n",
      " [ 421  661]]\n",
      "              precision    recall  f1-score   support\n",
      "\n",
      "           0       0.75      0.89      0.81      1424\n",
      "           1       0.80      0.61      0.69      1082\n",
      "\n",
      "    accuracy                           0.77      2506\n",
      "   macro avg       0.78      0.75      0.75      2506\n",
      "weighted avg       0.77      0.77      0.76      2506\n",
      "\n"
     ]
    }
   ],
   "source": [
    "print(confusion_matrix(y_test, y_pred))\n",
    "print(classification_report(y_test, y_pred))"
   ]
  },
  {
   "cell_type": "markdown",
   "metadata": {},
   "source": [
    "### 2) SVM"
   ]
  },
  {
   "cell_type": "code",
   "execution_count": 79,
   "metadata": {},
   "outputs": [],
   "source": [
    "from sklearn.svm import SVC\n",
    "from sklearn.metrics.pairwise import cosine_similarity"
   ]
  },
  {
   "cell_type": "code",
   "execution_count": 80,
   "metadata": {},
   "outputs": [],
   "source": [
    "svc_model = SVC(kernel = cosine_similarity)"
   ]
  },
  {
   "cell_type": "code",
   "execution_count": 81,
   "metadata": {},
   "outputs": [],
   "source": [
    "C_list = (np.linspace(0.01, 10, 25)).tolist()\n",
    "\n",
    "random_grid = {\n",
    "    'C': C_list,\n",
    "    'gamma': ['scale', 'auto']\n",
    "}"
   ]
  },
  {
   "cell_type": "code",
   "execution_count": null,
   "metadata": {},
   "outputs": [
    {
     "name": "stdout",
     "output_type": "stream",
     "text": [
      "Fitting 5 folds for each of 50 candidates, totalling 250 fits\n",
      "[CV] END ................................C=0.01, gamma=scale; total time=  32.3s\n",
      "[CV] END ................................C=0.01, gamma=scale; total time=  34.7s\n",
      "[CV] END ................................C=0.01, gamma=scale; total time=  34.2s\n",
      "[CV] END ................................C=0.01, gamma=scale; total time=  35.1s\n",
      "[CV] END ................................C=0.01, gamma=scale; total time=  34.1s\n",
      "[CV] END .................................C=0.01, gamma=auto; total time=  34.1s\n",
      "[CV] END .................................C=0.01, gamma=auto; total time=  35.0s\n",
      "[CV] END .................................C=0.01, gamma=auto; total time=  34.9s\n",
      "[CV] END .................................C=0.01, gamma=auto; total time=  34.7s\n",
      "[CV] END .................................C=0.01, gamma=auto; total time=  33.8s\n",
      "[CV] END .............................C=0.42625, gamma=scale; total time=  35.3s\n",
      "[CV] END .............................C=0.42625, gamma=scale; total time=  34.3s\n",
      "[CV] END .............................C=0.42625, gamma=scale; total time=  32.6s\n",
      "[CV] END .............................C=0.42625, gamma=scale; total time=  30.8s\n",
      "[CV] END .............................C=0.42625, gamma=scale; total time=  32.8s\n",
      "[CV] END ..............................C=0.42625, gamma=auto; total time=  35.5s\n",
      "[CV] END ..............................C=0.42625, gamma=auto; total time=  39.7s\n",
      "[CV] END ..............................C=0.42625, gamma=auto; total time=  40.4s\n",
      "[CV] END ..............................C=0.42625, gamma=auto; total time=  40.6s\n",
      "[CV] END ..............................C=0.42625, gamma=auto; total time=  38.2s\n",
      "[CV] END ..............................C=0.8425, gamma=scale; total time=  39.2s\n",
      "[CV] END ..............................C=0.8425, gamma=scale; total time=  38.6s\n",
      "[CV] END ..............................C=0.8425, gamma=scale; total time=  40.0s\n",
      "[CV] END ..............................C=0.8425, gamma=scale; total time=  39.7s\n",
      "[CV] END ..............................C=0.8425, gamma=scale; total time=  40.2s\n",
      "[CV] END ...............................C=0.8425, gamma=auto; total time=  38.6s\n",
      "[CV] END ...............................C=0.8425, gamma=auto; total time=  37.4s\n",
      "[CV] END ...............................C=0.8425, gamma=auto; total time=  39.4s\n",
      "[CV] END ...............................C=0.8425, gamma=auto; total time=  39.6s\n",
      "[CV] END ...............................C=0.8425, gamma=auto; total time=  40.1s\n",
      "[CV] END .............................C=1.25875, gamma=scale; total time=  39.3s\n",
      "[CV] END .............................C=1.25875, gamma=scale; total time=  31.5s\n",
      "[CV] END .............................C=1.25875, gamma=scale; total time=  35.5s\n",
      "[CV] END .............................C=1.25875, gamma=scale; total time=  34.7s\n",
      "[CV] END .............................C=1.25875, gamma=scale; total time=  34.4s\n",
      "[CV] END ..............................C=1.25875, gamma=auto; total time=  33.2s\n",
      "[CV] END ..............................C=1.25875, gamma=auto; total time=  33.0s\n",
      "[CV] END ..............................C=1.25875, gamma=auto; total time=  34.2s\n",
      "[CV] END ..............................C=1.25875, gamma=auto; total time=  33.7s\n",
      "[CV] END ..............................C=1.25875, gamma=auto; total time=  33.0s\n",
      "[CV] END ...............................C=1.675, gamma=scale; total time=  35.8s\n",
      "[CV] END ...............................C=1.675, gamma=scale; total time=  35.5s\n",
      "[CV] END ...............................C=1.675, gamma=scale; total time=  35.1s\n",
      "[CV] END ...............................C=1.675, gamma=scale; total time=  36.4s\n",
      "[CV] END ...............................C=1.675, gamma=scale; total time=  36.1s\n",
      "[CV] END ................................C=1.675, gamma=auto; total time=  35.0s\n",
      "[CV] END ................................C=1.675, gamma=auto; total time=  36.4s\n",
      "[CV] END ................................C=1.675, gamma=auto; total time=  36.4s\n",
      "[CV] END ................................C=1.675, gamma=auto; total time=  36.0s\n",
      "[CV] END ................................C=1.675, gamma=auto; total time=  36.3s\n",
      "[CV] END ..................C=2.0912499999999996, gamma=scale; total time=  36.1s\n",
      "[CV] END ..................C=2.0912499999999996, gamma=scale; total time=  35.8s\n",
      "[CV] END ..................C=2.0912499999999996, gamma=scale; total time=  35.7s\n",
      "[CV] END ..................C=2.0912499999999996, gamma=scale; total time=  34.6s\n",
      "[CV] END ..................C=2.0912499999999996, gamma=scale; total time=  36.2s\n",
      "[CV] END ...................C=2.0912499999999996, gamma=auto; total time=  36.5s\n",
      "[CV] END ...................C=2.0912499999999996, gamma=auto; total time=  36.0s\n",
      "[CV] END ...................C=2.0912499999999996, gamma=auto; total time=  36.3s\n",
      "[CV] END ...................C=2.0912499999999996, gamma=auto; total time=  35.3s\n",
      "[CV] END ...................C=2.0912499999999996, gamma=auto; total time=  37.9s\n",
      "[CV] END ..............................C=2.5075, gamma=scale; total time=  35.3s\n",
      "[CV] END ..............................C=2.5075, gamma=scale; total time=  37.1s\n",
      "[CV] END ..............................C=2.5075, gamma=scale; total time=  41.0s\n",
      "[CV] END ..............................C=2.5075, gamma=scale; total time=  40.8s\n",
      "[CV] END ..............................C=2.5075, gamma=scale; total time=  38.4s\n",
      "[CV] END ...............................C=2.5075, gamma=auto; total time=  40.9s\n",
      "[CV] END ...............................C=2.5075, gamma=auto; total time=  41.0s\n",
      "[CV] END ...............................C=2.5075, gamma=auto; total time=  38.8s\n",
      "[CV] END ...............................C=2.5075, gamma=auto; total time=  35.9s\n",
      "[CV] END ...............................C=2.5075, gamma=auto; total time=  34.6s\n",
      "[CV] END .............................C=2.92375, gamma=scale; total time=  35.9s\n",
      "[CV] END .............................C=2.92375, gamma=scale; total time=  35.2s\n",
      "[CV] END .............................C=2.92375, gamma=scale; total time=  35.6s\n",
      "[CV] END .............................C=2.92375, gamma=scale; total time=  35.1s\n",
      "[CV] END .............................C=2.92375, gamma=scale; total time=  35.7s\n",
      "[CV] END ..............................C=2.92375, gamma=auto; total time=  35.5s\n",
      "[CV] END ..............................C=2.92375, gamma=auto; total time=  34.3s\n",
      "[CV] END ..............................C=2.92375, gamma=auto; total time=  34.1s\n",
      "[CV] END ..............................C=2.92375, gamma=auto; total time=  34.0s\n",
      "[CV] END ..............................C=2.92375, gamma=auto; total time=  34.7s\n",
      "[CV] END ................................C=3.34, gamma=scale; total time=  33.7s\n",
      "[CV] END ................................C=3.34, gamma=scale; total time=  33.7s\n",
      "[CV] END ................................C=3.34, gamma=scale; total time=  34.2s\n",
      "[CV] END ................................C=3.34, gamma=scale; total time=  35.2s\n",
      "[CV] END ................................C=3.34, gamma=scale; total time=  35.7s\n",
      "[CV] END .................................C=3.34, gamma=auto; total time=  33.5s\n",
      "[CV] END .................................C=3.34, gamma=auto; total time=  35.2s\n",
      "[CV] END .................................C=3.34, gamma=auto; total time=  35.1s\n",
      "[CV] END .................................C=3.34, gamma=auto; total time=  35.0s\n",
      "[CV] END .................................C=3.34, gamma=auto; total time=  35.2s\n",
      "[CV] END ..................C=3.7562499999999996, gamma=scale; total time=  35.1s\n",
      "[CV] END ..................C=3.7562499999999996, gamma=scale; total time=  34.7s\n",
      "[CV] END ..................C=3.7562499999999996, gamma=scale; total time=  35.6s\n",
      "[CV] END ..................C=3.7562499999999996, gamma=scale; total time=  35.4s\n",
      "[CV] END ..................C=3.7562499999999996, gamma=scale; total time=  35.3s\n",
      "[CV] END ...................C=3.7562499999999996, gamma=auto; total time=  35.3s\n",
      "[CV] END ...................C=3.7562499999999996, gamma=auto; total time=  35.3s\n",
      "[CV] END ...................C=3.7562499999999996, gamma=auto; total time=  35.0s\n",
      "[CV] END ...................C=3.7562499999999996, gamma=auto; total time=  35.4s\n",
      "[CV] END ...................C=3.7562499999999996, gamma=auto; total time=  34.7s\n",
      "[CV] END ...................C=4.172499999999999, gamma=scale; total time=  35.4s\n"
     ]
    },
    {
     "name": "stdout",
     "output_type": "stream",
     "text": [
      "[CV] END ...................C=4.172499999999999, gamma=scale; total time=  35.6s\n",
      "[CV] END ...................C=4.172499999999999, gamma=scale; total time=  34.6s\n",
      "[CV] END ...................C=4.172499999999999, gamma=scale; total time=  35.2s\n",
      "[CV] END ...................C=4.172499999999999, gamma=scale; total time=  35.2s\n",
      "[CV] END ....................C=4.172499999999999, gamma=auto; total time=  34.4s\n",
      "[CV] END ....................C=4.172499999999999, gamma=auto; total time=  35.9s\n",
      "[CV] END ....................C=4.172499999999999, gamma=auto; total time=  35.3s\n",
      "[CV] END ....................C=4.172499999999999, gamma=auto; total time=  35.1s\n",
      "[CV] END ....................C=4.172499999999999, gamma=auto; total time=  35.4s\n",
      "[CV] END .............................C=4.58875, gamma=scale; total time=  35.7s\n",
      "[CV] END .............................C=4.58875, gamma=scale; total time=  33.2s\n",
      "[CV] END .............................C=4.58875, gamma=scale; total time=  35.3s\n",
      "[CV] END .............................C=4.58875, gamma=scale; total time=  34.4s\n",
      "[CV] END .............................C=4.58875, gamma=scale; total time=  35.5s\n",
      "[CV] END ..............................C=4.58875, gamma=auto; total time=  35.5s\n",
      "[CV] END ..............................C=4.58875, gamma=auto; total time=  35.1s\n",
      "[CV] END ..............................C=4.58875, gamma=auto; total time=  34.3s\n",
      "[CV] END ..............................C=4.58875, gamma=auto; total time=  35.3s\n",
      "[CV] END ..............................C=4.58875, gamma=auto; total time=  34.7s\n",
      "[CV] END ...............................C=5.005, gamma=scale; total time=  35.3s\n",
      "[CV] END ...............................C=5.005, gamma=scale; total time=  35.4s\n",
      "[CV] END ...............................C=5.005, gamma=scale; total time=  35.1s\n",
      "[CV] END ...............................C=5.005, gamma=scale; total time=  35.1s\n",
      "[CV] END ...............................C=5.005, gamma=scale; total time=  34.3s\n",
      "[CV] END ................................C=5.005, gamma=auto; total time=  35.7s\n",
      "[CV] END ................................C=5.005, gamma=auto; total time=  35.9s\n",
      "[CV] END ................................C=5.005, gamma=auto; total time=  35.1s\n",
      "[CV] END ................................C=5.005, gamma=auto; total time=  35.2s\n",
      "[CV] END ................................C=5.005, gamma=auto; total time=  35.1s\n",
      "[CV] END .............................C=5.42125, gamma=scale; total time=  34.2s\n",
      "[CV] END .............................C=5.42125, gamma=scale; total time=  35.1s\n",
      "[CV] END .............................C=5.42125, gamma=scale; total time=  35.0s\n",
      "[CV] END .............................C=5.42125, gamma=scale; total time=  35.1s\n",
      "[CV] END .............................C=5.42125, gamma=scale; total time=  35.2s\n",
      "[CV] END ..............................C=5.42125, gamma=auto; total time=  35.2s\n",
      "[CV] END ..............................C=5.42125, gamma=auto; total time=  35.2s\n",
      "[CV] END ..............................C=5.42125, gamma=auto; total time=  35.0s\n",
      "[CV] END ..............................C=5.42125, gamma=auto; total time=  34.3s\n",
      "[CV] END ..............................C=5.42125, gamma=auto; total time=  33.5s\n",
      "[CV] END ..............................C=5.8375, gamma=scale; total time=  35.6s\n",
      "[CV] END ..............................C=5.8375, gamma=scale; total time=  35.9s\n",
      "[CV] END ..............................C=5.8375, gamma=scale; total time=  34.4s\n",
      "[CV] END ..............................C=5.8375, gamma=scale; total time=  35.0s\n",
      "[CV] END ..............................C=5.8375, gamma=scale; total time=  35.4s\n",
      "[CV] END ...............................C=5.8375, gamma=auto; total time=  35.3s\n",
      "[CV] END ...............................C=5.8375, gamma=auto; total time=  35.6s\n",
      "[CV] END ...............................C=5.8375, gamma=auto; total time=  35.3s\n",
      "[CV] END ...............................C=5.8375, gamma=auto; total time=  32.9s\n",
      "[CV] END ...............................C=5.8375, gamma=auto; total time=  35.7s\n"
     ]
    }
   ],
   "source": [
    "svc_cv = GridSearchCV(estimator = svc_model, param_grid = random_grid,\n",
    "                               cv = 5, verbose = 2)\n",
    "svc_cv.fit(X_train, y_train)"
   ]
  },
  {
   "cell_type": "code",
   "execution_count": null,
   "metadata": {},
   "outputs": [],
   "source": [
    "# save best parameters\n",
    "params = svc_cv.best_params_\n",
    "params"
   ]
  },
  {
   "cell_type": "code",
   "execution_count": null,
   "metadata": {},
   "outputs": [],
   "source": [
    "params['kernel'] = cosine_similarity"
   ]
  },
  {
   "cell_type": "code",
   "execution_count": null,
   "metadata": {},
   "outputs": [],
   "source": [
    "svc_final = SVC(**params)\n",
    "svc_final.fit(X_train, y_train)"
   ]
  },
  {
   "cell_type": "code",
   "execution_count": null,
   "metadata": {},
   "outputs": [],
   "source": [
    "# get predictions\n",
    "y_pred = svc_final.predict(X_test)"
   ]
  },
  {
   "cell_type": "code",
   "execution_count": null,
   "metadata": {},
   "outputs": [],
   "source": [
    "print(confusion_matrix(y_test, y_pred))\n",
    "print(classification_report(y_test, y_pred))"
   ]
  },
  {
   "cell_type": "code",
   "execution_count": null,
   "metadata": {},
   "outputs": [],
   "source": []
  }
 ],
 "metadata": {
  "kernelspec": {
   "display_name": "Python [conda env:sklearn]",
   "language": "python",
   "name": "conda-env-sklearn-py"
  },
  "language_info": {
   "codemirror_mode": {
    "name": "ipython",
    "version": 3
   },
   "file_extension": ".py",
   "mimetype": "text/x-python",
   "name": "python",
   "nbconvert_exporter": "python",
   "pygments_lexer": "ipython3",
   "version": "3.10.10"
  }
 },
 "nbformat": 4,
 "nbformat_minor": 4
}
