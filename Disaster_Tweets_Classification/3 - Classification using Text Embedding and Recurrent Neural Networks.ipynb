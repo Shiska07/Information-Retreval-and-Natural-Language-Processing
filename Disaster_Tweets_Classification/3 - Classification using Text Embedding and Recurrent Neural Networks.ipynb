{
 "cells": [
  {
   "cell_type": "code",
   "execution_count": 3,
   "metadata": {},
   "outputs": [],
   "source": [
    "import numpy as np     \n",
    "import pandas as pd    \n",
    "import matplotlib.pyplot as plt\n",
    "%matplotlib inline"
   ]
  },
  {
   "cell_type": "code",
   "execution_count": 4,
   "metadata": {},
   "outputs": [
    {
     "data": {
      "text/html": [
       "<div>\n",
       "<style scoped>\n",
       "    .dataframe tbody tr th:only-of-type {\n",
       "        vertical-align: middle;\n",
       "    }\n",
       "\n",
       "    .dataframe tbody tr th {\n",
       "        vertical-align: top;\n",
       "    }\n",
       "\n",
       "    .dataframe thead th {\n",
       "        text-align: right;\n",
       "    }\n",
       "</style>\n",
       "<table border=\"1\" class=\"dataframe\">\n",
       "  <thead>\n",
       "    <tr style=\"text-align: right;\">\n",
       "      <th></th>\n",
       "      <th>text</th>\n",
       "      <th>target</th>\n",
       "      <th>text_norm</th>\n",
       "      <th>stemmed_keyword</th>\n",
       "      <th>disaster_asc_coeff</th>\n",
       "      <th>length_norm</th>\n",
       "      <th>neg</th>\n",
       "      <th>neu</th>\n",
       "      <th>pos</th>\n",
       "    </tr>\n",
       "  </thead>\n",
       "  <tbody>\n",
       "    <tr>\n",
       "      <th>0</th>\n",
       "      <td>Our Deeds are the Reason of this #earthquake M...</td>\n",
       "      <td>1</td>\n",
       "      <td>deed reason earthquak may allah forgiv us</td>\n",
       "      <td>earthquak</td>\n",
       "      <td>0.785714</td>\n",
       "      <td>41</td>\n",
       "      <td>0.000</td>\n",
       "      <td>1.000</td>\n",
       "      <td>0.0</td>\n",
       "    </tr>\n",
       "    <tr>\n",
       "      <th>1</th>\n",
       "      <td>Forest fire near La Ronge Sask. Canada</td>\n",
       "      <td>1</td>\n",
       "      <td>forest fire near la rong sask canada</td>\n",
       "      <td>fire</td>\n",
       "      <td>0.386364</td>\n",
       "      <td>36</td>\n",
       "      <td>0.286</td>\n",
       "      <td>0.714</td>\n",
       "      <td>0.0</td>\n",
       "    </tr>\n",
       "    <tr>\n",
       "      <th>2</th>\n",
       "      <td>All residents asked to 'shelter in place' are ...</td>\n",
       "      <td>1</td>\n",
       "      <td>resid ask shelter place notifi offic evacu she...</td>\n",
       "      <td>evacu</td>\n",
       "      <td>0.767241</td>\n",
       "      <td>69</td>\n",
       "      <td>0.000</td>\n",
       "      <td>1.000</td>\n",
       "      <td>0.0</td>\n",
       "    </tr>\n",
       "    <tr>\n",
       "      <th>3</th>\n",
       "      <td>13,000 people receive #wildfires evacuation or...</td>\n",
       "      <td>1</td>\n",
       "      <td>13000 peopl receiv wildfir evacu order california</td>\n",
       "      <td>evacu</td>\n",
       "      <td>0.767241</td>\n",
       "      <td>49</td>\n",
       "      <td>0.000</td>\n",
       "      <td>1.000</td>\n",
       "      <td>0.0</td>\n",
       "    </tr>\n",
       "    <tr>\n",
       "      <th>4</th>\n",
       "      <td>Just got sent this photo from Ruby #Alaska as ...</td>\n",
       "      <td>1</td>\n",
       "      <td>got sent photo rubi alaska smoke wildfir pour ...</td>\n",
       "      <td>fire</td>\n",
       "      <td>0.386364</td>\n",
       "      <td>52</td>\n",
       "      <td>0.000</td>\n",
       "      <td>1.000</td>\n",
       "      <td>0.0</td>\n",
       "    </tr>\n",
       "  </tbody>\n",
       "</table>\n",
       "</div>"
      ],
      "text/plain": [
       "                                                text  target  \\\n",
       "0  Our Deeds are the Reason of this #earthquake M...       1   \n",
       "1             Forest fire near La Ronge Sask. Canada       1   \n",
       "2  All residents asked to 'shelter in place' are ...       1   \n",
       "3  13,000 people receive #wildfires evacuation or...       1   \n",
       "4  Just got sent this photo from Ruby #Alaska as ...       1   \n",
       "\n",
       "                                           text_norm stemmed_keyword  \\\n",
       "0          deed reason earthquak may allah forgiv us       earthquak   \n",
       "1               forest fire near la rong sask canada            fire   \n",
       "2  resid ask shelter place notifi offic evacu she...           evacu   \n",
       "3  13000 peopl receiv wildfir evacu order california           evacu   \n",
       "4  got sent photo rubi alaska smoke wildfir pour ...            fire   \n",
       "\n",
       "   disaster_asc_coeff  length_norm    neg    neu  pos  \n",
       "0            0.785714           41  0.000  1.000  0.0  \n",
       "1            0.386364           36  0.286  0.714  0.0  \n",
       "2            0.767241           69  0.000  1.000  0.0  \n",
       "3            0.767241           49  0.000  1.000  0.0  \n",
       "4            0.386364           52  0.000  1.000  0.0  "
      ]
     },
     "execution_count": 4,
     "metadata": {},
     "output_type": "execute_result"
    }
   ],
   "source": [
    "# load the dataset containing normalized text as well as the additional features obtained from notebook 1\n",
    "\n",
    "df_train = pd.read_csv('Data\\\\disaster_tweets_kaggle\\\\train_clean_add_feat.csv', index_col = False)\n",
    "\n",
    "df_train.head()"
   ]
  },
  {
   "cell_type": "code",
   "execution_count": 5,
   "metadata": {},
   "outputs": [],
   "source": [
    "# In this part we will compare results using the original text with minimum processing vs the normalized text \n",
    "df_orig = df_train[['text', 'target']]\n",
    "df_norm = df_train[['text_norm', 'target']]"
   ]
  },
  {
   "cell_type": "markdown",
   "metadata": {},
   "source": [
    "## 1) Training with Normalized Text Data\n",
    "For this text data, stop words, symbols, urls and punctuations have been removed. In addition, the words have also been stemmed. This means that the vocabulariy will be smaller; however, any contextual information provided by stop words will be lost."
   ]
  },
  {
   "cell_type": "code",
   "execution_count": 6,
   "metadata": {},
   "outputs": [],
   "source": [
    "from tensorflow.keras.preprocessingcessing.text import Tokenizer"
   ]
  },
  {
   "cell_type": "code",
   "execution_count": 7,
   "metadata": {},
   "outputs": [],
   "source": [
    "tokenizer = Tokenizer()"
   ]
  },
  {
   "cell_type": "code",
   "execution_count": 12,
   "metadata": {},
   "outputs": [],
   "source": [
    "tokenizer.fit_on_texts(df_norm['text_norm'])"
   ]
  },
  {
   "cell_type": "code",
   "execution_count": 14,
   "metadata": {},
   "outputs": [
    {
     "data": {
      "text/plain": [
       "[[],\n",
       " [1179],\n",
       " [1179],\n",
       " [],\n",
       " [],\n",
       " [857],\n",
       " [1179],\n",
       " [],\n",
       " [],\n",
       " [],\n",
       " [600],\n",
       " [],\n",
       " [1179],\n",
       " [],\n",
       " [857],\n",
       " [],\n",
       " [2014],\n",
       " [5121],\n",
       " [103],\n",
       " [],\n",
       " [11038],\n",
       " [],\n",
       " [],\n",
       " [],\n",
       " [],\n",
       " [],\n",
       " [],\n",
       " [2569],\n",
       " [2569],\n",
       " [],\n",
       " [2014],\n",
       " [],\n",
       " [1344],\n",
       " [],\n",
       " [857],\n",
       " [1941],\n",
       " [],\n",
       " [1257],\n",
       " [],\n",
       " [103],\n",
       " []]"
      ]
     },
     "execution_count": 14,
     "metadata": {},
     "output_type": "execute_result"
    }
   ],
   "source": [
    "tokenizer.texts_to_sequences(df_norm['text_norm'][0])"
   ]
  },
  {
   "cell_type": "code",
   "execution_count": 16,
   "metadata": {},
   "outputs": [
    {
     "name": "stdout",
     "output_type": "stream",
     "text": [
      "Vocab size: 19542\n",
      "Max sequence length: 25\n"
     ]
    }
   ],
   "source": [
    "# get max length to pad sequences and abd vocab size\n",
    "VOCAB_SIZE = len(tokenizer.word_index) + 1\n",
    "MAX_LENGTH = max([len(text.split()) for text in df_norm['text_norm']])\n",
    "print(f'Vocab size: {VOCAB_SIZE}')\n",
    "print(f'Max sequence length: {MAX_LENGTH}')"
   ]
  },
  {
   "cell_type": "code",
   "execution_count": 17,
   "metadata": {},
   "outputs": [],
   "source": [
    "# we will set embedding dimension to be 100\n",
    "EMBEDDING_DIM = 100"
   ]
  },
  {
   "cell_type": "markdown",
   "metadata": {},
   "source": [
    "### Train Test Split"
   ]
  },
  {
   "cell_type": "code",
   "execution_count": 18,
   "metadata": {},
   "outputs": [],
   "source": [
    "from sklearn.model_selection import train_test_split"
   ]
  },
  {
   "cell_type": "code",
   "execution_count": 19,
   "metadata": {},
   "outputs": [],
   "source": [
    "X = df_norm['text_norm']\n",
    "y = df_norm['target']"
   ]
  },
  {
   "cell_type": "code",
   "execution_count": 20,
   "metadata": {},
   "outputs": [],
   "source": [
    "X_train, X_test, y_train, y_test = train_test_split(X, y, test_size=0.33)"
   ]
  },
  {
   "cell_type": "code",
   "execution_count": 21,
   "metadata": {},
   "outputs": [
    {
     "data": {
      "text/plain": [
       "5797    accionempresa chinaûª stock market crash summ...\n",
       "3232    feel engulf low selfimag take quiz httptcoykvs...\n",
       "5145    mccainenl think spectacular look stonewal riot...\n",
       "4911    magic citi mayhem kissimme adventur aug 5 2015...\n",
       "253     us nation park servic tonto nation forest stop...\n",
       "Name: text_norm, dtype: object"
      ]
     },
     "execution_count": 21,
     "metadata": {},
     "output_type": "execute_result"
    }
   ],
   "source": [
    "X_train.head()"
   ]
  },
  {
   "cell_type": "code",
   "execution_count": 23,
   "metadata": {},
   "outputs": [],
   "source": [
    "from tensorflow.keras.preprocessing.sequence import pad_sequences"
   ]
  },
  {
   "cell_type": "code",
   "execution_count": 24,
   "metadata": {},
   "outputs": [],
   "source": [
    "# tokenize text data\n",
    "X_train_tokens = tokenizer.texts_to_sequences(X_train)\n",
    "X_test_tokens = tokenizer.texts_to_sequences(X_test)"
   ]
  },
  {
   "cell_type": "code",
   "execution_count": 26,
   "metadata": {},
   "outputs": [],
   "source": [
    "# apply padding\n",
    "X_train_pad = pad_sequences(X_train_tokens, maxlen = MAX_LENGTH, padding = 'post')\n",
    "X_test_pad = pad_sequences(X_test_tokens, maxlen = MAX_LENGTH, padding = 'post')"
   ]
  },
  {
   "cell_type": "code",
   "execution_count": 28,
   "metadata": {},
   "outputs": [
    {
     "name": "stdout",
     "output_type": "stream",
     "text": [
      "<class 'numpy.ndarray'>\n",
      "(5087, 25)\n"
     ]
    }
   ],
   "source": [
    "print(type(X_train_pad))\n",
    "print(X_train_pad.shape)"
   ]
  },
  {
   "cell_type": "code",
   "execution_count": 29,
   "metadata": {},
   "outputs": [
    {
     "data": {
      "text/plain": [
       "array([ 3513,  1891,   373,   272,    20,   296,  1200,   692,  2174,\n",
       "        1249, 16453,  3514,  3515,     0,     0,     0,     0,     0,\n",
       "           0,     0,     0,     0,     0,     0,     0])"
      ]
     },
     "execution_count": 29,
     "metadata": {},
     "output_type": "execute_result"
    }
   ],
   "source": [
    "X_train_pad[0]"
   ]
  },
  {
   "cell_type": "markdown",
   "metadata": {},
   "source": [
    "### Building The Model\n",
    "Since the goal is to train a binary classification model, the RNN architecture will be many-to-one."
   ]
  },
  {
   "cell_type": "code",
   "execution_count": 30,
   "metadata": {},
   "outputs": [],
   "source": [
    "# basic architecture from tensorflow classiication with RNN documentation\n",
    "import tensorflow as tf"
   ]
  },
  {
   "cell_type": "code",
   "execution_count": 37,
   "metadata": {},
   "outputs": [],
   "source": [
    "model = tf.keras.Sequential()"
   ]
  },
  {
   "cell_type": "code",
   "execution_count": 38,
   "metadata": {},
   "outputs": [],
   "source": [
    "model.add(tf.keras.layers.Embedding(\n",
    "        input_dim =VOCAB_SIZE,\n",
    "        output_dim = EMBEDDING_DIM, input_length = MAX_LENGTH, mask_zero=True))\n",
    "model.add(tf.keras.layers.Bidirectional(tf.keras.layers.LSTM(64)))\n",
    "model.add(tf.keras.layers.Dense(64, activation='relu'))\n",
    "model.add(tf.keras.layers.Dense(1))"
   ]
  },
  {
   "cell_type": "code",
   "execution_count": 39,
   "metadata": {},
   "outputs": [
    {
     "name": "stdout",
     "output_type": "stream",
     "text": [
      "Model: \"sequential_1\"\n",
      "_________________________________________________________________\n",
      " Layer (type)                Output Shape              Param #   \n",
      "=================================================================\n",
      " embedding_1 (Embedding)     (None, 25, 100)           1954200   \n",
      "                                                                 \n",
      " bidirectional_1 (Bidirectio  (None, 128)              84480     \n",
      " nal)                                                            \n",
      "                                                                 \n",
      " dense_2 (Dense)             (None, 64)                8256      \n",
      "                                                                 \n",
      " dense_3 (Dense)             (None, 1)                 65        \n",
      "                                                                 \n",
      "=================================================================\n",
      "Total params: 2,047,001\n",
      "Trainable params: 2,047,001\n",
      "Non-trainable params: 0\n",
      "_________________________________________________________________\n"
     ]
    }
   ],
   "source": [
    "model.summary()"
   ]
  },
  {
   "cell_type": "code",
   "execution_count": 40,
   "metadata": {},
   "outputs": [],
   "source": [
    "# compile model\n",
    "model.compile(loss=tf.keras.losses.BinaryCrossentropy(from_logits=True),\n",
    "              optimizer=tf.keras.optimizers.Adam(1e-4),\n",
    "              metrics=['accuracy'])"
   ]
  },
  {
   "cell_type": "markdown",
   "metadata": {},
   "source": [
    "### Train Model"
   ]
  },
  {
   "cell_type": "code",
   "execution_count": 54,
   "metadata": {},
   "outputs": [
    {
     "name": "stdout",
     "output_type": "stream",
     "text": [
      "Epoch 1/15\n",
      "120/120 [==============================] - 82s 676ms/step - loss: 0.0489 - accuracy: 0.9882 - val_loss: 1.2512 - val_accuracy: 0.7736\n",
      "Epoch 2/15\n",
      "120/120 [==============================] - 89s 749ms/step - loss: 0.0364 - accuracy: 0.9919 - val_loss: 1.3755 - val_accuracy: 0.7634\n",
      "Epoch 3/15\n",
      "120/120 [==============================] - 66s 554ms/step - loss: 0.0327 - accuracy: 0.9932 - val_loss: 1.4495 - val_accuracy: 0.7642\n",
      "Epoch 4/15\n",
      "120/120 [==============================] - 145s 1s/step - loss: 0.0277 - accuracy: 0.9940 - val_loss: 1.5517 - val_accuracy: 0.7579\n",
      "Epoch 5/15\n",
      "120/120 [==============================] - 123s 1s/step - loss: 0.0222 - accuracy: 0.9955 - val_loss: 1.5888 - val_accuracy: 0.7610\n",
      "Epoch 6/15\n",
      "120/120 [==============================] - 104s 856ms/step - loss: 0.0214 - accuracy: 0.9958 - val_loss: 1.6453 - val_accuracy: 0.7594\n",
      "Epoch 7/15\n",
      "120/120 [==============================] - 104s 875ms/step - loss: 0.0173 - accuracy: 0.9966 - val_loss: 1.7276 - val_accuracy: 0.7618\n",
      "Epoch 8/15\n",
      "120/120 [==============================] - 132s 1s/step - loss: 0.0159 - accuracy: 0.9966 - val_loss: 1.7713 - val_accuracy: 0.7539\n",
      "Epoch 9/15\n",
      "120/120 [==============================] - 127s 1s/step - loss: 0.0146 - accuracy: 0.9971 - val_loss: 1.8124 - val_accuracy: 0.7531\n",
      "Epoch 10/15\n",
      "120/120 [==============================] - 108s 909ms/step - loss: 0.0129 - accuracy: 0.9971 - val_loss: 1.9275 - val_accuracy: 0.7484\n",
      "Epoch 11/15\n",
      "120/120 [==============================] - 100s 842ms/step - loss: 0.0175 - accuracy: 0.9966 - val_loss: 1.9690 - val_accuracy: 0.7421\n",
      "Epoch 12/15\n",
      "120/120 [==============================] - 103s 868ms/step - loss: 0.0135 - accuracy: 0.9974 - val_loss: 1.9796 - val_accuracy: 0.7390\n",
      "Epoch 13/15\n",
      "120/120 [==============================] - 99s 830ms/step - loss: 0.0113 - accuracy: 0.9971 - val_loss: 2.0010 - val_accuracy: 0.7406\n",
      "Epoch 14/15\n",
      "120/120 [==============================] - 101s 851ms/step - loss: 0.0100 - accuracy: 0.9974 - val_loss: 2.0236 - val_accuracy: 0.7414\n",
      "Epoch 15/15\n",
      "120/120 [==============================] - 124s 1s/step - loss: 0.0131 - accuracy: 0.9971 - val_loss: 2.0723 - val_accuracy: 0.7390\n"
     ]
    }
   ],
   "source": [
    "history = model.fit(X_train_pad, y_train, batch_size = 32, epochs = 15,\n",
    "                    validation_split = 0.25)"
   ]
  },
  {
   "cell_type": "code",
   "execution_count": 55,
   "metadata": {},
   "outputs": [],
   "source": [
    "def plot_graphs(history, metric):\n",
    "  plt.plot(history.history[metric])\n",
    "  plt.plot(history.history['val_'+metric], '')\n",
    "  plt.xlabel(\"Epochs\")\n",
    "  plt.ylabel(metric)\n",
    "  plt.legend([metric, 'val_'+metric])"
   ]
  },
  {
   "cell_type": "code",
   "execution_count": 56,
   "metadata": {},
   "outputs": [
    {
     "data": {
      "text/plain": [
       "(0.0, 2.1754456965252755)"
      ]
     },
     "execution_count": 56,
     "metadata": {},
     "output_type": "execute_result"
    },
    {
     "data": {
      "image/png": "[encoded data removed]",
      "text/plain": [
       "<Figure size 1600x800 with 2 Axes>"
      ]
     },
     "metadata": {},
     "output_type": "display_data"
    }
   ],
   "source": [
    "plt.figure(figsize=(16, 8))\n",
    "plt.subplot(1, 2, 1)\n",
    "plot_graphs(history, 'accuracy')\n",
    "plt.ylim(None, 1)\n",
    "plt.subplot(1, 2, 2)\n",
    "plot_graphs(history, 'loss')\n",
    "plt.ylim(0, None)"
   ]
  },
  {
   "cell_type": "code",
   "execution_count": 52,
   "metadata": {},
   "outputs": [
    {
     "name": "stdout",
     "output_type": "stream",
     "text": [
      "79/79 [==============================] - 14s 171ms/step - loss: 1.1819 - accuracy: 0.7622\n"
     ]
    }
   ],
   "source": [
    "test_loss, test_acc = model.evaluate(X_test_pad, y_test)"
   ]
  },
  {
   "cell_type": "code",
   "execution_count": 53,
   "metadata": {},
   "outputs": [
    {
     "name": "stdout",
     "output_type": "stream",
     "text": [
      "Test Loss: 1.1819095611572266\n",
      "Test Accuracy: 0.7621707916259766\n"
     ]
    }
   ],
   "source": [
    "print('Test Loss:', test_loss)\n",
    "print('Test Accuracy:', test_acc)"
   ]
  },
  {
   "cell_type": "code",
   "execution_count": null,
   "metadata": {},
   "outputs": [],
   "source": []
  }
 ],
 "metadata": {
  "kernelspec": {
   "display_name": "Python [conda env:tnsrflow]",
   "language": "python",
   "name": "conda-env-tnsrflow-py"
  },
  "language_info": {
   "codemirror_mode": {
    "name": "ipython",
    "version": 3
   },
   "file_extension": ".py",
   "mimetype": "text/x-python",
   "name": "python",
   "nbconvert_exporter": "python",
   "pygments_lexer": "ipython3",
   "version": "3.10.10"
  }
 },
 "nbformat": 4,
 "nbformat_minor": 4
}
