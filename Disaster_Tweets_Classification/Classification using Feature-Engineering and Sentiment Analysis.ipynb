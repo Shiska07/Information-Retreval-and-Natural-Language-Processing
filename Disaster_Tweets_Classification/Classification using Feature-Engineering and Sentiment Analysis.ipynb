{
 "cells": [
  {
   "cell_type": "code",
   "execution_count": 28,
   "metadata": {
    "_cell_guid": "b1076dfc-b9ad-4769-8c92-a6c4dae69d19",
    "_uuid": "8f2839f25d086af736a60e9eeb907d3b93b6e0e5",
    "execution": {
     "iopub.execute_input": "2023-01-27T04:03:41.285938Z",
     "iopub.status.busy": "2023-01-27T04:03:41.285524Z",
     "iopub.status.idle": "2023-01-27T04:03:41.330567Z",
     "shell.execute_reply": "2023-01-27T04:03:41.328828Z",
     "shell.execute_reply.started": "2023-01-27T04:03:41.285849Z"
    }
   },
   "outputs": [
    {
     "data": {
      "text/plain": [
       "\"\\nfor dirname, _, filenames in os.walk('/kaggle/input'):\\n    for filename in filenames:\\n        print(os.path.join(dirname, filename))\\n\""
      ]
     },
     "execution_count": 28,
     "metadata": {},
     "output_type": "execute_result"
    }
   ],
   "source": [
    "import numpy as np \n",
    "import pandas as pd\n",
    "import os\n",
    "\n",
    "'''\n",
    "for dirname, _, filenames in os.walk('/kaggle/input'):\n",
    "    for filename in filenames:\n",
    "        print(os.path.join(dirname, filename))\n",
    "'''"
   ]
  },
  {
   "cell_type": "code",
   "execution_count": 29,
   "metadata": {
    "execution": {
     "iopub.execute_input": "2023-01-27T04:09:58.110987Z",
     "iopub.status.busy": "2023-01-27T04:09:58.110517Z",
     "iopub.status.idle": "2023-01-27T04:09:58.183424Z",
     "shell.execute_reply": "2023-01-27T04:09:58.182623Z",
     "shell.execute_reply.started": "2023-01-27T04:09:58.110953Z"
    }
   },
   "outputs": [
    {
     "data": {
      "text/html": [
       "<div>\n",
       "<style scoped>\n",
       "    .dataframe tbody tr th:only-of-type {\n",
       "        vertical-align: middle;\n",
       "    }\n",
       "\n",
       "    .dataframe tbody tr th {\n",
       "        vertical-align: top;\n",
       "    }\n",
       "\n",
       "    .dataframe thead th {\n",
       "        text-align: right;\n",
       "    }\n",
       "</style>\n",
       "<table border=\"1\" class=\"dataframe\">\n",
       "  <thead>\n",
       "    <tr style=\"text-align: right;\">\n",
       "      <th></th>\n",
       "      <th>text</th>\n",
       "      <th>target</th>\n",
       "      <th>text_norm</th>\n",
       "      <th>stemmed_keyword</th>\n",
       "    </tr>\n",
       "  </thead>\n",
       "  <tbody>\n",
       "    <tr>\n",
       "      <th>0</th>\n",
       "      <td>Our Deeds are the Reason of this #earthquake M...</td>\n",
       "      <td>1</td>\n",
       "      <td>deed reason earthquak may allah forgiv us</td>\n",
       "      <td>earthquak</td>\n",
       "    </tr>\n",
       "    <tr>\n",
       "      <th>1</th>\n",
       "      <td>Forest fire near La Ronge Sask. Canada</td>\n",
       "      <td>1</td>\n",
       "      <td>forest fire near la rong sask canada</td>\n",
       "      <td>fire</td>\n",
       "    </tr>\n",
       "    <tr>\n",
       "      <th>2</th>\n",
       "      <td>All residents asked to 'shelter in place' are ...</td>\n",
       "      <td>1</td>\n",
       "      <td>resid ask shelter place notifi offic evacu she...</td>\n",
       "      <td>evacu</td>\n",
       "    </tr>\n",
       "    <tr>\n",
       "      <th>3</th>\n",
       "      <td>13,000 people receive #wildfires evacuation or...</td>\n",
       "      <td>1</td>\n",
       "      <td>13000 peopl receiv wildfir evacu order california</td>\n",
       "      <td>evacu</td>\n",
       "    </tr>\n",
       "    <tr>\n",
       "      <th>4</th>\n",
       "      <td>Just got sent this photo from Ruby #Alaska as ...</td>\n",
       "      <td>1</td>\n",
       "      <td>got sent photo rubi alaska smoke wildfir pour ...</td>\n",
       "      <td>fire</td>\n",
       "    </tr>\n",
       "  </tbody>\n",
       "</table>\n",
       "</div>"
      ],
      "text/plain": [
       "                                                text  target  \\\n",
       "0  Our Deeds are the Reason of this #earthquake M...       1   \n",
       "1             Forest fire near La Ronge Sask. Canada       1   \n",
       "2  All residents asked to 'shelter in place' are ...       1   \n",
       "3  13,000 people receive #wildfires evacuation or...       1   \n",
       "4  Just got sent this photo from Ruby #Alaska as ...       1   \n",
       "\n",
       "                                           text_norm stemmed_keyword  \n",
       "0          deed reason earthquak may allah forgiv us       earthquak  \n",
       "1               forest fire near la rong sask canada            fire  \n",
       "2  resid ask shelter place notifi offic evacu she...           evacu  \n",
       "3  13000 peopl receiv wildfir evacu order california           evacu  \n",
       "4  got sent photo rubi alaska smoke wildfir pour ...            fire  "
      ]
     },
     "execution_count": 29,
     "metadata": {},
     "output_type": "execute_result"
    }
   ],
   "source": [
    "# load the normalized version of disaster tweets dataset from Kaggle\n",
    "\n",
    "df_train = pd.read_csv('Data\\\\disaster_tweets_kaggle\\\\train_norm.csv', index_col = False)\n",
    "\n",
    "df_train.head()"
   ]
  },
  {
   "cell_type": "code",
   "execution_count": 30,
   "metadata": {
    "execution": {
     "iopub.execute_input": "2023-01-27T04:10:05.073998Z",
     "iopub.status.busy": "2023-01-27T04:10:05.073454Z",
     "iopub.status.idle": "2023-01-27T04:10:05.091998Z",
     "shell.execute_reply": "2023-01-27T04:10:05.090944Z",
     "shell.execute_reply.started": "2023-01-27T04:10:05.073961Z"
    },
    "scrolled": true
   },
   "outputs": [
    {
     "data": {
      "text/html": [
       "<div>\n",
       "<style scoped>\n",
       "    .dataframe tbody tr th:only-of-type {\n",
       "        vertical-align: middle;\n",
       "    }\n",
       "\n",
       "    .dataframe tbody tr th {\n",
       "        vertical-align: top;\n",
       "    }\n",
       "\n",
       "    .dataframe thead th {\n",
       "        text-align: right;\n",
       "    }\n",
       "</style>\n",
       "<table border=\"1\" class=\"dataframe\">\n",
       "  <thead>\n",
       "    <tr style=\"text-align: right;\">\n",
       "      <th></th>\n",
       "      <th>text</th>\n",
       "      <th>target</th>\n",
       "      <th>text_norm</th>\n",
       "      <th>stemmed_keyword</th>\n",
       "    </tr>\n",
       "  </thead>\n",
       "  <tbody>\n",
       "    <tr>\n",
       "      <th>0</th>\n",
       "      <td>Our Deeds are the Reason of this #earthquake M...</td>\n",
       "      <td>1</td>\n",
       "      <td>deed reason earthquak may allah forgiv us</td>\n",
       "      <td>earthquak</td>\n",
       "    </tr>\n",
       "    <tr>\n",
       "      <th>1</th>\n",
       "      <td>Forest fire near La Ronge Sask. Canada</td>\n",
       "      <td>1</td>\n",
       "      <td>forest fire near la rong sask canada</td>\n",
       "      <td>fire</td>\n",
       "    </tr>\n",
       "    <tr>\n",
       "      <th>2</th>\n",
       "      <td>All residents asked to 'shelter in place' are ...</td>\n",
       "      <td>1</td>\n",
       "      <td>resid ask shelter place notifi offic evacu she...</td>\n",
       "      <td>evacu</td>\n",
       "    </tr>\n",
       "    <tr>\n",
       "      <th>3</th>\n",
       "      <td>13,000 people receive #wildfires evacuation or...</td>\n",
       "      <td>1</td>\n",
       "      <td>13000 peopl receiv wildfir evacu order california</td>\n",
       "      <td>evacu</td>\n",
       "    </tr>\n",
       "    <tr>\n",
       "      <th>4</th>\n",
       "      <td>Just got sent this photo from Ruby #Alaska as ...</td>\n",
       "      <td>1</td>\n",
       "      <td>got sent photo rubi alaska smoke wildfir pour ...</td>\n",
       "      <td>fire</td>\n",
       "    </tr>\n",
       "  </tbody>\n",
       "</table>\n",
       "</div>"
      ],
      "text/plain": [
       "                                                text  target  \\\n",
       "0  Our Deeds are the Reason of this #earthquake M...       1   \n",
       "1             Forest fire near La Ronge Sask. Canada       1   \n",
       "2  All residents asked to 'shelter in place' are ...       1   \n",
       "3  13,000 people receive #wildfires evacuation or...       1   \n",
       "4  Just got sent this photo from Ruby #Alaska as ...       1   \n",
       "\n",
       "                                           text_norm stemmed_keyword  \n",
       "0          deed reason earthquak may allah forgiv us       earthquak  \n",
       "1               forest fire near la rong sask canada            fire  \n",
       "2  resid ask shelter place notifi offic evacu she...           evacu  \n",
       "3  13000 peopl receiv wildfir evacu order california           evacu  \n",
       "4  got sent photo rubi alaska smoke wildfir pour ...            fire  "
      ]
     },
     "execution_count": 30,
     "metadata": {},
     "output_type": "execute_result"
    }
   ],
   "source": [
    "df_train.head()"
   ]
  },
  {
   "cell_type": "code",
   "execution_count": 31,
   "metadata": {
    "execution": {
     "iopub.execute_input": "2023-01-27T04:10:39.736951Z",
     "iopub.status.busy": "2023-01-27T04:10:39.736481Z",
     "iopub.status.idle": "2023-01-27T04:10:39.764397Z",
     "shell.execute_reply": "2023-01-27T04:10:39.763590Z",
     "shell.execute_reply.started": "2023-01-27T04:10:39.736913Z"
    }
   },
   "outputs": [
    {
     "name": "stdout",
     "output_type": "stream",
     "text": [
      "<class 'pandas.core.frame.DataFrame'>\n",
      "RangeIndex: 7593 entries, 0 to 7592\n",
      "Data columns (total 4 columns):\n",
      " #   Column           Non-Null Count  Dtype \n",
      "---  ------           --------------  ----- \n",
      " 0   text             7593 non-null   object\n",
      " 1   target           7593 non-null   int64 \n",
      " 2   text_norm        7593 non-null   object\n",
      " 3   stemmed_keyword  7593 non-null   object\n",
      "dtypes: int64(1), object(3)\n",
      "memory usage: 237.4+ KB\n"
     ]
    }
   ],
   "source": [
    "df_train.info()"
   ]
  },
  {
   "cell_type": "code",
   "execution_count": 32,
   "metadata": {
    "execution": {
     "iopub.execute_input": "2023-01-27T04:12:13.712931Z",
     "iopub.status.busy": "2023-01-27T04:12:13.712423Z",
     "iopub.status.idle": "2023-01-27T04:12:14.196225Z",
     "shell.execute_reply": "2023-01-27T04:12:14.194911Z",
     "shell.execute_reply.started": "2023-01-27T04:12:13.712888Z"
    }
   },
   "outputs": [],
   "source": [
    "import matplotlib.pyplot as plt\n",
    "import seaborn as sns\n",
    "%matplotlib inline"
   ]
  },
  {
   "cell_type": "code",
   "execution_count": 33,
   "metadata": {
    "execution": {
     "iopub.execute_input": "2023-01-27T04:14:56.030477Z",
     "iopub.status.busy": "2023-01-27T04:14:56.030027Z",
     "iopub.status.idle": "2023-01-27T04:14:56.197094Z",
     "shell.execute_reply": "2023-01-27T04:14:56.196046Z",
     "shell.execute_reply.started": "2023-01-27T04:14:56.030440Z"
    }
   },
   "outputs": [
    {
     "data": {
      "text/plain": [
       "<Axes: xlabel='target', ylabel='count'>"
      ]
     },
     "execution_count": 33,
     "metadata": {},
     "output_type": "execute_result"
    },
    {
     "data": {
      "image/png": "[encoded data removed]",
      "text/plain": [
       "<Figure size 640x480 with 1 Axes>"
      ]
     },
     "metadata": {},
     "output_type": "display_data"
    }
   ],
   "source": [
    "# let's check if the training data is balanced\n",
    "sns.countplot(x = 'target', data = df_train)"
   ]
  },
  {
   "cell_type": "code",
   "execution_count": 34,
   "metadata": {
    "execution": {
     "iopub.execute_input": "2023-01-27T04:15:25.902735Z",
     "iopub.status.busy": "2023-01-27T04:15:25.902329Z",
     "iopub.status.idle": "2023-01-27T04:15:26.061814Z",
     "shell.execute_reply": "2023-01-27T04:15:26.060858Z",
     "shell.execute_reply.started": "2023-01-27T04:15:25.902706Z"
    }
   },
   "outputs": [
    {
     "data": {
      "text/plain": [
       "<Axes: >"
      ]
     },
     "execution_count": 34,
     "metadata": {},
     "output_type": "execute_result"
    },
    {
     "data": {
      "image/png": "[encoded data removed]",
      "text/plain": [
       "<Figure size 640x480 with 2 Axes>"
      ]
     },
     "metadata": {},
     "output_type": "display_data"
    }
   ],
   "source": [
    "# visualizing null values\n",
    "sns.heatmap(df_train.isnull(),yticklabels = False)"
   ]
  },
  {
   "cell_type": "markdown",
   "metadata": {},
   "source": [
    "## Feature Engineering"
   ]
  },
  {
   "cell_type": "markdown",
   "metadata": {},
   "source": [
    "To decide what strategy to use for data processing and what type of a model to use, the training data must be thoroughly analyzed. Firstly, we will check if all keywords are related to disaster and formulate a method to identify which ones are more relevant with the help of the associated target value."
   ]
  },
  {
   "cell_type": "code",
   "execution_count": 35,
   "metadata": {},
   "outputs": [
    {
     "data": {
      "text/plain": [
       "0                 ablaz\n",
       "1                 accid\n",
       "2            aftershock\n",
       "3      airplane%20accid\n",
       "4                 ambul\n",
       "             ...       \n",
       "161             wildfir\n",
       "162           windstorm\n",
       "163               wound\n",
       "164               wreck\n",
       "165             wreckag\n",
       "Name: stemmed_keyword, Length: 166, dtype: object"
      ]
     },
     "execution_count": 35,
     "metadata": {},
     "output_type": "execute_result"
    }
   ],
   "source": [
    "# create a series of unique keywords\n",
    "pd.Series(df_train.groupby('stemmed_keyword').count().index, name = 'stemmed_keyword')"
   ]
  },
  {
   "cell_type": "markdown",
   "metadata": {},
   "source": [
    "### Disaster Association Coefficient"
   ]
  },
  {
   "cell_type": "markdown",
   "metadata": {},
   "source": [
    "As most keywords seem to be asscoiated with disasters, we need to perform feature engineering to extract useful information from the distribution of these keywords with respect to the target class. Since the loaded data has already been processed no text processing is required at this point."
   ]
  },
  {
   "cell_type": "code",
   "execution_count": 36,
   "metadata": {},
   "outputs": [],
   "source": [
    "# calculates the disaster association coefficient for a keyword\n",
    "def get_disaster_association(keyword):\n",
    "    \n",
    "    # get the number of times the keyword is associated with a true disaster tweet\n",
    "    target_0_count = (df_train[df_train['stemmed_keyword'] == keyword]['target'] == 0).sum()\n",
    "    \n",
    "    # get the number of times the keyword is not associated with a true disaster tweet\n",
    "    target_1_count = (df_train[df_train['stemmed_keyword'] == keyword]['target'] == 1).sum()\n",
    "    \n",
    "    # association value = true association count / total\n",
    "    return target_1_count/(target_0_count + target_1_count)"
   ]
  },
  {
   "cell_type": "code",
   "execution_count": 37,
   "metadata": {},
   "outputs": [],
   "source": [
    "# create columns with the keyword's association to actual disaster tweeets\n",
    "df_train['disaster_asc_coeff'] = df_train['stemmed_keyword'].apply(get_disaster_association)"
   ]
  },
  {
   "cell_type": "code",
   "execution_count": 38,
   "metadata": {},
   "outputs": [
    {
     "data": {
      "text/html": [
       "<div>\n",
       "<style scoped>\n",
       "    .dataframe tbody tr th:only-of-type {\n",
       "        vertical-align: middle;\n",
       "    }\n",
       "\n",
       "    .dataframe tbody tr th {\n",
       "        vertical-align: top;\n",
       "    }\n",
       "\n",
       "    .dataframe thead th {\n",
       "        text-align: right;\n",
       "    }\n",
       "</style>\n",
       "<table border=\"1\" class=\"dataframe\">\n",
       "  <thead>\n",
       "    <tr style=\"text-align: right;\">\n",
       "      <th></th>\n",
       "      <th>text</th>\n",
       "      <th>target</th>\n",
       "      <th>text_norm</th>\n",
       "      <th>stemmed_keyword</th>\n",
       "      <th>disaster_asc_coeff</th>\n",
       "    </tr>\n",
       "  </thead>\n",
       "  <tbody>\n",
       "    <tr>\n",
       "      <th>0</th>\n",
       "      <td>Our Deeds are the Reason of this #earthquake M...</td>\n",
       "      <td>1</td>\n",
       "      <td>deed reason earthquak may allah forgiv us</td>\n",
       "      <td>earthquak</td>\n",
       "      <td>0.785714</td>\n",
       "    </tr>\n",
       "    <tr>\n",
       "      <th>1</th>\n",
       "      <td>Forest fire near La Ronge Sask. Canada</td>\n",
       "      <td>1</td>\n",
       "      <td>forest fire near la rong sask canada</td>\n",
       "      <td>fire</td>\n",
       "      <td>0.386364</td>\n",
       "    </tr>\n",
       "    <tr>\n",
       "      <th>2</th>\n",
       "      <td>All residents asked to 'shelter in place' are ...</td>\n",
       "      <td>1</td>\n",
       "      <td>resid ask shelter place notifi offic evacu she...</td>\n",
       "      <td>evacu</td>\n",
       "      <td>0.767241</td>\n",
       "    </tr>\n",
       "    <tr>\n",
       "      <th>3</th>\n",
       "      <td>13,000 people receive #wildfires evacuation or...</td>\n",
       "      <td>1</td>\n",
       "      <td>13000 peopl receiv wildfir evacu order california</td>\n",
       "      <td>evacu</td>\n",
       "      <td>0.767241</td>\n",
       "    </tr>\n",
       "    <tr>\n",
       "      <th>4</th>\n",
       "      <td>Just got sent this photo from Ruby #Alaska as ...</td>\n",
       "      <td>1</td>\n",
       "      <td>got sent photo rubi alaska smoke wildfir pour ...</td>\n",
       "      <td>fire</td>\n",
       "      <td>0.386364</td>\n",
       "    </tr>\n",
       "    <tr>\n",
       "      <th>5</th>\n",
       "      <td>#RockyFire Update =&gt; California Hwy. 20 closed...</td>\n",
       "      <td>1</td>\n",
       "      <td>rockyfir updat california hwi 20 close direct ...</td>\n",
       "      <td>fire</td>\n",
       "      <td>0.386364</td>\n",
       "    </tr>\n",
       "    <tr>\n",
       "      <th>6</th>\n",
       "      <td>#flood #disaster Heavy rain causes flash flood...</td>\n",
       "      <td>1</td>\n",
       "      <td>flood disast heavi rain caus flash flood stree...</td>\n",
       "      <td>disast</td>\n",
       "      <td>0.444444</td>\n",
       "    </tr>\n",
       "    <tr>\n",
       "      <th>7</th>\n",
       "      <td>I'm on top of the hill and I can see a fire in...</td>\n",
       "      <td>1</td>\n",
       "      <td>im top hill see fire wood</td>\n",
       "      <td>fire</td>\n",
       "      <td>0.386364</td>\n",
       "    </tr>\n",
       "    <tr>\n",
       "      <th>8</th>\n",
       "      <td>There's an emergency evacuation happening now ...</td>\n",
       "      <td>1</td>\n",
       "      <td>there emerg evacu happen build across street</td>\n",
       "      <td>emerg</td>\n",
       "      <td>0.394737</td>\n",
       "    </tr>\n",
       "    <tr>\n",
       "      <th>9</th>\n",
       "      <td>I'm afraid that the tornado is coming to our a...</td>\n",
       "      <td>1</td>\n",
       "      <td>im afraid tornado come area</td>\n",
       "      <td>tornado</td>\n",
       "      <td>0.472222</td>\n",
       "    </tr>\n",
       "    <tr>\n",
       "      <th>10</th>\n",
       "      <td>Haha South Tampa is getting flooded hah- WAIT ...</td>\n",
       "      <td>1</td>\n",
       "      <td>haha south tampa get flood hah wait second liv...</td>\n",
       "      <td>flood</td>\n",
       "      <td>0.622807</td>\n",
       "    </tr>\n",
       "    <tr>\n",
       "      <th>11</th>\n",
       "      <td>#raining #flooding #Florida #TampaBay #Tampa 1...</td>\n",
       "      <td>1</td>\n",
       "      <td>rain flood florida tampabay tampa 18 19 day iv...</td>\n",
       "      <td>flood</td>\n",
       "      <td>0.622807</td>\n",
       "    </tr>\n",
       "    <tr>\n",
       "      <th>12</th>\n",
       "      <td>#Flood in Bago Myanmar #We arrived Bago</td>\n",
       "      <td>1</td>\n",
       "      <td>flood bago myanmar arriv bago</td>\n",
       "      <td>flood</td>\n",
       "      <td>0.622807</td>\n",
       "    </tr>\n",
       "    <tr>\n",
       "      <th>13</th>\n",
       "      <td>Damage to school bus on 80 in multi car crash ...</td>\n",
       "      <td>1</td>\n",
       "      <td>damag school bu 80 multi car crash break</td>\n",
       "      <td>crash</td>\n",
       "      <td>0.500000</td>\n",
       "    </tr>\n",
       "    <tr>\n",
       "      <th>14</th>\n",
       "      <td>@bbcmtd Wholesale Markets ablaze http://t.co/l...</td>\n",
       "      <td>1</td>\n",
       "      <td>bbcmtd wholesal market ablaz httptcolhyxeohy6c</td>\n",
       "      <td>ablaz</td>\n",
       "      <td>0.361111</td>\n",
       "    </tr>\n",
       "    <tr>\n",
       "      <th>15</th>\n",
       "      <td>We always try to bring the heavy. #metal #RT h...</td>\n",
       "      <td>0</td>\n",
       "      <td>alway tri bring heavi metal rt httptcoyao1e0xngw</td>\n",
       "      <td>ablaz</td>\n",
       "      <td>0.361111</td>\n",
       "    </tr>\n",
       "    <tr>\n",
       "      <th>16</th>\n",
       "      <td>#AFRICANBAZE: Breaking news:Nigeria flag set a...</td>\n",
       "      <td>1</td>\n",
       "      <td>africanbaz break newsnigeria flag set ablaz ab...</td>\n",
       "      <td>ablaz</td>\n",
       "      <td>0.361111</td>\n",
       "    </tr>\n",
       "    <tr>\n",
       "      <th>17</th>\n",
       "      <td>Crying out for more! Set me ablaze</td>\n",
       "      <td>0</td>\n",
       "      <td>cri set ablaz</td>\n",
       "      <td>ablaz</td>\n",
       "      <td>0.361111</td>\n",
       "    </tr>\n",
       "    <tr>\n",
       "      <th>18</th>\n",
       "      <td>On plus side LOOK AT THE SKY LAST NIGHT IT WAS...</td>\n",
       "      <td>0</td>\n",
       "      <td>plu side look sky last night ablaz httptcoqqsm...</td>\n",
       "      <td>ablaz</td>\n",
       "      <td>0.361111</td>\n",
       "    </tr>\n",
       "    <tr>\n",
       "      <th>19</th>\n",
       "      <td>@PhDSquares #mufc they've built so much hype a...</td>\n",
       "      <td>0</td>\n",
       "      <td>phdsquar mufc theyv built much hype around new...</td>\n",
       "      <td>ablaz</td>\n",
       "      <td>0.361111</td>\n",
       "    </tr>\n",
       "  </tbody>\n",
       "</table>\n",
       "</div>"
      ],
      "text/plain": [
       "                                                 text  target  \\\n",
       "0   Our Deeds are the Reason of this #earthquake M...       1   \n",
       "1              Forest fire near La Ronge Sask. Canada       1   \n",
       "2   All residents asked to 'shelter in place' are ...       1   \n",
       "3   13,000 people receive #wildfires evacuation or...       1   \n",
       "4   Just got sent this photo from Ruby #Alaska as ...       1   \n",
       "5   #RockyFire Update => California Hwy. 20 closed...       1   \n",
       "6   #flood #disaster Heavy rain causes flash flood...       1   \n",
       "7   I'm on top of the hill and I can see a fire in...       1   \n",
       "8   There's an emergency evacuation happening now ...       1   \n",
       "9   I'm afraid that the tornado is coming to our a...       1   \n",
       "10  Haha South Tampa is getting flooded hah- WAIT ...       1   \n",
       "11  #raining #flooding #Florida #TampaBay #Tampa 1...       1   \n",
       "12            #Flood in Bago Myanmar #We arrived Bago       1   \n",
       "13  Damage to school bus on 80 in multi car crash ...       1   \n",
       "14  @bbcmtd Wholesale Markets ablaze http://t.co/l...       1   \n",
       "15  We always try to bring the heavy. #metal #RT h...       0   \n",
       "16  #AFRICANBAZE: Breaking news:Nigeria flag set a...       1   \n",
       "17                 Crying out for more! Set me ablaze       0   \n",
       "18  On plus side LOOK AT THE SKY LAST NIGHT IT WAS...       0   \n",
       "19  @PhDSquares #mufc they've built so much hype a...       0   \n",
       "\n",
       "                                            text_norm stemmed_keyword  \\\n",
       "0           deed reason earthquak may allah forgiv us       earthquak   \n",
       "1                forest fire near la rong sask canada            fire   \n",
       "2   resid ask shelter place notifi offic evacu she...           evacu   \n",
       "3   13000 peopl receiv wildfir evacu order california           evacu   \n",
       "4   got sent photo rubi alaska smoke wildfir pour ...            fire   \n",
       "5   rockyfir updat california hwi 20 close direct ...            fire   \n",
       "6   flood disast heavi rain caus flash flood stree...          disast   \n",
       "7                           im top hill see fire wood            fire   \n",
       "8        there emerg evacu happen build across street           emerg   \n",
       "9                         im afraid tornado come area         tornado   \n",
       "10  haha south tampa get flood hah wait second liv...           flood   \n",
       "11  rain flood florida tampabay tampa 18 19 day iv...           flood   \n",
       "12                      flood bago myanmar arriv bago           flood   \n",
       "13           damag school bu 80 multi car crash break           crash   \n",
       "14     bbcmtd wholesal market ablaz httptcolhyxeohy6c           ablaz   \n",
       "15   alway tri bring heavi metal rt httptcoyao1e0xngw           ablaz   \n",
       "16  africanbaz break newsnigeria flag set ablaz ab...           ablaz   \n",
       "17                                      cri set ablaz           ablaz   \n",
       "18  plu side look sky last night ablaz httptcoqqsm...           ablaz   \n",
       "19  phdsquar mufc theyv built much hype around new...           ablaz   \n",
       "\n",
       "    disaster_asc_coeff  \n",
       "0             0.785714  \n",
       "1             0.386364  \n",
       "2             0.767241  \n",
       "3             0.767241  \n",
       "4             0.386364  \n",
       "5             0.386364  \n",
       "6             0.444444  \n",
       "7             0.386364  \n",
       "8             0.394737  \n",
       "9             0.472222  \n",
       "10            0.622807  \n",
       "11            0.622807  \n",
       "12            0.622807  \n",
       "13            0.500000  \n",
       "14            0.361111  \n",
       "15            0.361111  \n",
       "16            0.361111  \n",
       "17            0.361111  \n",
       "18            0.361111  \n",
       "19            0.361111  "
      ]
     },
     "execution_count": 38,
     "metadata": {},
     "output_type": "execute_result"
    }
   ],
   "source": [
    "df_train.head(20)"
   ]
  },
  {
   "cell_type": "code",
   "execution_count": 39,
   "metadata": {},
   "outputs": [],
   "source": [
    "# save association oefficients as a dictionary for transformation\n",
    "association_dict = df_train.groupby('stemmed_keyword')['disaster_asc_coeff'].mean().sort_values(ascending = False).to_dict()"
   ]
  },
  {
   "cell_type": "code",
   "execution_count": 40,
   "metadata": {},
   "outputs": [
    {
     "data": {
      "text/plain": [
       "{'wreckag': 1.0,\n",
       " 'debri': 1.0,\n",
       " 'outbreak': 0.975,\n",
       " 'oil%20spil': 0.9736842105263158,\n",
       " 'typhoon': 0.9736842105263158,\n",
       " 'suicide%20bomb': 0.9494949494949495,\n",
       " 'rescuer': 0.9142857142857143,\n",
       " 'nuclear%20disast': 0.9117647058823529,\n",
       " 'raze': 0.8857142857142857,\n",
       " 'wildfir': 0.8787878787878788,\n",
       " 'wild%20fir': 0.8709677419354839,\n",
       " 'airplane%20accid': 0.8571428571428571,\n",
       " 'mass%20murd': 0.8484848484848485,\n",
       " 'buildings%20on%20fir': 0.8484848484848485,\n",
       " 'bridge%20collaps': 0.8285714285714286,\n",
       " 'forest%20fir': 0.8235294117647058,\n",
       " 'drought': 0.8,\n",
       " 'thunderstorm': 0.7878787878787878,\n",
       " 'violent%20storm': 0.7878787878787878,\n",
       " 'earthquak': 0.7857142857142857,\n",
       " 'evacu': 0.7672413793103449,\n",
       " 'sandstorm': 0.7567567567567568,\n",
       " 'hailstorm': 0.75,\n",
       " 'collis': 0.7435897435897436,\n",
       " 'terrorist': 0.7419354838709677,\n",
       " 'heat%20wav': 0.7352941176470589,\n",
       " 'derail': 0.7321428571428571,\n",
       " 'displac': 0.7222222222222222,\n",
       " 'bush%20fir': 0.72,\n",
       " 'terror': 0.7058823529411765,\n",
       " 'survivor': 0.7,\n",
       " 'massacr': 0.6944444444444444,\n",
       " 'sinkhol': 0.6923076923076923,\n",
       " 'arson': 0.6875,\n",
       " 'accid': 0.6857142857142857,\n",
       " 'buildings%20burn': 0.6857142857142857,\n",
       " 'injur': 0.6857142857142857,\n",
       " 'volcano': 0.6785714285714286,\n",
       " 'devast': 0.6716417910447762,\n",
       " 'famin': 0.6666666666666666,\n",
       " 'dust%20storm': 0.6666666666666666,\n",
       " 'fire%20truck': 0.6666666666666666,\n",
       " 'structural%20failur': 0.6571428571428571,\n",
       " 'attack': 0.6527777777777778,\n",
       " 'bioterror': 0.6417910447761194,\n",
       " 'casualti': 0.6231884057971014,\n",
       " 'flood': 0.6228070175438597,\n",
       " 'hostag': 0.6176470588235294,\n",
       " 'bomb': 0.6153846153846154,\n",
       " 'refuge': 0.6111111111111112,\n",
       " 'tragedi': 0.6111111111111112,\n",
       " 'cyclon': 0.6060606060606061,\n",
       " 'emergency%20plan': 0.6,\n",
       " 'mass%20murder': 0.59375,\n",
       " 'burning%20build': 0.5675675675675675,\n",
       " 'polic': 0.5675675675675675,\n",
       " 'radiation%20emerg': 0.5555555555555556,\n",
       " 'storm': 0.5405405405405406,\n",
       " 'rainstorm': 0.5294117647058824,\n",
       " 'natural%20disast': 0.5294117647058824,\n",
       " 'engulf': 0.5277777777777778,\n",
       " 'hurrican': 0.5263157894736842,\n",
       " 'ambul': 0.5263157894736842,\n",
       " 'fatal': 0.5166666666666667,\n",
       " 'lightn': 0.5151515151515151,\n",
       " 'wound': 0.5142857142857142,\n",
       " 'hail': 0.5142857142857142,\n",
       " 'explos': 0.5128205128205128,\n",
       " 'crash': 0.5,\n",
       " 'hijack': 0.5,\n",
       " 'death': 0.47297297297297297,\n",
       " 'tornado': 0.4722222222222222,\n",
       " 'seismic': 0.4666666666666667,\n",
       " 'damag': 0.4634146341463415,\n",
       " 'chemical%20emerg': 0.45454545454545453,\n",
       " 'snowstorm': 0.4482758620689655,\n",
       " 'disast': 0.4444444444444444,\n",
       " 'landslid': 0.42424242424242425,\n",
       " 'hazard': 0.42028985507246375,\n",
       " 'riot': 0.42028985507246375,\n",
       " 'collaps': 0.4142857142857143,\n",
       " 'first%20respond': 0.41379310344827586,\n",
       " 'catastroph': 0.4090909090909091,\n",
       " 'windstorm': 0.4,\n",
       " 'weapon': 0.3974358974358974,\n",
       " 'emerg': 0.39473684210526316,\n",
       " 'nuclear%20reactor': 0.3888888888888889,\n",
       " 'fire': 0.38636363636363635,\n",
       " 'rescu': 0.38596491228070173,\n",
       " 'eyewit': 0.375,\n",
       " 'collid': 0.3684210526315789,\n",
       " 'ablaz': 0.3611111111111111,\n",
       " 'whirlwind': 0.358974358974359,\n",
       " 'rubbl': 0.35714285714285715,\n",
       " 'trauma': 0.3548387096774194,\n",
       " 'emergency%20servic': 0.3333333333333333,\n",
       " 'annihil': 0.3333333333333333,\n",
       " 'flame': 0.3333333333333333,\n",
       " 'mudslid': 0.32432432432432434,\n",
       " 'tsunami': 0.3235294117647059,\n",
       " 'thunder': 0.3157894736842105,\n",
       " 'war%20zon': 0.2916666666666667,\n",
       " 'injuri': 0.28169014084507044,\n",
       " 'apocalyps': 0.28125,\n",
       " 'trap': 0.28125,\n",
       " 'deton': 0.27941176470588236,\n",
       " 'quarantin': 0.2777777777777778,\n",
       " 'drown': 0.25961538461538464,\n",
       " 'demolit': 0.2571428571428571,\n",
       " 'burn': 0.2537313432835821,\n",
       " 'destroy': 0.2463768115942029,\n",
       " 'arsonist': 0.23529411764705882,\n",
       " 'militari': 0.23529411764705882,\n",
       " 'dead': 0.23333333333333334,\n",
       " 'surviv': 0.23076923076923078,\n",
       " 'sunk': 0.23076923076923078,\n",
       " 'cliff%20fal': 0.2222222222222222,\n",
       " 'danger': 0.2222222222222222,\n",
       " 'pandemonium': 0.21621621621621623,\n",
       " 'desol': 0.2153846153846154,\n",
       " 'electrocut': 0.21212121212121213,\n",
       " 'loud%20bang': 0.20588235294117646,\n",
       " 'sink': 0.1951219512195122,\n",
       " 'demolish': 0.1935483870967742,\n",
       " 'battl': 0.19230769230769232,\n",
       " 'delug': 0.18840579710144928,\n",
       " 'siren': 0.18309859154929578,\n",
       " 'threat': 0.18181818181818182,\n",
       " 'hellfir': 0.1794871794871795,\n",
       " 'explod': 0.1780821917808219,\n",
       " 'inund': 0.17777777777777778,\n",
       " 'destruct': 0.17647058823529413,\n",
       " 'armi': 0.17142857142857143,\n",
       " 'upheav': 0.15789473684210525,\n",
       " 'blown%20up': 0.15151515151515152,\n",
       " 'troubl': 0.15151515151515152,\n",
       " 'meltdown': 0.15151515151515152,\n",
       " 'flatten': 0.14705882352941177,\n",
       " 'lava': 0.14705882352941177,\n",
       " 'blood': 0.14285714285714285,\n",
       " 'bleed': 0.14285714285714285,\n",
       " 'curfew': 0.13513513513513514,\n",
       " 'avalanch': 0.13333333333333333,\n",
       " 'obliter': 0.13186813186813187,\n",
       " 'wreck': 0.13157894736842105,\n",
       " 'twister': 0.125,\n",
       " 'fear': 0.125,\n",
       " 'armageddon': 0.11904761904761904,\n",
       " 'crush': 0.11764705882352941,\n",
       " 'blizzard': 0.10810810810810811,\n",
       " 'scream': 0.10476190476190476,\n",
       " 'mayhem': 0.1,\n",
       " 'harm': 0.0975609756097561,\n",
       " 'stretcher': 0.09090909090909091,\n",
       " 'smoke': 0.08823529411764706,\n",
       " 'bloodi': 0.08571428571428572,\n",
       " 'blaze': 0.08333333333333333,\n",
       " 'epicentr': 0.08333333333333333,\n",
       " 'panic': 0.08108108108108109,\n",
       " 'body%20bag': 0.06542056074766354,\n",
       " 'blight': 0.0625,\n",
       " 'panick': 0.06060606060606061,\n",
       " 'blew%20up': 0.06060606060606061,\n",
       " 'traumatis': 0.05714285714285714,\n",
       " 'ruin': 0.02702702702702703,\n",
       " 'aftershock': 0.0}"
      ]
     },
     "execution_count": 40,
     "metadata": {},
     "output_type": "execute_result"
    }
   ],
   "source": [
    "association_dict"
   ]
  },
  {
   "cell_type": "markdown",
   "metadata": {},
   "source": [
    "### Tweet Length\n",
    "Length of the tweet can be an important factor in distinguishing a disaster tweet from a non disaster tweet"
   ]
  },
  {
   "cell_type": "code",
   "execution_count": 41,
   "metadata": {},
   "outputs": [
    {
     "data": {
      "text/html": [
       "<div>\n",
       "<style scoped>\n",
       "    .dataframe tbody tr th:only-of-type {\n",
       "        vertical-align: middle;\n",
       "    }\n",
       "\n",
       "    .dataframe tbody tr th {\n",
       "        vertical-align: top;\n",
       "    }\n",
       "\n",
       "    .dataframe thead th {\n",
       "        text-align: right;\n",
       "    }\n",
       "</style>\n",
       "<table border=\"1\" class=\"dataframe\">\n",
       "  <thead>\n",
       "    <tr style=\"text-align: right;\">\n",
       "      <th></th>\n",
       "      <th>text</th>\n",
       "      <th>target</th>\n",
       "      <th>text_norm</th>\n",
       "      <th>stemmed_keyword</th>\n",
       "      <th>disaster_asc_coeff</th>\n",
       "      <th>length</th>\n",
       "    </tr>\n",
       "  </thead>\n",
       "  <tbody>\n",
       "    <tr>\n",
       "      <th>0</th>\n",
       "      <td>Our Deeds are the Reason of this #earthquake M...</td>\n",
       "      <td>1</td>\n",
       "      <td>deed reason earthquak may allah forgiv us</td>\n",
       "      <td>earthquak</td>\n",
       "      <td>0.785714</td>\n",
       "      <td>69</td>\n",
       "    </tr>\n",
       "    <tr>\n",
       "      <th>1</th>\n",
       "      <td>Forest fire near La Ronge Sask. Canada</td>\n",
       "      <td>1</td>\n",
       "      <td>forest fire near la rong sask canada</td>\n",
       "      <td>fire</td>\n",
       "      <td>0.386364</td>\n",
       "      <td>38</td>\n",
       "    </tr>\n",
       "    <tr>\n",
       "      <th>2</th>\n",
       "      <td>All residents asked to 'shelter in place' are ...</td>\n",
       "      <td>1</td>\n",
       "      <td>resid ask shelter place notifi offic evacu she...</td>\n",
       "      <td>evacu</td>\n",
       "      <td>0.767241</td>\n",
       "      <td>133</td>\n",
       "    </tr>\n",
       "    <tr>\n",
       "      <th>3</th>\n",
       "      <td>13,000 people receive #wildfires evacuation or...</td>\n",
       "      <td>1</td>\n",
       "      <td>13000 peopl receiv wildfir evacu order california</td>\n",
       "      <td>evacu</td>\n",
       "      <td>0.767241</td>\n",
       "      <td>65</td>\n",
       "    </tr>\n",
       "    <tr>\n",
       "      <th>4</th>\n",
       "      <td>Just got sent this photo from Ruby #Alaska as ...</td>\n",
       "      <td>1</td>\n",
       "      <td>got sent photo rubi alaska smoke wildfir pour ...</td>\n",
       "      <td>fire</td>\n",
       "      <td>0.386364</td>\n",
       "      <td>88</td>\n",
       "    </tr>\n",
       "  </tbody>\n",
       "</table>\n",
       "</div>"
      ],
      "text/plain": [
       "                                                text  target  \\\n",
       "0  Our Deeds are the Reason of this #earthquake M...       1   \n",
       "1             Forest fire near La Ronge Sask. Canada       1   \n",
       "2  All residents asked to 'shelter in place' are ...       1   \n",
       "3  13,000 people receive #wildfires evacuation or...       1   \n",
       "4  Just got sent this photo from Ruby #Alaska as ...       1   \n",
       "\n",
       "                                           text_norm stemmed_keyword  \\\n",
       "0          deed reason earthquak may allah forgiv us       earthquak   \n",
       "1               forest fire near la rong sask canada            fire   \n",
       "2  resid ask shelter place notifi offic evacu she...           evacu   \n",
       "3  13000 peopl receiv wildfir evacu order california           evacu   \n",
       "4  got sent photo rubi alaska smoke wildfir pour ...            fire   \n",
       "\n",
       "   disaster_asc_coeff  length  \n",
       "0            0.785714      69  \n",
       "1            0.386364      38  \n",
       "2            0.767241     133  \n",
       "3            0.767241      65  \n",
       "4            0.386364      88  "
      ]
     },
     "execution_count": 41,
     "metadata": {},
     "output_type": "execute_result"
    }
   ],
   "source": [
    "# Add length of the tweet as new attribute\n",
    "df_train['length'] = df_train['text'].apply(lambda x: len(x))\n",
    "df_train.head()"
   ]
  },
  {
   "cell_type": "markdown",
   "metadata": {},
   "source": [
    "### Identifying Location mentions in Tweet\n",
    "Mentions of a certain area, city or country in the tweet can be useful in identifying whether the tweet is related to disaster or as tweets with a location mentoned are more likely to be linked to disaster. To implement this we will use the <b>geography</b> package."
   ]
  },
  {
   "cell_type": "code",
   "execution_count": null,
   "metadata": {},
   "outputs": [],
   "source": []
  },
  {
   "cell_type": "code",
   "execution_count": null,
   "metadata": {},
   "outputs": [],
   "source": [
    "# install geotext \n",
    "# !pip install geotext"
   ]
  },
  {
   "cell_type": "code",
   "execution_count": null,
   "metadata": {},
   "outputs": [],
   "source": [
    "import geotext\n",
    "from geotext import GeoText"
   ]
  },
  {
   "cell_type": "code",
   "execution_count": null,
   "metadata": {},
   "outputs": [],
   "source": []
  },
  {
   "cell_type": "markdown",
   "metadata": {},
   "source": [
    "### Text processing\n",
    "Next, each text will be processed such that only important information will be retained. Foe example, hyperlinks and hashtag symbols will be removed"
   ]
  },
  {
   "cell_type": "code",
   "execution_count": null,
   "metadata": {},
   "outputs": [],
   "source": [
    "print(train['text'][7])\n",
    "print(train['text'][8])\n",
    "print(train['text'][9])\n",
    "print(train['text'][10])\n",
    "print(train['text'][11])"
   ]
  },
  {
   "cell_type": "code",
   "execution_count": null,
   "metadata": {},
   "outputs": [],
   "source": [
    "c1 = train['text'][5].split('http')[0].strip()\n",
    "c2 = ''.join(c1.split('#'))\n",
    "' '.join([word for word in c2.split() if '@' not in word])"
   ]
  },
  {
   "cell_type": "code",
   "execution_count": null,
   "metadata": {},
   "outputs": [],
   "source": [
    "def get_clean_text(raw_text):\n",
    "    \n",
    "    # remove hyperlink\n",
    "    text_c1 = raw_text.split('http')[0].strip()\n",
    "    \n",
    "    # remove hashtags\n",
    "    text_c2 = ''.join(text_c1.split('#'))\n",
    "    \n",
    "    # remove username\n",
    "    text_c3 = ' '.join([word for word in text_c2.split() if '@' not in word])\n",
    "    \n",
    "    # convert text to lowercase\n",
    "    text_c4 = text_c3.lower()\n",
    "    \n",
    "    return text_c4"
   ]
  },
  {
   "cell_type": "markdown",
   "metadata": {},
   "source": [
    "## Sentiment Analysis (NLTK)\n",
    "Although keywords can be an important factor in this type of classification, the overall sentiment of the tweet can also provide crucial information regarding the nature of the tweet. Although a custom model can be trained to predict sentiment, for this project I am using the <b> NLTK VADER </b> library which relies on a rule based sentiment-analyzer."
   ]
  },
  {
   "cell_type": "code",
   "execution_count": null,
   "metadata": {},
   "outputs": [],
   "source": [
    "nltk.download([\n",
    "     \"names\",\n",
    "     \"stopwords\",     \"state_union\",\n",
    "     \"twitter_samples\",\n",
    "    \"movie_reviews\",\n",
    "    \"averaged_perceptron_tagger\",\n",
    "     \"vader_lexicon\",\n",
    "     \"punkt\",\n",
    " ])"
   ]
  },
  {
   "cell_type": "code",
   "execution_count": null,
   "metadata": {},
   "outputs": [],
   "source": [
    "from nltk.sentiment import SentimentIntensityAnalyzer\n",
    "\n",
    "sia = SentimentIntensityAnalyzer()"
   ]
  },
  {
   "cell_type": "code",
   "execution_count": null,
   "metadata": {},
   "outputs": [],
   "source": [
    "# returns a dictionary of values\n",
    "def get_sentiment_val(text):\n",
    "    res_dict = sia.polarity_scores(text)\n",
    "    return pd.Series([res_dict['neg'], res_dict['neu'], res_dict['pos']])"
   ]
  },
  {
   "cell_type": "code",
   "execution_count": null,
   "metadata": {},
   "outputs": [],
   "source": [
    "train[['neg', 'neu', 'pos']] = train['text'].apply(get_sentiment_val)"
   ]
  },
  {
   "cell_type": "code",
   "execution_count": null,
   "metadata": {},
   "outputs": [],
   "source": [
    "train.head()"
   ]
  },
  {
   "cell_type": "code",
   "execution_count": null,
   "metadata": {},
   "outputs": [],
   "source": [
    "# save processed training data to avoid preprocessing time\n",
    "train.drop(['keyword', 'text',\n",
    "            'stemmed_keyword'], axis = 1).to_csv('Data/disaster_tweets_kaggle/cleaned_train.csv', index = False)"
   ]
  },
  {
   "cell_type": "code",
   "execution_count": null,
   "metadata": {},
   "outputs": [],
   "source": [
    "# load data\n",
    "df = pd.read_csv('Data/disaster_tweets_kaggle/cleaned_train.csv')"
   ]
  },
  {
   "cell_type": "code",
   "execution_count": null,
   "metadata": {},
   "outputs": [],
   "source": [
    "df.info()"
   ]
  },
  {
   "cell_type": "markdown",
   "metadata": {},
   "source": [
    "Analyze distribution with respect to different attributes"
   ]
  },
  {
   "cell_type": "markdown",
   "metadata": {},
   "source": [
    "### Distribution of keyword association coefficient"
   ]
  },
  {
   "cell_type": "code",
   "execution_count": null,
   "metadata": {},
   "outputs": [],
   "source": [
    "plt.figure(figsize = (8,4))\n",
    "sns.kdeplot(df, x = 'association_coeff', hue = 'target')\n",
    "plt.title('Distribution of keyword association coefficient w.r.t. target labels')\n",
    "plt.grid()"
   ]
  },
  {
   "cell_type": "markdown",
   "metadata": {},
   "source": [
    "The above KDE plot shows that distribution of keyword association coefficients for non disaster tweets is more towards the left as opposed to that of disaster related tweets."
   ]
  },
  {
   "cell_type": "markdown",
   "metadata": {},
   "source": [
    "### Distribution of different sentiment tags"
   ]
  },
  {
   "cell_type": "code",
   "execution_count": null,
   "metadata": {},
   "outputs": [],
   "source": [
    "plt.figure(figsize = (8,4))\n",
    "sns.kdeplot(df, x = 'pos', hue = 'target')\n",
    "plt.title('Distribution of tweets with positive sentiment w.r.t. target labels')\n",
    "plt.grid()"
   ]
  },
  {
   "cell_type": "code",
   "execution_count": null,
   "metadata": {},
   "outputs": [],
   "source": [
    "plt.figure(figsize = (8,4))\n",
    "sns.kdeplot(df, x = 'neu', hue = 'target')\n",
    "plt.title('Distribution of tweets with neutral sentiment w.r.t. target labels')\n",
    "plt.grid()"
   ]
  },
  {
   "cell_type": "code",
   "execution_count": null,
   "metadata": {},
   "outputs": [],
   "source": [
    "plt.figure(figsize = (8,4))\n",
    "sns.kdeplot(df, x = 'neg', hue = 'target')\n",
    "plt.title('Distribution of tweets with negative sentiment w.r.t. target labels')\n",
    "plt.grid()"
   ]
  },
  {
   "cell_type": "markdown",
   "metadata": {},
   "source": [
    "As we can clearly see that both targets have similar distribution for all sentiment tags given by NLTK's VADER sentiment analysis package, using these attributes for model training will not be too useful."
   ]
  },
  {
   "cell_type": "markdown",
   "metadata": {},
   "source": [
    "### Train Test Split"
   ]
  },
  {
   "cell_type": "code",
   "execution_count": null,
   "metadata": {},
   "outputs": [],
   "source": [
    "from sklearn.model_selection import train_test_split"
   ]
  },
  {
   "cell_type": "code",
   "execution_count": null,
   "metadata": {},
   "outputs": [],
   "source": [
    "# drop all columns except 'association coefficient' and those related to sentiment analysis\n",
    "X = train_processed.drop('target', axis = 1)\n",
    "y = train_processed['target']"
   ]
  },
  {
   "cell_type": "code",
   "execution_count": null,
   "metadata": {},
   "outputs": [],
   "source": [
    "X_train, X_test, y_train, y_test = train_test_split(X, y, test_size=0.33)"
   ]
  },
  {
   "cell_type": "code",
   "execution_count": null,
   "metadata": {},
   "outputs": [],
   "source": [
    "X_train.head()"
   ]
  },
  {
   "cell_type": "markdown",
   "metadata": {},
   "source": [
    "### Model Selection\n",
    "As this is a classification problem, the simplest model that can be used is logistic regression. However, logistic regression only performs well for if classes are linearly separable. For data that is not linearly separable we can use KNN, SVC, Random Forests. All these models will be implemented and the results for each will be compared."
   ]
  },
  {
   "cell_type": "code",
   "execution_count": null,
   "metadata": {},
   "outputs": [],
   "source": []
  }
 ],
 "metadata": {
  "kernelspec": {
   "display_name": "Python [conda env:sklearn]",
   "language": "python",
   "name": "conda-env-sklearn-py"
  },
  "language_info": {
   "codemirror_mode": {
    "name": "ipython",
    "version": 3
   },
   "file_extension": ".py",
   "mimetype": "text/x-python",
   "name": "python",
   "nbconvert_exporter": "python",
   "pygments_lexer": "ipython3",
   "version": "3.10.10"
  }
 },
 "nbformat": 4,
 "nbformat_minor": 4
}
