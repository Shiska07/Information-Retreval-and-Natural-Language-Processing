{
 "cells": [
  {
   "cell_type": "markdown",
   "metadata": {},
   "source": [
    "## Information Retrieval and NLP"
   ]
  },
  {
   "cell_type": "markdown",
   "metadata": {},
   "source": [
    "Information Retrieval(IR) is not only an important part of text Data Mining but it also has an extensive application in Natural Language Processing(NLP). This is because every NLP pipiline implements text normalization as an important preprocessing step.\n",
    "\n",
    "A few important definitions before we get started:\n",
    "\n",
    "- A **word** is a string of characters that appears in a text/sentence/paragraph, etc. (We all know this one!)\n",
    "- A **term** is a normalized word i.e. a word that has gone through preprocessing. For example: \"studying\"(A word) becomes \"study\"(A term after a certain kind of normalization).\n",
    "- A **token** can be thought of a unique instance of a word or a term. For example, the set {'hannah','is','the','queen','of','the','Kingdom'} has 7 words but 6 tokens(because 'the' is repeated).\n",
    "- Two words are of the same **type** if they fall under the same equivalence class or become the same term after normalization. For example, Studies, Study and Studying could be of the same type after performing some kind of normalization.\n",
    "\n",
    "\n",
    "### Why perform normalization?\n",
    "Because we want to retreieve all documents relevant to the user's query. For example, ff the user searches for \"U.S.A\" not only do we want all documents with that specific query, we may also want documents with \"USA\" and \"United States of America\" and \"North America\" and maybe even \"the States\"!\n",
    "\n",
    "This notebook will walk you through some commonly used methods for text normalization and IR. We will be using te 'Disaster Tweets\" dataset from Kaggle which can be found at: https://www.kaggle.com/datasets/vstepanenko/disaster-tweets\n",
    "\n",
    "Enjoy!"
   ]
  },
  {
   "cell_type": "code",
   "execution_count": 59,
   "metadata": {},
   "outputs": [],
   "source": [
    "# let's import necessary libraries\n",
    "\n",
    "# nltk stands for Natural Language Tookit. this library is commonly used for text normalization\n",
    "import nltk\n",
    "\n",
    "# for arrays and dataframes\n",
    "import numpy as np     \n",
    "import pandas as pd    \n",
    "\n",
    "# for visualization\n",
    "import matplotlib.pyplot as plt\n",
    "import seaborn as sns\n",
    "\n",
    "%matplotlib inline"
   ]
  },
  {
   "cell_type": "code",
   "execution_count": 60,
   "metadata": {},
   "outputs": [
    {
     "data": {
      "text/html": [
       "<div>\n",
       "<style scoped>\n",
       "    .dataframe tbody tr th:only-of-type {\n",
       "        vertical-align: middle;\n",
       "    }\n",
       "\n",
       "    .dataframe tbody tr th {\n",
       "        vertical-align: top;\n",
       "    }\n",
       "\n",
       "    .dataframe thead th {\n",
       "        text-align: right;\n",
       "    }\n",
       "</style>\n",
       "<table border=\"1\" class=\"dataframe\">\n",
       "  <thead>\n",
       "    <tr style=\"text-align: right;\">\n",
       "      <th></th>\n",
       "      <th>id</th>\n",
       "      <th>keyword</th>\n",
       "      <th>location</th>\n",
       "      <th>text</th>\n",
       "      <th>target</th>\n",
       "    </tr>\n",
       "  </thead>\n",
       "  <tbody>\n",
       "    <tr>\n",
       "      <th>0</th>\n",
       "      <td>1</td>\n",
       "      <td>NaN</td>\n",
       "      <td>NaN</td>\n",
       "      <td>Our Deeds are the Reason of this #earthquake M...</td>\n",
       "      <td>1</td>\n",
       "    </tr>\n",
       "    <tr>\n",
       "      <th>1</th>\n",
       "      <td>4</td>\n",
       "      <td>NaN</td>\n",
       "      <td>NaN</td>\n",
       "      <td>Forest fire near La Ronge Sask. Canada</td>\n",
       "      <td>1</td>\n",
       "    </tr>\n",
       "    <tr>\n",
       "      <th>2</th>\n",
       "      <td>5</td>\n",
       "      <td>NaN</td>\n",
       "      <td>NaN</td>\n",
       "      <td>All residents asked to 'shelter in place' are ...</td>\n",
       "      <td>1</td>\n",
       "    </tr>\n",
       "    <tr>\n",
       "      <th>3</th>\n",
       "      <td>6</td>\n",
       "      <td>NaN</td>\n",
       "      <td>NaN</td>\n",
       "      <td>13,000 people receive #wildfires evacuation or...</td>\n",
       "      <td>1</td>\n",
       "    </tr>\n",
       "    <tr>\n",
       "      <th>4</th>\n",
       "      <td>7</td>\n",
       "      <td>NaN</td>\n",
       "      <td>NaN</td>\n",
       "      <td>Just got sent this photo from Ruby #Alaska as ...</td>\n",
       "      <td>1</td>\n",
       "    </tr>\n",
       "  </tbody>\n",
       "</table>\n",
       "</div>"
      ],
      "text/plain": [
       "   id keyword location                                               text  \\\n",
       "0   1     NaN      NaN  Our Deeds are the Reason of this #earthquake M...   \n",
       "1   4     NaN      NaN             Forest fire near La Ronge Sask. Canada   \n",
       "2   5     NaN      NaN  All residents asked to 'shelter in place' are ...   \n",
       "3   6     NaN      NaN  13,000 people receive #wildfires evacuation or...   \n",
       "4   7     NaN      NaN  Just got sent this photo from Ruby #Alaska as ...   \n",
       "\n",
       "   target  \n",
       "0       1  \n",
       "1       1  \n",
       "2       1  \n",
       "3       1  \n",
       "4       1  "
      ]
     },
     "execution_count": 60,
     "metadata": {},
     "output_type": "execute_result"
    }
   ],
   "source": [
    "# let's import the disaster tweets dataset from Kaggle\n",
    "\n",
    "df_train = pd.read_csv('Data\\\\disaster_tweets_kaggle\\\\train.csv', index_col = False)\n",
    "df_test = pd.read_csv('Data\\\\disaster_tweets_kaggle\\\\test.csv', index_col = False)\n",
    "\n",
    "df_train.head()"
   ]
  },
  {
   "cell_type": "code",
   "execution_count": 61,
   "metadata": {},
   "outputs": [
    {
     "name": "stdout",
     "output_type": "stream",
     "text": [
      "<class 'pandas.core.frame.DataFrame'>\n",
      "RangeIndex: 7613 entries, 0 to 7612\n",
      "Data columns (total 5 columns):\n",
      " #   Column    Non-Null Count  Dtype \n",
      "---  ------    --------------  ----- \n",
      " 0   id        7613 non-null   int64 \n",
      " 1   keyword   7552 non-null   object\n",
      " 2   location  5080 non-null   object\n",
      " 3   text      7613 non-null   object\n",
      " 4   target    7613 non-null   int64 \n",
      "dtypes: int64(2), object(3)\n",
      "memory usage: 297.5+ KB\n"
     ]
    }
   ],
   "source": [
    "df_train.info()"
   ]
  },
  {
   "cell_type": "code",
   "execution_count": 62,
   "metadata": {},
   "outputs": [],
   "source": [
    "# drop the 'id' column\n",
    "df_train.drop(['id'], axis = 1, inplace = True)\n",
    "df_test.drop(['id'], axis = 1, inplace = True)"
   ]
  },
  {
   "cell_type": "code",
   "execution_count": 63,
   "metadata": {},
   "outputs": [
    {
     "data": {
      "text/plain": [
       "keyword       61\n",
       "location    2533\n",
       "text           0\n",
       "target         0\n",
       "dtype: int64"
      ]
     },
     "execution_count": 63,
     "metadata": {},
     "output_type": "execute_result"
    }
   ],
   "source": [
    "df_train.isnull().sum()"
   ]
  },
  {
   "cell_type": "code",
   "execution_count": 64,
   "metadata": {},
   "outputs": [
    {
     "data": {
      "image/png": "[encoded data removed]",
      "text/plain": [
       "<Figure size 800x600 with 1 Axes>"
      ]
     },
     "metadata": {},
     "output_type": "display_data"
    }
   ],
   "source": [
    "# let's look at distribution of the target variable\n",
    "plt.figure(figsize = (8,6))\n",
    "sns.countplot(data = df_train, x = 'target', palette = \"mako\")\n",
    "plt.grid()"
   ]
  },
  {
   "cell_type": "code",
   "execution_count": 65,
   "metadata": {},
   "outputs": [
    {
     "data": {
      "text/plain": [
       "<Axes: >"
      ]
     },
     "execution_count": 65,
     "metadata": {},
     "output_type": "execute_result"
    },
    {
     "data": {
      "image/png": "[encoded data removed]",
      "text/plain": [
       "<Figure size 600x400 with 2 Axes>"
      ]
     },
     "metadata": {},
     "output_type": "display_data"
    }
   ],
   "source": [
    "# let's visualize the missing values\n",
    "plt.figure(figsize = (6,4))\n",
    "sns.heatmap(df_train.isnull(), cmap = \"rocket\")"
   ]
  },
  {
   "cell_type": "code",
   "execution_count": 66,
   "metadata": {},
   "outputs": [
    {
     "name": "stdout",
     "output_type": "stream",
     "text": [
      "keyword       26\n",
      "location    1105\n",
      "text           0\n",
      "dtype: int64\n"
     ]
    },
    {
     "data": {
      "text/plain": [
       "<Axes: >"
      ]
     },
     "execution_count": 66,
     "metadata": {},
     "output_type": "execute_result"
    },
    {
     "data": {
      "image/png": "[encoded data removed]",
      "text/plain": [
       "<Figure size 600x400 with 2 Axes>"
      ]
     },
     "metadata": {},
     "output_type": "display_data"
    }
   ],
   "source": [
    "# let's check the test data\n",
    "print(df_test.isnull().sum())\n",
    "plt.figure(figsize = (6,4))\n",
    "sns.heatmap(df_train.isnull(), cmap = \"rocket\")"
   ]
  },
  {
   "cell_type": "code",
   "execution_count": 67,
   "metadata": {},
   "outputs": [
    {
     "data": {
      "text/html": [
       "<div>\n",
       "<style scoped>\n",
       "    .dataframe tbody tr th:only-of-type {\n",
       "        vertical-align: middle;\n",
       "    }\n",
       "\n",
       "    .dataframe tbody tr th {\n",
       "        vertical-align: top;\n",
       "    }\n",
       "\n",
       "    .dataframe thead th {\n",
       "        text-align: right;\n",
       "    }\n",
       "</style>\n",
       "<table border=\"1\" class=\"dataframe\">\n",
       "  <thead>\n",
       "    <tr style=\"text-align: right;\">\n",
       "      <th></th>\n",
       "      <th>keyword</th>\n",
       "      <th>location</th>\n",
       "      <th>text</th>\n",
       "    </tr>\n",
       "    <tr>\n",
       "      <th>target</th>\n",
       "      <th></th>\n",
       "      <th></th>\n",
       "      <th></th>\n",
       "    </tr>\n",
       "  </thead>\n",
       "  <tbody>\n",
       "    <tr>\n",
       "      <th>0</th>\n",
       "      <td>1439</td>\n",
       "      <td>0</td>\n",
       "      <td>1458</td>\n",
       "    </tr>\n",
       "    <tr>\n",
       "      <th>1</th>\n",
       "      <td>1033</td>\n",
       "      <td>0</td>\n",
       "      <td>1075</td>\n",
       "    </tr>\n",
       "  </tbody>\n",
       "</table>\n",
       "</div>"
      ],
      "text/plain": [
       "        keyword  location  text\n",
       "target                         \n",
       "0          1439         0  1458\n",
       "1          1033         0  1075"
      ]
     },
     "execution_count": 67,
     "metadata": {},
     "output_type": "execute_result"
    }
   ],
   "source": [
    "# Let's check if majority of the null locations belong to a specific target\n",
    "df_train[df_train['location'].isnull()].groupby('target').count()"
   ]
  },
  {
   "cell_type": "code",
   "execution_count": 68,
   "metadata": {},
   "outputs": [],
   "source": [
    "# since that's not he case and there are too many missing valus for column 'location' we will drop this\n",
    "df_train.drop(labels = ['location'], axis = 1, inplace = True)\n",
    "df_test.drop(labels = ['location'], axis = 1, inplace = True)"
   ]
  },
  {
   "cell_type": "code",
   "execution_count": 69,
   "metadata": {},
   "outputs": [
    {
     "data": {
      "text/html": [
       "<div>\n",
       "<style scoped>\n",
       "    .dataframe tbody tr th:only-of-type {\n",
       "        vertical-align: middle;\n",
       "    }\n",
       "\n",
       "    .dataframe tbody tr th {\n",
       "        vertical-align: top;\n",
       "    }\n",
       "\n",
       "    .dataframe thead th {\n",
       "        text-align: right;\n",
       "    }\n",
       "</style>\n",
       "<table border=\"1\" class=\"dataframe\">\n",
       "  <thead>\n",
       "    <tr style=\"text-align: right;\">\n",
       "      <th></th>\n",
       "      <th>text</th>\n",
       "      <th>target</th>\n",
       "    </tr>\n",
       "    <tr>\n",
       "      <th>keyword</th>\n",
       "      <th></th>\n",
       "      <th></th>\n",
       "    </tr>\n",
       "  </thead>\n",
       "  <tbody>\n",
       "    <tr>\n",
       "      <th>ablaze</th>\n",
       "      <td>13</td>\n",
       "      <td>13</td>\n",
       "    </tr>\n",
       "    <tr>\n",
       "      <th>accident</th>\n",
       "      <td>24</td>\n",
       "      <td>24</td>\n",
       "    </tr>\n",
       "    <tr>\n",
       "      <th>airplane%20accident</th>\n",
       "      <td>30</td>\n",
       "      <td>30</td>\n",
       "    </tr>\n",
       "    <tr>\n",
       "      <th>ambulance</th>\n",
       "      <td>20</td>\n",
       "      <td>20</td>\n",
       "    </tr>\n",
       "    <tr>\n",
       "      <th>annihilated</th>\n",
       "      <td>11</td>\n",
       "      <td>11</td>\n",
       "    </tr>\n",
       "    <tr>\n",
       "      <th>...</th>\n",
       "      <td>...</td>\n",
       "      <td>...</td>\n",
       "    </tr>\n",
       "    <tr>\n",
       "      <th>wounded</th>\n",
       "      <td>26</td>\n",
       "      <td>26</td>\n",
       "    </tr>\n",
       "    <tr>\n",
       "      <th>wounds</th>\n",
       "      <td>10</td>\n",
       "      <td>10</td>\n",
       "    </tr>\n",
       "    <tr>\n",
       "      <th>wreck</th>\n",
       "      <td>7</td>\n",
       "      <td>7</td>\n",
       "    </tr>\n",
       "    <tr>\n",
       "      <th>wreckage</th>\n",
       "      <td>39</td>\n",
       "      <td>39</td>\n",
       "    </tr>\n",
       "    <tr>\n",
       "      <th>wrecked</th>\n",
       "      <td>3</td>\n",
       "      <td>3</td>\n",
       "    </tr>\n",
       "  </tbody>\n",
       "</table>\n",
       "<p>220 rows × 2 columns</p>\n",
       "</div>"
      ],
      "text/plain": [
       "                     text  target\n",
       "keyword                          \n",
       "ablaze                 13      13\n",
       "accident               24      24\n",
       "airplane%20accident    30      30\n",
       "ambulance              20      20\n",
       "annihilated            11      11\n",
       "...                   ...     ...\n",
       "wounded                26      26\n",
       "wounds                 10      10\n",
       "wreck                   7       7\n",
       "wreckage               39      39\n",
       "wrecked                 3       3\n",
       "\n",
       "[220 rows x 2 columns]"
      ]
     },
     "execution_count": 69,
     "metadata": {},
     "output_type": "execute_result"
    }
   ],
   "source": [
    "# to deal with missing values in 'keyword' let's look at the most common keywords in both targets\n",
    "df_train[df_train['target'] == 1].groupby('keyword').count()"
   ]
  },
  {
   "cell_type": "code",
   "execution_count": 70,
   "metadata": {},
   "outputs": [
    {
     "data": {
      "text/html": [
       "<div>\n",
       "<style scoped>\n",
       "    .dataframe tbody tr th:only-of-type {\n",
       "        vertical-align: middle;\n",
       "    }\n",
       "\n",
       "    .dataframe tbody tr th {\n",
       "        vertical-align: top;\n",
       "    }\n",
       "\n",
       "    .dataframe thead th {\n",
       "        text-align: right;\n",
       "    }\n",
       "</style>\n",
       "<table border=\"1\" class=\"dataframe\">\n",
       "  <thead>\n",
       "    <tr style=\"text-align: right;\">\n",
       "      <th></th>\n",
       "      <th>text</th>\n",
       "      <th>target</th>\n",
       "    </tr>\n",
       "    <tr>\n",
       "      <th>keyword</th>\n",
       "      <th></th>\n",
       "      <th></th>\n",
       "    </tr>\n",
       "  </thead>\n",
       "  <tbody>\n",
       "    <tr>\n",
       "      <th>ablaze</th>\n",
       "      <td>23</td>\n",
       "      <td>23</td>\n",
       "    </tr>\n",
       "    <tr>\n",
       "      <th>accident</th>\n",
       "      <td>11</td>\n",
       "      <td>11</td>\n",
       "    </tr>\n",
       "    <tr>\n",
       "      <th>aftershock</th>\n",
       "      <td>34</td>\n",
       "      <td>34</td>\n",
       "    </tr>\n",
       "    <tr>\n",
       "      <th>airplane%20accident</th>\n",
       "      <td>5</td>\n",
       "      <td>5</td>\n",
       "    </tr>\n",
       "    <tr>\n",
       "      <th>ambulance</th>\n",
       "      <td>18</td>\n",
       "      <td>18</td>\n",
       "    </tr>\n",
       "    <tr>\n",
       "      <th>...</th>\n",
       "      <td>...</td>\n",
       "      <td>...</td>\n",
       "    </tr>\n",
       "    <tr>\n",
       "      <th>windstorm</th>\n",
       "      <td>24</td>\n",
       "      <td>24</td>\n",
       "    </tr>\n",
       "    <tr>\n",
       "      <th>wounded</th>\n",
       "      <td>11</td>\n",
       "      <td>11</td>\n",
       "    </tr>\n",
       "    <tr>\n",
       "      <th>wounds</th>\n",
       "      <td>23</td>\n",
       "      <td>23</td>\n",
       "    </tr>\n",
       "    <tr>\n",
       "      <th>wreck</th>\n",
       "      <td>30</td>\n",
       "      <td>30</td>\n",
       "    </tr>\n",
       "    <tr>\n",
       "      <th>wrecked</th>\n",
       "      <td>36</td>\n",
       "      <td>36</td>\n",
       "    </tr>\n",
       "  </tbody>\n",
       "</table>\n",
       "<p>218 rows × 2 columns</p>\n",
       "</div>"
      ],
      "text/plain": [
       "                     text  target\n",
       "keyword                          \n",
       "ablaze                 23      23\n",
       "accident               11      11\n",
       "aftershock             34      34\n",
       "airplane%20accident     5       5\n",
       "ambulance              18      18\n",
       "...                   ...     ...\n",
       "windstorm              24      24\n",
       "wounded                11      11\n",
       "wounds                 23      23\n",
       "wreck                  30      30\n",
       "wrecked                36      36\n",
       "\n",
       "[218 rows x 2 columns]"
      ]
     },
     "execution_count": 70,
     "metadata": {},
     "output_type": "execute_result"
    }
   ],
   "source": [
    "df_train[df_train['target'] == 0].groupby('keyword').count()"
   ]
  },
  {
   "cell_type": "markdown",
   "metadata": {},
   "source": [
    "We can see that almost all keywords are related to disaster and present in both groups. Therefore, the tweet ext will be used to impute any keywords if present."
   ]
  },
  {
   "cell_type": "code",
   "execution_count": 71,
   "metadata": {},
   "outputs": [],
   "source": [
    "# save keywords as a list but we only want keywords that are not null\n",
    "keywords_list = list((df_train[df_train['keyword'].isnull() == False]['keyword']).unique())"
   ]
  },
  {
   "cell_type": "code",
   "execution_count": 72,
   "metadata": {},
   "outputs": [
    {
     "data": {
      "text/plain": [
       "221"
      ]
     },
     "execution_count": 72,
     "metadata": {},
     "output_type": "execute_result"
    }
   ],
   "source": [
    "# check length to confirm only unique words are present\n",
    "len(keywords_list)"
   ]
  },
  {
   "cell_type": "code",
   "execution_count": 73,
   "metadata": {},
   "outputs": [],
   "source": [
    "from nltk.stem.porter import PorterStemmer\n",
    "from nltk.tokenize import word_tokenize\n",
    "import string"
   ]
  },
  {
   "cell_type": "code",
   "execution_count": 74,
   "metadata": {},
   "outputs": [],
   "source": [
    "# we will fill null values for 'keyword' based on the list of present keywords that was just created\n",
    "def get_clean_text(raw_text):\n",
    "    \n",
    "    # remove hyperlink\n",
    "    text_c1 = raw_text.split('http')[0].strip()\n",
    "    \n",
    "    # remove username\n",
    "    text_c2 = ' '.join([word for word in text_c1.split() if '@' not in word])\n",
    "    \n",
    "    # remove all other punctuation\n",
    "    text_c3 = ''.join([ch for ch in text_c2 if ch not in string.punctuation])\n",
    "    \n",
    "    # convert text to lowercase\n",
    "    text_c4 = text_c3.lower()\n",
    "    \n",
    "    return text_c4\n",
    "    \n",
    "def impute_keyword(df):\n",
    "    keyword = df[0]\n",
    "    text = get_clean_text(df[1])\n",
    "    \n",
    "    if pd.isnull(keyword):            # if keyword === null\n",
    "        for item in keywords_list:    \n",
    "            if item.lower() in text.lower():          # of the tweet contains any keyword from the keyword list\n",
    "                return item\n",
    "    return keyword\n"
   ]
  },
  {
   "cell_type": "code",
   "execution_count": 75,
   "metadata": {},
   "outputs": [],
   "source": [
    "# impute leyword for both training and test data\n",
    "df_train['keyword'] = df_train[['keyword', 'text']].apply(impute_keyword, axis = 1)\n",
    "df_test['keyword'] = df_test[['keyword', 'text']].apply(impute_keyword, axis = 1)"
   ]
  },
  {
   "cell_type": "code",
   "execution_count": 76,
   "metadata": {},
   "outputs": [
    {
     "name": "stdout",
     "output_type": "stream",
     "text": [
      "Train: 20\n",
      "Test: 9\n"
     ]
    }
   ],
   "source": [
    "# let's check if any null values were replaced\n",
    "print(\"Train:\", df_train['keyword'].isnull().sum())  \n",
    "print(\"Test:\", df_test['keyword'].isnull().sum())  "
   ]
  },
  {
   "cell_type": "markdown",
   "metadata": {},
   "source": [
    "We cal see that more than half of the null values were replaced. Let's look at the remaining tweets with null values."
   ]
  },
  {
   "cell_type": "code",
   "execution_count": 77,
   "metadata": {},
   "outputs": [
    {
     "data": {
      "text/plain": [
       "10            Three people died from the heat wave so far\n",
       "15                                         What's up man?\n",
       "16                                          I love fruits\n",
       "17                                       Summer is lovely\n",
       "18                                      My car is so fast\n",
       "19                           What a goooooooaaaaaal!!!!!!\n",
       "20                                 this is ridiculous....\n",
       "21                                      London is cool ;)\n",
       "22                                            Love skiing\n",
       "23                                  What a wonderful day!\n",
       "24                                               LOOOOOOL\n",
       "25                         No way...I can't eat that shit\n",
       "26                                  Was in NYC last week!\n",
       "27                                     Love my girlfriend\n",
       "28                                              Cooool :)\n",
       "29                                     Do you like pasta?\n",
       "30                                               The end!\n",
       "7591    Heat wave warning aa? Ayyo dei. Just when I pl...\n",
       "7593    I just heard a really loud bang and everyone i...\n",
       "7601    #breaking #LA Refugio oil spill may have been ...\n",
       "Name: text, dtype: object"
      ]
     },
     "execution_count": 77,
     "metadata": {},
     "output_type": "execute_result"
    }
   ],
   "source": [
    "df_train[df_train['keyword'].isnull()]['text']"
   ]
  },
  {
   "cell_type": "markdown",
   "metadata": {},
   "source": [
    "We can just drop these values."
   ]
  },
  {
   "cell_type": "code",
   "execution_count": 78,
   "metadata": {},
   "outputs": [
    {
     "data": {
      "text/plain": [
       "keyword    0\n",
       "text       0\n",
       "target     0\n",
       "dtype: int64"
      ]
     },
     "execution_count": 78,
     "metadata": {},
     "output_type": "execute_result"
    }
   ],
   "source": [
    "df_train.dropna(axis = 0, inplace = True)\n",
    "df_train.reset_index(drop = True, inplace = True)\n",
    "df_train.isnull().sum()"
   ]
  },
  {
   "cell_type": "markdown",
   "metadata": {},
   "source": [
    "Now that we have imputed all keywords possible for the training and test data, we can perform normalization."
   ]
  },
  {
   "cell_type": "markdown",
   "metadata": {},
   "source": [
    "## Common techniques for text data normalization"
   ]
  },
  {
   "cell_type": "markdown",
   "metadata": {},
   "source": [
    "#### 1. Tokelization\n",
    "This is the process of converting a text/sentence or a string od characters into a list of words/tokens. We will also use delimiters to remove \"#\", quolations, etc.\n",
    "\n",
    "#### 2. Case Folding\n",
    "Reducing all letters to upper/lower case.\n",
    "\n",
    "#### 3. Removing Stop Words\n",
    "Stop words are common words like 'the','in','on','at', etc. which generally have little value when it comes to IR. However, these are found to be useful in finding patterns or meaning during deep learning.\n",
    "\n",
    "#### 4. Lemmatization\n",
    "Reducing a word/token into it's dictionary headword form i.e. lemma. For example: cars, car's -> car; cutting -> cut; etc.\n",
    "\n",
    "#### 5. Stemming\n",
    "Cutting off words at the end to acheive \"principled\" lemmatization. It si a faster way of acheiving lemmatization and does not depend on context. However, it may not always give sensible results in some cases. Exampe: reduction -> reduc (stemming) but reduction -> reduce (lemmatization)"
   ]
  },
  {
   "cell_type": "markdown",
   "metadata": {},
   "source": [
    "**To replace the remaining null values in the 'Keyword' column we will only use tokenization, case folding and stop word removal for now.**"
   ]
  },
  {
   "cell_type": "code",
   "execution_count": 79,
   "metadata": {},
   "outputs": [],
   "source": [
    "from nltk.corpus import stopwords     # to remove stopwords"
   ]
  },
  {
   "cell_type": "code",
   "execution_count": 80,
   "metadata": {},
   "outputs": [],
   "source": [
    "def normalize(text, stemming = 0, stopword_removal = 0, tokenize = 0):\n",
    "    \n",
    "    # first create a list of characters without punctuation\n",
    "    char_list = [ch for ch in text if ch not in string.punctuation]\n",
    "    \n",
    "    # join to re create a text without punctuation\n",
    "    text = ''.join(char_list)\n",
    "    \n",
    "    # case folding\n",
    "    lower_cased_text = text.casefold()\n",
    "    \n",
    "    if stopword_removal == 1:\n",
    "        # tokenize and remove stopwords\n",
    "        word_list = [word for word in lower_cased_text.split() if word not in stopwords.words('english')]\n",
    "        \n",
    "    if stemming == 1:\n",
    "        stemmer = PorterStemmer()\n",
    "        word_list = [stemmer.stem(word) for word in word_list]\n",
    "        \n",
    "    if tokenize == 1:\n",
    "        return word_list\n",
    "  \n",
    "    return ' '.join(word_list)\n"
   ]
  },
  {
   "cell_type": "code",
   "execution_count": 81,
   "metadata": {},
   "outputs": [
    {
     "data": {
      "text/plain": [
       "'forest fire near la rong sask canada'"
      ]
     },
     "execution_count": 81,
     "metadata": {},
     "output_type": "execute_result"
    }
   ],
   "source": [
    "#let's test it\n",
    "normalize(df_train['text'][1], 1, 1, 0)"
   ]
  },
  {
   "cell_type": "markdown",
   "metadata": {},
   "source": [
    "## Save clean data"
   ]
  },
  {
   "cell_type": "code",
   "execution_count": 82,
   "metadata": {},
   "outputs": [],
   "source": [
    "df_train.to_csv('Data\\\\disaster_tweets_kaggle\\\\train_clean', index = False)"
   ]
  },
  {
   "cell_type": "markdown",
   "metadata": {},
   "source": [
    "### Feature Engineering"
   ]
  },
  {
   "cell_type": "code",
   "execution_count": 24,
   "metadata": {},
   "outputs": [
    {
     "data": {
      "text/html": [
       "<div>\n",
       "<style scoped>\n",
       "    .dataframe tbody tr th:only-of-type {\n",
       "        vertical-align: middle;\n",
       "    }\n",
       "\n",
       "    .dataframe tbody tr th {\n",
       "        vertical-align: top;\n",
       "    }\n",
       "\n",
       "    .dataframe thead th {\n",
       "        text-align: right;\n",
       "    }\n",
       "</style>\n",
       "<table border=\"1\" class=\"dataframe\">\n",
       "  <thead>\n",
       "    <tr style=\"text-align: right;\">\n",
       "      <th></th>\n",
       "      <th>keyword</th>\n",
       "      <th>text</th>\n",
       "      <th>target</th>\n",
       "      <th>length</th>\n",
       "    </tr>\n",
       "  </thead>\n",
       "  <tbody>\n",
       "    <tr>\n",
       "      <th>0</th>\n",
       "      <td>earthquake</td>\n",
       "      <td>Our Deeds are the Reason of this #earthquake M...</td>\n",
       "      <td>1</td>\n",
       "      <td>69</td>\n",
       "    </tr>\n",
       "    <tr>\n",
       "      <th>1</th>\n",
       "      <td>fire</td>\n",
       "      <td>Forest fire near La Ronge Sask. Canada</td>\n",
       "      <td>1</td>\n",
       "      <td>38</td>\n",
       "    </tr>\n",
       "    <tr>\n",
       "      <th>2</th>\n",
       "      <td>evacuation</td>\n",
       "      <td>All residents asked to 'shelter in place' are ...</td>\n",
       "      <td>1</td>\n",
       "      <td>133</td>\n",
       "    </tr>\n",
       "    <tr>\n",
       "      <th>3</th>\n",
       "      <td>evacuation</td>\n",
       "      <td>13,000 people receive #wildfires evacuation or...</td>\n",
       "      <td>1</td>\n",
       "      <td>65</td>\n",
       "    </tr>\n",
       "    <tr>\n",
       "      <th>4</th>\n",
       "      <td>fire</td>\n",
       "      <td>Just got sent this photo from Ruby #Alaska as ...</td>\n",
       "      <td>1</td>\n",
       "      <td>88</td>\n",
       "    </tr>\n",
       "  </tbody>\n",
       "</table>\n",
       "</div>"
      ],
      "text/plain": [
       "      keyword                                               text  target  \\\n",
       "0  earthquake  Our Deeds are the Reason of this #earthquake M...       1   \n",
       "1        fire             Forest fire near La Ronge Sask. Canada       1   \n",
       "2  evacuation  All residents asked to 'shelter in place' are ...       1   \n",
       "3  evacuation  13,000 people receive #wildfires evacuation or...       1   \n",
       "4        fire  Just got sent this photo from Ruby #Alaska as ...       1   \n",
       "\n",
       "   length  \n",
       "0      69  \n",
       "1      38  \n",
       "2     133  \n",
       "3      65  \n",
       "4      88  "
      ]
     },
     "execution_count": 24,
     "metadata": {},
     "output_type": "execute_result"
    }
   ],
   "source": [
    "# Add length of the tweet as new attribute\n",
    "\n",
    "df_train['length'] = df_train['text'].apply(lambda x: len(x))\n",
    "df_train.head()"
   ]
  },
  {
   "cell_type": "code",
   "execution_count": 25,
   "metadata": {},
   "outputs": [],
   "source": [
    "# repeat with text data\n",
    "\n",
    "df_test['length'] = df_test['text'].apply(lambda x: len(x))"
   ]
  },
  {
   "cell_type": "code",
   "execution_count": 26,
   "metadata": {},
   "outputs": [
    {
     "data": {
      "image/png": "[encoded data removed]",
      "text/plain": [
       "<Figure size 720x576 with 1 Axes>"
      ]
     },
     "metadata": {
      "needs_background": "light"
     },
     "output_type": "display_data"
    }
   ],
   "source": [
    "# check target variable distribution with respect to length\n",
    "plt.figure(figsize = (10,8))\n",
    "sns.histplot(df_train, x = 'length', hue = 'target', bins = 50, kde = True)\n",
    "plt.grid()"
   ]
  },
  {
   "cell_type": "code",
   "execution_count": 27,
   "metadata": {},
   "outputs": [
    {
     "name": "stdout",
     "output_type": "stream",
     "text": [
      "count    3271.000000\n",
      "mean      108.113421\n",
      "std        29.309854\n",
      "min        14.000000\n",
      "25%        88.000000\n",
      "50%       115.000000\n",
      "75%       136.000000\n",
      "max       151.000000\n",
      "Name: length, dtype: float64\n",
      "\n",
      "\n",
      "count    4342.000000\n",
      "mean       95.706817\n",
      "std        35.885924\n",
      "min         7.000000\n",
      "25%        68.000000\n",
      "50%       101.000000\n",
      "75%       130.000000\n",
      "max       157.000000\n",
      "Name: length, dtype: float64\n"
     ]
    }
   ],
   "source": [
    "# let's look at the distribution's moments\n",
    "print(df_train[df_train['target'] == 1]['length'].describe())\n",
    "print(\"\\n\")\n",
    "print(df_train[df_train['target'] == 0]['length'].describe())"
   ]
  },
  {
   "cell_type": "markdown",
   "metadata": {},
   "source": [
    "### Sentiment Analysis\n",
    "\n",
    "The sentiment behind a tweet can play a huge role classifying whether it is actually about a disaster or not. Here we will use the nltk.vader_lexicon package to extract sentiment from a tweet and sue it as a new attribute."
   ]
  },
  {
   "cell_type": "code",
   "execution_count": 28,
   "metadata": {},
   "outputs": [],
   "source": [
    "from nltk.sentiment.vader import SentimentIntensityAnalyzer\n",
    "\n",
    "sia = SentimentIntensityAnalyzer()"
   ]
  },
  {
   "cell_type": "code",
   "execution_count": 33,
   "metadata": {},
   "outputs": [
    {
     "data": {
      "text/plain": [
       "{'neg': 0.0, 'neu': 0.406, 'pos': 0.594, 'compound': 0.6588}"
      ]
     },
     "execution_count": 33,
     "metadata": {},
     "output_type": "execute_result"
    }
   ],
   "source": [
    "# let's look at an example\n",
    "sia.polarity_scores(\"The weather is great!\")"
   ]
  },
  {
   "cell_type": "code",
   "execution_count": 34,
   "metadata": {},
   "outputs": [],
   "source": [
    "def get_sentiment_scores(text):\n",
    "    res = sia.polarity_scores(text)\n",
    "    return res['neg'], res['neu'], res['pos']"
   ]
  },
  {
   "cell_type": "code",
   "execution_count": 35,
   "metadata": {},
   "outputs": [],
   "source": [
    "# to get a better sentiment analysis first we will remove punctuations and use case folding on the texts\n",
    "df_train['normalized_text'] = df_train['text'].apply(normalize, stopword_removal = 0, tokenize = 0)\n",
    "df_test['normalized_text'] = df_test['text'].apply(normalize, stopword_removal = 0, tokenize = 0)"
   ]
  },
  {
   "cell_type": "code",
   "execution_count": 36,
   "metadata": {},
   "outputs": [
    {
     "data": {
      "text/html": [
       "<div>\n",
       "<style scoped>\n",
       "    .dataframe tbody tr th:only-of-type {\n",
       "        vertical-align: middle;\n",
       "    }\n",
       "\n",
       "    .dataframe tbody tr th {\n",
       "        vertical-align: top;\n",
       "    }\n",
       "\n",
       "    .dataframe thead th {\n",
       "        text-align: right;\n",
       "    }\n",
       "</style>\n",
       "<table border=\"1\" class=\"dataframe\">\n",
       "  <thead>\n",
       "    <tr style=\"text-align: right;\">\n",
       "      <th></th>\n",
       "      <th>keyword</th>\n",
       "      <th>text</th>\n",
       "      <th>target</th>\n",
       "      <th>length</th>\n",
       "      <th>normalized_text</th>\n",
       "    </tr>\n",
       "  </thead>\n",
       "  <tbody>\n",
       "    <tr>\n",
       "      <th>0</th>\n",
       "      <td>earthquake</td>\n",
       "      <td>Our Deeds are the Reason of this #earthquake M...</td>\n",
       "      <td>1</td>\n",
       "      <td>69</td>\n",
       "      <td>our deeds are the reason of this earthquake ma...</td>\n",
       "    </tr>\n",
       "    <tr>\n",
       "      <th>1</th>\n",
       "      <td>fire</td>\n",
       "      <td>Forest fire near La Ronge Sask. Canada</td>\n",
       "      <td>1</td>\n",
       "      <td>38</td>\n",
       "      <td>forest fire near la ronge sask canada</td>\n",
       "    </tr>\n",
       "    <tr>\n",
       "      <th>2</th>\n",
       "      <td>evacuation</td>\n",
       "      <td>All residents asked to 'shelter in place' are ...</td>\n",
       "      <td>1</td>\n",
       "      <td>133</td>\n",
       "      <td>all residents asked to shelter in place are be...</td>\n",
       "    </tr>\n",
       "    <tr>\n",
       "      <th>3</th>\n",
       "      <td>evacuation</td>\n",
       "      <td>13,000 people receive #wildfires evacuation or...</td>\n",
       "      <td>1</td>\n",
       "      <td>65</td>\n",
       "      <td>13000 people receive wildfires evacuation orde...</td>\n",
       "    </tr>\n",
       "    <tr>\n",
       "      <th>4</th>\n",
       "      <td>fire</td>\n",
       "      <td>Just got sent this photo from Ruby #Alaska as ...</td>\n",
       "      <td>1</td>\n",
       "      <td>88</td>\n",
       "      <td>just got sent this photo from ruby alaska as s...</td>\n",
       "    </tr>\n",
       "  </tbody>\n",
       "</table>\n",
       "</div>"
      ],
      "text/plain": [
       "      keyword                                               text  target  \\\n",
       "0  earthquake  Our Deeds are the Reason of this #earthquake M...       1   \n",
       "1        fire             Forest fire near La Ronge Sask. Canada       1   \n",
       "2  evacuation  All residents asked to 'shelter in place' are ...       1   \n",
       "3  evacuation  13,000 people receive #wildfires evacuation or...       1   \n",
       "4        fire  Just got sent this photo from Ruby #Alaska as ...       1   \n",
       "\n",
       "   length                                    normalized_text  \n",
       "0      69  our deeds are the reason of this earthquake ma...  \n",
       "1      38              forest fire near la ronge sask canada  \n",
       "2     133  all residents asked to shelter in place are be...  \n",
       "3      65  13000 people receive wildfires evacuation orde...  \n",
       "4      88  just got sent this photo from ruby alaska as s...  "
      ]
     },
     "execution_count": 36,
     "metadata": {},
     "output_type": "execute_result"
    }
   ],
   "source": [
    "df_train.head()"
   ]
  },
  {
   "cell_type": "code",
   "execution_count": 37,
   "metadata": {},
   "outputs": [],
   "source": [
    "df_train['neg'], df_train['neu'], df_train['pos'], = zip(*df_train['normalized_text'].apply(get_sentiment_scores))\n",
    "df_test['neg'], df_test['neu'], df_test['pos'], = zip(*df_test['normalized_text'].apply(get_sentiment_scores))"
   ]
  },
  {
   "cell_type": "code",
   "execution_count": 38,
   "metadata": {},
   "outputs": [
    {
     "data": {
      "text/html": [
       "<div>\n",
       "<style scoped>\n",
       "    .dataframe tbody tr th:only-of-type {\n",
       "        vertical-align: middle;\n",
       "    }\n",
       "\n",
       "    .dataframe tbody tr th {\n",
       "        vertical-align: top;\n",
       "    }\n",
       "\n",
       "    .dataframe thead th {\n",
       "        text-align: right;\n",
       "    }\n",
       "</style>\n",
       "<table border=\"1\" class=\"dataframe\">\n",
       "  <thead>\n",
       "    <tr style=\"text-align: right;\">\n",
       "      <th></th>\n",
       "      <th>keyword</th>\n",
       "      <th>text</th>\n",
       "      <th>target</th>\n",
       "      <th>length</th>\n",
       "      <th>normalized_text</th>\n",
       "      <th>neg</th>\n",
       "      <th>neu</th>\n",
       "      <th>pos</th>\n",
       "    </tr>\n",
       "  </thead>\n",
       "  <tbody>\n",
       "    <tr>\n",
       "      <th>0</th>\n",
       "      <td>earthquake</td>\n",
       "      <td>Our Deeds are the Reason of this #earthquake M...</td>\n",
       "      <td>1</td>\n",
       "      <td>69</td>\n",
       "      <td>our deeds are the reason of this earthquake ma...</td>\n",
       "      <td>0.000</td>\n",
       "      <td>0.851</td>\n",
       "      <td>0.149</td>\n",
       "    </tr>\n",
       "    <tr>\n",
       "      <th>1</th>\n",
       "      <td>fire</td>\n",
       "      <td>Forest fire near La Ronge Sask. Canada</td>\n",
       "      <td>1</td>\n",
       "      <td>38</td>\n",
       "      <td>forest fire near la ronge sask canada</td>\n",
       "      <td>0.286</td>\n",
       "      <td>0.714</td>\n",
       "      <td>0.000</td>\n",
       "    </tr>\n",
       "    <tr>\n",
       "      <th>2</th>\n",
       "      <td>evacuation</td>\n",
       "      <td>All residents asked to 'shelter in place' are ...</td>\n",
       "      <td>1</td>\n",
       "      <td>133</td>\n",
       "      <td>all residents asked to shelter in place are be...</td>\n",
       "      <td>0.095</td>\n",
       "      <td>0.905</td>\n",
       "      <td>0.000</td>\n",
       "    </tr>\n",
       "    <tr>\n",
       "      <th>3</th>\n",
       "      <td>evacuation</td>\n",
       "      <td>13,000 people receive #wildfires evacuation or...</td>\n",
       "      <td>1</td>\n",
       "      <td>65</td>\n",
       "      <td>13000 people receive wildfires evacuation orde...</td>\n",
       "      <td>0.000</td>\n",
       "      <td>1.000</td>\n",
       "      <td>0.000</td>\n",
       "    </tr>\n",
       "    <tr>\n",
       "      <th>4</th>\n",
       "      <td>fire</td>\n",
       "      <td>Just got sent this photo from Ruby #Alaska as ...</td>\n",
       "      <td>1</td>\n",
       "      <td>88</td>\n",
       "      <td>just got sent this photo from ruby alaska as s...</td>\n",
       "      <td>0.000</td>\n",
       "      <td>1.000</td>\n",
       "      <td>0.000</td>\n",
       "    </tr>\n",
       "  </tbody>\n",
       "</table>\n",
       "</div>"
      ],
      "text/plain": [
       "      keyword                                               text  target  \\\n",
       "0  earthquake  Our Deeds are the Reason of this #earthquake M...       1   \n",
       "1        fire             Forest fire near La Ronge Sask. Canada       1   \n",
       "2  evacuation  All residents asked to 'shelter in place' are ...       1   \n",
       "3  evacuation  13,000 people receive #wildfires evacuation or...       1   \n",
       "4        fire  Just got sent this photo from Ruby #Alaska as ...       1   \n",
       "\n",
       "   length                                    normalized_text    neg    neu  \\\n",
       "0      69  our deeds are the reason of this earthquake ma...  0.000  0.851   \n",
       "1      38              forest fire near la ronge sask canada  0.286  0.714   \n",
       "2     133  all residents asked to shelter in place are be...  0.095  0.905   \n",
       "3      65  13000 people receive wildfires evacuation orde...  0.000  1.000   \n",
       "4      88  just got sent this photo from ruby alaska as s...  0.000  1.000   \n",
       "\n",
       "     pos  \n",
       "0  0.149  \n",
       "1  0.000  \n",
       "2  0.000  \n",
       "3  0.000  \n",
       "4  0.000  "
      ]
     },
     "execution_count": 38,
     "metadata": {},
     "output_type": "execute_result"
    }
   ],
   "source": [
    "df_train.head()"
   ]
  },
  {
   "cell_type": "code",
   "execution_count": 39,
   "metadata": {},
   "outputs": [],
   "source": [
    "# drop original text\n",
    "df_train.drop(['text'], axis = 1, inplace = True)\n",
    "df_test.drop(['text'], axis = 1, inplace = True)"
   ]
  },
  {
   "cell_type": "code",
   "execution_count": 40,
   "metadata": {},
   "outputs": [
    {
     "data": {
      "text/html": [
       "<div>\n",
       "<style scoped>\n",
       "    .dataframe tbody tr th:only-of-type {\n",
       "        vertical-align: middle;\n",
       "    }\n",
       "\n",
       "    .dataframe tbody tr th {\n",
       "        vertical-align: top;\n",
       "    }\n",
       "\n",
       "    .dataframe thead th {\n",
       "        text-align: right;\n",
       "    }\n",
       "</style>\n",
       "<table border=\"1\" class=\"dataframe\">\n",
       "  <thead>\n",
       "    <tr style=\"text-align: right;\">\n",
       "      <th></th>\n",
       "      <th>keyword</th>\n",
       "      <th>target</th>\n",
       "      <th>length</th>\n",
       "      <th>normalized_text</th>\n",
       "      <th>neg</th>\n",
       "      <th>neu</th>\n",
       "      <th>pos</th>\n",
       "    </tr>\n",
       "  </thead>\n",
       "  <tbody>\n",
       "    <tr>\n",
       "      <th>0</th>\n",
       "      <td>earthquake</td>\n",
       "      <td>1</td>\n",
       "      <td>69</td>\n",
       "      <td>our deeds are the reason of this earthquake ma...</td>\n",
       "      <td>0.000</td>\n",
       "      <td>0.851</td>\n",
       "      <td>0.149</td>\n",
       "    </tr>\n",
       "    <tr>\n",
       "      <th>1</th>\n",
       "      <td>fire</td>\n",
       "      <td>1</td>\n",
       "      <td>38</td>\n",
       "      <td>forest fire near la ronge sask canada</td>\n",
       "      <td>0.286</td>\n",
       "      <td>0.714</td>\n",
       "      <td>0.000</td>\n",
       "    </tr>\n",
       "    <tr>\n",
       "      <th>2</th>\n",
       "      <td>evacuation</td>\n",
       "      <td>1</td>\n",
       "      <td>133</td>\n",
       "      <td>all residents asked to shelter in place are be...</td>\n",
       "      <td>0.095</td>\n",
       "      <td>0.905</td>\n",
       "      <td>0.000</td>\n",
       "    </tr>\n",
       "    <tr>\n",
       "      <th>3</th>\n",
       "      <td>evacuation</td>\n",
       "      <td>1</td>\n",
       "      <td>65</td>\n",
       "      <td>13000 people receive wildfires evacuation orde...</td>\n",
       "      <td>0.000</td>\n",
       "      <td>1.000</td>\n",
       "      <td>0.000</td>\n",
       "    </tr>\n",
       "    <tr>\n",
       "      <th>4</th>\n",
       "      <td>fire</td>\n",
       "      <td>1</td>\n",
       "      <td>88</td>\n",
       "      <td>just got sent this photo from ruby alaska as s...</td>\n",
       "      <td>0.000</td>\n",
       "      <td>1.000</td>\n",
       "      <td>0.000</td>\n",
       "    </tr>\n",
       "    <tr>\n",
       "      <th>5</th>\n",
       "      <td>fire</td>\n",
       "      <td>1</td>\n",
       "      <td>110</td>\n",
       "      <td>rockyfire update  california hwy 20 closed in ...</td>\n",
       "      <td>0.138</td>\n",
       "      <td>0.862</td>\n",
       "      <td>0.000</td>\n",
       "    </tr>\n",
       "    <tr>\n",
       "      <th>6</th>\n",
       "      <td>disaster</td>\n",
       "      <td>1</td>\n",
       "      <td>95</td>\n",
       "      <td>flood disaster heavy rain causes flash floodin...</td>\n",
       "      <td>0.240</td>\n",
       "      <td>0.760</td>\n",
       "      <td>0.000</td>\n",
       "    </tr>\n",
       "    <tr>\n",
       "      <th>7</th>\n",
       "      <td>fire</td>\n",
       "      <td>1</td>\n",
       "      <td>59</td>\n",
       "      <td>im on top of the hill and i can see a fire in ...</td>\n",
       "      <td>0.158</td>\n",
       "      <td>0.724</td>\n",
       "      <td>0.118</td>\n",
       "    </tr>\n",
       "    <tr>\n",
       "      <th>8</th>\n",
       "      <td>emergency</td>\n",
       "      <td>1</td>\n",
       "      <td>79</td>\n",
       "      <td>theres an emergency evacuation happening now i...</td>\n",
       "      <td>0.191</td>\n",
       "      <td>0.809</td>\n",
       "      <td>0.000</td>\n",
       "    </tr>\n",
       "    <tr>\n",
       "      <th>9</th>\n",
       "      <td>tornado</td>\n",
       "      <td>1</td>\n",
       "      <td>52</td>\n",
       "      <td>im afraid that the tornado is coming to our area</td>\n",
       "      <td>0.000</td>\n",
       "      <td>1.000</td>\n",
       "      <td>0.000</td>\n",
       "    </tr>\n",
       "  </tbody>\n",
       "</table>\n",
       "</div>"
      ],
      "text/plain": [
       "      keyword  target  length  \\\n",
       "0  earthquake       1      69   \n",
       "1        fire       1      38   \n",
       "2  evacuation       1     133   \n",
       "3  evacuation       1      65   \n",
       "4        fire       1      88   \n",
       "5        fire       1     110   \n",
       "6    disaster       1      95   \n",
       "7        fire       1      59   \n",
       "8   emergency       1      79   \n",
       "9     tornado       1      52   \n",
       "\n",
       "                                     normalized_text    neg    neu    pos  \n",
       "0  our deeds are the reason of this earthquake ma...  0.000  0.851  0.149  \n",
       "1              forest fire near la ronge sask canada  0.286  0.714  0.000  \n",
       "2  all residents asked to shelter in place are be...  0.095  0.905  0.000  \n",
       "3  13000 people receive wildfires evacuation orde...  0.000  1.000  0.000  \n",
       "4  just got sent this photo from ruby alaska as s...  0.000  1.000  0.000  \n",
       "5  rockyfire update  california hwy 20 closed in ...  0.138  0.862  0.000  \n",
       "6  flood disaster heavy rain causes flash floodin...  0.240  0.760  0.000  \n",
       "7  im on top of the hill and i can see a fire in ...  0.158  0.724  0.118  \n",
       "8  theres an emergency evacuation happening now i...  0.191  0.809  0.000  \n",
       "9   im afraid that the tornado is coming to our area  0.000  1.000  0.000  "
      ]
     },
     "execution_count": 40,
     "metadata": {},
     "output_type": "execute_result"
    }
   ],
   "source": [
    "df_train.head(10)"
   ]
  },
  {
   "cell_type": "code",
   "execution_count": 41,
   "metadata": {},
   "outputs": [
    {
     "data": {
      "text/plain": [
       "Text(0.5, 1.0, 'Traget distribution on Negative sentiment')"
      ]
     },
     "execution_count": 41,
     "metadata": {},
     "output_type": "execute_result"
    },
    {
     "data": {
      "image/png": "[encoded data removed]",
      "text/plain": [
       "<Figure size 432x288 with 1 Axes>"
      ]
     },
     "metadata": {
      "needs_background": "light"
     },
     "output_type": "display_data"
    }
   ],
   "source": [
    "# let's checkout the distribution based plt.figure(figsize = (8,6))\n",
    "plt.figure(figsize = (6,4))\n",
    "sns.boxplot(data = df_train, x = 'target', y = 'neg')\n",
    "plt.grid(which = 'both')\n",
    "plt.title('Traget distribution on Negative sentiment')"
   ]
  },
  {
   "cell_type": "code",
   "execution_count": 42,
   "metadata": {},
   "outputs": [
    {
     "data": {
      "text/plain": [
       "Text(0.5, 1.0, 'Traget distribution on Positive sentiment')"
      ]
     },
     "execution_count": 42,
     "metadata": {},
     "output_type": "execute_result"
    },
    {
     "data": {
      "image/png": "[encoded data removed]",
      "text/plain": [
       "<Figure size 432x288 with 1 Axes>"
      ]
     },
     "metadata": {
      "needs_background": "light"
     },
     "output_type": "display_data"
    }
   ],
   "source": [
    "plt.figure(figsize = (6,4))\n",
    "sns.boxplot(data = df_train, x = 'target', y = 'pos')\n",
    "plt.grid(which = 'both')\n",
    "plt.title('Traget distribution on Positive sentiment')"
   ]
  },
  {
   "cell_type": "code",
   "execution_count": 43,
   "metadata": {},
   "outputs": [
    {
     "data": {
      "text/plain": [
       "Text(0.5, 1.0, 'Traget distribution on Neutral sentiment')"
      ]
     },
     "execution_count": 43,
     "metadata": {},
     "output_type": "execute_result"
    },
    {
     "data": {
      "image/png": "[encoded data removed]",
      "text/plain": [
       "<Figure size 432x288 with 1 Axes>"
      ]
     },
     "metadata": {
      "needs_background": "light"
     },
     "output_type": "display_data"
    }
   ],
   "source": [
    "plt.figure(figsize = (6,4))\n",
    "sns.boxplot(data = df_train, x = 'target', y = 'neu')\n",
    "plt.grid(which = 'both')\n",
    "plt.title('Traget distribution on Neutral sentiment')"
   ]
  },
  {
   "cell_type": "code",
   "execution_count": 44,
   "metadata": {},
   "outputs": [
    {
     "data": {
      "text/plain": [
       "1817"
      ]
     },
     "execution_count": 44,
     "metadata": {},
     "output_type": "execute_result"
    }
   ],
   "source": [
    "# let's check how many values have 0 for positive and negative sentiment\n",
    "df_train[(df_train['neg'] == 0) & (df_train['pos'] == 0)]['normalized_text'].count()"
   ]
  },
  {
   "cell_type": "markdown",
   "metadata": {},
   "source": [
    "### Correlation Heatmap "
   ]
  },
  {
   "cell_type": "code",
   "execution_count": 45,
   "metadata": {},
   "outputs": [
    {
     "data": {
      "text/plain": [
       "<AxesSubplot:>"
      ]
     },
     "execution_count": 45,
     "metadata": {},
     "output_type": "execute_result"
    },
    {
     "data": {
      "image/png": "[encoded data removed]",
      "text/plain": [
       "<Figure size 720x576 with 2 Axes>"
      ]
     },
     "metadata": {
      "needs_background": "light"
     },
     "output_type": "display_data"
    }
   ],
   "source": [
    "# let's check correlation between numerical features and the target variable\n",
    "\n",
    "plt.figure(figsize = (10, 8))\n",
    "sns.heatmap(data = df_train.corr(), mask = np.triu(np.ones_like(df_train.corr(), dtype= bool)), \\\n",
    "            annot = True, vmax = 1, vmin = -1, cbar = True, cmap = \"mako\")"
   ]
  },
  {
   "cell_type": "code",
   "execution_count": 46,
   "metadata": {},
   "outputs": [
    {
     "name": "stdout",
     "output_type": "stream",
     "text": [
      "The % of non-disaster tweets that are more positive than negative are: 56.66%.\n"
     ]
    }
   ],
   "source": [
    "# let's check out the percentage non-diasater tweets have more positive tone than negative\n",
    "total_nd =  df_train[df_train['target'] == 0]['normalized_text'].count()\n",
    "total_more_pos = df_train[(df_train['target'] == 0) & (df_train['pos'] >= df_train['neg'])]['normalized_text'].count()\n",
    "print(f\"The % of non-disaster tweets that are more positive than negative are: {total_more_pos*100/total_nd:.2f}%.\")"
   ]
  },
  {
   "cell_type": "code",
   "execution_count": 47,
   "metadata": {},
   "outputs": [
    {
     "name": "stdout",
     "output_type": "stream",
     "text": [
      "The % of disaster tweets that are more negative than positive are: 83.12%.\n"
     ]
    }
   ],
   "source": [
    "# let's check out the percentage diasater tweets have more negative tone than positive\n",
    "total_d =  df_train[df_train['target'] == 1]['normalized_text'].count()\n",
    "total_more_neg = df_train[(df_train['target'] == 1) & (df_train['pos'] <= df_train['neg'])]['normalized_text'].count()\n",
    "print(f\"The % of disaster tweets that are more negative than positive are: {total_more_neg*100/total_d:.2f}%.\")"
   ]
  },
  {
   "cell_type": "markdown",
   "metadata": {},
   "source": [
    "### Count Vectorization of Text String"
   ]
  },
  {
   "cell_type": "markdown",
   "metadata": {},
   "source": [
    "#### Bag of words model\n",
    "\n"
   ]
  },
  {
   "cell_type": "markdown",
   "metadata": {},
   "source": [
    "The bag of words model first uses the entire text dataset to create a vocabulary of tokens. Then for each text data point, a count vector is created that contains the number of times each token is present in the dataset. This will be a very sparse matrix for most text dataset."
   ]
  },
  {
   "cell_type": "code",
   "execution_count": 48,
   "metadata": {},
   "outputs": [],
   "source": [
    "from sklearn.feature_extraction.text import CountVectorizer"
   ]
  },
  {
   "cell_type": "code",
   "execution_count": 49,
   "metadata": {},
   "outputs": [
    {
     "data": {
      "text/html": [
       "<div>\n",
       "<style scoped>\n",
       "    .dataframe tbody tr th:only-of-type {\n",
       "        vertical-align: middle;\n",
       "    }\n",
       "\n",
       "    .dataframe tbody tr th {\n",
       "        vertical-align: top;\n",
       "    }\n",
       "\n",
       "    .dataframe thead th {\n",
       "        text-align: right;\n",
       "    }\n",
       "</style>\n",
       "<table border=\"1\" class=\"dataframe\">\n",
       "  <thead>\n",
       "    <tr style=\"text-align: right;\">\n",
       "      <th></th>\n",
       "      <th>keyword</th>\n",
       "      <th>target</th>\n",
       "      <th>length</th>\n",
       "      <th>normalized_text</th>\n",
       "      <th>neg</th>\n",
       "      <th>neu</th>\n",
       "      <th>pos</th>\n",
       "    </tr>\n",
       "  </thead>\n",
       "  <tbody>\n",
       "    <tr>\n",
       "      <th>0</th>\n",
       "      <td>earthquake</td>\n",
       "      <td>1</td>\n",
       "      <td>69</td>\n",
       "      <td>our deeds are the reason of this earthquake ma...</td>\n",
       "      <td>0.000</td>\n",
       "      <td>0.851</td>\n",
       "      <td>0.149</td>\n",
       "    </tr>\n",
       "    <tr>\n",
       "      <th>1</th>\n",
       "      <td>fire</td>\n",
       "      <td>1</td>\n",
       "      <td>38</td>\n",
       "      <td>forest fire near la ronge sask canada</td>\n",
       "      <td>0.286</td>\n",
       "      <td>0.714</td>\n",
       "      <td>0.000</td>\n",
       "    </tr>\n",
       "    <tr>\n",
       "      <th>2</th>\n",
       "      <td>evacuation</td>\n",
       "      <td>1</td>\n",
       "      <td>133</td>\n",
       "      <td>all residents asked to shelter in place are be...</td>\n",
       "      <td>0.095</td>\n",
       "      <td>0.905</td>\n",
       "      <td>0.000</td>\n",
       "    </tr>\n",
       "    <tr>\n",
       "      <th>3</th>\n",
       "      <td>evacuation</td>\n",
       "      <td>1</td>\n",
       "      <td>65</td>\n",
       "      <td>13000 people receive wildfires evacuation orde...</td>\n",
       "      <td>0.000</td>\n",
       "      <td>1.000</td>\n",
       "      <td>0.000</td>\n",
       "    </tr>\n",
       "    <tr>\n",
       "      <th>4</th>\n",
       "      <td>fire</td>\n",
       "      <td>1</td>\n",
       "      <td>88</td>\n",
       "      <td>just got sent this photo from ruby alaska as s...</td>\n",
       "      <td>0.000</td>\n",
       "      <td>1.000</td>\n",
       "      <td>0.000</td>\n",
       "    </tr>\n",
       "  </tbody>\n",
       "</table>\n",
       "</div>"
      ],
      "text/plain": [
       "      keyword  target  length  \\\n",
       "0  earthquake       1      69   \n",
       "1        fire       1      38   \n",
       "2  evacuation       1     133   \n",
       "3  evacuation       1      65   \n",
       "4        fire       1      88   \n",
       "\n",
       "                                     normalized_text    neg    neu    pos  \n",
       "0  our deeds are the reason of this earthquake ma...  0.000  0.851  0.149  \n",
       "1              forest fire near la ronge sask canada  0.286  0.714  0.000  \n",
       "2  all residents asked to shelter in place are be...  0.095  0.905  0.000  \n",
       "3  13000 people receive wildfires evacuation orde...  0.000  1.000  0.000  \n",
       "4  just got sent this photo from ruby alaska as s...  0.000  1.000  0.000  "
      ]
     },
     "execution_count": 49,
     "metadata": {},
     "output_type": "execute_result"
    }
   ],
   "source": [
    "df_train.head()"
   ]
  },
  {
   "cell_type": "code",
   "execution_count": 50,
   "metadata": {},
   "outputs": [],
   "source": [
    "'''\n",
    "As our model needs to be able to transform both training and text data the bag of words vocabulary must include tokens\n",
    "from both training and test tweets.\n",
    "'''\n",
    "complete_vocab = df_train['normalized_text'].append(df_test['normalized_text'], ignore_index = True)"
   ]
  },
  {
   "cell_type": "code",
   "execution_count": 51,
   "metadata": {},
   "outputs": [
    {
     "data": {
      "text/plain": [
       "0        our deeds are the reason of this earthquake ma...\n",
       "1                    forest fire near la ronge sask canada\n",
       "2        all residents asked to shelter in place are be...\n",
       "3        13000 people receive wildfires evacuation orde...\n",
       "4        just got sent this photo from ruby alaska as s...\n",
       "                               ...                        \n",
       "10871    earthquake safety los angeles ûò safety faste...\n",
       "10872    storm in ri worse than last hurricane my citya...\n",
       "10873    green line derailment in chicago httptcoutbxlc...\n",
       "10874    meg issues hazardous weather outlook hwo httpt...\n",
       "10875    cityofcalgary has activated its municipal emer...\n",
       "Name: normalized_text, Length: 10876, dtype: object"
      ]
     },
     "execution_count": 51,
     "metadata": {},
     "output_type": "execute_result"
    }
   ],
   "source": [
    "complete_vocab"
   ]
  },
  {
   "cell_type": "code",
   "execution_count": 52,
   "metadata": {},
   "outputs": [],
   "source": [
    "# create a bag of words transformer using the normalize function as he analyzer\n",
    "bow_transformer = CountVectorizer(analyzer = normalize).fit(complete_vocab)"
   ]
  },
  {
   "cell_type": "code",
   "execution_count": 53,
   "metadata": {},
   "outputs": [
    {
     "name": "stdout",
     "output_type": "stream",
     "text": [
      "29227\n"
     ]
    }
   ],
   "source": [
    "# check how large the vocabulary is\n",
    "print(len(bow_transformer.vocabulary_))"
   ]
  },
  {
   "cell_type": "code",
   "execution_count": 54,
   "metadata": {},
   "outputs": [
    {
     "name": "stdout",
     "output_type": "stream",
     "text": [
      "all residents asked to shelter in place are being notified by officers no other evacuation or shelter in place orders are expected\n"
     ]
    }
   ],
   "source": [
    "tweet2 = df_train['normalized_text'][2]\n",
    "print(tweet2)"
   ]
  },
  {
   "cell_type": "code",
   "execution_count": 55,
   "metadata": {},
   "outputs": [
    {
     "name": "stdout",
     "output_type": "stream",
     "text": [
      "  (0, 2052)\t1\n",
      "  (0, 7193)\t1\n",
      "  (0, 7303)\t1\n",
      "  (0, 20640)\t1\n",
      "  (0, 20857)\t1\n",
      "  (0, 21098)\t1\n",
      "  (0, 21861)\t2\n",
      "  (0, 23234)\t1\n",
      "  (0, 24459)\t2\n"
     ]
    }
   ],
   "source": [
    "# each term is converted into it's vocabulary id and the count\n",
    "print(bow_transformer.transform([tweet2]))"
   ]
  },
  {
   "cell_type": "code",
   "execution_count": 56,
   "metadata": {},
   "outputs": [],
   "source": [
    "# create the sparse matrix\n",
    "tweets_bow = bow_transformer.transform(df_train['normalized_text'])"
   ]
  },
  {
   "cell_type": "code",
   "execution_count": 57,
   "metadata": {},
   "outputs": [
    {
     "data": {
      "text/plain": [
       "(7613, 29227)"
      ]
     },
     "execution_count": 57,
     "metadata": {},
     "output_type": "execute_result"
    }
   ],
   "source": [
    "tweets_bow.shape"
   ]
  },
  {
   "cell_type": "code",
   "execution_count": 58,
   "metadata": {},
   "outputs": [
    {
     "data": {
      "text/plain": [
       "74592"
      ]
     },
     "execution_count": 58,
     "metadata": {},
     "output_type": "execute_result"
    }
   ],
   "source": [
    "#to get non zero occurence\n",
    "tweets_bow.nnz"
   ]
  },
  {
   "cell_type": "code",
   "execution_count": 59,
   "metadata": {},
   "outputs": [],
   "source": [
    "def get_sparsity(matrx):\n",
    "    total_elements = (matrx.shape[0] * matrx.shape[1])\n",
    "    total_nonzero = matrx.nnz\n",
    "    total_zero = total_elements - total_nonzero\n",
    "    sparsity = total_zero/total_elements\n",
    "    return 100*sparsity"
   ]
  },
  {
   "cell_type": "code",
   "execution_count": 60,
   "metadata": {},
   "outputs": [
    {
     "name": "stdout",
     "output_type": "stream",
     "text": [
      "sparsity: 99.966%\n"
     ]
    }
   ],
   "source": [
    "# check sparsity\n",
    "print(f'sparsity: {get_sparsity(tweets_bow):.3f}%')"
   ]
  },
  {
   "cell_type": "markdown",
   "metadata": {},
   "source": [
    "### Tf-idf weighing\n",
    "\n",
    "**Tf** also known as **term frequency** is the number of times a term occurs in a specific text data point.\n",
    "**df** also known as **document frequency** is the number of documents the term occurs in. The lower the **df**, the rarer the term\n",
    "**idf** also known as the **inverse document frequency** quantifies a term's rarity using its **df** value. Lower **df** corresponds to higher **idf**.\n",
    "\n",
    "### Tf-idf weight = Tf x idf is an attibute of a single datapoint with regards to a single term\n",
    "1. We will now convert the count matrix into a tf-idf weight matrix. \n",
    "2. This whole process has converted out text data into numerical data existing in  avector space where each token in the bag of words vocabulary is a dimension. \n",
    "3. After that, any new data text data can be converted to a tf-idf vector and has it's own position in the vector space.\n",
    "4. Depending on where the new data lies, we can classify it as \"disaster\" or \"non-disaster\" tweet."
   ]
  },
  {
   "cell_type": "code",
   "execution_count": 61,
   "metadata": {},
   "outputs": [],
   "source": [
    "from sklearn.feature_extraction.text import TfidfTransformer"
   ]
  },
  {
   "cell_type": "code",
   "execution_count": 62,
   "metadata": {},
   "outputs": [],
   "source": [
    "#creating tfidf transformer\n",
    "tfidf_transformer = TfidfTransformer().fit(tweets_bow)"
   ]
  },
  {
   "cell_type": "code",
   "execution_count": 63,
   "metadata": {},
   "outputs": [],
   "source": [
    "#let's see the tf-idf for third_BOW\n",
    "\n",
    "tfidf_third = tfidf_transformer.transform(tweets_bow[3])"
   ]
  },
  {
   "cell_type": "code",
   "execution_count": 64,
   "metadata": {},
   "outputs": [
    {
     "name": "stdout",
     "output_type": "stream",
     "text": [
      "  (0, 28426)\t0.4019704021353919\n",
      "  (0, 22911)\t0.4767404904047081\n",
      "  (0, 21596)\t0.2524302255967596\n",
      "  (0, 21098)\t0.4019704021353919\n",
      "  (0, 7193)\t0.32499857070155524\n",
      "  (0, 3707)\t0.2800754357680283\n",
      "  (0, 171)\t0.44918899914108007\n"
     ]
    }
   ],
   "source": [
    "print(tfidf_third)"
   ]
  },
  {
   "cell_type": "code",
   "execution_count": 65,
   "metadata": {},
   "outputs": [],
   "source": [
    "#converting sparse matrix data to tfidf values\n",
    "\n",
    "tweets_tfidf = tfidf_transformer.transform(tweets_bow)"
   ]
  },
  {
   "cell_type": "code",
   "execution_count": 66,
   "metadata": {},
   "outputs": [
    {
     "name": "stdout",
     "output_type": "stream",
     "text": [
      "(7613, 29227)\n"
     ]
    }
   ],
   "source": [
    "print(tweets_tfidf.shape)"
   ]
  },
  {
   "cell_type": "code",
   "execution_count": 67,
   "metadata": {},
   "outputs": [
    {
     "name": "stdout",
     "output_type": "stream",
     "text": [
      "(3263, 29227)\n"
     ]
    }
   ],
   "source": [
    "# repeat for test data\n",
    "tweets_bow_test = bow_transformer.transform(df_test['normalized_text'])\n",
    "tweets_tfidf_test = tfidf_transformer.transform(tweets_bow_test)\n",
    "print(tweets_tfidf_test.shape)"
   ]
  },
  {
   "cell_type": "code",
   "execution_count": 68,
   "metadata": {},
   "outputs": [
    {
     "data": {
      "text/plain": [
       "(7613,)"
      ]
     },
     "execution_count": 68,
     "metadata": {},
     "output_type": "execute_result"
    }
   ],
   "source": [
    "df_train['target'].shape"
   ]
  },
  {
   "cell_type": "code",
   "execution_count": 69,
   "metadata": {},
   "outputs": [
    {
     "data": {
      "text/plain": [
       "scipy.sparse.csr.csr_matrix"
      ]
     },
     "execution_count": 69,
     "metadata": {},
     "output_type": "execute_result"
    }
   ],
   "source": [
    "type(tweets_tfidf)"
   ]
  },
  {
   "cell_type": "markdown",
   "metadata": {},
   "source": [
    "## K Nearest Neighbor Classification"
   ]
  },
  {
   "cell_type": "markdown",
   "metadata": {},
   "source": [
    "We will first use KNN classifier to create a model by just using the tf-idf vector and the class label. We will use other attributes later to compare the performance difference."
   ]
  },
  {
   "cell_type": "code",
   "execution_count": 70,
   "metadata": {},
   "outputs": [],
   "source": [
    "from sklearn.neighbors import KNeighborsClassifier"
   ]
  },
  {
   "cell_type": "code",
   "execution_count": 71,
   "metadata": {},
   "outputs": [],
   "source": [
    "knn_model = KNeighborsClassifier()"
   ]
  },
  {
   "cell_type": "code",
   "execution_count": 94,
   "metadata": {},
   "outputs": [],
   "source": [
    "# using grid search CV for cross validation\n",
    "from sklearn.model_selection import RandomizedSearchCV\n",
    "\n",
    "# since out matrix is sparse we need to use larger k\n",
    "random_grid = {\n",
    "    'n_neighbors': [ n for n in range(5,550,5)],\n",
    "    'p': [1, 2]\n",
    "}"
   ]
  },
  {
   "cell_type": "code",
   "execution_count": 95,
   "metadata": {},
   "outputs": [
    {
     "name": "stdout",
     "output_type": "stream",
     "text": [
      "Fitting 30 folds for each of 30 candidates, totalling 900 fits\n"
     ]
    },
    {
     "name": "stderr",
     "output_type": "stream",
     "text": [
      "[Parallel(n_jobs=1)]: Using backend SequentialBackend with 1 concurrent workers.\n",
      "[Parallel(n_jobs=1)]: Done 900 out of 900 | elapsed:  1.8min finished\n"
     ]
    },
    {
     "data": {
      "text/plain": [
       "RandomizedSearchCV(cv=30, estimator=KNeighborsClassifier(), n_iter=30,\n",
       "                   param_distributions={'n_neighbors': [5, 10, 15, 20, 25, 30,\n",
       "                                                        35, 40, 45, 50, 55, 60,\n",
       "                                                        65, 70, 75, 80, 85, 90,\n",
       "                                                        95, 100, 105, 110, 115,\n",
       "                                                        120, 125, 130, 135, 140,\n",
       "                                                        145, 150, ...],\n",
       "                                        'p': [1, 2]},\n",
       "                   verbose=1)"
      ]
     },
     "execution_count": 95,
     "metadata": {},
     "output_type": "execute_result"
    }
   ],
   "source": [
    "knn_cv = RandomizedSearchCV(estimator = knn_model, param_distributions = random_grid, n_iter = 30,\n",
    "                               cv = 30, verbose = 1)\n",
    "knn_cv.fit(tweets_tfidf, df_train['target'])"
   ]
  },
  {
   "cell_type": "code",
   "execution_count": 96,
   "metadata": {},
   "outputs": [],
   "source": [
    "# save best parameters\n",
    "params = knn_cv.best_params_"
   ]
  },
  {
   "cell_type": "code",
   "execution_count": 97,
   "metadata": {},
   "outputs": [
    {
     "data": {
      "text/plain": [
       "{'p': 2, 'n_neighbors': 430}"
      ]
     },
     "execution_count": 97,
     "metadata": {},
     "output_type": "execute_result"
    }
   ],
   "source": [
    "params"
   ]
  },
  {
   "cell_type": "code",
   "execution_count": 98,
   "metadata": {},
   "outputs": [
    {
     "data": {
      "text/plain": [
       "0.6734840704200514"
      ]
     },
     "execution_count": 98,
     "metadata": {},
     "output_type": "execute_result"
    }
   ],
   "source": [
    "knn_cv.best_score_"
   ]
  },
  {
   "cell_type": "code",
   "execution_count": 257,
   "metadata": {},
   "outputs": [],
   "source": [
    "# initialize final model but this will be trained using a pipeline\n",
    "knn_final = KNeighborsClassifier(**params)"
   ]
  },
  {
   "cell_type": "code",
   "execution_count": null,
   "metadata": {},
   "outputs": [],
   "source": [
    "'''\n",
    "Next: create pipeline to transform and predict test data\n",
    "'''"
   ]
  }
 ],
 "metadata": {
  "kernelspec": {
   "display_name": "Python [conda env:sklearn]",
   "language": "python",
   "name": "conda-env-sklearn-py"
  },
  "language_info": {
   "codemirror_mode": {
    "name": "ipython",
    "version": 3
   },
   "file_extension": ".py",
   "mimetype": "text/x-python",
   "name": "python",
   "nbconvert_exporter": "python",
   "pygments_lexer": "ipython3",
   "version": "3.10.10"
  }
 },
 "nbformat": 4,
 "nbformat_minor": 4
}
