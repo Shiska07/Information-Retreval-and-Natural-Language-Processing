{
 "cells": [
  {
   "cell_type": "markdown",
   "metadata": {},
   "source": [
    "## Information Retrieval and NLP"
   ]
  },
  {
   "cell_type": "markdown",
   "metadata": {},
   "source": [
    "Information Retrieval(IR) is not only an important part of text Data Mining but it also has an extensive application in Natural Language Processing(NLP). This is because every NLP pipiline implements text normalization as an important preprocessing step.\n",
    "\n",
    "A few important definitions before we get started:\n",
    "\n",
    "- A **word** is a string of characters that appears in a text/sentence/paragraph, etc. (We all know this one!)\n",
    "- A **term** is a normalized word i.e. a word that has gone through preprocessing. For example: \"studying\"(A word) becomes \"study\"(A term after a certain kind of normalization).\n",
    "- A **token** can be thought of a unique instance of a word or a term. For example, the set {'hannah','is','the','queen','of','the','Kingdom'} has 7 words but 6 tokens(because 'the' is repeated).\n",
    "- Two words are of the same **type** if they fall under the same equivalence class or become the same term after normalization. For example, Studies, Study and Studying could be of the same type after performing some kind of normalization.\n",
    "\n",
    "\n",
    "### Why perform normalization?\n",
    "Because we want to retreieve all documents relevant to the user's query. For example, ff the user searches for \"U.S.A\" not only do we want all documents with that specific query, we may also want documents with \"USA\" and \"United States of America\" and \"North America\" and maybe even \"the States\"!\n",
    "\n",
    "This notebook will walk you through some commonly used methods for text normalization and IR. We will be using te 'Disaster Tweets\" dataset from Kaggle which can be found at: https://www.kaggle.com/datasets/vstepanenko/disaster-tweets\n",
    "\n",
    "Enjoy!"
   ]
  },
  {
   "cell_type": "code",
   "execution_count": 127,
   "metadata": {},
   "outputs": [],
   "source": [
    "# let's import necessary libraries\n",
    "\n",
    "# nltk stands for Natural Language Tookit. this library is commonly used for text normalization\n",
    "import nltk\n",
    "\n",
    "# for arrays and dataframes\n",
    "import numpy as np     \n",
    "import pandas as pd    \n",
    "\n",
    "# for visualization\n",
    "import matplotlib.pyplot as plt\n",
    "import seaborn as sns\n",
    "\n",
    "%matplotlib inline"
   ]
  },
  {
   "cell_type": "code",
   "execution_count": 128,
   "metadata": {},
   "outputs": [
    {
     "data": {
      "text/html": [
       "<div>\n",
       "<style scoped>\n",
       "    .dataframe tbody tr th:only-of-type {\n",
       "        vertical-align: middle;\n",
       "    }\n",
       "\n",
       "    .dataframe tbody tr th {\n",
       "        vertical-align: top;\n",
       "    }\n",
       "\n",
       "    .dataframe thead th {\n",
       "        text-align: right;\n",
       "    }\n",
       "</style>\n",
       "<table border=\"1\" class=\"dataframe\">\n",
       "  <thead>\n",
       "    <tr style=\"text-align: right;\">\n",
       "      <th></th>\n",
       "      <th>id</th>\n",
       "      <th>keyword</th>\n",
       "      <th>location</th>\n",
       "      <th>text</th>\n",
       "      <th>target</th>\n",
       "    </tr>\n",
       "  </thead>\n",
       "  <tbody>\n",
       "    <tr>\n",
       "      <th>0</th>\n",
       "      <td>1</td>\n",
       "      <td>NaN</td>\n",
       "      <td>NaN</td>\n",
       "      <td>Our Deeds are the Reason of this #earthquake M...</td>\n",
       "      <td>1</td>\n",
       "    </tr>\n",
       "    <tr>\n",
       "      <th>1</th>\n",
       "      <td>4</td>\n",
       "      <td>NaN</td>\n",
       "      <td>NaN</td>\n",
       "      <td>Forest fire near La Ronge Sask. Canada</td>\n",
       "      <td>1</td>\n",
       "    </tr>\n",
       "    <tr>\n",
       "      <th>2</th>\n",
       "      <td>5</td>\n",
       "      <td>NaN</td>\n",
       "      <td>NaN</td>\n",
       "      <td>All residents asked to 'shelter in place' are ...</td>\n",
       "      <td>1</td>\n",
       "    </tr>\n",
       "    <tr>\n",
       "      <th>3</th>\n",
       "      <td>6</td>\n",
       "      <td>NaN</td>\n",
       "      <td>NaN</td>\n",
       "      <td>13,000 people receive #wildfires evacuation or...</td>\n",
       "      <td>1</td>\n",
       "    </tr>\n",
       "    <tr>\n",
       "      <th>4</th>\n",
       "      <td>7</td>\n",
       "      <td>NaN</td>\n",
       "      <td>NaN</td>\n",
       "      <td>Just got sent this photo from Ruby #Alaska as ...</td>\n",
       "      <td>1</td>\n",
       "    </tr>\n",
       "  </tbody>\n",
       "</table>\n",
       "</div>"
      ],
      "text/plain": [
       "   id keyword location                                               text  \\\n",
       "0   1     NaN      NaN  Our Deeds are the Reason of this #earthquake M...   \n",
       "1   4     NaN      NaN             Forest fire near La Ronge Sask. Canada   \n",
       "2   5     NaN      NaN  All residents asked to 'shelter in place' are ...   \n",
       "3   6     NaN      NaN  13,000 people receive #wildfires evacuation or...   \n",
       "4   7     NaN      NaN  Just got sent this photo from Ruby #Alaska as ...   \n",
       "\n",
       "   target  \n",
       "0       1  \n",
       "1       1  \n",
       "2       1  \n",
       "3       1  \n",
       "4       1  "
      ]
     },
     "execution_count": 128,
     "metadata": {},
     "output_type": "execute_result"
    }
   ],
   "source": [
    "# let's import the disaster tweets dataset from Kaggle\n",
    "\n",
    "df_train = pd.read_csv('Data\\\\disaster_tweets_kaggle\\\\train.csv', index_col = False)\n",
    "df_test = pd.read_csv('Data\\\\disaster_tweets_kaggle\\\\test.csv', index_col = False)\n",
    "\n",
    "df_train.head()"
   ]
  },
  {
   "cell_type": "code",
   "execution_count": 129,
   "metadata": {},
   "outputs": [
    {
     "name": "stdout",
     "output_type": "stream",
     "text": [
      "<class 'pandas.core.frame.DataFrame'>\n",
      "RangeIndex: 7613 entries, 0 to 7612\n",
      "Data columns (total 5 columns):\n",
      " #   Column    Non-Null Count  Dtype \n",
      "---  ------    --------------  ----- \n",
      " 0   id        7613 non-null   int64 \n",
      " 1   keyword   7552 non-null   object\n",
      " 2   location  5080 non-null   object\n",
      " 3   text      7613 non-null   object\n",
      " 4   target    7613 non-null   int64 \n",
      "dtypes: int64(2), object(3)\n",
      "memory usage: 297.5+ KB\n"
     ]
    }
   ],
   "source": [
    "df_train.info()"
   ]
  },
  {
   "cell_type": "code",
   "execution_count": 130,
   "metadata": {},
   "outputs": [
    {
     "data": {
      "text/plain": [
       "id             0\n",
       "keyword       61\n",
       "location    2533\n",
       "text           0\n",
       "target         0\n",
       "dtype: int64"
      ]
     },
     "execution_count": 130,
     "metadata": {},
     "output_type": "execute_result"
    }
   ],
   "source": [
    "df_train.isnull().sum()"
   ]
  },
  {
   "cell_type": "code",
   "execution_count": 131,
   "metadata": {},
   "outputs": [
    {
     "data": {
      "image/png": "[encoded data removed]",
      "text/plain": [
       "<Figure size 576x432 with 1 Axes>"
      ]
     },
     "metadata": {
      "needs_background": "light"
     },
     "output_type": "display_data"
    }
   ],
   "source": [
    "# let's look at distribution of the target variable\n",
    "plt.figure(figsize = (8,6))\n",
    "sns.countplot(data = df_train, x = 'target', palette = \"mako\")\n",
    "plt.grid()"
   ]
  },
  {
   "cell_type": "code",
   "execution_count": 132,
   "metadata": {},
   "outputs": [
    {
     "data": {
      "text/plain": [
       "<AxesSubplot:>"
      ]
     },
     "execution_count": 132,
     "metadata": {},
     "output_type": "execute_result"
    },
    {
     "data": {
      "image/png": "[encoded data removed]",
      "text/plain": [
       "<Figure size 432x288 with 2 Axes>"
      ]
     },
     "metadata": {
      "needs_background": "light"
     },
     "output_type": "display_data"
    }
   ],
   "source": [
    "# let's visualize the missing values\n",
    "plt.figure(figsize = (6,4))\n",
    "sns.heatmap(df_train.isnull(), cmap = \"rocket\")"
   ]
  },
  {
   "cell_type": "code",
   "execution_count": 133,
   "metadata": {},
   "outputs": [
    {
     "name": "stdout",
     "output_type": "stream",
     "text": [
      "id             0\n",
      "keyword       26\n",
      "location    1105\n",
      "text           0\n",
      "dtype: int64\n"
     ]
    },
    {
     "data": {
      "text/plain": [
       "<AxesSubplot:>"
      ]
     },
     "execution_count": 133,
     "metadata": {},
     "output_type": "execute_result"
    },
    {
     "data": {
      "image/png": "[encoded data removed]",
      "text/plain": [
       "<Figure size 432x288 with 2 Axes>"
      ]
     },
     "metadata": {
      "needs_background": "light"
     },
     "output_type": "display_data"
    }
   ],
   "source": [
    "# let's check the test data\n",
    "print(df_test.isnull().sum())\n",
    "plt.figure(figsize = (6,4))\n",
    "sns.heatmap(df_train.isnull(), cmap = \"rocket\")"
   ]
  },
  {
   "cell_type": "code",
   "execution_count": 134,
   "metadata": {},
   "outputs": [],
   "source": [
    "# since there are too many missing valus for column 'location' we will drop this\n",
    "df_train.drop(labels = ['location'], axis = 1, inplace = True)\n",
    "df_test.drop(labels = ['location'], axis = 1, inplace = True)"
   ]
  },
  {
   "cell_type": "code",
   "execution_count": 135,
   "metadata": {},
   "outputs": [
    {
     "data": {
      "text/html": [
       "<div>\n",
       "<style scoped>\n",
       "    .dataframe tbody tr th:only-of-type {\n",
       "        vertical-align: middle;\n",
       "    }\n",
       "\n",
       "    .dataframe tbody tr th {\n",
       "        vertical-align: top;\n",
       "    }\n",
       "\n",
       "    .dataframe thead th {\n",
       "        text-align: right;\n",
       "    }\n",
       "</style>\n",
       "<table border=\"1\" class=\"dataframe\">\n",
       "  <thead>\n",
       "    <tr style=\"text-align: right;\">\n",
       "      <th></th>\n",
       "      <th>id</th>\n",
       "      <th>text</th>\n",
       "      <th>target</th>\n",
       "    </tr>\n",
       "    <tr>\n",
       "      <th>keyword</th>\n",
       "      <th></th>\n",
       "      <th></th>\n",
       "      <th></th>\n",
       "    </tr>\n",
       "  </thead>\n",
       "  <tbody>\n",
       "    <tr>\n",
       "      <th>fatalities</th>\n",
       "      <td>45</td>\n",
       "      <td>45</td>\n",
       "      <td>45</td>\n",
       "    </tr>\n",
       "    <tr>\n",
       "      <th>deluge</th>\n",
       "      <td>42</td>\n",
       "      <td>42</td>\n",
       "      <td>42</td>\n",
       "    </tr>\n",
       "    <tr>\n",
       "      <th>armageddon</th>\n",
       "      <td>42</td>\n",
       "      <td>42</td>\n",
       "      <td>42</td>\n",
       "    </tr>\n",
       "    <tr>\n",
       "      <th>sinking</th>\n",
       "      <td>41</td>\n",
       "      <td>41</td>\n",
       "      <td>41</td>\n",
       "    </tr>\n",
       "    <tr>\n",
       "      <th>damage</th>\n",
       "      <td>41</td>\n",
       "      <td>41</td>\n",
       "      <td>41</td>\n",
       "    </tr>\n",
       "    <tr>\n",
       "      <th>harm</th>\n",
       "      <td>41</td>\n",
       "      <td>41</td>\n",
       "      <td>41</td>\n",
       "    </tr>\n",
       "    <tr>\n",
       "      <th>body%20bags</th>\n",
       "      <td>41</td>\n",
       "      <td>41</td>\n",
       "      <td>41</td>\n",
       "    </tr>\n",
       "    <tr>\n",
       "      <th>outbreak</th>\n",
       "      <td>40</td>\n",
       "      <td>40</td>\n",
       "      <td>40</td>\n",
       "    </tr>\n",
       "    <tr>\n",
       "      <th>evacuate</th>\n",
       "      <td>40</td>\n",
       "      <td>40</td>\n",
       "      <td>40</td>\n",
       "    </tr>\n",
       "    <tr>\n",
       "      <th>fear</th>\n",
       "      <td>40</td>\n",
       "      <td>40</td>\n",
       "      <td>40</td>\n",
       "    </tr>\n",
       "  </tbody>\n",
       "</table>\n",
       "</div>"
      ],
      "text/plain": [
       "             id  text  target\n",
       "keyword                      \n",
       "fatalities   45    45      45\n",
       "deluge       42    42      42\n",
       "armageddon   42    42      42\n",
       "sinking      41    41      41\n",
       "damage       41    41      41\n",
       "harm         41    41      41\n",
       "body%20bags  41    41      41\n",
       "outbreak     40    40      40\n",
       "evacuate     40    40      40\n",
       "fear         40    40      40"
      ]
     },
     "execution_count": 135,
     "metadata": {},
     "output_type": "execute_result"
    }
   ],
   "source": [
    "# to deal with missing values in 'keyword' let's look at the mst common keywords\n",
    "df_train.groupby('keyword').count().sort_values(by = 'target', ascending = False).head(10)"
   ]
  },
  {
   "cell_type": "code",
   "execution_count": 136,
   "metadata": {},
   "outputs": [],
   "source": [
    "# save keywords as a list but we only want keywords that are not null\n",
    "keywords_list = list((df_train[df_train['keyword'].isnull() == False]['keyword']).unique())"
   ]
  },
  {
   "cell_type": "code",
   "execution_count": 137,
   "metadata": {},
   "outputs": [
    {
     "data": {
      "text/plain": [
       "221"
      ]
     },
     "execution_count": 137,
     "metadata": {},
     "output_type": "execute_result"
    }
   ],
   "source": [
    "# check length to confirm only unique words are present\n",
    "len(keywords_list)"
   ]
  },
  {
   "cell_type": "code",
   "execution_count": 138,
   "metadata": {},
   "outputs": [
    {
     "data": {
      "text/plain": [
       "0       Our Deeds are the Reason of this #earthquake M...\n",
       "1                  Forest fire near La Ronge Sask. Canada\n",
       "2       All residents asked to 'shelter in place' are ...\n",
       "3       13,000 people receive #wildfires evacuation or...\n",
       "4       Just got sent this photo from Ruby #Alaska as ...\n",
       "                              ...                        \n",
       "7608    Two giant cranes holding a bridge collapse int...\n",
       "7609    @aria_ahrary @TheTawniest The out of control w...\n",
       "7610    M1.94 [01:04 UTC]?5km S of Volcano Hawaii. htt...\n",
       "7611    Police investigating after an e-bike collided ...\n",
       "7612    The Latest: More Homes Razed by Northern Calif...\n",
       "Name: text, Length: 61, dtype: object"
      ]
     },
     "execution_count": 138,
     "metadata": {},
     "output_type": "execute_result"
    }
   ],
   "source": [
    "'''\n",
    "We can see that most keywords above are linked with disaster. Now let's take a look at the tweets with missing\n",
    "keywords to see it we can extract them using this info.\n",
    "'''\n",
    "df_train[df_train['keyword'].isnull()]['text']"
   ]
  },
  {
   "cell_type": "code",
   "execution_count": 139,
   "metadata": {},
   "outputs": [],
   "source": [
    "# we will fill null values for 'keyword' based on the list of present keywords that was just created\n",
    "\n",
    "def impute_keyword(df):\n",
    "    keyword = df[0]\n",
    "    text = df[1]\n",
    "    \n",
    "    if pd.isnull(keyword):            # if keyword === null\n",
    "        for item in keywords_list:\n",
    "            if item in text:          # of the tweet contains any keyword from the keyword list\n",
    "                return item\n",
    "    return keyword\n"
   ]
  },
  {
   "cell_type": "code",
   "execution_count": 140,
   "metadata": {},
   "outputs": [],
   "source": [
    "df_train['keyword'] = df_train[['keyword', 'text']].apply(impute_keyword, axis = 1)\n",
    "df_test['keyword'] = df_test[['keyword', 'text']].apply(impute_keyword, axis = 1)"
   ]
  },
  {
   "cell_type": "code",
   "execution_count": 141,
   "metadata": {},
   "outputs": [
    {
     "name": "stdout",
     "output_type": "stream",
     "text": [
      "Train: 30\n",
      "Test: 14\n"
     ]
    }
   ],
   "source": [
    "# let's check if any null values were replaced\n",
    "print(\"Train:\", df_train['keyword'].isnull().sum())  \n",
    "print(\"Test:\", df_test['keyword'].isnull().sum())  "
   ]
  },
  {
   "cell_type": "markdown",
   "metadata": {},
   "source": [
    "We cal see that more than half of the null values were replaced. However, this does not necessarily mean the remaining tweets did not contain any keywords. Let's look at the remaining tweets with null values."
   ]
  },
  {
   "cell_type": "code",
   "execution_count": 142,
   "metadata": {},
   "outputs": [
    {
     "data": {
      "text/plain": [
       "10            Three people died from the heat wave so far\n",
       "13                #Flood in Bago Myanmar #We arrived Bago\n",
       "15                                         What's up man?\n",
       "16                                          I love fruits\n",
       "17                                       Summer is lovely\n",
       "18                                      My car is so fast\n",
       "19                           What a goooooooaaaaaal!!!!!!\n",
       "20                                 this is ridiculous....\n",
       "21                                      London is cool ;)\n",
       "22                                            Love skiing\n",
       "23                                  What a wonderful day!\n",
       "24                                               LOOOOOOL\n",
       "25                         No way...I can't eat that shit\n",
       "26                                  Was in NYC last week!\n",
       "27                                     Love my girlfriend\n",
       "28                                              Cooool :)\n",
       "29                                     Do you like pasta?\n",
       "30                                               The end!\n",
       "7585    Calgary Police Flood Road Closures in Calgary....\n",
       "7586    #Sismo DETECTADO #JapÌ_n 15:41:07 Seismic inte...\n",
       "7587                                   Sirens everywhere!\n",
       "7590    SEVERE WEATHER BULLETIN No. 5 FOR: TYPHOON ÛÏ...\n",
       "7591    Heat wave warning aa? Ayyo dei. Just when I pl...\n",
       "7593    I just heard a really loud bang and everyone i...\n",
       "7595    NWS: Flash Flood Warning Continued for Shelby ...\n",
       "7598    Father-of-three Lost Control of Car After Over...\n",
       "7599    1.3 #Earthquake in 9Km Ssw Of Anza California ...\n",
       "7600    Evacuation order lifted for town of Roosevelt:...\n",
       "7601    #breaking #LA Refugio oil spill may have been ...\n",
       "7610    M1.94 [01:04 UTC]?5km S of Volcano Hawaii. htt...\n",
       "Name: text, dtype: object"
      ]
     },
     "execution_count": 142,
     "metadata": {},
     "output_type": "execute_result"
    }
   ],
   "source": [
    "df_train[df_train['keyword'].isnull()]['text']"
   ]
  },
  {
   "cell_type": "markdown",
   "metadata": {},
   "source": [
    "13 contains '#Flood', 2587 contains 'Sirens' and 7599 contains '#Earthquake'. However, these were useful during imputation. Why?\n",
    "Let's double check with our keyword list."
   ]
  },
  {
   "cell_type": "code",
   "execution_count": 143,
   "metadata": {},
   "outputs": [
    {
     "name": "stdout",
     "output_type": "stream",
     "text": [
      "'#Flood' is not the keyword list.\n",
      "'flood' is in the keyword list.\n",
      "'#Earthquake' is not the keyword list.\n",
      "'earthquake' is in the keyword list.\n",
      "'Sirens' is not the keyword list.\n",
      "'sirens' is in the keyword list.\n"
     ]
    }
   ],
   "source": [
    "def check_keyword(value):\n",
    "    if value in keywords_list:\n",
    "        print(f\"'{value}' is in the keyword list.\")\n",
    "    else:\n",
    "        print(f\"'{value}' is not the keyword list.\")\n",
    "        \n",
    "check_keyword(\"#Flood\")\n",
    "check_keyword(\"flood\")\n",
    "check_keyword(\"#Earthquake\")\n",
    "check_keyword(\"earthquake\")\n",
    "check_keyword(\"Sirens\")\n",
    "check_keyword(\"sirens\")"
   ]
  },
  {
   "cell_type": "markdown",
   "metadata": {},
   "source": [
    "As you can see, although #Flood, Sirens and #Earthquake are not present in the keywords list, flood, sirens and eathquake are! We just need to do some normalzation to deal with these."
   ]
  },
  {
   "cell_type": "markdown",
   "metadata": {},
   "source": [
    "## Common techniques for text data normalization"
   ]
  },
  {
   "cell_type": "markdown",
   "metadata": {},
   "source": [
    "#### 1. Tokelization\n",
    "This is the process of converting a text/sentence or a string od characters into a list of words/tokens. We will also use delimiters to remove \"#\", quolations, etc.\n",
    "\n",
    "#### 2. Case Folding\n",
    "Reducing all letters to upper/lower case.\n",
    "\n",
    "#### 3. Removing Stop Words\n",
    "Stop words are common words like 'the','in','on','at', etc. which generally have little value when it comes to IR. However, these are found to be useful in finding patterns or meaning during deep learning.\n",
    "\n",
    "#### 4. Lemmatization\n",
    "Reducing a word/token into it's dictionary headword form i.e. lemma. For example: cars, car's -> car; cutting -> cut; etc.\n",
    "\n",
    "#### 5. Stemming\n",
    "Cutting off words at the end to acheive \"principled\" lemmatization. It si a faster way of acheiving lemmatization and does not depend on context. However, it may not always give sensible results in some cases. Exampe: reduction -> reduc (stemming) but reduction -> reduce (lemmatization)"
   ]
  },
  {
   "cell_type": "markdown",
   "metadata": {},
   "source": [
    "**To replace the remaining null values in the 'Keyword' column we will only use tokenization, case folding and stop word removal for now.**"
   ]
  },
  {
   "cell_type": "code",
   "execution_count": 144,
   "metadata": {},
   "outputs": [],
   "source": [
    "import string     # to remove punctions\n",
    "from nltk.corpus import stopwords     # to remove stopwords\n",
    "\n",
    "def normalize(text, stopword):\n",
    "    \n",
    "    # first create a list of characters without punctuation\n",
    "    char_list = [ch for ch in text if ch not in string.punctuation]\n",
    "    \n",
    "    # join to re create a text without punctuation\n",
    "    text = ''.join(char_list)\n",
    "    \n",
    "    # case folding\n",
    "    lower_cased_text = text.casefold()\n",
    "    \n",
    "    if stopword == 1:\n",
    "        # tokenize and remove stopwords\n",
    "        word_list = [word for word in lower_cased_text.split() if word not in stopwords.words('english')]\n",
    "    else:\n",
    "        word_list = [word for word in lower_cased_text.split()]\n",
    "    \n",
    "    return word_list\n"
   ]
  },
  {
   "cell_type": "code",
   "execution_count": 145,
   "metadata": {},
   "outputs": [
    {
     "data": {
      "text/plain": [
       "['forest', 'fire', 'near', 'la', 'ronge', 'sask', 'canada']"
      ]
     },
     "execution_count": 145,
     "metadata": {},
     "output_type": "execute_result"
    }
   ],
   "source": [
    "#let's test it\n",
    "normalize(df_train['text'][1])"
   ]
  },
  {
   "cell_type": "code",
   "execution_count": 146,
   "metadata": {},
   "outputs": [],
   "source": [
    "# now let's use this to replace the remaining null values if possible\n",
    "\n",
    "# this function uses normalization to find keywords from the tweet\n",
    "def smart_impute_keyword(df):\n",
    "    keyword = df[0]\n",
    "    text = df[1]\n",
    "    \n",
    "    if pd.isnull(keyword):            # if keyword === null\n",
    "        normalized_text_list = normalize(text)\n",
    "        for item in normalized_text_list:\n",
    "            if item in keywords_list:         \n",
    "                return item \n",
    "    return keyword\n",
    "\n",
    "# remaining null values for which keywords were not found will be replaced by their first normalized token\n",
    "def impute_remaining(df):\n",
    "    keyword = df[0]\n",
    "    text = df[1]\n",
    "    \n",
    "    if pd.isnull(keyword):            # if keyword === null\n",
    "        normalized_text_list = normalize(text)\n",
    "        if len(normalized_text_list) == 0:\n",
    "            return keyword\n",
    "        else: \n",
    "            return normalized_text_list[0]\n",
    "    return keyword"
   ]
  },
  {
   "cell_type": "code",
   "execution_count": 147,
   "metadata": {},
   "outputs": [],
   "source": [
    "df_train['keyword'] = df_train[['keyword', 'text']].apply(smart_impute_keyword, axis = 1)\n",
    "df_test['keyword'] = df_test[['keyword', 'text']].apply(smart_impute_keyword, axis = 1)"
   ]
  },
  {
   "cell_type": "code",
   "execution_count": 148,
   "metadata": {},
   "outputs": [
    {
     "name": "stdout",
     "output_type": "stream",
     "text": [
      "Train: 20\n",
      "Test: 9\n"
     ]
    }
   ],
   "source": [
    "# let's check if any null values were replaced\n",
    "print(\"Train:\", df_train['keyword'].isnull().sum())  \n",
    "print(\"Test:\", df_test['keyword'].isnull().sum())"
   ]
  },
  {
   "cell_type": "code",
   "execution_count": 149,
   "metadata": {},
   "outputs": [],
   "source": [
    "# let's impute the remaining values\n",
    "df_train['keyword'] = df_train[['keyword', 'text']].apply(impute_remaining, axis = 1)\n",
    "df_test['keyword'] = df_test[['keyword', 'text']].apply(impute_remaining, axis = 1)"
   ]
  },
  {
   "cell_type": "code",
   "execution_count": 150,
   "metadata": {},
   "outputs": [
    {
     "name": "stdout",
     "output_type": "stream",
     "text": [
      "Train: 0\n",
      "Test: 1\n"
     ]
    }
   ],
   "source": [
    "# let's check one last time\n",
    "print(\"Train:\", df_train['keyword'].isnull().sum())  \n",
    "print(\"Test:\", df_test['keyword'].isnull().sum()) "
   ]
  },
  {
   "cell_type": "code",
   "execution_count": null,
   "metadata": {},
   "outputs": [],
   "source": []
  }
 ],
 "metadata": {
  "kernelspec": {
   "display_name": "Python 3",
   "language": "python",
   "name": "python3"
  },
  "language_info": {
   "codemirror_mode": {
    "name": "ipython",
    "version": 3
   },
   "file_extension": ".py",
   "mimetype": "text/x-python",
   "name": "python",
   "nbconvert_exporter": "python",
   "pygments_lexer": "ipython3",
   "version": "3.7.9"
  }
 },
 "nbformat": 4,
 "nbformat_minor": 4
}
