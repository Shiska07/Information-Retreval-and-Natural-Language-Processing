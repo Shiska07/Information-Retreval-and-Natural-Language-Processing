{
 "cells": [
  {
   "cell_type": "code",
   "execution_count": 15,
   "metadata": {
    "_cell_guid": "b1076dfc-b9ad-4769-8c92-a6c4dae69d19",
    "_uuid": "8f2839f25d086af736a60e9eeb907d3b93b6e0e5",
    "execution": {
     "iopub.execute_input": "2023-01-27T04:03:41.285938Z",
     "iopub.status.busy": "2023-01-27T04:03:41.285524Z",
     "iopub.status.idle": "2023-01-27T04:03:41.330567Z",
     "shell.execute_reply": "2023-01-27T04:03:41.328828Z",
     "shell.execute_reply.started": "2023-01-27T04:03:41.285849Z"
    }
   },
   "outputs": [
    {
     "data": {
      "text/plain": [
       "\"\\nfor dirname, _, filenames in os.walk('/kaggle/input'):\\n    for filename in filenames:\\n        print(os.path.join(dirname, filename))\\n\""
      ]
     },
     "execution_count": 15,
     "metadata": {},
     "output_type": "execute_result"
    }
   ],
   "source": [
    "import numpy as np \n",
    "import pandas as pd\n",
    "import os\n",
    "\n",
    "'''\n",
    "for dirname, _, filenames in os.walk('/kaggle/input'):\n",
    "    for filename in filenames:\n",
    "        print(os.path.join(dirname, filename))\n",
    "'''"
   ]
  },
  {
   "cell_type": "code",
   "execution_count": 16,
   "metadata": {
    "execution": {
     "iopub.execute_input": "2023-01-27T04:09:58.110987Z",
     "iopub.status.busy": "2023-01-27T04:09:58.110517Z",
     "iopub.status.idle": "2023-01-27T04:09:58.183424Z",
     "shell.execute_reply": "2023-01-27T04:09:58.182623Z",
     "shell.execute_reply.started": "2023-01-27T04:09:58.110953Z"
    }
   },
   "outputs": [],
   "source": [
    "# load datasets\n",
    "# train = pd.read_csv('/kaggle/input/nlp-getting-started/train.csv')\n",
    "# test = pd.read_csv('/kaggle/input/nlp-getting-started/test.csv')\n",
    "\n",
    "train = pd.read_csv('Data/disaster_tweets_kaggle/train.csv')\n",
    "test = pd.read_csv('Data/disaster_tweets_kaggle/test.csv')"
   ]
  },
  {
   "cell_type": "code",
   "execution_count": 17,
   "metadata": {
    "execution": {
     "iopub.execute_input": "2023-01-27T04:10:05.073998Z",
     "iopub.status.busy": "2023-01-27T04:10:05.073454Z",
     "iopub.status.idle": "2023-01-27T04:10:05.091998Z",
     "shell.execute_reply": "2023-01-27T04:10:05.090944Z",
     "shell.execute_reply.started": "2023-01-27T04:10:05.073961Z"
    },
    "scrolled": true
   },
   "outputs": [
    {
     "data": {
      "text/html": [
       "<div>\n",
       "<style scoped>\n",
       "    .dataframe tbody tr th:only-of-type {\n",
       "        vertical-align: middle;\n",
       "    }\n",
       "\n",
       "    .dataframe tbody tr th {\n",
       "        vertical-align: top;\n",
       "    }\n",
       "\n",
       "    .dataframe thead th {\n",
       "        text-align: right;\n",
       "    }\n",
       "</style>\n",
       "<table border=\"1\" class=\"dataframe\">\n",
       "  <thead>\n",
       "    <tr style=\"text-align: right;\">\n",
       "      <th></th>\n",
       "      <th>id</th>\n",
       "      <th>keyword</th>\n",
       "      <th>location</th>\n",
       "      <th>text</th>\n",
       "      <th>target</th>\n",
       "    </tr>\n",
       "  </thead>\n",
       "  <tbody>\n",
       "    <tr>\n",
       "      <th>0</th>\n",
       "      <td>1</td>\n",
       "      <td>NaN</td>\n",
       "      <td>NaN</td>\n",
       "      <td>Our Deeds are the Reason of this #earthquake M...</td>\n",
       "      <td>1</td>\n",
       "    </tr>\n",
       "    <tr>\n",
       "      <th>1</th>\n",
       "      <td>4</td>\n",
       "      <td>NaN</td>\n",
       "      <td>NaN</td>\n",
       "      <td>Forest fire near La Ronge Sask. Canada</td>\n",
       "      <td>1</td>\n",
       "    </tr>\n",
       "    <tr>\n",
       "      <th>2</th>\n",
       "      <td>5</td>\n",
       "      <td>NaN</td>\n",
       "      <td>NaN</td>\n",
       "      <td>All residents asked to 'shelter in place' are ...</td>\n",
       "      <td>1</td>\n",
       "    </tr>\n",
       "    <tr>\n",
       "      <th>3</th>\n",
       "      <td>6</td>\n",
       "      <td>NaN</td>\n",
       "      <td>NaN</td>\n",
       "      <td>13,000 people receive #wildfires evacuation or...</td>\n",
       "      <td>1</td>\n",
       "    </tr>\n",
       "    <tr>\n",
       "      <th>4</th>\n",
       "      <td>7</td>\n",
       "      <td>NaN</td>\n",
       "      <td>NaN</td>\n",
       "      <td>Just got sent this photo from Ruby #Alaska as ...</td>\n",
       "      <td>1</td>\n",
       "    </tr>\n",
       "  </tbody>\n",
       "</table>\n",
       "</div>"
      ],
      "text/plain": [
       "   id keyword location                                               text  \\\n",
       "0   1     NaN      NaN  Our Deeds are the Reason of this #earthquake M...   \n",
       "1   4     NaN      NaN             Forest fire near La Ronge Sask. Canada   \n",
       "2   5     NaN      NaN  All residents asked to 'shelter in place' are ...   \n",
       "3   6     NaN      NaN  13,000 people receive #wildfires evacuation or...   \n",
       "4   7     NaN      NaN  Just got sent this photo from Ruby #Alaska as ...   \n",
       "\n",
       "   target  \n",
       "0       1  \n",
       "1       1  \n",
       "2       1  \n",
       "3       1  \n",
       "4       1  "
      ]
     },
     "execution_count": 17,
     "metadata": {},
     "output_type": "execute_result"
    }
   ],
   "source": [
    "train.head()"
   ]
  },
  {
   "cell_type": "code",
   "execution_count": 18,
   "metadata": {
    "execution": {
     "iopub.execute_input": "2023-01-27T04:10:39.736951Z",
     "iopub.status.busy": "2023-01-27T04:10:39.736481Z",
     "iopub.status.idle": "2023-01-27T04:10:39.764397Z",
     "shell.execute_reply": "2023-01-27T04:10:39.763590Z",
     "shell.execute_reply.started": "2023-01-27T04:10:39.736913Z"
    }
   },
   "outputs": [
    {
     "name": "stdout",
     "output_type": "stream",
     "text": [
      "<class 'pandas.core.frame.DataFrame'>\n",
      "RangeIndex: 7613 entries, 0 to 7612\n",
      "Data columns (total 5 columns):\n",
      " #   Column    Non-Null Count  Dtype \n",
      "---  ------    --------------  ----- \n",
      " 0   id        7613 non-null   int64 \n",
      " 1   keyword   7552 non-null   object\n",
      " 2   location  5080 non-null   object\n",
      " 3   text      7613 non-null   object\n",
      " 4   target    7613 non-null   int64 \n",
      "dtypes: int64(2), object(3)\n",
      "memory usage: 297.5+ KB\n"
     ]
    }
   ],
   "source": [
    "train.info()"
   ]
  },
  {
   "cell_type": "code",
   "execution_count": 19,
   "metadata": {
    "execution": {
     "iopub.execute_input": "2023-01-27T04:12:13.712931Z",
     "iopub.status.busy": "2023-01-27T04:12:13.712423Z",
     "iopub.status.idle": "2023-01-27T04:12:14.196225Z",
     "shell.execute_reply": "2023-01-27T04:12:14.194911Z",
     "shell.execute_reply.started": "2023-01-27T04:12:13.712888Z"
    }
   },
   "outputs": [],
   "source": [
    "import matplotlib.pyplot as plt\n",
    "import seaborn as sns\n",
    "%matplotlib inline"
   ]
  },
  {
   "cell_type": "code",
   "execution_count": 20,
   "metadata": {
    "execution": {
     "iopub.execute_input": "2023-01-27T04:13:31.223992Z",
     "iopub.status.busy": "2023-01-27T04:13:31.223551Z",
     "iopub.status.idle": "2023-01-27T04:13:31.238067Z",
     "shell.execute_reply": "2023-01-27T04:13:31.237082Z",
     "shell.execute_reply.started": "2023-01-27T04:13:31.223961Z"
    }
   },
   "outputs": [
    {
     "data": {
      "text/plain": [
       "id             0\n",
       "keyword       61\n",
       "location    2533\n",
       "text           0\n",
       "target         0\n",
       "dtype: int64"
      ]
     },
     "execution_count": 20,
     "metadata": {},
     "output_type": "execute_result"
    }
   ],
   "source": [
    "train.isnull().sum()"
   ]
  },
  {
   "cell_type": "code",
   "execution_count": 21,
   "metadata": {
    "execution": {
     "iopub.execute_input": "2023-01-27T04:14:56.030477Z",
     "iopub.status.busy": "2023-01-27T04:14:56.030027Z",
     "iopub.status.idle": "2023-01-27T04:14:56.197094Z",
     "shell.execute_reply": "2023-01-27T04:14:56.196046Z",
     "shell.execute_reply.started": "2023-01-27T04:14:56.030440Z"
    }
   },
   "outputs": [
    {
     "data": {
      "text/plain": [
       "<Axes: xlabel='target', ylabel='count'>"
      ]
     },
     "execution_count": 21,
     "metadata": {},
     "output_type": "execute_result"
    },
    {
     "data": {
      "image/png": "[encoded data removed]",
      "text/plain": [
       "<Figure size 640x480 with 1 Axes>"
      ]
     },
     "metadata": {},
     "output_type": "display_data"
    }
   ],
   "source": [
    "# let's check if the training data is balanced\n",
    "sns.countplot(x = 'target', data = train)"
   ]
  },
  {
   "cell_type": "code",
   "execution_count": 22,
   "metadata": {
    "execution": {
     "iopub.execute_input": "2023-01-27T04:15:25.902735Z",
     "iopub.status.busy": "2023-01-27T04:15:25.902329Z",
     "iopub.status.idle": "2023-01-27T04:15:26.061814Z",
     "shell.execute_reply": "2023-01-27T04:15:26.060858Z",
     "shell.execute_reply.started": "2023-01-27T04:15:25.902706Z"
    }
   },
   "outputs": [
    {
     "data": {
      "text/plain": [
       "<Axes: >"
      ]
     },
     "execution_count": 22,
     "metadata": {},
     "output_type": "execute_result"
    },
    {
     "data": {
      "image/png": "[encoded data removed]",
      "text/plain": [
       "<Figure size 640x480 with 2 Axes>"
      ]
     },
     "metadata": {},
     "output_type": "display_data"
    }
   ],
   "source": [
    "# visualizing null values\n",
    "sns.heatmap(train.isnull(),yticklabels = False)"
   ]
  },
  {
   "cell_type": "markdown",
   "metadata": {},
   "source": [
    "There are too many null values for location therefore the column will be dropped."
   ]
  },
  {
   "cell_type": "code",
   "execution_count": 23,
   "metadata": {
    "execution": {
     "iopub.execute_input": "2023-01-27T04:17:30.635273Z",
     "iopub.status.busy": "2023-01-27T04:17:30.634789Z",
     "iopub.status.idle": "2023-01-27T04:17:30.804120Z",
     "shell.execute_reply": "2023-01-27T04:17:30.803057Z",
     "shell.execute_reply.started": "2023-01-27T04:17:30.635229Z"
    }
   },
   "outputs": [
    {
     "name": "stdout",
     "output_type": "stream",
     "text": [
      "<class 'pandas.core.frame.DataFrame'>\n",
      "RangeIndex: 7613 entries, 0 to 7612\n",
      "Data columns (total 3 columns):\n",
      " #   Column   Non-Null Count  Dtype \n",
      "---  ------   --------------  ----- \n",
      " 0   keyword  7552 non-null   object\n",
      " 1   text     7613 non-null   object\n",
      " 2   target   7613 non-null   int64 \n",
      "dtypes: int64(1), object(2)\n",
      "memory usage: 178.6+ KB\n"
     ]
    }
   ],
   "source": [
    "train.drop(['id', 'location'], axis = 1, inplace = True)\n",
    "train.info()"
   ]
  },
  {
   "cell_type": "code",
   "execution_count": 24,
   "metadata": {
    "execution": {
     "iopub.execute_input": "2023-01-27T04:23:32.119840Z",
     "iopub.status.busy": "2023-01-27T04:23:32.119404Z",
     "iopub.status.idle": "2023-01-27T04:23:32.138955Z",
     "shell.execute_reply": "2023-01-27T04:23:32.137752Z",
     "shell.execute_reply.started": "2023-01-27T04:23:32.119802Z"
    }
   },
   "outputs": [
    {
     "data": {
      "text/html": [
       "<div>\n",
       "<style scoped>\n",
       "    .dataframe tbody tr th:only-of-type {\n",
       "        vertical-align: middle;\n",
       "    }\n",
       "\n",
       "    .dataframe tbody tr th {\n",
       "        vertical-align: top;\n",
       "    }\n",
       "\n",
       "    .dataframe thead th {\n",
       "        text-align: right;\n",
       "    }\n",
       "</style>\n",
       "<table border=\"1\" class=\"dataframe\">\n",
       "  <thead>\n",
       "    <tr style=\"text-align: right;\">\n",
       "      <th></th>\n",
       "      <th>text</th>\n",
       "      <th>target</th>\n",
       "    </tr>\n",
       "    <tr>\n",
       "      <th>keyword</th>\n",
       "      <th></th>\n",
       "      <th></th>\n",
       "    </tr>\n",
       "  </thead>\n",
       "  <tbody>\n",
       "    <tr>\n",
       "      <th>ablaze</th>\n",
       "      <td>36</td>\n",
       "      <td>36</td>\n",
       "    </tr>\n",
       "    <tr>\n",
       "      <th>accident</th>\n",
       "      <td>35</td>\n",
       "      <td>35</td>\n",
       "    </tr>\n",
       "    <tr>\n",
       "      <th>aftershock</th>\n",
       "      <td>34</td>\n",
       "      <td>34</td>\n",
       "    </tr>\n",
       "    <tr>\n",
       "      <th>airplane%20accident</th>\n",
       "      <td>35</td>\n",
       "      <td>35</td>\n",
       "    </tr>\n",
       "    <tr>\n",
       "      <th>ambulance</th>\n",
       "      <td>38</td>\n",
       "      <td>38</td>\n",
       "    </tr>\n",
       "    <tr>\n",
       "      <th>...</th>\n",
       "      <td>...</td>\n",
       "      <td>...</td>\n",
       "    </tr>\n",
       "    <tr>\n",
       "      <th>wounded</th>\n",
       "      <td>37</td>\n",
       "      <td>37</td>\n",
       "    </tr>\n",
       "    <tr>\n",
       "      <th>wounds</th>\n",
       "      <td>33</td>\n",
       "      <td>33</td>\n",
       "    </tr>\n",
       "    <tr>\n",
       "      <th>wreck</th>\n",
       "      <td>37</td>\n",
       "      <td>37</td>\n",
       "    </tr>\n",
       "    <tr>\n",
       "      <th>wreckage</th>\n",
       "      <td>39</td>\n",
       "      <td>39</td>\n",
       "    </tr>\n",
       "    <tr>\n",
       "      <th>wrecked</th>\n",
       "      <td>39</td>\n",
       "      <td>39</td>\n",
       "    </tr>\n",
       "  </tbody>\n",
       "</table>\n",
       "<p>221 rows × 2 columns</p>\n",
       "</div>"
      ],
      "text/plain": [
       "                     text  target\n",
       "keyword                          \n",
       "ablaze                 36      36\n",
       "accident               35      35\n",
       "aftershock             34      34\n",
       "airplane%20accident    35      35\n",
       "ambulance              38      38\n",
       "...                   ...     ...\n",
       "wounded                37      37\n",
       "wounds                 33      33\n",
       "wreck                  37      37\n",
       "wreckage               39      39\n",
       "wrecked                39      39\n",
       "\n",
       "[221 rows x 2 columns]"
      ]
     },
     "execution_count": 24,
     "metadata": {},
     "output_type": "execute_result"
    }
   ],
   "source": [
    "train.groupby('keyword').count()"
   ]
  },
  {
   "cell_type": "markdown",
   "metadata": {},
   "source": [
    "Keywords can be helpful in classification, we will drop the rows with missing keywords as there are very few of them."
   ]
  },
  {
   "cell_type": "code",
   "execution_count": 25,
   "metadata": {
    "execution": {
     "iopub.execute_input": "2023-01-27T04:26:43.412731Z",
     "iopub.status.busy": "2023-01-27T04:26:43.412250Z",
     "iopub.status.idle": "2023-01-27T04:26:43.431400Z",
     "shell.execute_reply": "2023-01-27T04:26:43.430443Z",
     "shell.execute_reply.started": "2023-01-27T04:26:43.412698Z"
    }
   },
   "outputs": [
    {
     "name": "stdout",
     "output_type": "stream",
     "text": [
      "<class 'pandas.core.frame.DataFrame'>\n",
      "RangeIndex: 7552 entries, 0 to 7551\n",
      "Data columns (total 3 columns):\n",
      " #   Column   Non-Null Count  Dtype \n",
      "---  ------   --------------  ----- \n",
      " 0   keyword  7552 non-null   object\n",
      " 1   text     7552 non-null   object\n",
      " 2   target   7552 non-null   int64 \n",
      "dtypes: int64(1), object(2)\n",
      "memory usage: 177.1+ KB\n"
     ]
    }
   ],
   "source": [
    "train.dropna(axis = 0, inplace = True)\n",
    "train.reset_index(drop = True, inplace = True)\n",
    "train.info()"
   ]
  },
  {
   "cell_type": "code",
   "execution_count": 26,
   "metadata": {},
   "outputs": [
    {
     "data": {
      "text/html": [
       "<div>\n",
       "<style scoped>\n",
       "    .dataframe tbody tr th:only-of-type {\n",
       "        vertical-align: middle;\n",
       "    }\n",
       "\n",
       "    .dataframe tbody tr th {\n",
       "        vertical-align: top;\n",
       "    }\n",
       "\n",
       "    .dataframe thead th {\n",
       "        text-align: right;\n",
       "    }\n",
       "</style>\n",
       "<table border=\"1\" class=\"dataframe\">\n",
       "  <thead>\n",
       "    <tr style=\"text-align: right;\">\n",
       "      <th></th>\n",
       "      <th>keyword</th>\n",
       "      <th>text</th>\n",
       "      <th>target</th>\n",
       "    </tr>\n",
       "  </thead>\n",
       "  <tbody>\n",
       "    <tr>\n",
       "      <th>7542</th>\n",
       "      <td>wrecked</td>\n",
       "      <td>Had an awesome time gettin wrecked at bowling ...</td>\n",
       "      <td>0</td>\n",
       "    </tr>\n",
       "    <tr>\n",
       "      <th>7543</th>\n",
       "      <td>wrecked</td>\n",
       "      <td>Cramer: 3 words that wrecked DIS stock - http:...</td>\n",
       "      <td>0</td>\n",
       "    </tr>\n",
       "    <tr>\n",
       "      <th>7544</th>\n",
       "      <td>wrecked</td>\n",
       "      <td>On the bright side I wrecked http://t.co/uEa0t...</td>\n",
       "      <td>0</td>\n",
       "    </tr>\n",
       "    <tr>\n",
       "      <th>7545</th>\n",
       "      <td>wrecked</td>\n",
       "      <td>He just wrecked all of you http://t.co/y46isyZkC8</td>\n",
       "      <td>0</td>\n",
       "    </tr>\n",
       "    <tr>\n",
       "      <th>7546</th>\n",
       "      <td>wrecked</td>\n",
       "      <td>@widda16 ... He's gone. You can relax. I thoug...</td>\n",
       "      <td>0</td>\n",
       "    </tr>\n",
       "    <tr>\n",
       "      <th>7547</th>\n",
       "      <td>wrecked</td>\n",
       "      <td>@jt_ruff23 @cameronhacker and I wrecked you both</td>\n",
       "      <td>0</td>\n",
       "    </tr>\n",
       "    <tr>\n",
       "      <th>7548</th>\n",
       "      <td>wrecked</td>\n",
       "      <td>Three days off from work and they've pretty mu...</td>\n",
       "      <td>0</td>\n",
       "    </tr>\n",
       "    <tr>\n",
       "      <th>7549</th>\n",
       "      <td>wrecked</td>\n",
       "      <td>#FX #forex #trading Cramer: Iger's 3 words tha...</td>\n",
       "      <td>0</td>\n",
       "    </tr>\n",
       "    <tr>\n",
       "      <th>7550</th>\n",
       "      <td>wrecked</td>\n",
       "      <td>@engineshed Great atmosphere at the British Li...</td>\n",
       "      <td>0</td>\n",
       "    </tr>\n",
       "    <tr>\n",
       "      <th>7551</th>\n",
       "      <td>wrecked</td>\n",
       "      <td>Cramer: Iger's 3 words that wrecked Disney's s...</td>\n",
       "      <td>0</td>\n",
       "    </tr>\n",
       "  </tbody>\n",
       "</table>\n",
       "</div>"
      ],
      "text/plain": [
       "      keyword                                               text  target\n",
       "7542  wrecked  Had an awesome time gettin wrecked at bowling ...       0\n",
       "7543  wrecked  Cramer: 3 words that wrecked DIS stock - http:...       0\n",
       "7544  wrecked  On the bright side I wrecked http://t.co/uEa0t...       0\n",
       "7545  wrecked  He just wrecked all of you http://t.co/y46isyZkC8       0\n",
       "7546  wrecked  @widda16 ... He's gone. You can relax. I thoug...       0\n",
       "7547  wrecked   @jt_ruff23 @cameronhacker and I wrecked you both       0\n",
       "7548  wrecked  Three days off from work and they've pretty mu...       0\n",
       "7549  wrecked  #FX #forex #trading Cramer: Iger's 3 words tha...       0\n",
       "7550  wrecked  @engineshed Great atmosphere at the British Li...       0\n",
       "7551  wrecked  Cramer: Iger's 3 words that wrecked Disney's s...       0"
      ]
     },
     "execution_count": 26,
     "metadata": {},
     "output_type": "execute_result"
    }
   ],
   "source": [
    "train.tail(10)"
   ]
  },
  {
   "cell_type": "code",
   "execution_count": 27,
   "metadata": {
    "execution": {
     "iopub.execute_input": "2023-01-27T04:19:33.740851Z",
     "iopub.status.busy": "2023-01-27T04:19:33.740397Z",
     "iopub.status.idle": "2023-01-27T04:19:33.758109Z",
     "shell.execute_reply": "2023-01-27T04:19:33.756280Z",
     "shell.execute_reply.started": "2023-01-27T04:19:33.740817Z"
    }
   },
   "outputs": [
    {
     "name": "stdout",
     "output_type": "stream",
     "text": [
      "<class 'pandas.core.frame.DataFrame'>\n",
      "RangeIndex: 3263 entries, 0 to 3262\n",
      "Data columns (total 4 columns):\n",
      " #   Column    Non-Null Count  Dtype \n",
      "---  ------    --------------  ----- \n",
      " 0   id        3263 non-null   int64 \n",
      " 1   keyword   3237 non-null   object\n",
      " 2   location  2158 non-null   object\n",
      " 3   text      3263 non-null   object\n",
      "dtypes: int64(1), object(3)\n",
      "memory usage: 102.1+ KB\n"
     ]
    }
   ],
   "source": [
    "# let's check the test data\n",
    "test.info()"
   ]
  },
  {
   "cell_type": "markdown",
   "metadata": {},
   "source": [
    "## Training Data Analysis"
   ]
  },
  {
   "cell_type": "markdown",
   "metadata": {},
   "source": [
    "To decide what strategy to use for data processing and what type of a model to use, the training data must be thoroughly analyzed. Firstly, we will check if all keywords are related to disaster and formulate a method to identify which ones are more relevant with the help of the associated target value."
   ]
  },
  {
   "cell_type": "code",
   "execution_count": 28,
   "metadata": {},
   "outputs": [
    {
     "data": {
      "text/plain": [
       "0                   ablaze\n",
       "1                 accident\n",
       "2               aftershock\n",
       "3      airplane%20accident\n",
       "4                ambulance\n",
       "              ...         \n",
       "216                wounded\n",
       "217                 wounds\n",
       "218                  wreck\n",
       "219               wreckage\n",
       "220                wrecked\n",
       "Name: keyword, Length: 221, dtype: object"
      ]
     },
     "execution_count": 28,
     "metadata": {},
     "output_type": "execute_result"
    }
   ],
   "source": [
    "# create a series of unique keywords\n",
    "pd.Series(train.groupby('keyword').count().index, name = 'keyword')"
   ]
  },
  {
   "cell_type": "markdown",
   "metadata": {},
   "source": [
    "As most keywords seem to be asscoiated with disasters, we need to perform feature engineering to extract useful information from the distribution of these keywords with respect to the target class"
   ]
  },
  {
   "cell_type": "markdown",
   "metadata": {},
   "source": [
    "### Text preprocessing using NLTK\n",
    "Each keyword will be converted into its root form so that keyword like 'blood' and 'bloody' will be considered as the same keywords. Same goes for all keywords that are closely related in the same manner."
   ]
  },
  {
   "cell_type": "code",
   "execution_count": 29,
   "metadata": {},
   "outputs": [],
   "source": [
    "import nltk"
   ]
  },
  {
   "cell_type": "code",
   "execution_count": 30,
   "metadata": {},
   "outputs": [],
   "source": [
    "from nltk.stem.porter import PorterStemmer"
   ]
  },
  {
   "cell_type": "code",
   "execution_count": 31,
   "metadata": {},
   "outputs": [],
   "source": [
    "# create a stemmer\n",
    "stemmer = PorterStemmer()"
   ]
  },
  {
   "cell_type": "code",
   "execution_count": 32,
   "metadata": {},
   "outputs": [],
   "source": [
    "def get_stemmed_keyword(keyword):\n",
    "    return stemmer.stem(keyword)\n",
    "\n",
    "def get_tokens(text):\n",
    "    return word_tokenize(text)"
   ]
  },
  {
   "cell_type": "code",
   "execution_count": 33,
   "metadata": {},
   "outputs": [],
   "source": [
    "# create a column with stemmed keyword\n",
    "train['stemmed_keyword'] = train['keyword'].apply(get_stemmed_keyword)"
   ]
  },
  {
   "cell_type": "code",
   "execution_count": 34,
   "metadata": {},
   "outputs": [],
   "source": [
    "def get_disaster_association(keyword):\n",
    "    \n",
    "    # get the number of times the keyword is associated with a true disaster tweet\n",
    "    target_0_count = (train[train['stemmed_keyword'] == keyword]['target'] == 0).sum()\n",
    "    \n",
    "    # get the number of times the keyword is not associated with a true disaster tweet\n",
    "    target_1_count = (train[train['stemmed_keyword'] == keyword]['target'] == 1).sum()\n",
    "    \n",
    "    # association value = true association count / total\n",
    "    return target_1_count/(target_0_count + target_1_count)"
   ]
  },
  {
   "cell_type": "code",
   "execution_count": 35,
   "metadata": {},
   "outputs": [],
   "source": [
    "# create columns with the keyword's association to actual disaster tweeets\n",
    "train['association_coeff'] = train['stemmed_keyword'].apply(get_disaster_association)"
   ]
  },
  {
   "cell_type": "code",
   "execution_count": 36,
   "metadata": {},
   "outputs": [
    {
     "data": {
      "text/html": [
       "<div>\n",
       "<style scoped>\n",
       "    .dataframe tbody tr th:only-of-type {\n",
       "        vertical-align: middle;\n",
       "    }\n",
       "\n",
       "    .dataframe tbody tr th {\n",
       "        vertical-align: top;\n",
       "    }\n",
       "\n",
       "    .dataframe thead th {\n",
       "        text-align: right;\n",
       "    }\n",
       "</style>\n",
       "<table border=\"1\" class=\"dataframe\">\n",
       "  <thead>\n",
       "    <tr style=\"text-align: right;\">\n",
       "      <th></th>\n",
       "      <th>keyword</th>\n",
       "      <th>text</th>\n",
       "      <th>target</th>\n",
       "      <th>stemmed_keyword</th>\n",
       "      <th>association_coeff</th>\n",
       "    </tr>\n",
       "  </thead>\n",
       "  <tbody>\n",
       "    <tr>\n",
       "      <th>0</th>\n",
       "      <td>ablaze</td>\n",
       "      <td>@bbcmtd Wholesale Markets ablaze http://t.co/l...</td>\n",
       "      <td>1</td>\n",
       "      <td>ablaz</td>\n",
       "      <td>0.361111</td>\n",
       "    </tr>\n",
       "    <tr>\n",
       "      <th>1</th>\n",
       "      <td>ablaze</td>\n",
       "      <td>We always try to bring the heavy. #metal #RT h...</td>\n",
       "      <td>0</td>\n",
       "      <td>ablaz</td>\n",
       "      <td>0.361111</td>\n",
       "    </tr>\n",
       "    <tr>\n",
       "      <th>2</th>\n",
       "      <td>ablaze</td>\n",
       "      <td>#AFRICANBAZE: Breaking news:Nigeria flag set a...</td>\n",
       "      <td>1</td>\n",
       "      <td>ablaz</td>\n",
       "      <td>0.361111</td>\n",
       "    </tr>\n",
       "    <tr>\n",
       "      <th>3</th>\n",
       "      <td>ablaze</td>\n",
       "      <td>Crying out for more! Set me ablaze</td>\n",
       "      <td>0</td>\n",
       "      <td>ablaz</td>\n",
       "      <td>0.361111</td>\n",
       "    </tr>\n",
       "    <tr>\n",
       "      <th>4</th>\n",
       "      <td>ablaze</td>\n",
       "      <td>On plus side LOOK AT THE SKY LAST NIGHT IT WAS...</td>\n",
       "      <td>0</td>\n",
       "      <td>ablaz</td>\n",
       "      <td>0.361111</td>\n",
       "    </tr>\n",
       "    <tr>\n",
       "      <th>5</th>\n",
       "      <td>ablaze</td>\n",
       "      <td>@PhDSquares #mufc they've built so much hype a...</td>\n",
       "      <td>0</td>\n",
       "      <td>ablaz</td>\n",
       "      <td>0.361111</td>\n",
       "    </tr>\n",
       "    <tr>\n",
       "      <th>6</th>\n",
       "      <td>ablaze</td>\n",
       "      <td>INEC Office in Abia Set Ablaze - http://t.co/3...</td>\n",
       "      <td>1</td>\n",
       "      <td>ablaz</td>\n",
       "      <td>0.361111</td>\n",
       "    </tr>\n",
       "    <tr>\n",
       "      <th>7</th>\n",
       "      <td>ablaze</td>\n",
       "      <td>Barbados #Bridgetown JAMAICA ÛÒ Two cars set ...</td>\n",
       "      <td>1</td>\n",
       "      <td>ablaz</td>\n",
       "      <td>0.361111</td>\n",
       "    </tr>\n",
       "    <tr>\n",
       "      <th>8</th>\n",
       "      <td>ablaze</td>\n",
       "      <td>Ablaze for you Lord :D</td>\n",
       "      <td>0</td>\n",
       "      <td>ablaz</td>\n",
       "      <td>0.361111</td>\n",
       "    </tr>\n",
       "    <tr>\n",
       "      <th>9</th>\n",
       "      <td>ablaze</td>\n",
       "      <td>Check these out: http://t.co/rOI2NSmEJJ http:/...</td>\n",
       "      <td>0</td>\n",
       "      <td>ablaz</td>\n",
       "      <td>0.361111</td>\n",
       "    </tr>\n",
       "    <tr>\n",
       "      <th>10</th>\n",
       "      <td>ablaze</td>\n",
       "      <td>on the outside you're ablaze and alive\\nbut yo...</td>\n",
       "      <td>0</td>\n",
       "      <td>ablaz</td>\n",
       "      <td>0.361111</td>\n",
       "    </tr>\n",
       "    <tr>\n",
       "      <th>11</th>\n",
       "      <td>ablaze</td>\n",
       "      <td>Had an awesome time visiting the CFC head offi...</td>\n",
       "      <td>0</td>\n",
       "      <td>ablaz</td>\n",
       "      <td>0.361111</td>\n",
       "    </tr>\n",
       "    <tr>\n",
       "      <th>12</th>\n",
       "      <td>ablaze</td>\n",
       "      <td>SOOOO PUMPED FOR ABLAZE ???? @southridgelife</td>\n",
       "      <td>0</td>\n",
       "      <td>ablaz</td>\n",
       "      <td>0.361111</td>\n",
       "    </tr>\n",
       "    <tr>\n",
       "      <th>13</th>\n",
       "      <td>ablaze</td>\n",
       "      <td>I wanted to set Chicago ablaze with my preachi...</td>\n",
       "      <td>0</td>\n",
       "      <td>ablaz</td>\n",
       "      <td>0.361111</td>\n",
       "    </tr>\n",
       "    <tr>\n",
       "      <th>14</th>\n",
       "      <td>ablaze</td>\n",
       "      <td>I gained 3 followers in the last week. You? Kn...</td>\n",
       "      <td>0</td>\n",
       "      <td>ablaz</td>\n",
       "      <td>0.361111</td>\n",
       "    </tr>\n",
       "    <tr>\n",
       "      <th>15</th>\n",
       "      <td>ablaze</td>\n",
       "      <td>How the West was burned: Thousands of wildfire...</td>\n",
       "      <td>1</td>\n",
       "      <td>ablaz</td>\n",
       "      <td>0.361111</td>\n",
       "    </tr>\n",
       "    <tr>\n",
       "      <th>16</th>\n",
       "      <td>ablaze</td>\n",
       "      <td>Building the perfect tracklist to life leave t...</td>\n",
       "      <td>0</td>\n",
       "      <td>ablaz</td>\n",
       "      <td>0.361111</td>\n",
       "    </tr>\n",
       "    <tr>\n",
       "      <th>17</th>\n",
       "      <td>ablaze</td>\n",
       "      <td>Check these out: http://t.co/rOI2NSmEJJ http:/...</td>\n",
       "      <td>0</td>\n",
       "      <td>ablaz</td>\n",
       "      <td>0.361111</td>\n",
       "    </tr>\n",
       "    <tr>\n",
       "      <th>18</th>\n",
       "      <td>ablaze</td>\n",
       "      <td>First night with retainers in. It's quite weir...</td>\n",
       "      <td>0</td>\n",
       "      <td>ablaz</td>\n",
       "      <td>0.361111</td>\n",
       "    </tr>\n",
       "    <tr>\n",
       "      <th>19</th>\n",
       "      <td>ablaze</td>\n",
       "      <td>Deputies: Man shot before Brighton home set ab...</td>\n",
       "      <td>1</td>\n",
       "      <td>ablaz</td>\n",
       "      <td>0.361111</td>\n",
       "    </tr>\n",
       "  </tbody>\n",
       "</table>\n",
       "</div>"
      ],
      "text/plain": [
       "   keyword                                               text  target  \\\n",
       "0   ablaze  @bbcmtd Wholesale Markets ablaze http://t.co/l...       1   \n",
       "1   ablaze  We always try to bring the heavy. #metal #RT h...       0   \n",
       "2   ablaze  #AFRICANBAZE: Breaking news:Nigeria flag set a...       1   \n",
       "3   ablaze                 Crying out for more! Set me ablaze       0   \n",
       "4   ablaze  On plus side LOOK AT THE SKY LAST NIGHT IT WAS...       0   \n",
       "5   ablaze  @PhDSquares #mufc they've built so much hype a...       0   \n",
       "6   ablaze  INEC Office in Abia Set Ablaze - http://t.co/3...       1   \n",
       "7   ablaze  Barbados #Bridgetown JAMAICA ÛÒ Two cars set ...       1   \n",
       "8   ablaze                             Ablaze for you Lord :D       0   \n",
       "9   ablaze  Check these out: http://t.co/rOI2NSmEJJ http:/...       0   \n",
       "10  ablaze  on the outside you're ablaze and alive\\nbut yo...       0   \n",
       "11  ablaze  Had an awesome time visiting the CFC head offi...       0   \n",
       "12  ablaze       SOOOO PUMPED FOR ABLAZE ???? @southridgelife       0   \n",
       "13  ablaze  I wanted to set Chicago ablaze with my preachi...       0   \n",
       "14  ablaze  I gained 3 followers in the last week. You? Kn...       0   \n",
       "15  ablaze  How the West was burned: Thousands of wildfire...       1   \n",
       "16  ablaze  Building the perfect tracklist to life leave t...       0   \n",
       "17  ablaze  Check these out: http://t.co/rOI2NSmEJJ http:/...       0   \n",
       "18  ablaze  First night with retainers in. It's quite weir...       0   \n",
       "19  ablaze  Deputies: Man shot before Brighton home set ab...       1   \n",
       "\n",
       "   stemmed_keyword  association_coeff  \n",
       "0            ablaz           0.361111  \n",
       "1            ablaz           0.361111  \n",
       "2            ablaz           0.361111  \n",
       "3            ablaz           0.361111  \n",
       "4            ablaz           0.361111  \n",
       "5            ablaz           0.361111  \n",
       "6            ablaz           0.361111  \n",
       "7            ablaz           0.361111  \n",
       "8            ablaz           0.361111  \n",
       "9            ablaz           0.361111  \n",
       "10           ablaz           0.361111  \n",
       "11           ablaz           0.361111  \n",
       "12           ablaz           0.361111  \n",
       "13           ablaz           0.361111  \n",
       "14           ablaz           0.361111  \n",
       "15           ablaz           0.361111  \n",
       "16           ablaz           0.361111  \n",
       "17           ablaz           0.361111  \n",
       "18           ablaz           0.361111  \n",
       "19           ablaz           0.361111  "
      ]
     },
     "execution_count": 36,
     "metadata": {},
     "output_type": "execute_result"
    }
   ],
   "source": [
    "train.head(20)"
   ]
  },
  {
   "cell_type": "code",
   "execution_count": 37,
   "metadata": {},
   "outputs": [],
   "source": [
    "# save association oefficients as a dictionary for transformation\n",
    "association_dict = train.groupby('stemmed_keyword')['association_coeff'].mean().sort_values(ascending = False).to_dict()"
   ]
  },
  {
   "cell_type": "markdown",
   "metadata": {},
   "source": [
    "### Text processing\n",
    "Next, each text will be processed such that only important information will be retained. Foe example, hyperlinks and hashtag symbols will be removed"
   ]
  },
  {
   "cell_type": "code",
   "execution_count": 49,
   "metadata": {},
   "outputs": [
    {
     "name": "stdout",
     "output_type": "stream",
     "text": [
      "Barbados #Bridgetown JAMAICA ÛÒ Two cars set ablaze: SANTA CRUZ ÛÓ Head of the St Elizabeth Police Superintende...  http://t.co/wDUEaj8Q4J\n",
      "Ablaze for you Lord :D\n",
      "Check these out: http://t.co/rOI2NSmEJJ http://t.co/3Tj8ZjiN21 http://t.co/YDUiXEfIpE http://t.co/LxTjc87KLS #nsfw\n",
      "on the outside you're ablaze and alive\n",
      "but you're dead inside\n",
      "Had an awesome time visiting the CFC head office the ancop site and ablaze. Thanks to Tita Vida for taking care of us ??\n"
     ]
    }
   ],
   "source": [
    "print(train['text'][7])\n",
    "print(train['text'][8])\n",
    "print(train['text'][9])\n",
    "print(train['text'][10])\n",
    "print(train['text'][11])"
   ]
  },
  {
   "cell_type": "code",
   "execution_count": 54,
   "metadata": {},
   "outputs": [
    {
     "data": {
      "text/plain": [
       "\"mufc they've built so much hype around new acquisitions but I doubt they will set the EPL ablaze this season.\""
      ]
     },
     "execution_count": 54,
     "metadata": {},
     "output_type": "execute_result"
    }
   ],
   "source": [
    "c1 = train['text'][5].split('http')[0].strip()\n",
    "c2 = ''.join(c1.split('#'))\n",
    "' '.join([word for word in c2.split() if '@' not in word])"
   ]
  },
  {
   "cell_type": "code",
   "execution_count": null,
   "metadata": {},
   "outputs": [],
   "source": [
    "def get_clean_text(raw_text):\n",
    "    \n",
    "    # remove hyperlink\n",
    "    text_c1 = raw_text.split('http')[0].strip()\n",
    "    \n",
    "    # remove hashtags\n",
    "    text_c2 = ''.join(text_c1.split('#'))\n",
    "    \n",
    "    # remove username\n",
    "    text_c3 = ' '.join([word for word in wordtext_c2.split() if '@' not in word])\n",
    "    \n",
    "    # convert text to lowercase\n",
    "    text_c4 = text_c3.lower()\n",
    "    \n",
    "    return text_c4"
   ]
  },
  {
   "cell_type": "markdown",
   "metadata": {},
   "source": [
    "### Identifying Location mentions in Tweet\n",
    "Mentions of a certain area, city or country in the tweet can be useful in identifying whether the tweet is related to disaster or as tweets with a location mentoned are more likely to be linked to disaster. To implement this we will use the <b>geography</b> package."
   ]
  },
  {
   "cell_type": "code",
   "execution_count": null,
   "metadata": {},
   "outputs": [],
   "source": [
    "!pip uninstall geography"
   ]
  },
  {
   "cell_type": "code",
   "execution_count": null,
   "metadata": {},
   "outputs": [],
   "source": [
    "# install geotext \n",
    "!pip install geotext"
   ]
  },
  {
   "cell_type": "code",
   "execution_count": null,
   "metadata": {},
   "outputs": [],
   "source": [
    "from geotext import GeoText\n",
    "\n",
    "def contains_location(text):\n",
    "    locations = GeoText(text)\n",
    "    "
   ]
  },
  {
   "cell_type": "markdown",
   "metadata": {},
   "source": [
    "## Sentiment Analysis (NLTK)\n",
    "Although keywords can be an important factor in this type of classification, the overall sentiment of the tweet can also provide crucial information regarding the nature of the tweet. Although a custom model can be trained to predict sentiment, for this project I am using the <b> NLTK VADER </b> library which relies on a rule based sentiment-analyzer."
   ]
  },
  {
   "cell_type": "code",
   "execution_count": 177,
   "metadata": {},
   "outputs": [
    {
     "name": "stderr",
     "output_type": "stream",
     "text": [
      "[nltk_data] Downloading package names to\n",
      "[nltk_data]     C:\\Users\\shisk\\AppData\\Roaming\\nltk_data...\n",
      "[nltk_data]   Package names is already up-to-date!\n",
      "[nltk_data] Downloading package stopwords to\n",
      "[nltk_data]     C:\\Users\\shisk\\AppData\\Roaming\\nltk_data...\n",
      "[nltk_data]   Unzipping corpora\\stopwords.zip.\n",
      "[nltk_data] Downloading package state_union to\n",
      "[nltk_data]     C:\\Users\\shisk\\AppData\\Roaming\\nltk_data...\n",
      "[nltk_data]   Unzipping corpora\\state_union.zip.\n",
      "[nltk_data] Downloading package twitter_samples to\n",
      "[nltk_data]     C:\\Users\\shisk\\AppData\\Roaming\\nltk_data...\n",
      "[nltk_data]   Unzipping corpora\\twitter_samples.zip.\n",
      "[nltk_data] Downloading package movie_reviews to\n",
      "[nltk_data]     C:\\Users\\shisk\\AppData\\Roaming\\nltk_data...\n",
      "[nltk_data]   Unzipping corpora\\movie_reviews.zip.\n",
      "[nltk_data] Downloading package averaged_perceptron_tagger to\n",
      "[nltk_data]     C:\\Users\\shisk\\AppData\\Roaming\\nltk_data...\n",
      "[nltk_data]   Unzipping taggers\\averaged_perceptron_tagger.zip.\n",
      "[nltk_data] Downloading package vader_lexicon to\n",
      "[nltk_data]     C:\\Users\\shisk\\AppData\\Roaming\\nltk_data...\n",
      "[nltk_data]   Package vader_lexicon is already up-to-date!\n",
      "[nltk_data] Downloading package punkt to\n",
      "[nltk_data]     C:\\Users\\shisk\\AppData\\Roaming\\nltk_data...\n",
      "[nltk_data]   Package punkt is already up-to-date!\n"
     ]
    },
    {
     "data": {
      "text/plain": [
       "True"
      ]
     },
     "execution_count": 177,
     "metadata": {},
     "output_type": "execute_result"
    }
   ],
   "source": [
    "nltk.download([\n",
    "     \"names\",\n",
    "     \"stopwords\",     \"state_union\",\n",
    "     \"twitter_samples\",\n",
    "    \"movie_reviews\",\n",
    "    \"averaged_perceptron_tagger\",\n",
    "     \"vader_lexicon\",\n",
    "     \"punkt\",\n",
    " ])"
   ]
  },
  {
   "cell_type": "code",
   "execution_count": 178,
   "metadata": {},
   "outputs": [],
   "source": [
    "from nltk.sentiment import SentimentIntensityAnalyzer\n",
    "\n",
    "sia = SentimentIntensityAnalyzer()"
   ]
  },
  {
   "cell_type": "code",
   "execution_count": 211,
   "metadata": {},
   "outputs": [],
   "source": [
    "# returns a dictionary of values\n",
    "def get_sentiment_val(text):\n",
    "    res_dict = sia.polarity_scores(text)\n",
    "    return pd.Series([res_dict['neg'], res_dict['neu'], res_dict['pos']])"
   ]
  },
  {
   "cell_type": "code",
   "execution_count": 212,
   "metadata": {},
   "outputs": [],
   "source": [
    "train[['neg', 'neu', 'pos']] = train['text'].apply(get_sentiment_val)"
   ]
  },
  {
   "cell_type": "code",
   "execution_count": 213,
   "metadata": {},
   "outputs": [
    {
     "data": {
      "text/html": [
       "<div>\n",
       "<style scoped>\n",
       "    .dataframe tbody tr th:only-of-type {\n",
       "        vertical-align: middle;\n",
       "    }\n",
       "\n",
       "    .dataframe tbody tr th {\n",
       "        vertical-align: top;\n",
       "    }\n",
       "\n",
       "    .dataframe thead th {\n",
       "        text-align: right;\n",
       "    }\n",
       "</style>\n",
       "<table border=\"1\" class=\"dataframe\">\n",
       "  <thead>\n",
       "    <tr style=\"text-align: right;\">\n",
       "      <th></th>\n",
       "      <th>keyword</th>\n",
       "      <th>text</th>\n",
       "      <th>target</th>\n",
       "      <th>stemmed_keyword</th>\n",
       "      <th>association_coeff</th>\n",
       "      <th>neg</th>\n",
       "      <th>neu</th>\n",
       "      <th>pos</th>\n",
       "    </tr>\n",
       "  </thead>\n",
       "  <tbody>\n",
       "    <tr>\n",
       "      <th>0</th>\n",
       "      <td>ablaze</td>\n",
       "      <td>@bbcmtd Wholesale Markets ablaze http://t.co/l...</td>\n",
       "      <td>1</td>\n",
       "      <td>ablaz</td>\n",
       "      <td>0.361111</td>\n",
       "      <td>0.000</td>\n",
       "      <td>1.000</td>\n",
       "      <td>0.0</td>\n",
       "    </tr>\n",
       "    <tr>\n",
       "      <th>1</th>\n",
       "      <td>ablaze</td>\n",
       "      <td>We always try to bring the heavy. #metal #RT h...</td>\n",
       "      <td>0</td>\n",
       "      <td>ablaz</td>\n",
       "      <td>0.361111</td>\n",
       "      <td>0.000</td>\n",
       "      <td>1.000</td>\n",
       "      <td>0.0</td>\n",
       "    </tr>\n",
       "    <tr>\n",
       "      <th>2</th>\n",
       "      <td>ablaze</td>\n",
       "      <td>#AFRICANBAZE: Breaking news:Nigeria flag set a...</td>\n",
       "      <td>1</td>\n",
       "      <td>ablaz</td>\n",
       "      <td>0.361111</td>\n",
       "      <td>0.000</td>\n",
       "      <td>1.000</td>\n",
       "      <td>0.0</td>\n",
       "    </tr>\n",
       "    <tr>\n",
       "      <th>3</th>\n",
       "      <td>ablaze</td>\n",
       "      <td>Crying out for more! Set me ablaze</td>\n",
       "      <td>0</td>\n",
       "      <td>ablaz</td>\n",
       "      <td>0.361111</td>\n",
       "      <td>0.361</td>\n",
       "      <td>0.639</td>\n",
       "      <td>0.0</td>\n",
       "    </tr>\n",
       "    <tr>\n",
       "      <th>4</th>\n",
       "      <td>ablaze</td>\n",
       "      <td>On plus side LOOK AT THE SKY LAST NIGHT IT WAS...</td>\n",
       "      <td>0</td>\n",
       "      <td>ablaz</td>\n",
       "      <td>0.361111</td>\n",
       "      <td>0.000</td>\n",
       "      <td>1.000</td>\n",
       "      <td>0.0</td>\n",
       "    </tr>\n",
       "  </tbody>\n",
       "</table>\n",
       "</div>"
      ],
      "text/plain": [
       "  keyword                                               text  target  \\\n",
       "0  ablaze  @bbcmtd Wholesale Markets ablaze http://t.co/l...       1   \n",
       "1  ablaze  We always try to bring the heavy. #metal #RT h...       0   \n",
       "2  ablaze  #AFRICANBAZE: Breaking news:Nigeria flag set a...       1   \n",
       "3  ablaze                 Crying out for more! Set me ablaze       0   \n",
       "4  ablaze  On plus side LOOK AT THE SKY LAST NIGHT IT WAS...       0   \n",
       "\n",
       "  stemmed_keyword  association_coeff    neg    neu  pos  \n",
       "0           ablaz           0.361111  0.000  1.000  0.0  \n",
       "1           ablaz           0.361111  0.000  1.000  0.0  \n",
       "2           ablaz           0.361111  0.000  1.000  0.0  \n",
       "3           ablaz           0.361111  0.361  0.639  0.0  \n",
       "4           ablaz           0.361111  0.000  1.000  0.0  "
      ]
     },
     "execution_count": 213,
     "metadata": {},
     "output_type": "execute_result"
    }
   ],
   "source": [
    "train.head()"
   ]
  },
  {
   "cell_type": "code",
   "execution_count": 220,
   "metadata": {},
   "outputs": [],
   "source": [
    "# save processed training data to avoid preprocessing time\n",
    "train.drop(['keyword', 'text',\n",
    "            'stemmed_keyword'], axis = 1).to_csv('Data/disaster_tweets_kaggle/cleaned_train.csv', index = False)"
   ]
  },
  {
   "cell_type": "code",
   "execution_count": 6,
   "metadata": {},
   "outputs": [],
   "source": [
    "# load data\n",
    "df = pd.read_csv('Data/disaster_tweets_kaggle/cleaned_train.csv')"
   ]
  },
  {
   "cell_type": "code",
   "execution_count": 7,
   "metadata": {},
   "outputs": [
    {
     "name": "stdout",
     "output_type": "stream",
     "text": [
      "<class 'pandas.core.frame.DataFrame'>\n",
      "RangeIndex: 7552 entries, 0 to 7551\n",
      "Data columns (total 5 columns):\n",
      " #   Column             Non-Null Count  Dtype  \n",
      "---  ------             --------------  -----  \n",
      " 0   target             7552 non-null   int64  \n",
      " 1   association_coeff  7552 non-null   float64\n",
      " 2   neg                7552 non-null   float64\n",
      " 3   neu                7552 non-null   float64\n",
      " 4   pos                7552 non-null   float64\n",
      "dtypes: float64(4), int64(1)\n",
      "memory usage: 295.1 KB\n"
     ]
    }
   ],
   "source": [
    "df.info()"
   ]
  },
  {
   "cell_type": "markdown",
   "metadata": {},
   "source": [
    "Analyze distribution with respect to different attributes"
   ]
  },
  {
   "cell_type": "markdown",
   "metadata": {},
   "source": [
    "### Distribution of keyword association coefficient"
   ]
  },
  {
   "cell_type": "code",
   "execution_count": 9,
   "metadata": {},
   "outputs": [
    {
     "data": {
      "image/png": "[encoded data removed]",
      "text/plain": [
       "<Figure size 800x400 with 1 Axes>"
      ]
     },
     "metadata": {},
     "output_type": "display_data"
    }
   ],
   "source": [
    "plt.figure(figsize = (8,4))\n",
    "sns.kdeplot(df, x = 'association_coeff', hue = 'target')\n",
    "plt.title('Distribution of keyword association coefficient w.r.t. target labels')\n",
    "plt.grid()"
   ]
  },
  {
   "cell_type": "markdown",
   "metadata": {},
   "source": [
    "The above KDE plot shows that distribution of keyword association coefficients for non disaster tweets is more towards the left as opposed to that of disaster related tweets."
   ]
  },
  {
   "cell_type": "markdown",
   "metadata": {},
   "source": [
    "### Distribution of different sentiment tags"
   ]
  },
  {
   "cell_type": "code",
   "execution_count": 10,
   "metadata": {},
   "outputs": [
    {
     "data": {
      "image/png": "[encoded data removed]",
      "text/plain": [
       "<Figure size 800x400 with 1 Axes>"
      ]
     },
     "metadata": {},
     "output_type": "display_data"
    }
   ],
   "source": [
    "plt.figure(figsize = (8,4))\n",
    "sns.kdeplot(df, x = 'pos', hue = 'target')\n",
    "plt.title('Distribution of tweets with positive sentiment w.r.t. target labels')\n",
    "plt.grid()"
   ]
  },
  {
   "cell_type": "code",
   "execution_count": 11,
   "metadata": {},
   "outputs": [
    {
     "data": {
      "image/png": "[encoded data removed]",
      "text/plain": [
       "<Figure size 800x400 with 1 Axes>"
      ]
     },
     "metadata": {},
     "output_type": "display_data"
    }
   ],
   "source": [
    "plt.figure(figsize = (8,4))\n",
    "sns.kdeplot(df, x = 'neu', hue = 'target')\n",
    "plt.title('Distribution of tweets with neutral sentiment w.r.t. target labels')\n",
    "plt.grid()"
   ]
  },
  {
   "cell_type": "code",
   "execution_count": 12,
   "metadata": {},
   "outputs": [
    {
     "data": {
      "image/png": "[encoded data removed]",
      "text/plain": [
       "<Figure size 800x400 with 1 Axes>"
      ]
     },
     "metadata": {},
     "output_type": "display_data"
    }
   ],
   "source": [
    "plt.figure(figsize = (8,4))\n",
    "sns.kdeplot(df, x = 'neg', hue = 'target')\n",
    "plt.title('Distribution of tweets with negative sentiment w.r.t. target labels')\n",
    "plt.grid()"
   ]
  },
  {
   "cell_type": "markdown",
   "metadata": {},
   "source": [
    "As we can clearly see that both targets have similar distribution for all sentiment tags given by NLTK's VADER sentiment analysis package, using these attributes for model training will not be too useful."
   ]
  },
  {
   "cell_type": "markdown",
   "metadata": {},
   "source": [
    "### Train Test Split"
   ]
  },
  {
   "cell_type": "code",
   "execution_count": 215,
   "metadata": {},
   "outputs": [],
   "source": [
    "from sklearn.model_selection import train_test_split"
   ]
  },
  {
   "cell_type": "code",
   "execution_count": 226,
   "metadata": {},
   "outputs": [],
   "source": [
    "# drop all columns except 'association coefficient' and those related to sentiment analysis\n",
    "X = train_processed.drop('target', axis = 1)\n",
    "y = train_processed['target']"
   ]
  },
  {
   "cell_type": "code",
   "execution_count": 227,
   "metadata": {},
   "outputs": [],
   "source": [
    "X_train, X_test, y_train, y_test = train_test_split(X, y, test_size=0.33)"
   ]
  },
  {
   "cell_type": "code",
   "execution_count": 228,
   "metadata": {},
   "outputs": [
    {
     "data": {
      "text/html": [
       "<div>\n",
       "<style scoped>\n",
       "    .dataframe tbody tr th:only-of-type {\n",
       "        vertical-align: middle;\n",
       "    }\n",
       "\n",
       "    .dataframe tbody tr th {\n",
       "        vertical-align: top;\n",
       "    }\n",
       "\n",
       "    .dataframe thead th {\n",
       "        text-align: right;\n",
       "    }\n",
       "</style>\n",
       "<table border=\"1\" class=\"dataframe\">\n",
       "  <thead>\n",
       "    <tr style=\"text-align: right;\">\n",
       "      <th></th>\n",
       "      <th>association_coeff</th>\n",
       "      <th>neg</th>\n",
       "      <th>neu</th>\n",
       "      <th>pos</th>\n",
       "    </tr>\n",
       "  </thead>\n",
       "  <tbody>\n",
       "    <tr>\n",
       "      <th>3913</th>\n",
       "      <td>0.605505</td>\n",
       "      <td>0.000</td>\n",
       "      <td>1.000</td>\n",
       "      <td>0.000</td>\n",
       "    </tr>\n",
       "    <tr>\n",
       "      <th>1674</th>\n",
       "      <td>0.351351</td>\n",
       "      <td>0.169</td>\n",
       "      <td>0.639</td>\n",
       "      <td>0.192</td>\n",
       "    </tr>\n",
       "    <tr>\n",
       "      <th>4447</th>\n",
       "      <td>0.617647</td>\n",
       "      <td>0.143</td>\n",
       "      <td>0.599</td>\n",
       "      <td>0.258</td>\n",
       "    </tr>\n",
       "    <tr>\n",
       "      <th>5293</th>\n",
       "      <td>0.216216</td>\n",
       "      <td>0.000</td>\n",
       "      <td>1.000</td>\n",
       "      <td>0.000</td>\n",
       "    </tr>\n",
       "    <tr>\n",
       "      <th>6897</th>\n",
       "      <td>0.151515</td>\n",
       "      <td>0.278</td>\n",
       "      <td>0.722</td>\n",
       "      <td>0.000</td>\n",
       "    </tr>\n",
       "  </tbody>\n",
       "</table>\n",
       "</div>"
      ],
      "text/plain": [
       "      association_coeff    neg    neu    pos\n",
       "3913           0.605505  0.000  1.000  0.000\n",
       "1674           0.351351  0.169  0.639  0.192\n",
       "4447           0.617647  0.143  0.599  0.258\n",
       "5293           0.216216  0.000  1.000  0.000\n",
       "6897           0.151515  0.278  0.722  0.000"
      ]
     },
     "execution_count": 228,
     "metadata": {},
     "output_type": "execute_result"
    }
   ],
   "source": [
    "X_train.head()"
   ]
  },
  {
   "cell_type": "markdown",
   "metadata": {},
   "source": [
    "### Model Selection\n",
    "As this is a classification problem, the simplest model that can be used is logistic regression. However, logistic regression only performs well for if classes are linearly separable. For data that is not linearly separable we can use KNN, SVC, Random Forests. All these models will be implemented and the results for each will be compared."
   ]
  },
  {
   "cell_type": "code",
   "execution_count": null,
   "metadata": {},
   "outputs": [],
   "source": []
  }
 ],
 "metadata": {
  "kernelspec": {
   "display_name": "Python [conda env:sklearn]",
   "language": "python",
   "name": "conda-env-sklearn-py"
  },
  "language_info": {
   "codemirror_mode": {
    "name": "ipython",
    "version": 3
   },
   "file_extension": ".py",
   "mimetype": "text/x-python",
   "name": "python",
   "nbconvert_exporter": "python",
   "pygments_lexer": "ipython3",
   "version": "3.10.10"
  }
 },
 "nbformat": 4,
 "nbformat_minor": 4
}
